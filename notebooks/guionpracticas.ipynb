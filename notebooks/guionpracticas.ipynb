{
 "cells": [
  {
   "cell_type": "markdown",
   "metadata": {},
   "source": [
    "# Sesiones prácticas"
   ]
  },
  {
   "cell_type": "markdown",
   "metadata": {},
   "source": [
    "## 0"
   ]
  },
  {
   "cell_type": "markdown",
   "metadata": {},
   "source": [
    "Instalación de Python + ecosistema científico + opencv + otros paquetes ([install.ipynb](install.ipynb)).\n",
    "\n",
    "- prueba de scripts\n",
    "- manejo básico de jupyter\n",
    "- repaso Python/numpy"
   ]
  },
  {
   "cell_type": "markdown",
   "metadata": {},
   "source": [
    "## 1"
   ]
  },
  {
   "cell_type": "markdown",
   "metadata": {},
   "source": [
    "a) Tutorial del acceso a difrerentes fuentes de imágenes con la utilidad `autoStream` de umucv."
   ]
  },
  {
   "cell_type": "markdown",
   "metadata": {},
   "source": [
    "b) Script de acceso a los *hand landmarks*  de mediapipe (`code/DL/hands/mano.py`)."
   ]
  },
  {
   "cell_type": "markdown",
   "metadata": {},
   "source": [
    "## 2"
   ]
  },
  {
   "cell_type": "markdown",
   "metadata": {},
   "source": [
    "Ejemplos de código, utilidades, ejercicios sencillos."
   ]
  },
  {
   "attachments": {},
   "cell_type": "markdown",
   "metadata": {},
   "source": [
    "- webcam.py con opencv crudo\n",
    "\n",
    "- ejemplo de recorte invertido\n",
    "\n",
    "- Recortar y unir imágenes para conseguir [algo como esto](../images/demos/ej-c0.png).\n",
    "\n",
    "- histogram.py, histogram2.py\n",
    "\n",
    "- trackbar.py, inrange0.py, inrange.py\n",
    "\n",
    "- control de webcam v4l2-ctl, vlc, gucview (`focus.sh`, `power.sh`)\n",
    "\n",
    "- wzoom.py (para las ventanas de Windows que no tienen zoom)\n",
    "\n",
    "- help_window.py\n",
    "\n",
    "- save_video.py\n",
    "\n",
    "- ampliar mouse.py:\n",
    "\n",
    "    - círculos en las posiciones marcadas (cv.circle)\n",
    "    \n",
    "    - coordenadas textuales (cv.putText  (ej. en hello.py) o umucv.util.putText)\n",
    "\n",
    "    - marcar solo los dos últimos (pista: collections.deque)\n",
    "\n",
    "    - reproducir code/medidor.py indicando la distancia en pixels\n",
    "\n",
    "    - Dado el FOV: indicar el ángulo de las direcciones marcadas."
   ]
  }
 ],
 "metadata": {
  "kernelspec": {
   "display_name": "Python 3 (ipykernel)",
   "language": "python",
   "name": "python3"
  },
  "language_info": {
   "codemirror_mode": {
    "name": "ipython",
    "version": 3
   },
   "file_extension": ".py",
   "mimetype": "text/x-python",
   "name": "python",
   "nbconvert_exporter": "python",
   "pygments_lexer": "ipython3",
   "version": "3.11.5"
  },
  "nbTranslate": {
   "displayLangs": [
    "en",
    "es"
   ],
   "hotkey": "alt-t",
   "langInMainMenu": true,
   "sourceLang": "es",
   "targetLang": "en",
   "useGoogleTranslate": true
  }
 },
 "nbformat": 4,
 "nbformat_minor": 4
}
