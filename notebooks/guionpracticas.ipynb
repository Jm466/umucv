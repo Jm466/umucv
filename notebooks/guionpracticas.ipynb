{
 "cells": [
  {
   "cell_type": "markdown",
   "metadata": {},
   "source": [
    "# Sesiones prácticas"
   ]
  },
  {
   "cell_type": "markdown",
   "metadata": {},
   "source": [
    "## 0"
   ]
  },
  {
   "cell_type": "markdown",
   "metadata": {},
   "source": [
    "Instalación de Python + ecosistema científico + opencv + otros paquetes ([install.ipynb](install.ipynb)).\n",
    "\n",
    "- prueba de scripts\n",
    "- manejo básico de jupyter\n",
    "- repaso Python/numpy"
   ]
  },
  {
   "cell_type": "markdown",
   "metadata": {},
   "source": [
    "## 1"
   ]
  },
  {
   "cell_type": "markdown",
   "metadata": {},
   "source": [
    "a) Tutorial del acceso a difrerentes fuentes de imágenes con la utilidad `autoStream` de umucv."
   ]
  },
  {
   "cell_type": "markdown",
   "metadata": {},
   "source": [
    "b) Script de acceso a los *hand landmarks*  de mediapipe (`code/DL/hands/mano.py`)."
   ]
  },
  {
   "cell_type": "markdown",
   "metadata": {},
   "source": [
    "## 2"
   ]
  },
  {
   "cell_type": "markdown",
   "metadata": {},
   "source": [
    "Ejemplos de código, utilidades, ejercicios sencillos."
   ]
  },
  {
   "attachments": {},
   "cell_type": "markdown",
   "metadata": {},
   "source": [
    "- webcam.py con opencv crudo\n",
    "- ejemplo de recorte invertido\n",
    "- Recortar y unir imágenes para conseguir [algo como esto](../images/demos/ej-c0.png).\n",
    "- histogram.py, histogram2.py\n",
    "- trackbar.py, inrange0.py, inrange.py\n",
    "- control de webcam v4l2-ctl, vlc, gucview (`focus.sh`, `power.sh`)\n",
    "- wzoom.py (para las ventanas de Windows que no tienen zoom)\n",
    "- help_window.py\n",
    "- save_video.py\n",
    "\n",
    "ampliar mouse.py:\n",
    "- círculos en las posiciones marcadas (cv.circle)\n",
    "- coordenadas textuales (cv.putText  (ej. en hello.py) o umucv.util.putText)\n",
    "- marcar solo los dos últimos (pista: collections.deque)\n",
    "- reproducir code/medidor.py indicando la distancia en pixels\n",
    "- Dado el FOV: indicar el ángulo de las direcciones marcadas."
   ]
  },
  {
   "cell_type": "markdown",
   "metadata": {},
   "source": [
    "## 3"
   ]
  },
  {
   "cell_type": "markdown",
   "metadata": {},
   "source": [
    "- Ejemplos de filtros (media, gaussiano, mediana, etc.)\n",
    "- selección de ROIS (cv.selectROI vs umucv.util.ROI)\n",
    "- Captura de región (code/roi.py)\n",
    "- Ampliación para captura de múltiples regiones. Mostrarlas en una ventana seleccionándola con teclas, o todas juntas reescaladas a un número de filas común, usando np.hstack.\n",
    "- Selección de región y cómputo de la suma de diferencias absolutas respecto al recorte guardado para detectar actividad.\n",
    "- Comparación de la calidad de suavizado y del tiempo de cálculo de un Box Filter vs un filtro Gaussiano (`code/box_vs_gaussian.py`).\n",
    "- Ejercicio de detección de zonas interesantes en la imagen mediante una máscara obtenida como umbralización del promedio local de las diferencias entre cada pixel original y su valor suavizado (`code/boxy.py`)."
   ]
  },
  {
   "cell_type": "markdown",
   "metadata": {},
   "source": [
    "## 4"
   ]
  },
  {
   "cell_type": "markdown",
   "metadata": {},
   "source": [
    "- Argumentos en la línea de órdenes coexistiendo con los de autoStream\n",
    "- Efecto \"fantasmal\" (`code/deque.py`). Reproducirlo actualizando el valor medio con coeficientes $\\alpha$ y $1-alpha$. Crear modelo de fondo con media y desviación típica.\n",
    "- Sustracción de fondo (`code/backsub0.py`, `code/backsub.py`).\n",
    "- Segmentador de medispipe.\n",
    "- Componentes conexas, extracción de contornos (`code/inrange.py`)."
   ]
  },
  {
   "cell_type": "markdown",
   "metadata": {},
   "source": [
    "## 5"
   ]
  },
  {
   "cell_type": "markdown",
   "metadata": {},
   "source": [
    "- Explicación del reconocimiento frecuencial de siluetas.\n",
    "- Ejemplo paso a paso en `code/shape/trebol*.py`."
   ]
  }
 ],
 "metadata": {
  "kernelspec": {
   "display_name": "Python 3 (ipykernel)",
   "language": "python",
   "name": "python3"
  },
  "language_info": {
   "codemirror_mode": {
    "name": "ipython",
    "version": 3
   },
   "file_extension": ".py",
   "mimetype": "text/x-python",
   "name": "python",
   "nbconvert_exporter": "python",
   "pygments_lexer": "ipython3",
   "version": "3.11.5"
  },
  "nbTranslate": {
   "displayLangs": [
    "en",
    "es"
   ],
   "hotkey": "alt-t",
   "langInMainMenu": true,
   "sourceLang": "es",
   "targetLang": "en",
   "useGoogleTranslate": true
  }
 },
 "nbformat": 4,
 "nbformat_minor": 4
}
