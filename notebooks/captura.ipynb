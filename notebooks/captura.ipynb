{
 "cells": [
  {
   "cell_type": "markdown",
   "metadata": {},
   "source": [
    "# Dispositivos de captura"
   ]
  },
  {
   "cell_type": "markdown",
   "metadata": {},
   "source": [
    "Para hacer experimentos de visión artificial nos interesa acceder cómodamente a cualquier fuente de imágenes, almacenada localmente o disponible en un servidor remoto. Por ejemplo:\n",
    "\n",
    "- archivos de imagen (jpg, png, tif, bmp, etc.) \n",
    "\n",
    "- archivos de video (avi, mp4, etc.)\n",
    "\n",
    "- secuencias \"en vivo\" tomadas de una webcam, cámara ip, o smartphone."
   ]
  },
  {
   "cell_type": "markdown",
   "metadata": {},
   "source": [
    "## autoStream"
   ]
  },
  {
   "cell_type": "markdown",
   "metadata": {},
   "source": [
    "OpenCV (y otros paquetes como scikit-image, pillow, etc.) permiten leer imágenes estáticas sin problemas. Pero no todas las versiones precompiladas de OpenCV incluyen un soporte de captura de vídeo suficientemente general, por lo que utilizaremos un convertidor a formato [mjpeg](https://en.wikipedia.org/wiki/Motion_JPEG), que puede leerse fácilmente con una función auxiliar disponible en el paquete umucv."
   ]
  },
  {
   "cell_type": "markdown",
   "metadata": {},
   "source": [
    "La función `mkStream(size,dev)` crea un generador de imágenes:\n",
    "\n",
    "    stream = mkStream(size,dev)\n",
    "\n",
    "    for frame in stream:        \n",
    "        procesa frame\n",
    "\n",
    "Para capturar el teclado podemos usar directamente `cv.waitKey` pocesando los códigos como deseemos.\n",
    "\n",
    "Muchas veces es más cómodo usar `autoStream`, que permite hacer pausas (espacio) salvar frames (tecla s), salir (ESC), y admite opciones en la línea de órdenes para elegir el dispositivo de captura (`--dev`) y la resolución (`--size`).\n",
    "\n",
    "    for key, frame in autoStream():\n",
    "        \n",
    "        if key = ord('c'):\n",
    "            procesa tecla\n",
    "        \n",
    "        procesa frame\n"
   ]
  },
  {
   "cell_type": "markdown",
   "metadata": {},
   "source": [
    "Por omisión el dispositivo es la cámara /dev/video0 y el tamaño 640x480. Para cambiar de webcam y tamaño hacemos:\n",
    "\n",
    "    ./programa.py --dev=1 --size=320x240\n",
    "    \n",
    "La cámara del raspberry pi se especifica así:\n",
    "\n",
    "    ./programa.py --dev=picam\n",
    "\n",
    "Podemos procesar una lista de imágenes tomadas de un directorio:\n",
    "\n",
    "    ./programa.py --dev=glob:../images/ccorr/scenes/*.png\n",
    "\n",
    "Otra forma de hacer lo mismo, pero visualizando las imágenes disponibles en una ventana, avanzando de una en una con las teclas del ratón:\n",
    "\n",
    "    ./programa.py --dev=dir:../images/ccorr/scenes/*.png\n",
    "\n",
    "Se admiten archivos de vídeo en formato mjpeg locales:\n",
    "\n",
    "    ./programa.py --dev=file:../images/rot4.mjpg\n",
    "    \n",
    "\n",
    "Si el vídeo está en otro formato lo convertimos con la utilidad `ffmpeg` (que puede instalarse mediante conda):\n",
    "\n",
    "    ffmpeg -i video.avi -c:v mjpeg -q:v 3 -huffman optimal -an video.mjpg\n",
    "    \n",
    "También se admiten *streams* mjpeg remotos, generados por [cámaras online](https://en.wikipedia.org/wiki/IP_camera#Video_standards). Por ejemplo, aquí vemos una playa:\n",
    "\n",
    "    ./programa.py --dev=http://213.4.39.225:81/mjpg/video.mjpg\n",
    "\n",
    "La *app* \"IP Webcam\" incluye un servidor mjpeg en los smartphones, que permite utilzarlos como fuente de imágenes para los ejercicios.\n",
    "\n",
    "    ./programa.py --dev=http://155.54.X.Y:8080/video\n"
   ]
  },
  {
   "cell_type": "markdown",
   "metadata": {},
   "source": [
    "## Servidores"
   ]
  },
  {
   "cell_type": "markdown",
   "metadata": {},
   "source": [
    "Hemos incluido dos utilidades para crear \"streams\" en formato mjpeg:\n",
    "\n",
    "- ./`mjpegserver.py`: crea un stream mjpeg a partir cualquier dispositivo de los anteriores. Por ejemplo:\n",
    "\n",
    "        ./mjpegserver.py --dev=picam --size=320x240 --quality=50\n",
    "        \n",
    "    Este stream se captura con\n",
    "    \n",
    "        ./programa.py --dev=http://<IPDELRASPBERY>:8087/cam.mjpg\n",
    "        \n",
    "- ./`vlcmjpeg.sh`: es un script de bash para llamar a `vlc` con cualquier fuente de video y generar un stream mjpeg:\n",
    "\n",
    "        ./vlcmjpeg.sh https://www.youtube.com/watch?v=aBr2kKAHN6M\n",
    "        \n",
    "    (Es conveniente abrir el vídeo primero con vlc normal para comprobar que se lee bien, y en su caso aceptar certificados.)\n",
    "    \n",
    "    Este stream se captura con\n",
    "    \n",
    "        ./programa.py --dev=http://<IPDELSERVIDOR>:8090\n",
    "    \n",
    "    Podemos transmitir la pantalla de nuestro ordenador:\n",
    "        \n",
    "        ./vlcmjpeg.sh 'screen:// :screen-fps=10 :screen-width=700 :screen-height=500 :screen-top=300'\n",
    "        \n",
    "    O la webcam:\n",
    "    \n",
    "        ./vlcmjpeg.sh 'v4l2://'    \n",
    "    \n",
    "    En, general, podemos emitir cualquier fuente de video admitida por `vlc`. Estas secuencias de imágenes se pueden capturar fácilmente con las funciones `mkStream()` y derivadas mostradas anteriormente."
   ]
  },
  {
   "cell_type": "markdown",
   "metadata": {},
   "source": [
    "## Control de la webcam"
   ]
  },
  {
   "cell_type": "markdown",
   "metadata": {},
   "source": [
    "En la consola de linux usamos **v4l2-ctl**. Los controles disponibles en cada cámara se consultan con:\n",
    "\n",
    "    v4l2-ctl -l\n",
    "\n",
    "Activar o desactivar la eliminación de oscilaciones producidas por la luz eléctrica:\n",
    "\n",
    "        v4l2-ctl -d /dev/video0 -c power_line_frequency=1\n",
    "        v4l2-ctl -d /dev/video0 -c power_line_frequency=0\n",
    "\n",
    "Fijar el nivel de exposición:\n",
    "\n",
    "    v4l2-ctl -d /dev/video0 -c exposure_auto=1 -c exposure_absolute=100\n",
    "    v4l2-ctl -d /dev/video0 -c exposure_auto=1 -c exposure_absolute=1000\n",
    "\n",
    "Exposición automática:\n",
    "\n",
    "    v4l2-ctl -d /dev/video0 -c exposure_auto=3\n",
    "\n",
    "Enfoque fijo:\n",
    "\n",
    "    v4l2-ctl -d /dev/video0 -c focus=255\n",
    "    v4l2-ctl -d /dev/video0 -c focus=0\n",
    "\n",
    "La aplicación *guvcview* permite modificar los parámetros con un interfaz gráfico. \n",
    "\n",
    "El reproductor multimedia VLC (disponible en Linux y Windows) también lo permite."
   ]
  }
 ],
 "metadata": {
  "hide_input": false,
  "kernelspec": {
   "display_name": "Python 3",
   "language": "python",
   "name": "python3"
  },
  "language_info": {
   "codemirror_mode": {
    "name": "ipython",
    "version": 3
   },
   "file_extension": ".py",
   "mimetype": "text/x-python",
   "name": "python",
   "nbconvert_exporter": "python",
   "pygments_lexer": "ipython3",
   "version": "3.6.3"
  },
  "varInspector": {
   "cols": {
    "lenName": 16,
    "lenType": 16,
    "lenVar": 40
   },
   "kernels_config": {
    "python": {
     "delete_cmd_postfix": "",
     "delete_cmd_prefix": "del ",
     "library": "var_list.py",
     "varRefreshCmd": "print(var_dic_list())"
    },
    "r": {
     "delete_cmd_postfix": ") ",
     "delete_cmd_prefix": "rm(",
     "library": "var_list.r",
     "varRefreshCmd": "cat(var_dic_list()) "
    }
   },
   "types_to_exclude": [
    "module",
    "function",
    "builtin_function_or_method",
    "instance",
    "_Feature"
   ],
   "window_display": false
  }
 },
 "nbformat": 4,
 "nbformat_minor": 2
}
