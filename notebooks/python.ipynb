{
 "cells": [
  {
   "cell_type": "markdown",
   "metadata": {},
   "source": [
    "# Introducción a Python"
   ]
  },
  {
   "cell_type": "markdown",
   "metadata": {},
   "source": [
    "## introducción"
   ]
  },
  {
   "cell_type": "markdown",
   "metadata": {},
   "source": [
    "[Python](https://www.python.org/) es un lenguaje de propósito general sencillo y expresivo. Permite acceder cómodamente a una amplia colección de bibliotecas útiles en todos los campos de la informática. Su uso en ciencia y tecnología es cada vez mayor."
   ]
  },
  {
   "cell_type": "markdown",
   "metadata": {},
   "source": [
    "Es un lenguaje interpretado, con tipos de datos dinámicos y manejo automático de memoria, que puede utilizarse tanto para escribir programas de forma tradicional como para experimentar en un entorno interactivo. Incluye las construcciones más importantes de programación funcional y admite programación orientada a objetos.\n",
    "\n",
    "La sintaxis es simple e intuitiva pero hay que tener en cuenta algunas características:\n",
    "\n",
    "\n",
    "- Los bloques de instrucciones de las construcciones condicionales, bucles y funciones se delimitan mediante la \"indentación del código\": no se utiliza \"end\" ni `{` `}`.\n",
    "\n",
    "- Los índices para acceder a los arrays o listas comienzan en 0 y acaban en tamaño-1. Las secuencias (*range*) usadas en bucles o *list comprehensions* no incluyen el límite superior.\n",
    "\n",
    "- Algunas funciones tienen la sintaxis tradicional `f(x)`, `g(x,a)`, mientras que otras se expresan como `x.f()`, `x.g(a)`, etc., indicando que el \"objeto\" `x` se modifica de alguna forma.\n",
    "\n",
    "- Los arrays y las listas son \"mutables\": su asignación a otra variable **no** crea una copia del objeto original sino una \"referencia\" a través de la cual se puede modificar la estructura original.\n",
    "\n",
    "- Las funciones pueden leer directamente el valor de variables globales, pero para modificarlas hay que declararlas como `global`. La asignación de variables dentro de una función crea variables locales.\n",
    "\n",
    "- La única forma de crear un ámbito de variables es definir una función. Los índices de los bucles son visibles a la salida."
   ]
  },
  {
   "cell_type": "markdown",
   "metadata": {},
   "source": [
    "### instalación"
   ]
  },
  {
   "cell_type": "markdown",
   "metadata": {},
   "source": [
    "[Anaconda](https://www.continuum.io/DOWNLOADS)"
   ]
  },
  {
   "cell_type": "markdown",
   "metadata": {},
   "source": [
    "Si partimos de la instalación mínima [miniconda](https://conda.io/miniconda.html) necesitamos los siguiente paquetes:"
   ]
  },
  {
   "cell_type": "markdown",
   "metadata": {},
   "source": [
    "    > conda install jupyter numpy scipy sympy matplotlib"
   ]
  },
  {
   "cell_type": "markdown",
   "metadata": {},
   "source": [
    "Arrancamos el \"servidor\" de notebooks con\n",
    "\n",
    "    > jupyter notebook"
   ]
  },
  {
   "cell_type": "markdown",
   "metadata": {},
   "source": [
    "Las celdas de código se evalúan pulsando Mayúsculas-Entrar."
   ]
  },
  {
   "cell_type": "markdown",
   "metadata": {},
   "source": [
    "## tipos simples"
   ]
  },
  {
   "cell_type": "markdown",
   "metadata": {},
   "source": [
    "Cadenas de caracteres:"
   ]
  },
  {
   "cell_type": "code",
   "execution_count": 1,
   "metadata": {},
   "outputs": [],
   "source": [
    "s = 'Hola' "
   ]
  },
  {
   "cell_type": "code",
   "execution_count": 2,
   "metadata": {},
   "outputs": [
    {
     "data": {
      "text/plain": [
       "'Hola'"
      ]
     },
     "execution_count": 2,
     "metadata": {},
     "output_type": "execute_result"
    }
   ],
   "source": [
    "s"
   ]
  },
  {
   "cell_type": "code",
   "execution_count": 3,
   "metadata": {},
   "outputs": [
    {
     "name": "stdout",
     "output_type": "stream",
     "text": [
      "Hola\n"
     ]
    }
   ],
   "source": [
    "print(s)"
   ]
  },
  {
   "cell_type": "code",
   "execution_count": 4,
   "metadata": {},
   "outputs": [
    {
     "data": {
      "text/plain": [
       "str"
      ]
     },
     "execution_count": 4,
     "metadata": {},
     "output_type": "execute_result"
    }
   ],
   "source": [
    "type(s)"
   ]
  },
  {
   "cell_type": "markdown",
   "metadata": {},
   "source": [
    "Se admiten diferentes tipos de delimitadores y cadenas multilínea."
   ]
  },
  {
   "cell_type": "code",
   "execution_count": 5,
   "metadata": {},
   "outputs": [
    {
     "data": {
      "text/plain": [
       "'Hola amigos!'"
      ]
     },
     "execution_count": 5,
     "metadata": {},
     "output_type": "execute_result"
    }
   ],
   "source": [
    "\"Hola\" + ''' amigos!'''"
   ]
  },
  {
   "cell_type": "markdown",
   "metadata": {},
   "source": [
    "Variables lógicas:"
   ]
  },
  {
   "cell_type": "code",
   "execution_count": 6,
   "metadata": {},
   "outputs": [],
   "source": [
    "c = 3 < 4"
   ]
  },
  {
   "cell_type": "code",
   "execution_count": 7,
   "metadata": {},
   "outputs": [
    {
     "data": {
      "text/plain": [
       "bool"
      ]
     },
     "execution_count": 7,
     "metadata": {},
     "output_type": "execute_result"
    }
   ],
   "source": [
    "type(c)"
   ]
  },
  {
   "cell_type": "code",
   "execution_count": 8,
   "metadata": {},
   "outputs": [
    {
     "data": {
      "text/plain": [
       "True"
      ]
     },
     "execution_count": 8,
     "metadata": {},
     "output_type": "execute_result"
    }
   ],
   "source": [
    "c and (2==1+1) or not (3 != 5)"
   ]
  },
  {
   "cell_type": "markdown",
   "metadata": {},
   "source": [
    "Números reales aproximados con coma flotante de doble precisión:"
   ]
  },
  {
   "cell_type": "code",
   "execution_count": 9,
   "metadata": {},
   "outputs": [],
   "source": [
    "x = 3.5"
   ]
  },
  {
   "cell_type": "code",
   "execution_count": 10,
   "metadata": {},
   "outputs": [
    {
     "data": {
      "text/plain": [
       "float"
      ]
     },
     "execution_count": 10,
     "metadata": {},
     "output_type": "execute_result"
    }
   ],
   "source": [
    "type(x)"
   ]
  },
  {
   "cell_type": "markdown",
   "metadata": {},
   "source": [
    "Los enteros tienen tamaño ilimitado:"
   ]
  },
  {
   "cell_type": "code",
   "execution_count": 11,
   "metadata": {},
   "outputs": [],
   "source": [
    "x = 20"
   ]
  },
  {
   "cell_type": "code",
   "execution_count": 12,
   "metadata": {},
   "outputs": [
    {
     "data": {
      "text/plain": [
       "int"
      ]
     },
     "execution_count": 12,
     "metadata": {},
     "output_type": "execute_result"
    }
   ],
   "source": [
    "type(x)"
   ]
  },
  {
   "cell_type": "code",
   "execution_count": 13,
   "metadata": {},
   "outputs": [
    {
     "data": {
      "text/plain": [
       "104857600000000000000000000"
      ]
     },
     "execution_count": 13,
     "metadata": {},
     "output_type": "execute_result"
    }
   ],
   "source": [
    "x**x"
   ]
  },
  {
   "cell_type": "markdown",
   "metadata": {},
   "source": [
    "Variable compleja:"
   ]
  },
  {
   "cell_type": "code",
   "execution_count": 14,
   "metadata": {},
   "outputs": [
    {
     "data": {
      "text/plain": [
       "(2+0j)"
      ]
     },
     "execution_count": 14,
     "metadata": {},
     "output_type": "execute_result"
    }
   ],
   "source": [
    "(1+1j)*(1-1j)"
   ]
  },
  {
   "cell_type": "code",
   "execution_count": 15,
   "metadata": {},
   "outputs": [
    {
     "data": {
      "text/plain": [
       "1j"
      ]
     },
     "execution_count": 15,
     "metadata": {},
     "output_type": "execute_result"
    }
   ],
   "source": [
    "import cmath\n",
    "\n",
    "cmath.sqrt(-1)"
   ]
  },
  {
   "cell_type": "markdown",
   "metadata": {
    "collapsed": true
   },
   "source": [
    "## control"
   ]
  },
  {
   "cell_type": "markdown",
   "metadata": {},
   "source": [
    "Condiciones:"
   ]
  },
  {
   "cell_type": "code",
   "execution_count": 16,
   "metadata": {},
   "outputs": [
    {
     "name": "stdout",
     "output_type": "stream",
     "text": [
      "7  es impar\n",
      "me gustan los impares\n"
     ]
    }
   ],
   "source": [
    "k = 7\n",
    "\n",
    "if k%2 == 0:\n",
    "    print(k,\" es par\")\n",
    "else:\n",
    "    print(k,\" es impar\")\n",
    "    print(\"me gustan los impares\")"
   ]
  },
  {
   "cell_type": "markdown",
   "metadata": {},
   "source": [
    "Bucles:"
   ]
  },
  {
   "cell_type": "code",
   "execution_count": 17,
   "metadata": {},
   "outputs": [
    {
     "name": "stdout",
     "output_type": "stream",
     "text": [
      "1\n",
      "2\n",
      "3\n"
     ]
    }
   ],
   "source": [
    "for k in [1,2,3]:\n",
    "    print(k)"
   ]
  },
  {
   "cell_type": "code",
   "execution_count": 18,
   "metadata": {},
   "outputs": [
    {
     "name": "stdout",
     "output_type": "stream",
     "text": [
      "0\n",
      "1\n",
      "2\n",
      "3\n",
      "4\n"
     ]
    }
   ],
   "source": [
    "for k in range(5):\n",
    "    print(k)"
   ]
  },
  {
   "cell_type": "code",
   "execution_count": 19,
   "metadata": {},
   "outputs": [
    {
     "data": {
      "text/plain": [
       "24"
      ]
     },
     "execution_count": 19,
     "metadata": {},
     "output_type": "execute_result"
    }
   ],
   "source": [
    "k = 1\n",
    "p = 1\n",
    "while k < 5:\n",
    "    p = p*k\n",
    "    k = k+1\n",
    "p"
   ]
  },
  {
   "cell_type": "markdown",
   "metadata": {},
   "source": [
    "## contenedores"
   ]
  },
  {
   "cell_type": "markdown",
   "metadata": {},
   "source": [
    "### tuplas"
   ]
  },
  {
   "cell_type": "code",
   "execution_count": 20,
   "metadata": {},
   "outputs": [],
   "source": [
    "t = (2,'rojo')"
   ]
  },
  {
   "cell_type": "code",
   "execution_count": 21,
   "metadata": {},
   "outputs": [
    {
     "data": {
      "text/plain": [
       "(2, 'rojo')"
      ]
     },
     "execution_count": 21,
     "metadata": {},
     "output_type": "execute_result"
    }
   ],
   "source": [
    "t"
   ]
  },
  {
   "cell_type": "code",
   "execution_count": 22,
   "metadata": {},
   "outputs": [
    {
     "data": {
      "text/plain": [
       "2"
      ]
     },
     "execution_count": 22,
     "metadata": {},
     "output_type": "execute_result"
    }
   ],
   "source": [
    "t[0]"
   ]
  },
  {
   "cell_type": "markdown",
   "metadata": {},
   "source": [
    "Son inmutables."
   ]
  },
  {
   "cell_type": "markdown",
   "metadata": {},
   "source": [
    "### listas"
   ]
  },
  {
   "cell_type": "code",
   "execution_count": 23,
   "metadata": {},
   "outputs": [],
   "source": [
    "l = [1,-2,67,0,8,1,3]"
   ]
  },
  {
   "cell_type": "code",
   "execution_count": 24,
   "metadata": {},
   "outputs": [
    {
     "data": {
      "text/plain": [
       "list"
      ]
     },
     "execution_count": 24,
     "metadata": {},
     "output_type": "execute_result"
    }
   ],
   "source": [
    "type(l)"
   ]
  },
  {
   "cell_type": "markdown",
   "metadata": {},
   "source": [
    "También admite elementos de diferentes tipos, incluyendo otras listas, tuplas, o cualquier otro tipo de datos, aunque lo normal es trabajar con listas homogéneas (con elementos del mismo tipo) cuyos elementos pueden procesarse todos de la misma manera usando un bucle."
   ]
  },
  {
   "cell_type": "markdown",
   "metadata": {},
   "source": [
    "La extracción de elementos (\"indexado\"), la longitud de la lista y la suma de sus elementos se consiguen exactamente igual que en las tuplas:"
   ]
  },
  {
   "cell_type": "code",
   "execution_count": 25,
   "metadata": {},
   "outputs": [
    {
     "data": {
      "text/plain": [
       "(67, 7, 78)"
      ]
     },
     "execution_count": 25,
     "metadata": {},
     "output_type": "execute_result"
    }
   ],
   "source": [
    "l[2], len(l), sum(l)"
   ]
  },
  {
   "cell_type": "markdown",
   "metadata": {},
   "source": [
    "Sin embargo, las listas se diferencian en una característica fundamental. Son **mutables**: podemos añadir o quitar elementos de ellas."
   ]
  },
  {
   "cell_type": "code",
   "execution_count": 26,
   "metadata": {},
   "outputs": [
    {
     "data": {
      "text/plain": [
       "[1, -2, 67, 0, 8, 1, 3, 28]"
      ]
     },
     "execution_count": 26,
     "metadata": {},
     "output_type": "execute_result"
    }
   ],
   "source": [
    "l.append(28)\n",
    "\n",
    "l"
   ]
  },
  {
   "cell_type": "code",
   "execution_count": 27,
   "metadata": {},
   "outputs": [
    {
     "data": {
      "text/plain": [
       "[1, -2, 67, 0, 8, 1, 3, 28, -2, 4]"
      ]
     },
     "execution_count": 27,
     "metadata": {},
     "output_type": "execute_result"
    }
   ],
   "source": [
    "l += [-2,4]\n",
    "\n",
    "l"
   ]
  },
  {
   "cell_type": "code",
   "execution_count": 28,
   "metadata": {},
   "outputs": [
    {
     "data": {
      "text/plain": [
       "[1, -2, 67, 8, 1, 3, 28, -2, 4]"
      ]
     },
     "execution_count": 28,
     "metadata": {},
     "output_type": "execute_result"
    }
   ],
   "source": [
    "l.remove(0)\n",
    "\n",
    "l"
   ]
  },
  {
   "cell_type": "code",
   "execution_count": 29,
   "metadata": {},
   "outputs": [
    {
     "data": {
      "text/plain": [
       "[1, -2, 7, 8, 1, 3, 28, -2, 4]"
      ]
     },
     "execution_count": 29,
     "metadata": {},
     "output_type": "execute_result"
    }
   ],
   "source": [
    "l[2] = 7\n",
    "\n",
    "l"
   ]
  },
  {
   "cell_type": "code",
   "execution_count": 30,
   "metadata": {},
   "outputs": [
    {
     "data": {
      "text/plain": [
       "4"
      ]
     },
     "execution_count": 30,
     "metadata": {},
     "output_type": "execute_result"
    }
   ],
   "source": [
    "l.pop()"
   ]
  },
  {
   "cell_type": "code",
   "execution_count": 31,
   "metadata": {},
   "outputs": [
    {
     "data": {
      "text/plain": [
       "[1, -2, 7, 8, 1, 3, 28, -2]"
      ]
     },
     "execution_count": 31,
     "metadata": {},
     "output_type": "execute_result"
    }
   ],
   "source": [
    "l"
   ]
  },
  {
   "cell_type": "code",
   "execution_count": 32,
   "metadata": {},
   "outputs": [],
   "source": [
    "del l[2]"
   ]
  },
  {
   "cell_type": "code",
   "execution_count": 33,
   "metadata": {},
   "outputs": [
    {
     "data": {
      "text/plain": [
       "[1, -2, 8, 1, 3, 28, -2]"
      ]
     },
     "execution_count": 33,
     "metadata": {},
     "output_type": "execute_result"
    }
   ],
   "source": [
    "l"
   ]
  },
  {
   "cell_type": "code",
   "execution_count": 34,
   "metadata": {},
   "outputs": [
    {
     "data": {
      "text/plain": [
       "[1, -2, 8, 100, 1, 3, 28, -2]"
      ]
     },
     "execution_count": 34,
     "metadata": {},
     "output_type": "execute_result"
    }
   ],
   "source": [
    "l.insert(3,100)\n",
    "\n",
    "l"
   ]
  },
  {
   "cell_type": "markdown",
   "metadata": {},
   "source": [
    "### conjuntos"
   ]
  },
  {
   "cell_type": "markdown",
   "metadata": {},
   "source": [
    "El tipo `set` trata de reproducir el concepto matemático de conjunto. Se construye con llaves y los elementos duplicados se eliminan automáticamente."
   ]
  },
  {
   "cell_type": "code",
   "execution_count": 35,
   "metadata": {},
   "outputs": [
    {
     "data": {
      "text/plain": [
       "{1, 2, 7, 8}"
      ]
     },
     "execution_count": 35,
     "metadata": {},
     "output_type": "execute_result"
    }
   ],
   "source": [
    "C = {1,2,7,1,8,2,1}\n",
    "C"
   ]
  },
  {
   "cell_type": "markdown",
   "metadata": {},
   "source": [
    "Las operaciones de conjuntos están disponibles con símbolos o con \"métodos\" (funciones en forma de sufijo) . Los detalles pueden encontrarse en la [documentación](https://docs.python.org/3.6/library/stdtypes.html?highlight=set#set)."
   ]
  },
  {
   "cell_type": "code",
   "execution_count": 36,
   "metadata": {},
   "outputs": [
    {
     "data": {
      "text/plain": [
       "{0, 1, 2, 7, 8}"
      ]
     },
     "execution_count": 36,
     "metadata": {},
     "output_type": "execute_result"
    }
   ],
   "source": [
    "C.union({0,8})"
   ]
  },
  {
   "cell_type": "code",
   "execution_count": 37,
   "metadata": {},
   "outputs": [
    {
     "data": {
      "text/plain": [
       "{0, 1, 2, 7, 8}"
      ]
     },
     "execution_count": 37,
     "metadata": {},
     "output_type": "execute_result"
    }
   ],
   "source": [
    "C | {0,8}"
   ]
  },
  {
   "cell_type": "code",
   "execution_count": 38,
   "metadata": {},
   "outputs": [
    {
     "data": {
      "text/plain": [
       "{2}"
      ]
     },
     "execution_count": 38,
     "metadata": {},
     "output_type": "execute_result"
    }
   ],
   "source": [
    "C & {5,2}"
   ]
  },
  {
   "cell_type": "code",
   "execution_count": 39,
   "metadata": {},
   "outputs": [
    {
     "data": {
      "text/plain": [
       "{1, 7}"
      ]
     },
     "execution_count": 39,
     "metadata": {},
     "output_type": "execute_result"
    }
   ],
   "source": [
    "C - {2,8,0,5}"
   ]
  },
  {
   "cell_type": "code",
   "execution_count": 40,
   "metadata": {},
   "outputs": [
    {
     "data": {
      "text/plain": [
       "False"
      ]
     },
     "execution_count": 40,
     "metadata": {},
     "output_type": "execute_result"
    }
   ],
   "source": [
    "5 in C"
   ]
  },
  {
   "cell_type": "code",
   "execution_count": 41,
   "metadata": {},
   "outputs": [
    {
     "data": {
      "text/plain": [
       "True"
      ]
     },
     "execution_count": 41,
     "metadata": {},
     "output_type": "execute_result"
    }
   ],
   "source": [
    "{1,2} < {5,2,1}"
   ]
  },
  {
   "cell_type": "markdown",
   "metadata": {},
   "source": [
    "### diccionarios"
   ]
  },
  {
   "cell_type": "markdown",
   "metadata": {},
   "source": [
    "Es un array asociativo (el índice puede ser cualquier tipo (inmutable)). Es una estructura muy utilizada en Python."
   ]
  },
  {
   "cell_type": "code",
   "execution_count": 42,
   "metadata": {},
   "outputs": [],
   "source": [
    "d = {'lunes': 8, 'martes' : [1,2,3], 3: 5}"
   ]
  },
  {
   "cell_type": "code",
   "execution_count": 43,
   "metadata": {},
   "outputs": [
    {
     "data": {
      "text/plain": [
       "[1, 2, 3]"
      ]
     },
     "execution_count": 43,
     "metadata": {},
     "output_type": "execute_result"
    }
   ],
   "source": [
    "d['martes']"
   ]
  },
  {
   "cell_type": "code",
   "execution_count": 44,
   "metadata": {},
   "outputs": [
    {
     "data": {
      "text/plain": [
       "dict_keys(['lunes', 'martes', 3])"
      ]
     },
     "execution_count": 44,
     "metadata": {},
     "output_type": "execute_result"
    }
   ],
   "source": [
    "d.keys()"
   ]
  },
  {
   "cell_type": "code",
   "execution_count": 45,
   "metadata": {},
   "outputs": [
    {
     "data": {
      "text/plain": [
       "dict_values([8, [1, 2, 3], 5])"
      ]
     },
     "execution_count": 45,
     "metadata": {},
     "output_type": "execute_result"
    }
   ],
   "source": [
    "d.values()"
   ]
  },
  {
   "cell_type": "markdown",
   "metadata": {},
   "source": [
    "### iteración en contenedores"
   ]
  },
  {
   "cell_type": "markdown",
   "metadata": {},
   "source": [
    "Si queremos procesar todos los elementos de un contenedor podemos hacer un bucle y acceder a cada uno de ellos con la operación de indexado."
   ]
  },
  {
   "cell_type": "code",
   "execution_count": 46,
   "metadata": {},
   "outputs": [
    {
     "name": "stdout",
     "output_type": "stream",
     "text": [
      "1\n",
      "2\n",
      "3\n",
      "4\n",
      "5\n"
     ]
    }
   ],
   "source": [
    "lista = [1,2,3,4,5]\n",
    "\n",
    "for k in range(len(lista)):\n",
    "    print(lista[k])"
   ]
  },
  {
   "cell_type": "markdown",
   "metadata": {},
   "source": [
    "Esta construcción es tan común que en Python podemos escribirla de forma mucho más natural:"
   ]
  },
  {
   "cell_type": "code",
   "execution_count": 47,
   "metadata": {},
   "outputs": [
    {
     "name": "stdout",
     "output_type": "stream",
     "text": [
      "1\n",
      "2\n",
      "3\n",
      "4\n",
      "5\n"
     ]
    }
   ],
   "source": [
    "for x in lista:\n",
    "    print(x)"
   ]
  },
  {
   "cell_type": "markdown",
   "metadata": {},
   "source": [
    "Esto funciona incluso en contenedores como `set` que no admiten el indexado. Los tipos contenedores se pueden \"recorrer\" directamente mediante un bucle `for`, visitando todos sus elementos."
   ]
  },
  {
   "cell_type": "markdown",
   "metadata": {},
   "source": [
    "### conversión"
   ]
  },
  {
   "cell_type": "markdown",
   "metadata": {},
   "source": [
    "El nombre de un contenedor es a la vez una función para construir un contenedor de ese tipo a partir de otro contenedor cualquiera."
   ]
  },
  {
   "cell_type": "code",
   "execution_count": 48,
   "metadata": {},
   "outputs": [
    {
     "data": {
      "text/plain": [
       "(4, 2, 2, 3, 3, 3, 3, 1)"
      ]
     },
     "execution_count": 48,
     "metadata": {},
     "output_type": "execute_result"
    }
   ],
   "source": [
    "l = [4,2,2,3,3,3,3,1]\n",
    "\n",
    "tuple(l)"
   ]
  },
  {
   "cell_type": "code",
   "execution_count": 49,
   "metadata": {},
   "outputs": [
    {
     "data": {
      "text/plain": [
       "{1, 2, 3, 4}"
      ]
     },
     "execution_count": 49,
     "metadata": {},
     "output_type": "execute_result"
    }
   ],
   "source": [
    "set(l)"
   ]
  },
  {
   "cell_type": "code",
   "execution_count": 50,
   "metadata": {},
   "outputs": [
    {
     "data": {
      "text/plain": [
       "[3, 4, 5]"
      ]
     },
     "execution_count": 50,
     "metadata": {},
     "output_type": "execute_result"
    }
   ],
   "source": [
    "list({5,4,3})"
   ]
  },
  {
   "cell_type": "code",
   "execution_count": 51,
   "metadata": {},
   "outputs": [
    {
     "data": {
      "text/plain": [
       "[0, 1, 2, 3, 4, 5, 6, 7, 8, 9]"
      ]
     },
     "execution_count": 51,
     "metadata": {},
     "output_type": "execute_result"
    }
   ],
   "source": [
    "list(range(10))"
   ]
  },
  {
   "cell_type": "markdown",
   "metadata": {},
   "source": [
    "Esta característica funciona con cualquier otro tipo, no solo con contenedores:"
   ]
  },
  {
   "cell_type": "code",
   "execution_count": 52,
   "metadata": {},
   "outputs": [
    {
     "data": {
      "text/plain": [
       "5.0"
      ]
     },
     "execution_count": 52,
     "metadata": {},
     "output_type": "execute_result"
    }
   ],
   "source": [
    "float(5)"
   ]
  },
  {
   "cell_type": "code",
   "execution_count": 53,
   "metadata": {},
   "outputs": [
    {
     "data": {
      "text/plain": [
       "54"
      ]
     },
     "execution_count": 53,
     "metadata": {},
     "output_type": "execute_result"
    }
   ],
   "source": [
    "int('54')"
   ]
  },
  {
   "cell_type": "markdown",
   "metadata": {},
   "source": [
    "Si la conversión no es posible se producirá un error."
   ]
  },
  {
   "cell_type": "markdown",
   "metadata": {},
   "source": [
    "### subsecuencias"
   ]
  },
  {
   "cell_type": "code",
   "execution_count": 54,
   "metadata": {},
   "outputs": [
    {
     "data": {
      "text/plain": [
       "[0, 1, 2, 3, 4, 5, 6, 7, 8, 9, 10, 11, 12, 13, 14, 15, 16, 17, 18, 19]"
      ]
     },
     "execution_count": 54,
     "metadata": {},
     "output_type": "execute_result"
    }
   ],
   "source": [
    "l = list(range(20))\n",
    "\n",
    "l"
   ]
  },
  {
   "cell_type": "code",
   "execution_count": 55,
   "metadata": {},
   "outputs": [
    {
     "data": {
      "text/plain": [
       "[0, 1, 2, 3, 4]"
      ]
     },
     "execution_count": 55,
     "metadata": {},
     "output_type": "execute_result"
    }
   ],
   "source": [
    "l[:5]"
   ]
  },
  {
   "cell_type": "code",
   "execution_count": 56,
   "metadata": {},
   "outputs": [
    {
     "data": {
      "text/plain": [
       "[4, 5, 6, 7, 8, 9, 10, 11, 12, 13, 14, 15, 16, 17, 18, 19]"
      ]
     },
     "execution_count": 56,
     "metadata": {},
     "output_type": "execute_result"
    }
   ],
   "source": [
    "l[4:]"
   ]
  },
  {
   "cell_type": "code",
   "execution_count": 57,
   "metadata": {},
   "outputs": [
    {
     "data": {
      "text/plain": [
       "[17, 18, 19]"
      ]
     },
     "execution_count": 57,
     "metadata": {},
     "output_type": "execute_result"
    }
   ],
   "source": [
    "l[-3:]"
   ]
  },
  {
   "cell_type": "code",
   "execution_count": 58,
   "metadata": {},
   "outputs": [
    {
     "data": {
      "text/plain": [
       "[5, 7, 9]"
      ]
     },
     "execution_count": 58,
     "metadata": {},
     "output_type": "execute_result"
    }
   ],
   "source": [
    "l[5:10:2]"
   ]
  },
  {
   "cell_type": "code",
   "execution_count": 59,
   "metadata": {},
   "outputs": [
    {
     "data": {
      "text/plain": [
       "[19, 18, 17, 16, 15, 14, 13, 12, 11, 10, 9, 8, 7, 6, 5, 4, 3, 2, 1, 0]"
      ]
     },
     "execution_count": 59,
     "metadata": {},
     "output_type": "execute_result"
    }
   ],
   "source": [
    "l[::-1]"
   ]
  },
  {
   "cell_type": "code",
   "execution_count": 60,
   "metadata": {},
   "outputs": [
    {
     "data": {
      "text/plain": [
       "[0, 1, 2, 3, 4, 5, 6, 7, 8, 9, 0, 0, 0, 14, 15, 16, 17, 18, 19]"
      ]
     },
     "execution_count": 60,
     "metadata": {},
     "output_type": "execute_result"
    }
   ],
   "source": [
    "l[10:14] = [0,0,0]\n",
    "\n",
    "l"
   ]
  },
  {
   "cell_type": "markdown",
   "metadata": {},
   "source": [
    "### *list comprehensions*"
   ]
  },
  {
   "cell_type": "markdown",
   "metadata": {},
   "source": [
    "Cuando utilizamos un bucle para recorrer una lista o realizar un gran número de cálculos los resultados intermedios se pueden imprimir si se desea, pero en cualquier caso al final se pierden.\n",
    "\n",
    "Muchas veces surge la necesidad de construir una lista (o cualquier otro tipo de contenedor) a partir de los elementos de otra. Una forma de programarlo es empezar con una lista vacía e iterar mediante un bucle añadiendo elementos."
   ]
  },
  {
   "cell_type": "markdown",
   "metadata": {},
   "source": [
    "Supongamos que queremos construir una lista con los 100 primeros números cuadrados $1,4,9,16,\\ldots,10000$. En principio parece razonable hacer lo siguiente:"
   ]
  },
  {
   "cell_type": "code",
   "execution_count": 61,
   "metadata": {
    "scrolled": false
   },
   "outputs": [
    {
     "name": "stdout",
     "output_type": "stream",
     "text": [
      "[1, 4, 9, 16, 25, 36, 49, 64, 81, 100, 121, 144, 169, 196, 225, 256, 289, 324, 361, 400, 441, 484, 529, 576, 625, 676, 729, 784, 841, 900, 961, 1024, 1089, 1156, 1225, 1296, 1369, 1444, 1521, 1600, 1681, 1764, 1849, 1936, 2025, 2116, 2209, 2304, 2401, 2500, 2601, 2704, 2809, 2916, 3025, 3136, 3249, 3364, 3481, 3600, 3721, 3844, 3969, 4096, 4225, 4356, 4489, 4624, 4761, 4900, 5041, 5184, 5329, 5476, 5625, 5776, 5929, 6084, 6241, 6400, 6561, 6724, 6889, 7056, 7225, 7396, 7569, 7744, 7921, 8100, 8281, 8464, 8649, 8836, 9025, 9216, 9409, 9604, 9801, 10000]\n"
     ]
    }
   ],
   "source": [
    "r = []\n",
    "for k in range(1,101):\n",
    "    r.append(k**2)\n",
    "\n",
    "print(r)"
   ]
  },
  {
   "cell_type": "markdown",
   "metadata": {},
   "source": [
    "No está mal, pero los lenguajes modernos proporcionan una herramienta mucho más elegante para expresar este tipo de cálculos. Se conoce como [list comprehension](https://en.wikipedia.org/wiki/List_comprehension) y trata de imitar la notación matemática para definir conjuntos:"
   ]
  },
  {
   "cell_type": "markdown",
   "metadata": {},
   "source": [
    "$$ r = \\{ k^2 \\; : \\; \\forall k \\in \\mathbb{N},  \\;1 \\leq k \\leq 100 \\} $$"
   ]
  },
  {
   "cell_type": "code",
   "execution_count": 62,
   "metadata": {},
   "outputs": [
    {
     "name": "stdout",
     "output_type": "stream",
     "text": [
      "[1, 4, 9, 16, 25, 36, 49, 64, 81, 100, 121, 144, 169, 196, 225, 256, 289, 324, 361, 400, 441, 484, 529, 576, 625, 676, 729, 784, 841, 900, 961, 1024, 1089, 1156, 1225, 1296, 1369, 1444, 1521, 1600, 1681, 1764, 1849, 1936, 2025, 2116, 2209, 2304, 2401, 2500, 2601, 2704, 2809, 2916, 3025, 3136, 3249, 3364, 3481, 3600, 3721, 3844, 3969, 4096, 4225, 4356, 4489, 4624, 4761, 4900, 5041, 5184, 5329, 5476, 5625, 5776, 5929, 6084, 6241, 6400, 6561, 6724, 6889, 7056, 7225, 7396, 7569, 7744, 7921, 8100, 8281, 8464, 8649, 8836, 9025, 9216, 9409, 9604, 9801, 10000]\n"
     ]
    }
   ],
   "source": [
    "r = [ k**2 for k in range(1,101) ]\n",
    "\n",
    "print(r)"
   ]
  },
  {
   "cell_type": "code",
   "execution_count": 63,
   "metadata": {},
   "outputs": [
    {
     "data": {
      "text/plain": [
       "[0, 7, 14, 21, 28, 35, 42, 49, 56, 63, 70, 77, 84, 91, 98]"
      ]
     },
     "execution_count": 63,
     "metadata": {},
     "output_type": "execute_result"
    }
   ],
   "source": [
    "[ k for k in range(100) if k%7 == 0 ]"
   ]
  },
  {
   "cell_type": "code",
   "execution_count": 64,
   "metadata": {},
   "outputs": [
    {
     "data": {
      "text/plain": [
       "[(4, 6), (5, 5), (5, 6), (6, 4), (6, 5), (6, 6)]"
      ]
     },
     "execution_count": 64,
     "metadata": {},
     "output_type": "execute_result"
    }
   ],
   "source": [
    "[(a,b) for a in range(1,7) for b in range(1,7) if a + b >= 10 ]"
   ]
  },
  {
   "cell_type": "code",
   "execution_count": 65,
   "metadata": {},
   "outputs": [
    {
     "data": {
      "text/plain": [
       "{2, 3, 4, 5, 6, 7, 8, 9, 10, 11, 12}"
      ]
     },
     "execution_count": 65,
     "metadata": {},
     "output_type": "execute_result"
    }
   ],
   "source": [
    "{ a+b for a in range(1,7) for b in range(1,7) }"
   ]
  },
  {
   "cell_type": "code",
   "execution_count": 66,
   "metadata": {},
   "outputs": [
    {
     "data": {
      "text/plain": [
       "338350"
      ]
     },
     "execution_count": 66,
     "metadata": {},
     "output_type": "execute_result"
    }
   ],
   "source": [
    "sum([k**2 for k in range(100+1)])"
   ]
  },
  {
   "cell_type": "markdown",
   "metadata": {},
   "source": [
    "### desestructuración"
   ]
  },
  {
   "cell_type": "markdown",
   "metadata": {},
   "source": [
    "En Python es posible asignar nombres a los elementos de una secuencia de forma muy natural.\n",
    "\n",
    "Supongamos que tenemos una tupla como la siguiente"
   ]
  },
  {
   "cell_type": "code",
   "execution_count": 67,
   "metadata": {},
   "outputs": [],
   "source": [
    "t = (3,4,5)"
   ]
  },
  {
   "cell_type": "markdown",
   "metadata": {},
   "source": [
    "y queremos operar con sus elementos. Podemos acceder con un índice:"
   ]
  },
  {
   "cell_type": "code",
   "execution_count": 68,
   "metadata": {},
   "outputs": [
    {
     "data": {
      "text/plain": [
       "9"
      ]
     },
     "execution_count": 68,
     "metadata": {},
     "output_type": "execute_result"
    }
   ],
   "source": [
    "t[1] + t[2]"
   ]
  },
  {
   "cell_type": "markdown",
   "metadata": {},
   "source": [
    "No hay ningún problema pero el acceso con índice se hace pesado si los elementos aparecen varias veces en el código. En estos casos es mejor ponerles nombre. Podemos hacer"
   ]
  },
  {
   "cell_type": "code",
   "execution_count": 69,
   "metadata": {},
   "outputs": [
    {
     "data": {
      "text/plain": [
       "9"
      ]
     },
     "execution_count": 69,
     "metadata": {},
     "output_type": "execute_result"
    }
   ],
   "source": [
    "b = t[1]\n",
    "c = t[2]\n",
    "\n",
    "b+c"
   ]
  },
  {
   "cell_type": "markdown",
   "metadata": {},
   "source": [
    "Sin embargo Python nos permite algo más elegante:"
   ]
  },
  {
   "cell_type": "code",
   "execution_count": 70,
   "metadata": {},
   "outputs": [
    {
     "data": {
      "text/plain": [
       "9"
      ]
     },
     "execution_count": 70,
     "metadata": {},
     "output_type": "execute_result"
    }
   ],
   "source": [
    "_,b,c = t\n",
    "\n",
    "b+c"
   ]
  },
  {
   "cell_type": "markdown",
   "metadata": {},
   "source": [
    "(El nombre `_`  se suele usar cuando no necesitamos ese elemento.)\n",
    "\n",
    "Usando esta característica podemos escribir varias asignaciones de una vez:"
   ]
  },
  {
   "cell_type": "code",
   "execution_count": 71,
   "metadata": {},
   "outputs": [],
   "source": [
    "x,y = 23,45"
   ]
  },
  {
   "cell_type": "markdown",
   "metadata": {},
   "source": [
    "Un nombre con asterisco captura dentro de una lista todos los elementos restantes:"
   ]
  },
  {
   "cell_type": "code",
   "execution_count": 72,
   "metadata": {},
   "outputs": [],
   "source": [
    "s = 'Alberto'\n",
    "\n",
    "x, y, *z, w = s"
   ]
  },
  {
   "cell_type": "code",
   "execution_count": 73,
   "metadata": {},
   "outputs": [
    {
     "data": {
      "text/plain": [
       "'l'"
      ]
     },
     "execution_count": 73,
     "metadata": {},
     "output_type": "execute_result"
    }
   ],
   "source": [
    "y"
   ]
  },
  {
   "cell_type": "code",
   "execution_count": 74,
   "metadata": {},
   "outputs": [
    {
     "data": {
      "text/plain": [
       "['b', 'e', 'r', 't']"
      ]
     },
     "execution_count": 74,
     "metadata": {},
     "output_type": "execute_result"
    }
   ],
   "source": [
    "z"
   ]
  },
  {
   "cell_type": "markdown",
   "metadata": {},
   "source": [
    "La desestructuración de argumentos es muy práctica en combinación con las *list comprehensions*:"
   ]
  },
  {
   "cell_type": "code",
   "execution_count": 75,
   "metadata": {},
   "outputs": [
    {
     "data": {
      "text/plain": [
       "[(0, 0), (1, 1), (2, 4), (3, 9), (4, 16)]"
      ]
     },
     "execution_count": 75,
     "metadata": {},
     "output_type": "execute_result"
    }
   ],
   "source": [
    "l = [(k,k**2) for k in range(5)]\n",
    "l"
   ]
  },
  {
   "cell_type": "code",
   "execution_count": 76,
   "metadata": {},
   "outputs": [
    {
     "data": {
      "text/plain": [
       "[0, 2, 6, 12, 20]"
      ]
     },
     "execution_count": 76,
     "metadata": {},
     "output_type": "execute_result"
    }
   ],
   "source": [
    "[a+b for a,b in l]"
   ]
  },
  {
   "cell_type": "markdown",
   "metadata": {},
   "source": [
    "## funciones"
   ]
  },
  {
   "cell_type": "code",
   "execution_count": 77,
   "metadata": {},
   "outputs": [],
   "source": [
    "def sp(n):\n",
    "    r = n**2+n+41\n",
    "    return r"
   ]
  },
  {
   "cell_type": "code",
   "execution_count": 78,
   "metadata": {},
   "outputs": [
    {
     "data": {
      "text/plain": [
       "71"
      ]
     },
     "execution_count": 78,
     "metadata": {},
     "output_type": "execute_result"
    }
   ],
   "source": [
    "sp(5)"
   ]
  },
  {
   "cell_type": "markdown",
   "metadata": {},
   "source": [
    "Se pueden devolver varios resultados en una tupla:"
   ]
  },
  {
   "cell_type": "code",
   "execution_count": 79,
   "metadata": {},
   "outputs": [],
   "source": [
    "import math\n",
    "\n",
    "def ecsec(a,b,c):\n",
    "    d = math.sqrt(b**2- 4*a*c)\n",
    "    s1 = (-b+d)/2/a\n",
    "    s2 = (-b-d)/2/a\n",
    "    return (s1,s2)"
   ]
  },
  {
   "cell_type": "code",
   "execution_count": 80,
   "metadata": {
    "scrolled": true
   },
   "outputs": [
    {
     "data": {
      "text/plain": [
       "(2.0, 1.0)"
      ]
     },
     "execution_count": 80,
     "metadata": {},
     "output_type": "execute_result"
    }
   ],
   "source": [
    "ecsec(2,-6,4)"
   ]
  },
  {
   "cell_type": "markdown",
   "metadata": {},
   "source": [
    "Los paréntesis de la tupla son opcionales."
   ]
  },
  {
   "cell_type": "code",
   "execution_count": 81,
   "metadata": {},
   "outputs": [
    {
     "data": {
      "text/plain": [
       "1.0"
      ]
     },
     "execution_count": 81,
     "metadata": {},
     "output_type": "execute_result"
    }
   ],
   "source": [
    "a,b = ecsec(1,-3,2)\n",
    "\n",
    "b"
   ]
  },
  {
   "cell_type": "markdown",
   "metadata": {},
   "source": [
    "Las variables globales son visibles dentro de las funciones y las asignaciones crean variables locales (a menos que el nombre se declare `global`)."
   ]
  },
  {
   "cell_type": "code",
   "execution_count": 82,
   "metadata": {},
   "outputs": [
    {
     "name": "stdout",
     "output_type": "stream",
     "text": [
      "6\n",
      "8\n"
     ]
    }
   ],
   "source": [
    "a = 5\n",
    "\n",
    "b = 8\n",
    "\n",
    "def f(x):\n",
    "    b = a+1\n",
    "    return b\n",
    "\n",
    "print(f(3))\n",
    "print(b)"
   ]
  },
  {
   "cell_type": "code",
   "execution_count": 83,
   "metadata": {},
   "outputs": [
    {
     "name": "stdout",
     "output_type": "stream",
     "text": [
      "6\n",
      "6\n"
     ]
    }
   ],
   "source": [
    "a = 5\n",
    "\n",
    "b = 8\n",
    "\n",
    "def f(x):\n",
    "    global b\n",
    "    b = a+1\n",
    "    return b\n",
    "\n",
    "print(f(3))\n",
    "print(b)"
   ]
  },
  {
   "cell_type": "markdown",
   "metadata": {},
   "source": [
    "Argumentos por omisión:"
   ]
  },
  {
   "cell_type": "code",
   "execution_count": 84,
   "metadata": {},
   "outputs": [
    {
     "name": "stdout",
     "output_type": "stream",
     "text": [
      "6\n",
      "8\n"
     ]
    }
   ],
   "source": [
    "def incre(x,y=1):\n",
    "    return x + y\n",
    "\n",
    "print(incre(5))\n",
    "print(incre(5,3))"
   ]
  },
  {
   "cell_type": "markdown",
   "metadata": {},
   "source": [
    "Argumentos por nombre:"
   ]
  },
  {
   "cell_type": "code",
   "execution_count": 85,
   "metadata": {},
   "outputs": [
    {
     "data": {
      "text/plain": [
       "5"
      ]
     },
     "execution_count": 85,
     "metadata": {},
     "output_type": "execute_result"
    }
   ],
   "source": [
    "incre(y=3, x=2)"
   ]
  },
  {
   "cell_type": "markdown",
   "metadata": {},
   "source": [
    "Documentación:"
   ]
  },
  {
   "cell_type": "code",
   "execution_count": 86,
   "metadata": {},
   "outputs": [
    {
     "name": "stdout",
     "output_type": "stream",
     "text": [
      "Help on built-in function sum in module builtins:\n",
      "\n",
      "sum(iterable, start=0, /)\n",
      "    Return the sum of a 'start' value (default: 0) plus an iterable of numbers\n",
      "    \n",
      "    When the iterable is empty, return the start value.\n",
      "    This function is intended specifically for use with numeric values and may\n",
      "    reject non-numeric types.\n",
      "\n"
     ]
    }
   ],
   "source": [
    "# ? sum\n",
    "help(sum)"
   ]
  },
  {
   "cell_type": "code",
   "execution_count": 87,
   "metadata": {},
   "outputs": [],
   "source": [
    "def fun(n):\n",
    "    \"\"\"Una función muy simple que calcula el triple de su argumento.\"\"\"\n",
    "    return 3*n"
   ]
  },
  {
   "cell_type": "code",
   "execution_count": 88,
   "metadata": {},
   "outputs": [
    {
     "name": "stdout",
     "output_type": "stream",
     "text": [
      "Help on function fun in module __main__:\n",
      "\n",
      "fun(n)\n",
      "    Una función muy simple que calcula el triple de su argumento.\n",
      "\n"
     ]
    }
   ],
   "source": [
    "help(fun)"
   ]
  },
  {
   "cell_type": "markdown",
   "metadata": {},
   "source": [
    "### bibliotecas"
   ]
  },
  {
   "cell_type": "markdown",
   "metadata": {},
   "source": [
    "Las funciones definidas en un archivo se pueden utilizar directamente haciendo un `import`. Existe una convención para definir una función `main` que se ejecuta cuando el archivo se arranca como programa y suele usarse para ejecutar tests."
   ]
  },
  {
   "cell_type": "markdown",
   "metadata": {},
   "source": [
    "### programación funcional"
   ]
  },
  {
   "cell_type": "markdown",
   "metadata": {},
   "source": [
    "En Python 3 las construcciones funcionales crean secuencias \"bajo demanda\"."
   ]
  },
  {
   "cell_type": "code",
   "execution_count": 89,
   "metadata": {},
   "outputs": [
    {
     "data": {
      "text/plain": [
       "<map at 0x7f343087d240>"
      ]
     },
     "execution_count": 89,
     "metadata": {},
     "output_type": "execute_result"
    }
   ],
   "source": [
    "map(sp,range(5))"
   ]
  },
  {
   "cell_type": "code",
   "execution_count": 90,
   "metadata": {},
   "outputs": [
    {
     "name": "stdout",
     "output_type": "stream",
     "text": [
      "41\n",
      "43\n",
      "47\n",
      "53\n",
      "61\n"
     ]
    }
   ],
   "source": [
    "for k in map(sp,range(5)):\n",
    "    print(k)"
   ]
  },
  {
   "cell_type": "code",
   "execution_count": 91,
   "metadata": {},
   "outputs": [
    {
     "data": {
      "text/plain": [
       "[41, 43, 47, 53, 61]"
      ]
     },
     "execution_count": 91,
     "metadata": {},
     "output_type": "execute_result"
    }
   ],
   "source": [
    "list(map(sp,range(5)))"
   ]
  },
  {
   "cell_type": "code",
   "execution_count": 92,
   "metadata": {},
   "outputs": [
    {
     "data": {
      "text/plain": [
       "[1, 3, 5, 7, 9]"
      ]
     },
     "execution_count": 92,
     "metadata": {},
     "output_type": "execute_result"
    }
   ],
   "source": [
    "list(filter(lambda x: x%2 == 1, range(10)))"
   ]
  },
  {
   "cell_type": "markdown",
   "metadata": {},
   "source": [
    "Es poco frecuente usar explícitamente map y filter, ya que su efecto se consigue de forma más cómoda con list comprehensions:"
   ]
  },
  {
   "cell_type": "code",
   "execution_count": 93,
   "metadata": {},
   "outputs": [
    {
     "data": {
      "text/plain": [
       "[36, 49, 64, 81]"
      ]
     },
     "execution_count": 93,
     "metadata": {},
     "output_type": "execute_result"
    }
   ],
   "source": [
    "[k**2 for k in range(10) if k >5 ]"
   ]
  },
  {
   "cell_type": "code",
   "execution_count": 94,
   "metadata": {},
   "outputs": [],
   "source": [
    "def divis(n):\n",
    "    return [k for k in range(2,n) if n%k==0]"
   ]
  },
  {
   "cell_type": "code",
   "execution_count": 95,
   "metadata": {},
   "outputs": [
    {
     "data": {
      "text/plain": [
       "[2, 3, 4, 6]"
      ]
     },
     "execution_count": 95,
     "metadata": {},
     "output_type": "execute_result"
    }
   ],
   "source": [
    "divis(12)"
   ]
  },
  {
   "cell_type": "code",
   "execution_count": 96,
   "metadata": {},
   "outputs": [
    {
     "data": {
      "text/plain": [
       "[7, 11, 13, 77, 91, 143]"
      ]
     },
     "execution_count": 96,
     "metadata": {},
     "output_type": "execute_result"
    }
   ],
   "source": [
    "divis(1001)"
   ]
  },
  {
   "cell_type": "code",
   "execution_count": 97,
   "metadata": {},
   "outputs": [],
   "source": [
    "def perfect(n):\n",
    "    return sum(divis(n)) + 1 == n"
   ]
  },
  {
   "cell_type": "code",
   "execution_count": 98,
   "metadata": {},
   "outputs": [
    {
     "data": {
      "text/plain": [
       "False"
      ]
     },
     "execution_count": 98,
     "metadata": {},
     "output_type": "execute_result"
    }
   ],
   "source": [
    "perfect(4)"
   ]
  },
  {
   "cell_type": "code",
   "execution_count": 99,
   "metadata": {},
   "outputs": [
    {
     "data": {
      "text/plain": [
       "True"
      ]
     },
     "execution_count": 99,
     "metadata": {},
     "output_type": "execute_result"
    }
   ],
   "source": [
    "perfect(6)"
   ]
  },
  {
   "cell_type": "code",
   "execution_count": 100,
   "metadata": {},
   "outputs": [],
   "source": [
    "def prime(n):\n",
    "    return divis(n)==[]"
   ]
  },
  {
   "cell_type": "code",
   "execution_count": 101,
   "metadata": {},
   "outputs": [
    {
     "data": {
      "text/plain": [
       "[2, 3, 5, 7, 11, 13, 17, 19]"
      ]
     },
     "execution_count": 101,
     "metadata": {},
     "output_type": "execute_result"
    }
   ],
   "source": [
    "[k for k in range(2,21) if prime(k)]"
   ]
  },
  {
   "cell_type": "code",
   "execution_count": 102,
   "metadata": {},
   "outputs": [],
   "source": [
    "from functools import reduce\n",
    "import operator\n",
    "\n",
    "def product(l):\n",
    "    return reduce(operator.mul,l,1)"
   ]
  },
  {
   "cell_type": "code",
   "execution_count": 103,
   "metadata": {},
   "outputs": [
    {
     "data": {
      "text/plain": [
       "3628800"
      ]
     },
     "execution_count": 103,
     "metadata": {},
     "output_type": "execute_result"
    }
   ],
   "source": [
    "product(range(1,10+1))"
   ]
  },
  {
   "cell_type": "markdown",
   "metadata": {},
   "source": [
    "Función que construye funciones:"
   ]
  },
  {
   "cell_type": "code",
   "execution_count": 104,
   "metadata": {},
   "outputs": [],
   "source": [
    "def mkfun(y):\n",
    "    return lambda x: x+y"
   ]
  },
  {
   "cell_type": "code",
   "execution_count": 105,
   "metadata": {},
   "outputs": [
    {
     "name": "stdout",
     "output_type": "stream",
     "text": [
      "11\n",
      "15\n"
     ]
    }
   ],
   "source": [
    "f = mkfun(1)\n",
    "g = mkfun(5)\n",
    "\n",
    "print(f(10))\n",
    "print(g(10))"
   ]
  },
  {
   "cell_type": "code",
   "execution_count": 106,
   "metadata": {},
   "outputs": [
    {
     "name": "stdout",
     "output_type": "stream",
     "text": [
      "11\n",
      "15\n"
     ]
    }
   ],
   "source": [
    "fs = list(map(mkfun,range(1,6)))\n",
    "\n",
    "print(fs[0](10))\n",
    "print(fs[4](10))"
   ]
  },
  {
   "cell_type": "markdown",
   "metadata": {},
   "source": [
    "## arrays"
   ]
  },
  {
   "cell_type": "markdown",
   "metadata": {},
   "source": [
    "Gran parte del éxito de Python se debe a [numpy](http://www.numpy.org/)."
   ]
  },
  {
   "cell_type": "code",
   "execution_count": 107,
   "metadata": {},
   "outputs": [],
   "source": [
    "import numpy as np"
   ]
  },
  {
   "cell_type": "markdown",
   "metadata": {},
   "source": [
    "Construcción a partir de listas (u otros contenedores):"
   ]
  },
  {
   "cell_type": "code",
   "execution_count": 108,
   "metadata": {},
   "outputs": [],
   "source": [
    "m = np.array([[5,3, 2,10],\n",
    "              [2,0, 7, 0],\n",
    "              [1,1,-3, 6]])"
   ]
  },
  {
   "cell_type": "code",
   "execution_count": 109,
   "metadata": {},
   "outputs": [
    {
     "data": {
      "text/plain": [
       "7"
      ]
     },
     "execution_count": 109,
     "metadata": {},
     "output_type": "execute_result"
    }
   ],
   "source": [
    "m[1,2]"
   ]
  },
  {
   "cell_type": "markdown",
   "metadata": {},
   "source": [
    "Inspección de su tipo y estructura:"
   ]
  },
  {
   "cell_type": "code",
   "execution_count": 110,
   "metadata": {},
   "outputs": [
    {
     "data": {
      "text/plain": [
       "numpy.ndarray"
      ]
     },
     "execution_count": 110,
     "metadata": {},
     "output_type": "execute_result"
    }
   ],
   "source": [
    "type(m)"
   ]
  },
  {
   "cell_type": "code",
   "execution_count": 111,
   "metadata": {},
   "outputs": [
    {
     "data": {
      "text/plain": [
       "dtype('int64')"
      ]
     },
     "execution_count": 111,
     "metadata": {},
     "output_type": "execute_result"
    }
   ],
   "source": [
    "m.dtype"
   ]
  },
  {
   "cell_type": "code",
   "execution_count": 112,
   "metadata": {},
   "outputs": [
    {
     "data": {
      "text/plain": [
       "(3, 4)"
      ]
     },
     "execution_count": 112,
     "metadata": {},
     "output_type": "execute_result"
    }
   ],
   "source": [
    "m.shape"
   ]
  },
  {
   "cell_type": "code",
   "execution_count": 113,
   "metadata": {},
   "outputs": [
    {
     "data": {
      "text/plain": [
       "2"
      ]
     },
     "execution_count": 113,
     "metadata": {},
     "output_type": "execute_result"
    }
   ],
   "source": [
    "m.ndim"
   ]
  },
  {
   "cell_type": "code",
   "execution_count": 114,
   "metadata": {},
   "outputs": [
    {
     "data": {
      "text/plain": [
       "3"
      ]
     },
     "execution_count": 114,
     "metadata": {},
     "output_type": "execute_result"
    }
   ],
   "source": [
    "len(m)"
   ]
  },
  {
   "cell_type": "code",
   "execution_count": 115,
   "metadata": {},
   "outputs": [
    {
     "data": {
      "text/plain": [
       "12"
      ]
     },
     "execution_count": 115,
     "metadata": {},
     "output_type": "execute_result"
    }
   ],
   "source": [
    "m.size"
   ]
  },
  {
   "cell_type": "markdown",
   "metadata": {},
   "source": [
    "Las operaciones elemento a elemento son automáticas:"
   ]
  },
  {
   "cell_type": "code",
   "execution_count": 116,
   "metadata": {},
   "outputs": [
    {
     "data": {
      "text/plain": [
       "array([[ 27,  17,  12,  52],\n",
       "       [ 12,   2,  37,   2],\n",
       "       [  7,   7, -13,  32]])"
      ]
     },
     "execution_count": 116,
     "metadata": {},
     "output_type": "execute_result"
    }
   ],
   "source": [
    "5*m + 2"
   ]
  },
  {
   "cell_type": "markdown",
   "metadata": {},
   "source": [
    "Constructores especiales:"
   ]
  },
  {
   "cell_type": "code",
   "execution_count": 117,
   "metadata": {},
   "outputs": [
    {
     "data": {
      "text/plain": [
       "array([[0., 0., 0.],\n",
       "       [0., 0., 0.]])"
      ]
     },
     "execution_count": 117,
     "metadata": {},
     "output_type": "execute_result"
    }
   ],
   "source": [
    "np.zeros([2,3])"
   ]
  },
  {
   "cell_type": "code",
   "execution_count": 118,
   "metadata": {},
   "outputs": [
    {
     "data": {
      "text/plain": [
       "array([1., 1., 1., 1.])"
      ]
     },
     "execution_count": 118,
     "metadata": {},
     "output_type": "execute_result"
    }
   ],
   "source": [
    "np.ones([4])"
   ]
  },
  {
   "cell_type": "code",
   "execution_count": 119,
   "metadata": {},
   "outputs": [
    {
     "data": {
      "text/plain": [
       "array([0. , 0.5, 1. , 1.5, 2. , 2.5, 3. , 3.5, 4. , 4.5, 5. ])"
      ]
     },
     "execution_count": 119,
     "metadata": {},
     "output_type": "execute_result"
    }
   ],
   "source": [
    "np.linspace(0,5,11)"
   ]
  },
  {
   "cell_type": "code",
   "execution_count": 120,
   "metadata": {},
   "outputs": [
    {
     "data": {
      "text/plain": [
       "array([0, 1, 2, 3, 4, 5, 6, 7, 8, 9])"
      ]
     },
     "execution_count": 120,
     "metadata": {},
     "output_type": "execute_result"
    }
   ],
   "source": [
    "np.arange(10)"
   ]
  },
  {
   "cell_type": "code",
   "execution_count": 121,
   "metadata": {},
   "outputs": [
    {
     "data": {
      "text/plain": [
       "array([1. , 1.5, 2. , 2.5, 3. , 3.5, 4. , 4.5, 5. , 5.5, 6. , 6.5, 7. ,\n",
       "       7.5, 8. , 8.5, 9. , 9.5])"
      ]
     },
     "execution_count": 121,
     "metadata": {},
     "output_type": "execute_result"
    }
   ],
   "source": [
    "np.arange(1,10,0.5)"
   ]
  },
  {
   "cell_type": "code",
   "execution_count": 122,
   "metadata": {},
   "outputs": [
    {
     "data": {
      "text/plain": [
       "array([[1., 0., 0., 0., 0., 0., 0.],\n",
       "       [0., 1., 0., 0., 0., 0., 0.],\n",
       "       [0., 0., 1., 0., 0., 0., 0.],\n",
       "       [0., 0., 0., 1., 0., 0., 0.],\n",
       "       [0., 0., 0., 0., 1., 0., 0.],\n",
       "       [0., 0., 0., 0., 0., 1., 0.],\n",
       "       [0., 0., 0., 0., 0., 0., 1.]])"
      ]
     },
     "execution_count": 122,
     "metadata": {},
     "output_type": "execute_result"
    }
   ],
   "source": [
    "np.eye(7)"
   ]
  },
  {
   "cell_type": "markdown",
   "metadata": {},
   "source": [
    "Iteración, a lo largo de la primera dimensión:"
   ]
  },
  {
   "cell_type": "code",
   "execution_count": 123,
   "metadata": {},
   "outputs": [
    {
     "name": "stdout",
     "output_type": "stream",
     "text": [
      "0\n",
      "1\n",
      "2\n",
      "3\n"
     ]
    }
   ],
   "source": [
    "for e in np.arange(4):\n",
    "    print(e)"
   ]
  },
  {
   "cell_type": "code",
   "execution_count": 124,
   "metadata": {},
   "outputs": [
    {
     "name": "stdout",
     "output_type": "stream",
     "text": [
      "[ 5  3  2 10]\n",
      "[2 0 7 0]\n",
      "[ 1  1 -3  6]\n"
     ]
    }
   ],
   "source": [
    "for e in m:\n",
    "    print(e)"
   ]
  },
  {
   "cell_type": "code",
   "execution_count": 125,
   "metadata": {},
   "outputs": [
    {
     "data": {
      "text/plain": [
       "array([ 8,  4,  6, 16])"
      ]
     },
     "execution_count": 125,
     "metadata": {},
     "output_type": "execute_result"
    }
   ],
   "source": [
    "sum(m)"
   ]
  },
  {
   "cell_type": "code",
   "execution_count": 126,
   "metadata": {},
   "outputs": [
    {
     "data": {
      "text/plain": [
       "array([20,  9,  5])"
      ]
     },
     "execution_count": 126,
     "metadata": {},
     "output_type": "execute_result"
    }
   ],
   "source": [
    "np.sum(m,axis=1)"
   ]
  },
  {
   "cell_type": "markdown",
   "metadata": {},
   "source": [
    "Operaciones matriciales:"
   ]
  },
  {
   "cell_type": "code",
   "execution_count": 127,
   "metadata": {},
   "outputs": [
    {
     "data": {
      "text/plain": [
       "array([[ 5,  2,  1],\n",
       "       [ 3,  0,  1],\n",
       "       [ 2,  7, -3],\n",
       "       [10,  0,  6]])"
      ]
     },
     "execution_count": 127,
     "metadata": {},
     "output_type": "execute_result"
    }
   ],
   "source": [
    "m.T"
   ]
  },
  {
   "cell_type": "code",
   "execution_count": 128,
   "metadata": {},
   "outputs": [],
   "source": [
    "v = np.array([3,2,-5,8])"
   ]
  },
  {
   "cell_type": "markdown",
   "metadata": {},
   "source": [
    "El producto de matrices, el producto escalar de vectores, y su generalización para arrays multidimensionales se expresa con el símbolo `@` (que representa a la función `dot`)."
   ]
  },
  {
   "cell_type": "code",
   "execution_count": 129,
   "metadata": {},
   "outputs": [
    {
     "data": {
      "text/plain": [
       "array([ 91, -29,  68])"
      ]
     },
     "execution_count": 129,
     "metadata": {},
     "output_type": "execute_result"
    }
   ],
   "source": [
    "m @ v"
   ]
  },
  {
   "cell_type": "code",
   "execution_count": 130,
   "metadata": {},
   "outputs": [
    {
     "data": {
      "text/plain": [
       "array([[ 50,  30,  20, 100],\n",
       "       [  0,   0,   0,   0],\n",
       "       [  1,   1,  -3,   6]])"
      ]
     },
     "execution_count": 130,
     "metadata": {},
     "output_type": "execute_result"
    }
   ],
   "source": [
    "np.diag([10,0,1]) @ m"
   ]
  },
  {
   "cell_type": "markdown",
   "metadata": {},
   "source": [
    "Las funciones matemáticas están optimizadas para operar con arrays elemento a elemento:"
   ]
  },
  {
   "cell_type": "code",
   "execution_count": 131,
   "metadata": {},
   "outputs": [
    {
     "data": {
      "text/plain": [
       "array([0.        , 0.21666156, 0.43332312, 0.64998469, 0.86664625,\n",
       "       1.08330781, 1.29996937, 1.51663094, 1.7332925 , 1.94995406,\n",
       "       2.16661562, 2.38327719, 2.59993875, 2.81660031, 3.03326187,\n",
       "       3.24992343, 3.466585  , 3.68324656, 3.89990812, 4.11656968,\n",
       "       4.33323125, 4.54989281, 4.76655437, 4.98321593, 5.1998775 ,\n",
       "       5.41653906, 5.63320062, 5.84986218, 6.06652374, 6.28318531])"
      ]
     },
     "execution_count": 131,
     "metadata": {},
     "output_type": "execute_result"
    }
   ],
   "source": [
    "x = np.linspace(0,2*np.pi,30)\n",
    "\n",
    "x"
   ]
  },
  {
   "cell_type": "code",
   "execution_count": 132,
   "metadata": {},
   "outputs": [
    {
     "data": {
      "text/plain": [
       "array([ 1.        ,  1.12254586,  1.06727539,  0.87270255,  0.60038006,\n",
       "        0.32232498,  0.10669282,  0.00439546,  0.03917335,  0.20298123,\n",
       "        0.45755084,  0.74183837,  0.9839623 ,  1.1153946 ,  1.08473957,\n",
       "        0.86850154,  0.47679154, -0.04714542, -0.63356055, -1.19782715,\n",
       "       -1.65497221, -1.93447969, -1.99267137, -1.82040717, -1.44469911,\n",
       "       -0.92394405, -0.33764588,  0.22749718,  0.69260498,  1.        ])"
      ]
     },
     "execution_count": 132,
     "metadata": {},
     "output_type": "execute_result"
    }
   ],
   "source": [
    "y = np.sin(x) + np.cos(2*x)\n",
    "y"
   ]
  },
  {
   "cell_type": "markdown",
   "metadata": {},
   "source": [
    "Reconfiguración de los elementos:"
   ]
  },
  {
   "cell_type": "code",
   "execution_count": 133,
   "metadata": {},
   "outputs": [
    {
     "data": {
      "text/plain": [
       "array([ 0,  1,  2,  3,  4,  5,  6,  7,  8,  9, 10, 11])"
      ]
     },
     "execution_count": 133,
     "metadata": {},
     "output_type": "execute_result"
    }
   ],
   "source": [
    "np.arange(12)"
   ]
  },
  {
   "cell_type": "code",
   "execution_count": 134,
   "metadata": {},
   "outputs": [
    {
     "data": {
      "text/plain": [
       "array([[[ 0,  1],\n",
       "        [ 2,  3]],\n",
       "\n",
       "       [[ 4,  5],\n",
       "        [ 6,  7]],\n",
       "\n",
       "       [[ 8,  9],\n",
       "        [10, 11]]])"
      ]
     },
     "execution_count": 134,
     "metadata": {},
     "output_type": "execute_result"
    }
   ],
   "source": [
    "np.arange(12).reshape(3,2,2)"
   ]
  },
  {
   "cell_type": "markdown",
   "metadata": {},
   "source": [
    "### matrices por bloques"
   ]
  },
  {
   "cell_type": "code",
   "execution_count": 135,
   "metadata": {
    "scrolled": true
   },
   "outputs": [
    {
     "data": {
      "text/plain": [
       "array([[  5,   3,   2,  10],\n",
       "       [  2,   0,   7,   0],\n",
       "       [  1,   1,  -3,   6],\n",
       "       [100, 200, 300, 400],\n",
       "       [  0,  10,   0,   1]])"
      ]
     },
     "execution_count": 135,
     "metadata": {},
     "output_type": "execute_result"
    }
   ],
   "source": [
    "np.append(m,[[100,200,300,400],\n",
    "             [0,  10,  0,  1] ],axis=0)"
   ]
  },
  {
   "cell_type": "code",
   "execution_count": 136,
   "metadata": {},
   "outputs": [
    {
     "data": {
      "text/plain": [
       "array([[0., 0., 0., 1., 1.],\n",
       "       [0., 0., 0., 1., 1.],\n",
       "       [0., 0., 0., 1., 1.]])"
      ]
     },
     "execution_count": 136,
     "metadata": {},
     "output_type": "execute_result"
    }
   ],
   "source": [
    "np.hstack([np.zeros([3,3]),np.ones([3,2])])"
   ]
  },
  {
   "cell_type": "code",
   "execution_count": 137,
   "metadata": {},
   "outputs": [
    {
     "data": {
      "text/plain": [
       "array([[1., 0., 0.],\n",
       "       [0., 1., 0.],\n",
       "       [0., 0., 1.],\n",
       "       [5., 5., 5.],\n",
       "       [5., 5., 5.]])"
      ]
     },
     "execution_count": 137,
     "metadata": {},
     "output_type": "execute_result"
    }
   ],
   "source": [
    "np.vstack([np.eye(3),5*np.ones([2,3])])"
   ]
  },
  {
   "cell_type": "markdown",
   "metadata": {},
   "source": [
    "numpy proporciona un tipo especial `matrix` para los arrays de 2 dimensiones pero [se recomienda no usarlo](https://stackoverflow.com/questions/4151128/what-are-the-differences-between-numpy-arrays-and-matrices-which-one-should-i-u) o usarlo con cuidado."
   ]
  },
  {
   "cell_type": "markdown",
   "metadata": {},
   "source": [
    "### automatic broadcasting"
   ]
  },
  {
   "cell_type": "markdown",
   "metadata": {},
   "source": [
    "Las operaciones elemento a elemento argumentos con las mismas dimensiones. Pero si alguna dimensión es igual a uno, se sobreentiende que los elementos se replican en esa dimensión para coincidir con el otro array."
   ]
  },
  {
   "cell_type": "code",
   "execution_count": 138,
   "metadata": {},
   "outputs": [],
   "source": [
    "m = np.array([[1, 2, 3, 4]\n",
    "             ,[5, 6, 7, 8]\n",
    "             ,[9,10,11,12]])"
   ]
  },
  {
   "cell_type": "code",
   "execution_count": 139,
   "metadata": {},
   "outputs": [
    {
     "data": {
      "text/plain": [
       "array([[11, 12, 13, 14],\n",
       "       [25, 26, 27, 28],\n",
       "       [39, 40, 41, 42]])"
      ]
     },
     "execution_count": 139,
     "metadata": {},
     "output_type": "execute_result"
    }
   ],
   "source": [
    "m + [[10],\n",
    "     [20],\n",
    "     [30]]"
   ]
  },
  {
   "cell_type": "code",
   "execution_count": 140,
   "metadata": {},
   "outputs": [
    {
     "data": {
      "text/plain": [
       "array([[101, 202, 303, 404],\n",
       "       [105, 206, 307, 408],\n",
       "       [109, 210, 311, 412]])"
      ]
     },
     "execution_count": 140,
     "metadata": {},
     "output_type": "execute_result"
    }
   ],
   "source": [
    "m + [100,200,300,400]"
   ]
  },
  {
   "cell_type": "code",
   "execution_count": 141,
   "metadata": {},
   "outputs": [
    {
     "data": {
      "text/plain": [
       "array([[101, 102, 103, 104],\n",
       "       [201, 202, 203, 204],\n",
       "       [301, 302, 303, 304]])"
      ]
     },
     "execution_count": 141,
     "metadata": {},
     "output_type": "execute_result"
    }
   ],
   "source": [
    "np.array([[1,2,3,4]])   + np.array([[100],\n",
    "                                    [200],\n",
    "                                    [300]])"
   ]
  },
  {
   "cell_type": "markdown",
   "metadata": {},
   "source": [
    "### slices\n",
    "\n",
    "Extracción de elementos y \"submatrices\" o \"subarrays\", seleccionando intervalos de filas, columnas, etc.:"
   ]
  },
  {
   "cell_type": "code",
   "execution_count": 142,
   "metadata": {},
   "outputs": [
    {
     "data": {
      "text/plain": [
       "array([[ 0,  1,  2,  3,  4,  5,  6],\n",
       "       [ 7,  8,  9, 10, 11, 12, 13],\n",
       "       [14, 15, 16, 17, 18, 19, 20],\n",
       "       [21, 22, 23, 24, 25, 26, 27],\n",
       "       [28, 29, 30, 31, 32, 33, 34],\n",
       "       [35, 36, 37, 38, 39, 40, 41]])"
      ]
     },
     "execution_count": 142,
     "metadata": {},
     "output_type": "execute_result"
    }
   ],
   "source": [
    "m = np.arange(42).reshape(6,7)\n",
    "m"
   ]
  },
  {
   "cell_type": "code",
   "execution_count": 143,
   "metadata": {},
   "outputs": [
    {
     "data": {
      "text/plain": [
       "9"
      ]
     },
     "execution_count": 143,
     "metadata": {},
     "output_type": "execute_result"
    }
   ],
   "source": [
    "m[1,2]"
   ]
  },
  {
   "cell_type": "code",
   "execution_count": 144,
   "metadata": {},
   "outputs": [
    {
     "data": {
      "text/plain": [
       "array([[15, 16, 17],\n",
       "       [22, 23, 24],\n",
       "       [29, 30, 31]])"
      ]
     },
     "execution_count": 144,
     "metadata": {},
     "output_type": "execute_result"
    }
   ],
   "source": [
    "m[2:5,1:4]"
   ]
  },
  {
   "cell_type": "code",
   "execution_count": 145,
   "metadata": {},
   "outputs": [
    {
     "data": {
      "text/plain": [
       "array([[ 4,  5,  6],\n",
       "       [11, 12, 13],\n",
       "       [18, 19, 20]])"
      ]
     },
     "execution_count": 145,
     "metadata": {},
     "output_type": "execute_result"
    }
   ],
   "source": [
    "m[:3, 4:]"
   ]
  },
  {
   "cell_type": "code",
   "execution_count": 146,
   "metadata": {},
   "outputs": [
    {
     "data": {
      "text/plain": [
       "array([[ 7,  8,  9, 10, 11, 12, 13],\n",
       "       [ 0,  1,  2,  3,  4,  5,  6],\n",
       "       [ 0,  1,  2,  3,  4,  5,  6],\n",
       "       [14, 15, 16, 17, 18, 19, 20],\n",
       "       [ 7,  8,  9, 10, 11, 12, 13]])"
      ]
     },
     "execution_count": 146,
     "metadata": {},
     "output_type": "execute_result"
    }
   ],
   "source": [
    "m[[1,0,0,2,1],:]"
   ]
  },
  {
   "cell_type": "markdown",
   "metadata": {},
   "source": [
    "Los índices negativos indican que se empieza a contar desde el final."
   ]
  },
  {
   "cell_type": "code",
   "execution_count": 147,
   "metadata": {},
   "outputs": [
    {
     "data": {
      "text/plain": [
       "array([[ 5,  6],\n",
       "       [12, 13],\n",
       "       [19, 20]])"
      ]
     },
     "execution_count": 147,
     "metadata": {},
     "output_type": "execute_result"
    }
   ],
   "source": [
    "# las dos últimas columnas y todas las filas menos las tres últimas.\n",
    "m[:-3,-2:]"
   ]
  },
  {
   "cell_type": "code",
   "execution_count": 148,
   "metadata": {},
   "outputs": [
    {
     "data": {
      "text/plain": [
       "array([ 5, 12, 19, 26, 33, 40])"
      ]
     },
     "execution_count": 148,
     "metadata": {},
     "output_type": "execute_result"
    }
   ],
   "source": [
    "# la penúltima columna\n",
    "m[:,-2]"
   ]
  },
  {
   "cell_type": "code",
   "execution_count": 149,
   "metadata": {},
   "outputs": [
    {
     "data": {
      "text/plain": [
       "array([[ 5],\n",
       "       [12],\n",
       "       [19],\n",
       "       [26],\n",
       "       [33],\n",
       "       [40]])"
      ]
     },
     "execution_count": 149,
     "metadata": {},
     "output_type": "execute_result"
    }
   ],
   "source": [
    "# la penúltima columna pero como array 2D (matriz), para que se vea como un vector columna\n",
    "m[:,[-2]]"
   ]
  },
  {
   "cell_type": "markdown",
   "metadata": {},
   "source": [
    "### masks"
   ]
  },
  {
   "cell_type": "markdown",
   "metadata": {},
   "source": [
    "Extracción de elementos que cumplen una condición:"
   ]
  },
  {
   "cell_type": "code",
   "execution_count": 150,
   "metadata": {},
   "outputs": [
    {
     "data": {
      "text/plain": [
       "array([0, 1, 2, 3, 4, 5, 6, 7, 8, 9])"
      ]
     },
     "execution_count": 150,
     "metadata": {},
     "output_type": "execute_result"
    }
   ],
   "source": [
    "n = np.arange(10)\n",
    "\n",
    "n"
   ]
  },
  {
   "cell_type": "code",
   "execution_count": 151,
   "metadata": {},
   "outputs": [
    {
     "data": {
      "text/plain": [
       "array([ True,  True,  True,  True,  True, False, False, False, False,\n",
       "       False])"
      ]
     },
     "execution_count": 151,
     "metadata": {},
     "output_type": "execute_result"
    }
   ],
   "source": [
    "n < 5"
   ]
  },
  {
   "cell_type": "code",
   "execution_count": 152,
   "metadata": {},
   "outputs": [
    {
     "data": {
      "text/plain": [
       "array([0, 1, 2, 3, 4])"
      ]
     },
     "execution_count": 152,
     "metadata": {},
     "output_type": "execute_result"
    }
   ],
   "source": [
    "n[n<5]"
   ]
  },
  {
   "cell_type": "code",
   "execution_count": 153,
   "metadata": {},
   "outputs": [
    {
     "data": {
      "text/plain": [
       "array([121, 144])"
      ]
     },
     "execution_count": 153,
     "metadata": {},
     "output_type": "execute_result"
    }
   ],
   "source": [
    "k = np.arange(1,101)\n",
    "\n",
    "(k ** 2)[(k>10) & (k**3 < 2000)]"
   ]
  },
  {
   "cell_type": "markdown",
   "metadata": {},
   "source": [
    "### I/O"
   ]
  },
  {
   "cell_type": "markdown",
   "metadata": {},
   "source": [
    "La función `np.loadtxt` permite cargar los datos de los arrays a partir de ficheros de texto. También es posible guardar y recuperar arrays en formato binario."
   ]
  },
  {
   "cell_type": "markdown",
   "metadata": {},
   "source": [
    "## gráficas"
   ]
  },
  {
   "cell_type": "markdown",
   "metadata": {},
   "source": [
    "Uno de los paquetes gráficos más conocidos es `matplotlib`, que puede utilizarse con un interfaz muy parecido al de Matlab/Octave."
   ]
  },
  {
   "cell_type": "code",
   "execution_count": 154,
   "metadata": {},
   "outputs": [],
   "source": [
    "import numpy as np\n",
    "import matplotlib.pyplot as plt\n",
    "\n",
    "# para insertar los gráficos en el notebook\n",
    "%matplotlib inline\n",
    "\n",
    "# para generar ventanas independientes\n",
    "# %matplotlib qt\n",
    "# %matplotib  tk"
   ]
  },
  {
   "cell_type": "code",
   "execution_count": 155,
   "metadata": {},
   "outputs": [],
   "source": [
    "x=np.linspace(0,2*np.pi,200)"
   ]
  },
  {
   "cell_type": "code",
   "execution_count": 156,
   "metadata": {},
   "outputs": [
    {
     "data": {
      "text/plain": [
       "[<matplotlib.lines.Line2D at 0x7f340bd7d668>]"
      ]
     },
     "execution_count": 156,
     "metadata": {},
     "output_type": "execute_result"
    },
    {
     "data": {
      "image/png": "[encoded data removed]",
      "text/plain": [
       "<matplotlib.figure.Figure at 0x7f341a6c5be0>"
      ]
     },
     "metadata": {},
     "output_type": "display_data"
    }
   ],
   "source": [
    "plt.plot(np.sin(x))"
   ]
  },
  {
   "cell_type": "code",
   "execution_count": 157,
   "metadata": {},
   "outputs": [
    {
     "data": {
      "image/png": "[encoded data removed]",
      "text/plain": [
       "<matplotlib.figure.Figure at 0x7f340bddc518>"
      ]
     },
     "metadata": {},
     "output_type": "display_data"
    }
   ],
   "source": [
    "plt.plot(np.cos(x),np.sin(x)); plt.axis('equal');"
   ]
  },
  {
   "cell_type": "code",
   "execution_count": 158,
   "metadata": {},
   "outputs": [
    {
     "data": {
      "image/png": "[encoded data removed]",
      "text/plain": [
       "<matplotlib.figure.Figure at 0x7f3419f3b668>"
      ]
     },
     "metadata": {},
     "output_type": "display_data"
    }
   ],
   "source": [
    "plt.plot(x,np.sin(x), x,np.cos(x));"
   ]
  },
  {
   "cell_type": "code",
   "execution_count": 159,
   "metadata": {
    "scrolled": true
   },
   "outputs": [
    {
     "data": {
      "image/png": "[encoded data removed]",
      "text/plain": [
       "<matplotlib.figure.Figure at 0x7f340bca84a8>"
      ]
     },
     "metadata": {},
     "output_type": "display_data"
    }
   ],
   "source": [
    "plt.plot(x,np.sin(x),color='red')\n",
    "plt.plot(x,np.sin(2*x),color='black')\n",
    "plt.plot([1,2.5],[-0.5,0],'.',markerSize=15);\n",
    "plt.legend(['hola','fun','puntos']);\n",
    "plt.xlabel('x'); plt.ylabel('y'); plt.title('bonito plot'); plt.axis('tight');"
   ]
  },
  {
   "cell_type": "markdown",
   "metadata": {},
   "source": [
    "El gráfico se puede exportar en el formato deseado:"
   ]
  },
  {
   "cell_type": "code",
   "execution_count": null,
   "metadata": {},
   "outputs": [],
   "source": [
    "# plt.savefig('result.pdf')  # o .svg, .png, .jpg, etc."
   ]
  },
  {
   "cell_type": "code",
   "execution_count": 160,
   "metadata": {},
   "outputs": [
    {
     "data": {
      "image/png": "[encoded data removed]",
      "text/plain": [
       "<matplotlib.figure.Figure at 0x7f340bce8080>"
      ]
     },
     "metadata": {},
     "output_type": "display_data"
    }
   ],
   "source": [
    "plt.plot(x,np.exp(x)); plt.axis([0,3,-1,5]);"
   ]
  },
  {
   "cell_type": "code",
   "execution_count": 161,
   "metadata": {},
   "outputs": [
    {
     "data": {
      "image/png": "[encoded data removed]",
      "text/plain": [
       "<matplotlib.figure.Figure at 0x7f340bbc7dd8>"
      ]
     },
     "metadata": {},
     "output_type": "display_data"
    }
   ],
   "source": [
    "for k in [1,2,3]:\n",
    "    plt.plot(x,np.sin(k*x))\n",
    "plt.grid()"
   ]
  },
  {
   "cell_type": "code",
   "execution_count": 162,
   "metadata": {},
   "outputs": [
    {
     "data": {
      "image/png": "[encoded data removed]",
      "text/plain": [
       "<matplotlib.figure.Figure at 0x7f340bb32cc0>"
      ]
     },
     "metadata": {},
     "output_type": "display_data"
    }
   ],
   "source": [
    "def espiral(n):\n",
    "    t = np.linspace(0,n*2*np.pi,1000)\n",
    "    r = 3 * t\n",
    "    x = r * np.cos(t)\n",
    "    y = r * np.sin(t)\n",
    "    plt.plot(x,y)\n",
    "    plt.axis('equal')\n",
    "    plt.axis('off')\n",
    "\n",
    "espiral(4)"
   ]
  },
  {
   "cell_type": "code",
   "execution_count": 163,
   "metadata": {},
   "outputs": [],
   "source": [
    "import numpy.random as rnd\n",
    "\n",
    "def randwalk(n,s):\n",
    "    p = s*rnd.randn(n,2)\n",
    "    r = np.cumsum(p,axis=0)\n",
    "    x = r[:,0]\n",
    "    y = r[:,1]\n",
    "    plt.plot(x,y)\n",
    "    plt.axis('equal');"
   ]
  },
  {
   "cell_type": "code",
   "execution_count": 164,
   "metadata": {},
   "outputs": [
    {
     "data": {
      "image/png": "[encoded data removed]",
      "text/plain": [
       "<matplotlib.figure.Figure at 0x7f340baebeb8>"
      ]
     },
     "metadata": {},
     "output_type": "display_data"
    }
   ],
   "source": [
    "plt.figure(figsize=(4,4))\n",
    "randwalk(1000,1)"
   ]
  },
  {
   "cell_type": "code",
   "execution_count": 165,
   "metadata": {},
   "outputs": [
    {
     "data": {
      "image/png": "[encoded data removed]",
      "text/plain": [
       "<matplotlib.figure.Figure at 0x7f340ba43e10>"
      ]
     },
     "metadata": {},
     "output_type": "display_data"
    }
   ],
   "source": [
    "plt.figure(figsize=(8,8))\n",
    "x = np.linspace(0,6*np.pi,100);\n",
    "\n",
    "plt.subplot(2,2,1)\n",
    "plt.plot(x,np.sin(x),'r')\n",
    "\n",
    "plt.subplot(2,2,2)\n",
    "plt.plot(x,np.cos(x))\n",
    "\n",
    "plt.subplot(2,2,3)\n",
    "plt.plot(x,np.sin(2*x))\n",
    "\n",
    "plt.subplot(2,2,4)\n",
    "plt.plot(x,np.cos(2*x),'g');"
   ]
  },
  {
   "cell_type": "code",
   "execution_count": 166,
   "metadata": {},
   "outputs": [],
   "source": [
    "x,y = np.mgrid[-3:3:0.2,-3:3:0.2]\n",
    "\n",
    "z = x**2-y**2-1"
   ]
  },
  {
   "cell_type": "code",
   "execution_count": 167,
   "metadata": {},
   "outputs": [
    {
     "data": {
      "image/png": "[encoded data removed]",
      "text/plain": [
       "<matplotlib.figure.Figure at 0x7f340bda65c0>"
      ]
     },
     "metadata": {},
     "output_type": "display_data"
    }
   ],
   "source": [
    "from mpl_toolkits.mplot3d import Axes3D\n",
    "from matplotlib import cm\n",
    "\n",
    "fig = plt.figure(figsize=(8,6))\n",
    "ax = fig.add_subplot(111, projection='3d')\n",
    "\n",
    "ax.plot_surface(x,y,x**2-y**2, cmap=cm.coolwarm, linewidth=0.5, rstride=2, cstride=2);"
   ]
  },
  {
   "cell_type": "code",
   "execution_count": 168,
   "metadata": {},
   "outputs": [
    {
     "data": {
      "image/png": "[encoded data removed]",
      "text/plain": [
       "<matplotlib.figure.Figure at 0x7f340ba99f28>"
      ]
     },
     "metadata": {},
     "output_type": "display_data"
    }
   ],
   "source": [
    "plt.figure(figsize=(6,6))\n",
    "plt.contour(x,y, z , colors=['k']);\n",
    "plt.axis('equal');"
   ]
  },
  {
   "cell_type": "markdown",
   "metadata": {},
   "source": [
    "### animaciones"
   ]
  },
  {
   "cell_type": "code",
   "execution_count": 169,
   "metadata": {},
   "outputs": [],
   "source": [
    "# si se produce un error:\n",
    "# conda install -c menpo ffmpeg\n",
    "\n",
    "from matplotlib import animation, rc\n",
    "from IPython.display import HTML\n",
    "rc('animation', html='html5')"
   ]
  },
  {
   "cell_type": "code",
   "execution_count": 170,
   "metadata": {},
   "outputs": [],
   "source": [
    "x = np.linspace(0,2,100)\n",
    "\n",
    "def wave(lam,freq,x,t):\n",
    "    return 1*np.sin(2*np.pi*(x/lam - t*freq))"
   ]
  },
  {
   "cell_type": "code",
   "execution_count": 171,
   "metadata": {},
   "outputs": [
    {
     "data": {
      "text/html": [
       "<video width=\"432\" height=\"288\" controls autoplay loop>\n",
       "  <source type=\"video/mp4\" src=\"data:video/mp4;base64,AAAAHGZ0eXBNNFYgAAACAGlzb21pc28yYXZjMQAAAAhmcmVlAAEmFW1kYXQAAAKtBgX//6ncRem9\n",
       "5tlIt5Ys2CDZI+7veDI2NCAtIGNvcmUgMTQ4IHIyNzYgM2Y1ZWQ1NiAtIEguMjY0L01QRUctNCBB\n",
       "VkMgY29kZWMgLSBDb3B5bGVmdCAyMDAzLTIwMTYgLSBodHRwOi8vd3d3LnZpZGVvbGFuLm9yZy94\n",
       "MjY0Lmh0bWwgLSBvcHRpb25zOiBjYWJhYz0xIHJlZj0zIGRlYmxvY2s9MTowOjAgYW5hbHlzZT0w\n",
       "eDM6MHgxMTMgbWU9aGV4IHN1Ym1lPTcgcHN5PTEgcHN5X3JkPTEuMDA6MC4wMCBtaXhlZF9yZWY9\n",
       "MSBtZV9yYW5nZT0xNiBjaHJvbWFfbWU9MSB0cmVsbGlzPTEgOHg4ZGN0PTEgY3FtPTAgZGVhZHpv\n",
       "bmU9MjEsMTEgZmFzdF9wc2tpcD0xIGNocm9tYV9xcF9vZmZzZXQ9LTIgdGhyZWFkcz0zIGxvb2th\n",
       "aGVhZF90aHJlYWRzPTEgc2xpY2VkX3RocmVhZHM9MCBucj0wIGRlY2ltYXRlPTEgaW50ZXJsYWNl\n",
       "ZD0wIGJsdXJheV9jb21wYXQ9MCBjb25zdHJhaW5lZF9pbnRyYT0wIGJmcmFtZXM9MyBiX3B5cmFt\n",
       "aWQ9MiBiX2FkYXB0PTEgYl9iaWFzPTAgZGlyZWN0PTEgd2VpZ2h0Yj0xIG9wZW5fZ29wPTAgd2Vp\n",
       "Z2h0cD0yIGtleWludD0yNTAga2V5aW50X21pbj0yNSBzY2VuZWN1dD00MCBpbnRyYV9yZWZyZXNo\n",
       "PTAgcmNfbG9va2FoZWFkPTQwIHJjPWNyZiBtYnRyZWU9MSBjcmY9MjMuMCBxY29tcD0wLjYwIHFw\n",
       "bWluPTAgcXBtYXg9NjkgcXBzdGVwPTQgaXBfcmF0aW89MS40MCBhcT0xOjEuMDAAgAAAJFZliIQA\n",
       "N//+9vD+BTY7mNCXEc3onTMfvxW4ujQ3vc4AAAMAADfc5kT+ypMSZd+xtXQZgGsjqK1Bn7CD2i35\n",
       "43fBG1IHnr+eXQvHK4Fhk9YZzgp9TGf0fDdLYmWdYa1PM4l0UGYV5ULHYPLe/SnmvreDJ7Rkfplv\n",
       "lyGS2HPkQs9uCeAiVgmU+vqYGxfe2cAJxxuRt768qDl4eR3A2LN/XvOY9wVDSdHpNlbIEimzuiDt\n",
       "eU5WH9dJmNOwG/MII9snGX93hBgAW14hED82gwuQer3C8aJC5b6xzaVDxlIZjHn5nV2oymW6C297\n",
       "lznxjaTi5yJgE73GXTpVuMiEL+caIzqeGVA3UpnIJRfShIG1X7+o0v9z097PoYpg27ehCgSmERB2\n",
       "R9s6PviBBYGsoSy4noUswbVC+oyYLH77WEDUpd+AYDL+LTmefwxLGnLtOZap68kzx/Qpo0P9uSW/\n",
       "ZFibSWwJOSnehuhIfz08V+qkG5F6WyhuvxgMWH8l0Ie/9ReVJwL6wYbPTwkO6V4av+1Z31ef1tJU\n",
       "uqNFNnY4S3vZhAx7F5+lzgFkHKR7kbTO0zoY0wUA/HdGIbczZjzmBUT3Q6upm++Uk7MafwJGgkoc\n",
       "WQZQpqxt8xagI+5QBaEBAiRz6dPThdaPCqTa2GUz3jrSldkp6sw95+ksMyPlXjNRxqCf05zbrDwg\n",
       "4W857emkuWWNxvW8YwVCAWALWxeznfgc/WA/Kl1LkPTq+1o8cHdNESCAPUMMrddejFBHRXVuWojU\n",
       "MeUffWEO1fVMt5WPsG/zgAC7u28JxG5aKcWcSYiGYgmfjgbnBfk7vH0sACEvN3kmBFDPJNqAr97K\n",
       "pdu4YUWp5f19CTrBF8/ayVfHsROnqDHlH/SxTRvjq0Zo++YBlfp5y5e41f/hg5VEVoRkUWQzOHL6\n",
       "zoUg3/8v13lyDCr3zd31KP9XVd+ZXhru9TpzY3ZqmjsrB0lK3zOetJHvbPU9WQZn3V5x9U2le7+N\n",
       "W18nTFoFcUB6DCKD2mAcuDOdnWojN2OPxL0usAbJLOIa1/zWRz3WGlol21qq5EEKLMqV+kynHDGO\n",
       "73Q5C47c8WbWWvbYS9aKgHATphACwzCHvqKXaBhvmGd0L0ucw6qASxAyv3w+1X73Q2dME/+jvFgl\n",
       "LzpBlewRyWxMH0J2VIFUb0VoKkDfPfl9CMZo0IrMN7ghWtXW8rF/8wsWdcOqaRmKFhtWw1Wk903h\n",
       "SYi98fZyqHmCYd08lzkjsxQV+Moc1ao/5ZsPEvMyv6XyjY3imaYwWGhbf0LJvb52YyL4T43QtazU\n",
       "d20k9wx4uE1EFB1Skv4HVWxSve3qWmHvBO5BLcw/4wvQc5vRgHMKo0hYErmMTlmzXrKU/+0FaZLM\n",
       "QksL7U/scMyL5TDCXCCtPH4aFIxCXMmqNYeblGo4+e0h3FOimWz+Np5mVA4/PD6zi1bOW18eZYF3\n",
       "XogfUbcqJUIiy3BfpK+M4b5ce5DWK5xTQG65refVT8Ylw0woPUsasSOzCIzY4ZISvKUF7ntd72zS\n",
       "FJxWX/+jag6faH4U2VPm3Okm9R0MZpa1+F/Yo+Nmcp+rlnmNy1C2vpLYfJTHBmX6auQg3vp2aZlf\n",
       "xBzOQazKHGOnZw04qtpiGleYjhQYKWWbkNvS5pfmbxyNISUmur/gidL0LIuk3csesgx1XkCexg8f\n",
       "Oa8DLw6pCcYxe3mgAr03H9pyxXIZ4cVfZC/odqmQBuHv03klRphDvX4ITiShp9y1jNxH7IBdKXZC\n",
       "sRLGgkZEubs0SYBUCQRLiqcMJq+NCcb6IQ+0dn+tc/maOcMN+xyqXfmHjFg3yyjeCClBiBCa0c1v\n",
       "+O9znZ72Uu1QK7xorOnsMH0qlWRyTVzRPynaYR4K3kTE0hiCIHaWo9x8nfvfuLzeE9jNJJ3Bd/nx\n",
       "R1PgNw6TB1uWVTd4DqFJXbRhpmGc6dbeLDCSYo00auTw3m+RjMKCvJfQz1WNMr4JEJl8x1ypEvlK\n",
       "e7EulLlPEwsB6Szf3YPn/FLwLrZiUGXhcfyCxdwPgAt+M7F3wfdM+0qgeqRbL3Kl75yqh4YnFjjt\n",
       "w62O4fEK5NSCbdyLOkqs3I9BEn/yCl4AF3+LeZT1yMxzhmaHTKbO68Cjv5wVI3Ns0ZxonPRb12Ko\n",
       "hQ/Q+j+g7pet1bWiOJIxUJE2lO5MCkJzUnph20GGTMLMUvwbmGecfRC2G0W5HDg36YomgfziaCeh\n",
       "F2muL7RK4dpg8gly8A0NOJHT9ukytFIzaBctZdbfnz3cvrkZwnRReBSx/Tr3p2Bm9zqb4z+mJHX4\n",
       "z6O1mf2ZBAOK95agrvjon14JlbnOh+rT56sd20guGoSCMMODsGrZ5wZzX2f5Ff+bFpW//nq9ukJJ\n",
       "2KGFVm2WI16SYpkke/LH/uZ6ccaVTps1rEZ1TiuVAN0JmcQBN9/GkEzhpi9/pAGzkiQlvxR2+7xA\n",
       "+qdj8iofxTb3ZiZoSwb5rgWzOpp6otmIHGxCBdtQwd5tnNlfs/f3aahoMWQuxls+Lrw4wM9KI+m/\n",
       "GEU2OS3S4vK6ibFdmhRbiWU1xiiYa/rtwAkIgvQm00JiTsThQ/hGMZ+ZmMC+d2DeTMgQACFukEEZ\n",
       "LJwriGZTtJsMnr4xbc3rmgodpbyXVmhywzxLl1AeFI0G1LZ5VkZhBhk4uadJKcBWaGTypRnXRXBV\n",
       "razpcZXdsXfiJypwXe7nn9HGIuLQKAZCNQXylz0GK4H0HCtOsAaKlYlsI82Fmpwv3HugHcp30F0X\n",
       "oqGIm7oQShZtQ83JS861/LL//lFVAYmavHBUC4OMy2ErXBuMn49DZu20S5MUd+dcnngA1FaIE3Vl\n",
       "Hk/EK5yOCpaWp5Q2d+hKD6ipVH+qKhZ6Rvpu9TXkxJQl20yxXFsKLjVNZ3A6v9v11AcDCr7rO6Vv\n",
       "tqoH8/Y3fjhkVv3DvfPYAd43fYOeU1Bk3KQq0qvY8zTn2IBDuwj2OCE7gBNKyxAFvClwyR7vKJ0Z\n",
       "tp2vlO+YMaUoWPjNTmrZ6zF1TebKR3CuhkR6TJNiZzYOz4OPC5hoTaLC4gamPhHjKTRyAvCgVSpp\n",
       "mDqn3kXbv5KnIisO1bWHqs6S+T79VpN0HPZvCSMvKkPY+rWzH7jmWepg8mJHml9JE87XVdk7hfzv\n",
       "zHyTHoAyoVSKjMfmgE/TVDYKRwzhlGYy9SKvY2t80CgRGLaAsmTUnEjVqbAADMgRvLjmy4mz9uhF\n",
       "ghWwOHqq2QvSzrYhzfSdR2qIlMYK/fQ5iwzC34JkgboukQVQT98+5az5qnEfD/3/Rnnqyv4v8lU/\n",
       "5RcltLlVJQHQwpwrlC+p6jCaPgJ6HpvNqamNu0x5HNHDtylw/Jzry3navqA/P105O7mD2leNxhrE\n",
       "IXS0mP8II5u0ainb/nvnA9DA2krNcj5gk3oPLDbb251P9LVxpDYd3WkiRiqWtEC4hYSTohlYytYa\n",
       "N8Yy1JJvDRWfxjKqkS/S8f//knPbZaAGQeW/CgiUMuvPkeTvMtD7ChF198U04E8+TDFK5WzQ+8Je\n",
       "NdeiRgjQOe6Ogs8+UDJEE6D09tNWkAYjEgup8EqlahQuyCnP0pxyoRhWRjZkr8J0XCHKKFzid3qr\n",
       "1P8oMt6sOTntjr7cvGOqIo6iLrgdmD32GSu8H7TgVZgO8QainobEVPxALcOQl8lmgYDcHoRX9jh6\n",
       "aEdaUNgmTmMjVkHZ9Gg3uKB5xYeCN73R+nwAEot81nJ4E+EgUabpgH+6T3p7hGfIDHGtUnF1rDnJ\n",
       "8ZsXHJKtfGcKus1hs49xiXnk/8CFgfyf2J4ZiNsCmfiFRZuzLyhD/8x67PrxyZH+xjvVMp3bRoi6\n",
       "CfF6pB/hYxxIsbUGAnJUHWeTRF0Nl1fuv8skMfBS4WeyFrllWq0My7WMU5RuUIqJoPT9b9VxpClL\n",
       "DQw4rFH0ncFt9X0ju0iKL71WDL0zL1+L/+5LJ7AwUUs//qR4TfJBPCem6j3UTAyYkb2T45rc5cTx\n",
       "9EdFg8kw1DksnqsDwILVdE34CsROlkcPW4R+JxctcOQ/83faMsHs81P/iKaqSkB4jaSOp6g3E3As\n",
       "R5fOzJyXMlmbNpl5LvLEa0lEBp8glXT8hQD71RfGYlhpl2+UqBzHYQvVlA9IgSkINvgVQxNgb68P\n",
       "9OTiiYw82SZQwKs597CBBVKp8W7TWRA5A1vLFhCzmAU0zFCZBFvPG8oGl9teil83Pk/Q/Hnia2sf\n",
       "8IhFvWBiUct0PJH3uTfdfBFKIiAKBEltl35oO6v6yTaA/5QlfksL7bZoNwkM0RtwxsSl528c86Ui\n",
       "a0oYEDJq/g2K3DOWatcbnt8pCpaovspA+0914sgAdhFtlfgnkHc5h3M8JtIQzOH9fvpCyxNT2ch2\n",
       "cjHdlSCUGbo8ZZGSbiL5fxfJfkqvOtz1Xl8eCzRBVNkqHu5wyeRN/fUxyIGqFqz0M3fhQrfDgXfW\n",
       "qIgamFCm1k2GRK5UZJWzMdvausW8AXk0qy/KNQ2BJLsP4QIu71Z0LE3nEeY/M/wVShC57LFs5DCk\n",
       "vDnX7bpfKSg2sgtYEbgGazgIxsHAseRLT8nfO38hLRm6GpnYewq42SLugazxmeXWh8imm+X4ZU2n\n",
       "pXo0gm4pvAOtYBPdxeVSML8NDs2fjSXaAQjMJN9UyoT1qcWicJiM21cj2rW8DKCXUt1DV6RjMN95\n",
       "D7NeLas+nluo9ruWnJhBPAoIglbfowdokbgRGNOa/WWzj+etUShzRd5GbSMICPyPRcrftS7pj617\n",
       "wi56bS+vhGKOSHF9gdjzKnqt9P/7iB1TtKGcNERSnx5hMRCKClc7Cvlcw+KlYiVEln1eY72xCRtc\n",
       "uXemGIb4E2sdLEbkJoz/hxpT3CseDbB+VSnt//Uf3TUX/n4eIZtfJjmGJfgErSFH2jhw5ClEdR8i\n",
       "Pju2ESYOp/vCrIVcfOpL6XXEDoaMfEeIWL/Uo5WsJwM5ojgvvC8l2/RA/UZN3ABkbiSV7DaUjstp\n",
       "ukGD2juTzvZcrgTPuu/Z0/qd37kEJpoi7BVs08dclu9Yews1p3levYe90mgDgIBu4P5zDvC3pLPJ\n",
       "qBcSeQmbT46U5wLb//tgpjdi5PhHymVCP3xWH/KXrMsQpCsUvdFfcrFrPAxD7iCBMzCJyPOkkmiK\n",
       "knYT9MLshjtM/A6+Q6khSct/2xXytWLZWzdra3Fn46jnxVFtk/dzLRm+IokAPPph3J2SUQKWILdQ\n",
       "Sfd7igq7CPjvC6LiaZ1eHOENGINW49dWTYL1yC57XrjQ1s6wDjs5J0JO+RvPQdGrlUFG1I4Oejjo\n",
       "8g1qpF+7xazR49LBh8gH3fmCt8my3qZPDWbuoSCYQB87Ip+GSUg9eAIzHDFcfg+z++TJGjNrKzTw\n",
       "3HMMK76ONxYVg3avKHrYxam4UW8c1mp7xOQ2AHZGiWVaTmYELOBHp++ipmHEQFHCs60uo1vmFiCT\n",
       "Az5qN8diwpNpq8sS9CWGTrwXMTRW+6P/4xVpr2tzgR4napZrSStlzMs+LytALCxfPGHUAvSdGl2F\n",
       "jxu7Iab+8HvLZQLeJQXhF/hFpw53lHD+b7kq1Qh7meg/O2CtigI5u2dxR423tAaK+bu+28H6g82w\n",
       "UyvbWu8TLJpWlXAXzsHuMJGyjQdBC4lOnHLoBLZqhecyY9TF8yv5Pc/xulFPZ1cdWsWMdoXsF6Le\n",
       "+c3a/xNU/FDrR9hxWUJHzx6x8kWY3ip6G1NEzydcyR2Pr1zmS8KSI1T3QuaH3UtTfhbzRMeRaLFk\n",
       "9ibwrWj/tyDvHYxAWjKjdfLYP9JJVipV7AIXNk39RsAgxn7uTrP9JFKcPibF5+SOwM9qmsSluur6\n",
       "x5/AAVoYeLTwlfPyMCTdwScu8U66q1okC+2FjyUxxnTMoIKeyCePcZXoZOmvKycO4S/ggAi7YBrQ\n",
       "RNXLm47WET/A9yYUDs+T1XkHSzWN2yOoYHMUnJfLwd1hXkdKbqqzrGk+N5FbmbKfdN4IaV4+tO8h\n",
       "N3ZLH4MXMfBwp8vpbcYdMpfHLQ7Y6LIjfb0dtMM30SZn6X2Tf0ybBy2ogLFXjrn/dp0ik5DyY+Lr\n",
       "uU4VJ90/PQH+hu/0xEk4GVxQUEqgvTOHr7/Y4PL0s2W29ZgQG6p+U58rPyeZk1YcsY3Jnc7Rgu2R\n",
       "siovHpHgtUlxeqXLoGDOsMCLnyj/WxJL7YEfdINY2KuH1n+l3fXLSvr1h29K3zLCZeQw2Hnw7uUO\n",
       "yY3MRlNAS56CW0T5aBI9A1BZfs4shbvk4xFuNu1iQc4o4XLH5efype1sQcwD9Uu3NnYzpY2ykIuo\n",
       "HRqQZqiZ45P9t5pQJ79OViL0uCwh9JzThfluY1QZgOV8ZSQrziFuin+jG17kcKtmDNveK1lczE1N\n",
       "PQXK4kyJmTaPaimAfg04wlQDViFb/jCIgyVWeTwBW+lApmxST5IsTTTUMrH3m66cRZ4S3CNVQEJu\n",
       "cn4g8aydqInO+pdgSx/nTXgSGpuiuN9RajIjbkMvSyBZ0qlB6TNhlNG7g731Ygdjg0dada8mLLQU\n",
       "DajyZSbptcqseVab8ZE2XhhYFbBHm+wsSbCCkzMm+eXlDISHldHw0bOI/pUfLvRFJo6ixeQMQ5YW\n",
       "ly8GEACz7xuJOLh0xqCjHN4Bk3PXIuRXcWDyJuYZKsUchbPA6rr6Z0FKkKRkxMSbNm+pyKBAXcHt\n",
       "LAHbWRhjFMQdej8jORjxjktjXhYk/rIS10hagLucxGklVLY1Akb0iQFr7sKqffpwIGA3YhgTAotP\n",
       "UoxAAU8H15aitKOWMQvdUu+JS878VpeqbGPeGeQfNzgN+dZv+v8FzpkLcSatXn7p3o1T1JymmAVV\n",
       "yHSOJQs+Yq53adREwKLniuSNnH236NoSlxV1MuLgNeHt02aPUGPdkK97FR4zHanVlT/H/tk+NouZ\n",
       "Ei57XTP83YNK7lpvk26iwX24C5/6NgqKL2qxWV/19HzdSy6yh6Zh+9sw0SkCXHZ/Ch+67xmCVVx0\n",
       "m4hmxC7qoZvBlMko+81sEy+XF4HWqr5AsvQI0PVydCE1XYrDe5qtmv6zzarov0Yj6UfhlBikId4B\n",
       "bQrp1ftnKFUht/O38RE5en84eOFQVc7tt8M4aTubbmXcQ2MmfYg5UyT4UAj7DGB2GlD1wI0pIev/\n",
       "qLRvQAWYF9jNT8gXygo7Ne46hQSX7FvdK92JIvtvvNDjtSw1GyjGhpaaWFfQGSSASsvuvFgPOqzE\n",
       "BpscfYv9pw08lD+c5+pynlai7uenw2i+x0WMe0eF7AVfU7f8vVGZ48VOFBsP+36HnTXj0EEGvSHp\n",
       "PdAUGbLRtvkRlWOwiQJHFVqIZaJSyFklx/m6I3RZGri413S8MYj1TIynJ6PcthHXSY1xxAuwez37\n",
       "Zl9eVJsQcldK+cUc8LBZ7mnuEMWs5rTfIg7PBcKngL8w4ZY328xWAk2Wjjs4Kpp5pWrdEtcJrg38\n",
       "/q63TmT3AFJPWHoLvjQ8qEAQghNZe12ziXOzRA3FQNEuqG9sXIf8ZICkXd3+Hh2GZwmRQffs5ijx\n",
       "++udm9wlo7jEn2NESkQjVZSK9mN9cm1lD0KXGmVy74VjtNl56c2VoQCA7GIAbZmlAiFq8i+Qvrrm\n",
       "UfiA+3Yrn4dScYN4SyHmPqQYGy9R93Y6Klae1JYl/5lDSc0kfjpLaMb16T9R85K2Cq1sKt2bTbRD\n",
       "W6dIswc/SQYlHBbzWSnDQKvp+rhRpsc173N7W3chGGZ+srf/9VYNH54RW+4W54OGidEgnAplJzmW\n",
       "EwqcWBwMb+OUqTh2LYkBbIKPNZdJIY0Rzx+lqdqbsmaqu+cyR5hDUFC8g869TfrL8xE6aZblFXep\n",
       "y4eV0YKgUI8d0PDVu2pfMi/mpHBBk8e2cOMnTH7347sx6PYFYYKD7nXLiqMvvVT0FgZWLof6C/in\n",
       "Z7iwFreVJqjpNdZpDK7WwgsaKeygN5CadoG88upYHwP1sIct3Tpt0GQro92uN58slo5eMqyTfkS1\n",
       "NhT1tczEc6BDd/VvcHS5/HkY9EtUJzYqHtDnEZr1n0bRthitOQI+ol5DOt2Gf6rWK3IojM97rOYj\n",
       "rMLmS2H1Sql67mkndFPnpcJiM+YRDZexKRzVuWdB7jubLBAwMRxvS0ehodGaiG/pmjDerrS9pk1f\n",
       "bU07VkirfsRPOl+l7JX0//+WyQ3Sb3F9AIjZ7ad7u1Bhue+f/OQJSZ7+vhbV8QrRpAnyHUcTTtUn\n",
       "wy3Q/WR1p6aeXVnM9gsaMwXAgbEVlOyUufZ5KKA0hyGOfowuWaZ4MsX/JwbYU4bSP2Ma1Bk5ZxG/\n",
       "+LyO7m8zVKa1Z4lS2Sy4UmUAgu+Wanjs1rNnxOU+Bw58WUUFf+goYubKwPqEMFnVMpwpT+K36LHa\n",
       "gfAmUJdPOyJwIQLwdxIe2D2PVX+4Q6JUvhp4K2thZO46rcsDaJmz85YtepyNrJowpHtPjl6Kcv1/\n",
       "M/EXUHO7OJ5Ud0otOWKbJuGDOcEHxwkTggyE442LnJVrY4gpLt7aEz6kW/+l8XM7QkTd5zdHMoR6\n",
       "DYamVYFRDQxFnfOEqz97ml1wgXhvuecP0AjD6zRm3Q7RUCUiMJhymNOhGFy9ezfuwAd2/fgKWKmG\n",
       "enwu8ENA0ayUa8WjGZmPQFhNTYmq45Z6OQ4erbttSP6rMOa2FjR1Xb+OzQmHVpXla+tKx8+MFkoq\n",
       "nRLwK2oXdM6X13Q8GX5CLEhetpb2+6m8cKLpdAFImJ+hXrefaQDfFL91brx6E4GU1Eh2qZe5rJCR\n",
       "q5pD9K+KjJyYj08J1m/mh5l2ieFRxRccTmzyHxazQ+ro08q8eb67pI+KbQP+v9CFaJk1CYLc2AaC\n",
       "cDSpkrMYrBfCYmU779z7RAUkuQ4n98AjvSPZ11PNplfW3exifK6lhEv+8Y9ENHBoObWXNyyC9fAm\n",
       "4juKLTxkU0FZGRCUiPuKPOU6YPf7BH6WpsRxCPfxjqDAref7kItYJvNyqWTULLs+ZeA+v3hC2GdE\n",
       "94xWaohV9T00lLZYq13cjYlJVMH7WovVvqIiUzsDlK8mnutQp0kFkbBzvq8KzzyY45d2zWyiOCxv\n",
       "BG5SKdtzcVRX7aFcky8Rq7ZYNpgbv03vrdSEXB9KWyv1vbCb9b/nr5xC8veXKRR8ZIWiszQV0E4V\n",
       "Ck9KHQjeWIsBCdFkUzToC/sYLvdtdVdm//pSxHpx4it4JRemIu2CcO23aONXdJGueUHB/yhBl866\n",
       "i71BQs5SH9rzfMvXW/GmG9Fdo/u6xGoZYGV/Lq7w2RwRji4su63G0izFyAnhueONxLBdVlFzu6Y7\n",
       "vMa3Rd6SWu73hIQ4Rbn5fhNorH4hEfDpDHVKTIIgp9ZMDmppRGLvUL1xrHY8DG4uU0nQ52Zia/vx\n",
       "8wGBtecc+cobj2SgAUCZvS6reVyD50rpXrILTjNP2aml6kzYyzX4dZ4G32HkOcO51iZXHwowjpeu\n",
       "VO6LqdjmAN8WJ2hlegS2XLbq1vGz51qhXzuc9wWeI0Pfx0TpKLykGMiHlpNWmIb8cczhLmwr6nMe\n",
       "4BVblTnBAgul6/t/N1iKykA1MKml3okbjUSnUklUPNUKxWebdensKUZ4Fs7d2x+xnNMYtkHl7TFf\n",
       "6UGar5Qz11N8HafP+i61ZB77pkv2a3KAk574+BNWYO1CpFatKqgaUkgGFtC8vH2usHclP3FN+x7B\n",
       "1Czv2U7k52UzmKKpXhAji1fRaalLKUcq90QMQr5vraj0ZHjdJifqzHiJwL2SzE4bRwNIfyowAGmN\n",
       "T0UttAQaWvp7ETfIwqzHT91wZER+7Y9HEed+f4GmFo1w5hFytY+B7HDZLS1w9al2GfG2lEpx91gX\n",
       "O567ywyZj+DxEdT8KK+Vw8Eo2IFj42ehtGbiL0M2WDKAbLd5grksy+R63KwZGWpoUYYY1DXoowGJ\n",
       "EGpyEsChoi82Zhp9M7Q2SvWwKM9BfxnbyOKDJw7ZDSRxefa0L78+yIXaxYuhedhDxavD5l5WZtwP\n",
       "iq9wUW4JxiLAELP0pPy0xel8/EkriboHAXQm09Y+01uZUB/b849yKwOKjX1ye6AdITWBZoNMgtZc\n",
       "F7hEk7l9Y8rKykvVA3+3pIcfClH6LQ8TGPtW52lZXauFBGvXxuxvDYCW20GIN/NUFP4nUU3kfJ4x\n",
       "yVNt43p3fOC2oaEDc9RibyLwHX6mfVOHUVGapDqyjfE3WfkzCE4ukU2Z85xwgKqR1aa19tN40Pw8\n",
       "/i2VCVej6P3eN9IWqOtWnSLsGmVfv/WKvHJoS/RLtDUoUXxzbMjhUogeWD+e/LpJW/wCvN+QZSYQ\n",
       "RvMELRK0O7fMwuiS+e4Eod6H+psuMExQMiOkkpABVh/yxuCuLTaqT/kLNUZAEgzv+IOtVz3y92Pc\n",
       "c6JJONEcY5bVZFLDAXhbQ6+2MXCFkh58usDscJOf6M2shr0vJxb+E1uj9FjTMFcfP2fMz1Oypi78\n",
       "vk7/2Li8s28tlQzXCBGh2LUP5dNqY6npE6DC1DDsvA3r9zfGf1e+tb5QBPoXb7EqJJCGYTBj+KAh\n",
       "BWLYKbglHpRANUxOkAyghwokOTdS0FllU4ZclseJ82SToSg7GxM3nwpB8a69Fjdl4Ud0bOqCrztn\n",
       "G9vJ+phhaRp6fTFl8Y/TCx77N9D37X/xJGX0uBpYLFhKaSD8Tq/2RzSjKY0Cs57UVB2B7stXWjwA\n",
       "CdKu1YEbNIBFkNQMfN7lTw+1AsUDBNajrCOE4Qsi8mk3posgoBICo/nB7sgRJRAZ7ys5MrrXWGdL\n",
       "b1zRs/dHfKYeYuWwj9EjA5q241GIgOenxATtkYeOYBivr5hFC0+jmQOzVXQzO0vebvRlXsVk/jlH\n",
       "3/MPazItTZXJ3BjBAK8uaAuY9hj85E0Pamr+yUTfRa4nZpcdUgdNq6Wuq/4lF5k27QMxSzoJd/W2\n",
       "A13K6Br+7Ym0OQNfA0ipsFHvG5N9N1O1mPTuWiGzHrdo8BJtMZmqxgWMfEpJibKMMwVjz/XS8InX\n",
       "OyRiBM8VH8cxuPNeLIDY00a7av6Q98coq9f3624WEnvaXz2HPK2qCB/ZtAoop59+tUdKs5WQDa0G\n",
       "Ou7FaXYtoW6zfaLEtQ8kw3r8yvgAXStarsXb84BMTEtpGTI/kxMpd9rj6mFxNPvNYhT3JTLqnPDT\n",
       "klnyW6DcQY5IBkXJlZ+3eO1OXFO5Vna+a1fdm4IuiPl10DOCn7d7rQfou0+HTpL970ld7I2atZiH\n",
       "k0hSYquCTMWZCR2wGvfGFKwg6cGldZl1synCStlT74hMDfvvbkpZHbjBN4dzkFepBvb+P7Tlf4Xn\n",
       "zqi8EYN4TWfDVzXmWAdQ3I95ktEjDq7qfnoFujB5/JJcR7bONkxQ0nHWn591or6+2wJ2HTdRK5hf\n",
       "T6LU0iJaf+h0w4bAmGM7cGvpbTaeGZxp4K93pKLHVq82Ssa+lLIV4XGhTK+N6LUfqy9xM8Hs6DE+\n",
       "wMtRjmEkVFZ7/rLKNMc1zqBaScm//QGH2wt/GQU54jy6IxZySpEEKQZnO5LgrWOKwCowiXqQX4jS\n",
       "sDDfSm07r9u59cxtI/G1mnA5GSvMoZz9ZBVSe2yEAM3h/pfDCMTcVI7NIvjJwP7UqV3vHFvktJBQ\n",
       "5EBl72QEZgaE92mLvkXdO8M1wwvSj1EleqIQSb9Oh8IDdLFVwg41+biqvZ5G54AWNQOjDAYMnoK1\n",
       "4KNRS8g4ZnwejgBU55sGP9eIdlJRoLVQROvrb0MtEH8ee9nWrWEge3ecEJhuwek5IBbBV5iKJSmV\n",
       "rlDnRa3tR7ZMcHWx0LIOjJuoc4O/yo2EKQh5t6AdIv2/2XWQwyOh8rraMH+Wd17PiIsVAAKJu+V+\n",
       "Apmu5IguxAh8mWHEOcoofjEYTR6+I/HdHOlkQItbYP1+txsidsXm3DjIZHA4tLV0Ks+/gK4SFr46\n",
       "oX4z8liBPy29W9L1jy/0djviEz2edvcHzy7VarWoOliqkxpwOIVTKfd04rL/ELyQKL8TxngDks3Z\n",
       "1VyD18Db7XLcH9Hs7hlMovoyyXlvQiORA0YldDv75B02spiCI17PwIfo5nG8sJ32RhuC9TtVLYn8\n",
       "OL8WNqMMqqXMK3RGKu5gYfknTWSrJDZFZKy9pX2j4ito8VAyz2zVhec6AJ3xNlrt8vVZ69j9SNGQ\n",
       "JyjbqoMrJeCwZuE8svRZXJGIXl017FZzg7ELVKH3SMLyUfFSot+himivTQ9V+VE4einGYceZc3rX\n",
       "n4z5MGDv2vkzOPgKtM75mfFkvs8A+3DMCGeApYOvCF3PyMW47tyNojLr4Zy9oTwVzvvVyePU6m2T\n",
       "Ps7fyok6EC//z4t9+KF7oyK/AIyNOi6JPAy8ji/1VRmKQhX3B3CBENdlO4aWFFq3Q/OcXRMOflbp\n",
       "SA1RL+O9j62lxItiTJo9KA+QC7lOAo7xYuptNeWQi5hjCTCQYgQu7uFAAAfe+4oBKo0EO57gV3It\n",
       "GPozV0x0KcJ1eV68m0RlHVl/XXv6ii36ot+YBj5qCxBKJWA3WZo9mIR85rCL3kAAZzaLiDb4Wfrw\n",
       "tGPVg3/abwAABglBmiNsQ3/+p4QJ93JALUeo0/xjm7UVJjTLGKddnp+ar7qfuGu4LN1q64PUIf2s\n",
       "Secs0mOmb6ee8rYU9rUBEplTWFDiXuR4gcRnauojLUv6fhbzfZBXSc5u8VErm6OS8qMoiN1Q1wco\n",
       "ZQE00c9dbS1IUiNdETckzpSEHtNlEfLz4jB4bDso8D6tEQfD/4KxfAcSZZ2JhBmA/XKSn78Azt8n\n",
       "dRrVvhstBBRsMXiiqLmjOjLCOPKIbYqnpumy3EJojgk4V1f0UveaLtRUYUU6dqNRMEaCb5ejZEO6\n",
       "9FQdrGMOxcKEyw7dCpOG2qyRDxEFBVHS7LXNTA7keBotwBfop+1i4BV90gpT21GCE56dQU99arlq\n",
       "AbE52RRX+1y95HmLZxinMZ7dUpQvtEHMdoIsdrf/jcE9Q/vBtUFkirXG5iF3tlG4dCeWJnvWTkr2\n",
       "xOq1QfGFkXTtv+kdDRTVZoB4P/yawhJoXCwjPdB3kQept/0ERR1LPeDQxXcjFHcvda5Bk2m9ESRr\n",
       "1/ofp0VFWzvjp4PyklQ1yAHZYFXHsb2mE82EJWgcLn6BDx/29jhm4ZnpyaRITeV3e1cMkNonnDXs\n",
       "2lLR0ktPmS1vy9Lf/32WUEcj86EMnKnUV3dPTJEs307+tWfL+zbWYTd8MRpwoJyIZeH7au3YSkNm\n",
       "KvpEoZhck3jbZaQtghXIrSbwxajU1dH77cXqDjeVz7w30Ip5HnGkO/nMIHPPHK6pgRs9F8b/1HPc\n",
       "OVvXj6R4mHow2Z0cksej9k5h7zyOqfVXG+/viKfuj+m/b6cSXahuLN1YbUSlDwLs1xG3IYLYyNLQ\n",
       "A6b/7WTsdn+OUIE0zElGteCEr+lSf/SDbLcXWZMzJdUBZ8PoqCCbWx1YJLyi4XbksIOQdptaT/AY\n",
       "g2B0CsvNLPlNDxLAtOT108g0l9essGgOM1DW2VzGjlqevqtv49TNXGf3Vqs0XY63Ha4vY18lnWov\n",
       "eYhSiIPBLzlp2KAFKWsFi8ypQkn8KCrLH96Z7MaZpq6aDQpofFsM9y09sJe+SDm0uYNUCH2sa3Di\n",
       "T5EWF8OxT/FNR3CgdGDCpLm6ZUgEpShJSMGc/rTzIo/zosn75TjyuDiUiXqRIhStJF+hVJwoYa4H\n",
       "CbQkh0FKS0YYqQJ2wvbK258Ov1N/+6HKBZeef2vptYuLy87CPjL7wVxjI1QB12D3ueuq1tc9CI1I\n",
       "jnnnPvenWCr+UMdEHITx8TSck5pz/5+EK7gKwgq20QcHY/jzc6cNXgF9y79FZT3ijPFB8SkrA18f\n",
       "qOxN3F+d0gK+R111XSW1udpGdydfgAgtuo1cT47fRI4eE0Kll7Q6KleOxrD9u/pL/3bBs0QBM759\n",
       "m0wcRK1VQFjd5sMVg6O7XnD21fGFoMH4K1lbC2ueL7gu6sxGB5vmavSM7fn7mlaA5CZgBbYJoBJ5\n",
       "/8NniNtUF3UG8yZOvTGh3F8K5Wf4l0mBJmroWymTakeEz82DlWHTSJaAfYTn26j4I05Sz/EV/4zg\n",
       "fH7SyyZqPoLtIrgg71CtHGFjIN4YO6KP4LPmiWrWqAIvFB/uz6jx3uK+JJUhlaNHrW0FWfG+bGCr\n",
       "J97LKQbI1BSagenMKY50n/735jIR14C3yoiBXz2dX/D56f/aENfoNzK/lPdqVtKyhBlcVxUdYcgq\n",
       "vIZ9JD8PRUQsy9+G600sCJxptMhwLZfG4Zo+MyPKs6ySbR+2n7cCkFdAJzoDZ+LvRX1WU1LWj6yL\n",
       "AjhchRZrdDR+yBa1qDGwNQXzR3QyUG0UeqMoj8TgApmuS6VIZNNkgcoeBR+c9SGky9y8j0PNxglW\n",
       "8xiHf5JeBbUGaWDHR774jTMwNrWQfbYi+PItCeZqhaMugnJQr/IX+bBf8cOPRHGiT4sko1OGgDWy\n",
       "iRuY5s0buTXsCwBCKzMjxVU0sbn6tRvcgZ0b8ldTuWGmFRu31KgyK7MykpKxDNGIrG4QeyVQnhB4\n",
       "zVRzEXIscQW1nIjRGpylwx7Iao+e0JVlb5FuhAj7jhcuWiNMlvHdv7XYyZtGMA4D/rxuQOfUyi2K\n",
       "+5eJeip9feZKtDLFoifIm64AAAKGQZ5BeIV/AnVivOWXtohr0Ovonuq6gV/F88ALK1gBC6VpMcAO\n",
       "Qgq2NlxBN1464qSmDNc+mDMxSuwf6tC5/4dUvl17VdAttmPmVhJYJaSJ+86aENarBRCqB5EBvXLr\n",
       "Uzt29rtuK224c7kbPokNqLbrMvUcWauFtCxM1BPhVm5zlFkoYqI6pFgSaxsNnVbIwwOGJO1XG+uw\n",
       "gBLDpz95sPn0oc8Zu2+95hZ58eQbGhBWuIi80AEuP24lpfXiCDnvx7xB88Tf2gLj+MXRTTEASKik\n",
       "UjiIyPJDLekrZzCbKjNHOlYbpwSQ2Cx7FTos2ejxItOFOAnHtu8G9mjlcVyMy9PhTuTwbxz3sidC\n",
       "OQBSE1NMRszVxMGTz5UKCt/XkONdmqP7REGBY6vayA3JSiLEPDIFiE7utBp9PTHxxRFU7+vWWH79\n",
       "PF6wwEJV+1hT0obaFMD0sM4L8yae6GvrG4MWZpBPG7Pv+6LTwjEHUXqruqNAuY6e8Kl/UqpKYWbA\n",
       "cgSeirwK2E4a2lTrVoRWGRqppT2jRUEEH2cChIkkDgJcOLDbqaJQjpxFhViekzuO4X+HRAghuNtn\n",
       "S3TV7GyEH+fL62e2/94rv6c7wOoxZkbry4pRMWnogWZieJOftd7ZAfAloX2F00LV/QE7S4uxcd+B\n",
       "TQjurxKgPtuK1SgRuGofZOKm1MKthcUZVJ/UMd2Msw20V9Jr3vkRs8DJDczuse4RPq6O8U6ahmGv\n",
       "WYR5gSaKBe26Hm1ZWeHyZd2LtSlygGxgJ9NovhAjLDHCTPTaeT48uflxK+ygLThZIx25hXCAEwlV\n",
       "fV4brRWT0+4aRHzUc2PM9T0msdDnfo0AHHyEQ4cYCFBpQuU4IJLvwQAAAdABnmJqQr8CrkJ8ndmw\n",
       "XmMfRowfbmK0QDWvirzCoATaGLn1MOV6jVTBj45zzHYivqQB1VojcNRHTJ6AIPWCtrdTxzbu6f4n\n",
       "tG+dZTXIDra2STl+ib20oXp2mVwXPnYTjtg+D6svj6mWj/APP/UF+U7GaL04bjBc7op2CEzEbLgL\n",
       "hqO1hEZABwGRFUvBIpUIGxEzOFwiss8cyMnZu89ivSDEcIDnFJXIV+Vf1G9xURj2UAab/GlytCrF\n",
       "WKeKCEKF07I/F6UvymIjcSajzewvJlgKiupfrze0rC3WF+XFpHhEW5RmuKoAZHjo1bRzI02flW22\n",
       "yPeWOxHcn8DZyaQMG7F+SnpolNn8S/IdsbxTR1imqbh/fun7piACAjjzHBawVrcAVJpoxZuEDPnZ\n",
       "/YBOa+3Lpl/LHgLGv2n+1YKkV29DQa+OPwVMmA+auog7FV04BuVmKasppcUqaJ+ivR0PAxxzbGN0\n",
       "jZUCt8AbHHAPGVg6hplhHDDNNf9UYV5uWRhjXlB1UiGqm/EkVnrhqrNULyvir4pOGglzfvNtpd6X\n",
       "JnbRZhXt1ODTbyrpzLL8o05jW8xf+o1t938sTIMQoy70he+kZwTjPm2qThD7rg2/X3J65gAABG1B\n",
       "mmRJqEFomUwIb//+p4QIqcfgC+3Kzu8CWq7GmX4kg+sb8Kp2HQvTj/+b6ykKb0gpktMXwU+LBzh2\n",
       "hvx/3H/7tS7XCEs2buw8jBZ59lOBtBmTaANjzI817MNrmbNSiv9aHpw8TCGC6lj1qWkpg5q1O+ob\n",
       "UdJCeDpLA13ZA0GkICcomsKGO/eDDI6ca7gwrE4mOwuVZE9zifisCSbpgFyr63MsXjIwBF5JnEL6\n",
       "wVxAkshVdW0gMcB005U7YaN3OJ5b1ThZ2YPAv5lch1Z7ELOfl5J3QfIVE+j4zTTC9SEVD94YKYmF\n",
       "eL15XV3u7Y34P0IGZyJ+iykAXH6mvF1P1XnXU2MAUwIO1hgQNbdHgeBzlGSWZGTjVr4pRPQO8Nbq\n",
       "dy3UeFs6mblQg9/CEeUixQ6t7Tw0ZwS1rUva33WeatvWxH9xQUgx1znCnIpcf/Z1Thk9TnWiGEpW\n",
       "yzLkF22r7ymWRioWO/7G9T9pkhfaNHQS2FL21YLQk0f6eRncnnsxYNtaY+MQqPtpmZlZvqd+IJrO\n",
       "cZn7OYg0LVt+pvhviM6Iiut77xs2gRvhsJiNC0/NZ6IGLk4GZYHhkfWtjbDBwWQFzGcbGLa1Az1K\n",
       "1CBt+trfRB8y2e3y1PlB4ONymwmZrBsKMRF3h5Zq78/MZC4SPK9Vj3C9Xnzd/rmb3wuxa4EDZbFf\n",
       "oYS+EK92ARhOHUlXYlUeDjngl1mK+uCO13UIFJ6jrAwVSkm6Vla4pco1CbWwczSJqM+ZqxwySv+N\n",
       "FgUugSUyEuBBQkVIYllQ6C30gBcZMi6DdeGQJkCuPjOVmY8wVLiWlunZyFAv75Od4T+cii/0Wb7F\n",
       "aeqVjSe2/Mxqjcu2ESniE/LFTJqFrZ1pCnE6bQap0XWULVrQsDczz4wavgBWIAX7x3olKc2hYT9l\n",
       "3KAxjSEsEJd53+alksW0ekrH1ieg6eljhQ/WXhK5Z4UdSbIlCarKkAaPlrpfqRsQ7DbshjVfJ256\n",
       "OC5+DEFKa+00aFPsDw3M9awW8fFADtMHdlQ6g6gRShupris6+ESfs9/F3xlK6aAm2Gc6P7g102f7\n",
       "jeBzOqak8uJSrVzbkKUB9O1esoYPIfpmP4pNnbTaqckavLxIOFJ4FbRHf17zQLh/atwuxpbSWeTi\n",
       "/sphwFp1Qqzd4jw3q6kwkwT0MpbWom5WF7r3jwT8M/qW8V3HlD5BL8Zs9V65Vm3fVZljuHWk0N/O\n",
       "eHMWaeCxVaYfm1PJ8ulIlpBfWeWUM8PiASxN3FKhAUkUrvdhe8pISNp0mUZk+syS9LF5WISgpjXB\n",
       "2XGiii/4smK18wrfZqThzZAQ+43sLibKc90PpFw0LE+4Iili+0n18dWkRTtKc1Zyk8U1S3CQm0x4\n",
       "r+xxbCXeOntNDxppRk7v9jRUfxLsHTIB7gEmTV3AeYny3X5/jQukqPNx2PCDOx8I+/qWTHYb7fUv\n",
       "Vsa1Y+DL1YJJ7MzAPGYAicEEnj132y8PineTToVc4w78cO5yt3h1ya8O+aBTp6HsFQAAA/VBmodJ\n",
       "4QpSZTAhn/6eEDXYsTBocwjYAbAKDbUyWWzIk57/ZIvGSmkJ8JAlf5anzhQ2muBekvH4b+OiamtH\n",
       "an6MDEwbIRtCUzzQV+WFj9NZykCvMxxh1wrf/n5TUyvz5PjXKM/e4KBdtQ5SYN7mdm5105L5YZk7\n",
       "wsf5i7eIcdwBbX9cUvDWRkjVGHdSLAp1O9jGEyKOw7x7YNklUx5vV/sdg7OarlocDHwLup8508A6\n",
       "MjLfxTRNMhGYIxerr+L93R37wJ705sI0Xl4rq91C4x3dCT9FkOjKMTlH/P4NdTEQAca/np6ZYM4P\n",
       "qLQpj4RrRHRWIngfLywFt8R0whIGzqpBXSsmLqIbjaEkjmehbBmISrJVesQr3ahog8c7RqUCcpze\n",
       "Y1eZpq3gsShZ8ka+7oSwso2RduAWDVB9S00mBlrnjr7TFvtodC5nSqvrDgsLxW7tlNGGUsr1Z8Hx\n",
       "rpOIFMiAMzMTI5DXMK8RPZf+97MCAcc4pfVhChJMhw9Vt4FfCT6BtuO+LJdu77gJJUovtrOmOiGP\n",
       "Iseuh4AintAYCNAHmJZX0JGqmYdnDbqOPNz3d5JSpzbacFhNrB5MjssfEAenyc1ORRLTO901ngHg\n",
       "hYigNh6dUNuwSdUrdbKrJf4R9T47zti+c+nHvRzPHxr5KG6Pm9ubxbFx3IJKN2WCHnltrRLWO5v1\n",
       "5RyOdASDqaBATfFylxiXLz9O4tMeVRBa6QstvU8Q+PxzOGDE+LIOnZqY78JF60XFyKWufq82eMW/\n",
       "1Ur6tP/jjLRBTByo58nQoQCL5qLKyo+uwJsORbaaI/OvMB7s0viugacz3kMWAzah7cR4q5TgtRm/\n",
       "2wjY9C7SLyAp2qMyzNdpMQJt1X09rnvcXYOJecFkTGLmBMEo7V6F9NKPe7RbbVYRE4QRawfPa8yN\n",
       "RO6SJIp2wZbzCY5H207gtOEdsU0wut+hIeLI0soFJWkwf2viipRF2B2Cun6mwWc+zwzPobxKDgI9\n",
       "pu8oRj2F/9P521ZbwC885TMYbOBC3IEnKps5w/5CVuvGZb/jg3auGBkTrU6RsRz/BO3biFw6v9FN\n",
       "9D69H6Ymc6PoqeTCnRvThR9CZFl5qY4KVRcG7Dlyn4LL2Jhw4x8QX9ojByEyKPcfkPtiWx9GX9qT\n",
       "inEqgVJaKCLZEXx5uwIM+Rgclu9Gb5mh60uT6Yb2jKtaSKO3ZK6sduqCajQzZR3XAMmhZEycjW3u\n",
       "0Ta0RDPUEd7Dr+RNsI+3/xK+ck16/kGZZgENxMLUt5GYuTxnK4LBJoQjbIhRJuq0ACxF2XD5QTGo\n",
       "K6AylxsFI1PXP3HvrjI37Ig0hERK4TD96CKdERlR+NQNcNadOQ7KcQAAAjdBnqVFNEwr/wLPkp8s\n",
       "h5HgR9y/Gxk6Ocvj0zRAAWlGJhsiM+2CG7JpKa+lJUxIauRC7TBwV722N9mqaQ+PuIhuDOctAW0/\n",
       "y9oeujaHgOyOUEDNSIX+C4DxdDvV4G4Xcar0Kg/hvk6UFFIn+FmvJPCV1SS9Pu1nK2Pbge1qBrj6\n",
       "s9h93yn/RWvNJFdad1mlV12+JHYUTTFRAMJtsOSrWiDtf9vnvKGYO7YTIxOMNS6zPspGB5z4GV/d\n",
       "vVPMn+ukjLlhAHFjbBGsgV19gCcFP8XJjYDnLh7WITwh6TwcEceL2F68dDPalCEScyCDVv3qy0UV\n",
       "gTSsmtdHT7hge37Kc+R0R6gtNX4xwYqhZfKfzlIqphbgGsIZVFQ4xL/wz3ZGaYEHwa+CNK6QCd75\n",
       "x6CshRrOSfe5kfw0z3E+UH226f8kQEpfwTzfd8C+PpUeAczt6QwXRTVjoxLdmTaBAdlW04lyKdoo\n",
       "H/yJap4exvrYvACW026I4E9CdnKlYr5MvUeXwdUYNLelZyfwYhCV/yawkLyl4Q0W7fb4zqoTFCNB\n",
       "81CTN8QCFFtHrceRgEljyMxWDIsAIuixdAMULlZsq0IpPrCddog59vs0sPPl/VJYtUTSXwvrWnZB\n",
       "XdSYqpkKsOd7Vq308NdO1K7cYpv/0WfmEqh40dpWa8p3bf7Ia4jojtVYNTIc+d2ZY08VK6FIrgDP\n",
       "G7S8h9R4JX12JAPpKu5CkpOPYXBnOX+EzQvlbd7xnB7nU0gflcGoYWEAAAHrAZ7GakK/AqAMciN5\n",
       "sdfteEeiipgA8acabSu5OlJdoP6GLvpRAaU7PKzwnpnYM5bP0Leh0ukELqrWrkhNE/2Lo9sQ1VSY\n",
       "g/yEAS3WzI9WkLDJSC0406ffC/xr5G0Rm8XbE2XEd2Z89JW0wJRb6B+LzPaUocRjfq47NJtwSdlu\n",
       "hJpRd+5srtWRbvnKDdiBR3T9FsSDPb9XAi7TjetjuYnPHGJCPPIXDNmSvWsfOmIPYs/VZSUZt8l2\n",
       "iWlqwTLOoo9P6SVWqn0y6cOxdn+PAlFIL66bODkZ2c+Ba+arxWTwGPxctipiShb9GfLuRqiijmAr\n",
       "kNBsOL99P8J3mZQvOr6fYio+Yuh2+aG8O1C5SsOCgaR8nvICtG1BAdckYKzQdMy4iUyJqtPodtYw\n",
       "c2/vC4Xee1UkhJ7yId/t1TCZuJlhuRt0E/S1dJbBtRSW5X9XT+P7LY4IiCaj+dlSHZuo+qG8qi0Q\n",
       "NNk9yc7hmtImNg/Ti3d1Lsz1l8VTc54bCW2o/q5+Prs8RJKle54gY27WnIHxx1MbVJlUH3S8aUEC\n",
       "zIyzmza3GKuCUoKeaKPn4eXfKMrvyFQ6UfGT1Ixx9V2B/uBsnioBJsUJ+8G+hAiVCs6fsJWMITeB\n",
       "23/YAno0aYGX018G+GK6Ozkk7jq/vLcAAAOfQZrISahBaJlMCG///qeEDXZGreDnhX4AvzIZHZLr\n",
       "/a7c1S9NFIzsILzDqv5WeR9lznGuvsHNUF8eE2W9i/wi8ip6oPcxfKh7uuKEfpSf+uFwMkIte/gf\n",
       "ZcP9wuwHdIC01WXcWC1D+XgiiMSuNRx1fTvs3Y2cBWKtzfTz211ohBTQzPQVPqp3LdZA3/fHqSYI\n",
       "dUhIVtZSY/PUZKvHi+8pB4crD4sb89QYV/ynf0hQseyEGd6NRL3xcVFEB2a9kTNGR/4PRwkzBm8s\n",
       "1udA/5tHtVWDrUSzv2Tb6vLUUG4LSxcAUti6jeSHyR7g53ZdEPvt3JCEnUupH0dx0JT06tCJ85hh\n",
       "R/z8Huy0j0UQTlRnP47/THwN63VHRgD7/1Mtc7PeoREgJ3Pdu0WLr4oY8ehFUE5ZUJFuQrZ5Jzn3\n",
       "s9aeaytBP6FWWff9cGj2HCrF9DlBBo4QlN9iM2BTYH4g9T9QVH0HuHD5R3T298G8HDljfM36c2sI\n",
       "aZEGfbrSnHKfIipfFauia20TfyZAFyzUrhf8Zgd9I7XNsDKuPk4JvlhPw/QAbWv+Tl2odx9zXmJQ\n",
       "WEDwRqnlLzcm/u53Fh3jmR5QkYSPJiPZmEqXziT51BYvES8hoX6a/DGNJ75+vvvKr5MC3VyMmML3\n",
       "sVCH77SuKxj5S4mxjFAAAsOLZp7u7pz8FJFS3cIMusFSt/nDnQeT7Ch7MojGjNa36dWDL6SKOwx+\n",
       "3VpF7q9QJwxfJf6+hwss/5s+F9sVGApEl4SUc58zIGVzhO+pvy/AdM2maamTqkHZHydCYOw8MKrH\n",
       "Rfrrl6xTT64emlAA0KLvosmYd5rIkN2US9p5n4z421Q65txJ8DMybwWb27ugNdwYLKI6ZgGHUsAE\n",
       "cK9F4Zmau8+Q0C+0qkEOP7l99bziBYmQx+obIhjPogs7HTu+Qt9uJf74x5gzPfxRJ9euriok91JK\n",
       "On7rGr8uEif3eoYFAvyu80zotzFE6Jn4S2ZZQMlzIGs7zYgymkjbGAxkVno3WN1Apq0QuE88PTRh\n",
       "B2sQYcsL3CdPHCY/ZTJo4D948HqwNAYuP2izW2m98jt6QHhaOnC3wYAPv1BZxRUESWvVC9h2epQf\n",
       "pozR1Ccs4RLFs1CsBDK5K/Q5WlxWfFtZbUn4xE9GvZcKu6Pq/PQTlAs90vHihfGa9Qmpj1zlJYrc\n",
       "nI+D007L7VSR1liW5MkX4n5M+bLOHuUHnrTujh6drEMss+qX9s3e1D6sAAAEJ0Ga6UnhClJlMCG/\n",
       "/qeEDXZGreDngCUAcy2kzQvxFf9+sKZsTaKB8zxiuVUGXhGwh/cdzGR7W3mJTLnK0bCtuP//IL67\n",
       "RqGuX32lxKNdtfbDigx+zHu8SwZEwF8bcO4dK44cHtFLvHL17vKMveiRh9VuX93y7FAadARhEx3y\n",
       "UgLiuKhPsGCKSWXUDFdbedTcAuTNjQR2CRjtqt2bRLYNGOZ73h2yGf1FdAqD5nhJGOzN+HPF34my\n",
       "Etuv9/LMeSoomYnU1v21O/zPjYxGn/phRfvgKiXIRAT36cmicbPpPOnmaa9nOpcMOARaoYB2vywV\n",
       "9+U/sQQyOvBIDL6ad4X/ZHeG93YRBh/7jLBWM8nNiaoyj81yZews4WH2w6CKfyykG4EeKU6YhJUW\n",
       "RTdlH/KmWQouoEnXKg3ZCuj+0rLLW00JrhxvNY02NUY4wVF9u1CPRHSTwK/Yo/kaS/YbiX/rXZSZ\n",
       "y5WvDtZEqnmddvBdul1ZhkwqKwIRFHfiufyC/mPZQouKlKIIPpKPriPwLG5A5ri+YFeYBXEO6ILo\n",
       "Z4Qg2E17gFwaCmdIBTaT17T2zbguytqOJjlj88DWjzu8oo0rbj+kL8For7ls5Pl8NRjuKFO6rS7v\n",
       "d5sHJ9wWPfSUoo4yzG9Bq0D5vwmmCjlRBWHI+ylTMwRK8xCmCL5uvj6Whpx+Da6ipbkxfB1Ncrtr\n",
       "JzB1b70aYXHTnk//pJmAAy1gP3SVcxBKBucRUL68j/YroZBrSywSa2lvS00jZ1nnlNdzd1bYRGYa\n",
       "RsY4vm/LB+eRxNV17uiGvNmnFC5NHamCrRCHcqz5RYLwh3qkREeUECyZKXZRI4Oo/p0g3HxbLMDm\n",
       "NbDXb79LG+nqtZ7wA6hbka4DgY5X3HDSskaxO/4+iAr5mgfQQ1AvVmeiNPDrpBWcFyarxealDEVA\n",
       "jhMfs0HUx4q/UkVClfZHJ/WCNRuUf9kLGPaXp47wc+YXpxUDaXuA4wKLC2JTleo4HixYWnOLY4S0\n",
       "jhLrSR4XjXoGlS5DrXcf/WgPYDgfzt4dfp34pTUyq9dAMKuR/AN1FoTjqMuVEWvyFK/ePSR6Py4+\n",
       "rQXmJiCQa55YyTdA3ZO2N0klgYyJnWZ75YNcgoAnK9aVf82UeneJ+KMs6x/TTNEqJ+qfKjiowWvS\n",
       "kpTND1Hgs7kK5XyrzIrycZ1C8YbLf3m61yRrsOKFaq3oYKE3kTJlkrfI2XZSmUU3i5nv+un05Ntl\n",
       "H85jxG+7r3on164EYo+je1+zaBkHqFLj3gbaAcP7LPZ4gucfhVYZDQ/ixoGQjtFoGVWbgoU+y+Vx\n",
       "NNr8PzConF39135WkN6Mvji++gW8nv3MHZw/oxsHOYBxloR9kuXS51Fhg6KdMa6vdEgRykPr6p60\n",
       "mLj4bD24coDRcXlLbmM1GOLpX2py7DNdRb4AAANKQZsMSeEOiZTAhn/+nhAu2jV69hn0iqnNdDaA\n",
       "IPM7XLYdngTw4/i8hGy3qtTJNkFvELUvRV/Yon/8RUd1YTndyP/Sgn6C8uD7wuvRY3krC7vAZyJz\n",
       "J5MDBPYUrbLMi8O18bglxdJ7YV4elsOjVx0X6vBY79HTCd9vVdqQNyBXgbGYiUPSAv35oPvhvZ1+\n",
       "V1LYkPdnLAPlQlEQ5PyO22Rfq3eZbNPAbAox8Er7NCFDZK+ClaGfaRPEEouqCzQLVIkgCHRRJm5K\n",
       "RpQ4qWSPqr01kLsyMsFY9FbBoIylsWkr8Qyjcz5QsuyxjQ8eJsk9tHgufJghb+GrEiUCmlZWxMIh\n",
       "BCLj+x4T5N0WhtaAPV6HS3TXIoZL30i0MY7/MyYBtMns+PJRKrqzwXBiFGrI8OREPnLl/68szj6/\n",
       "UGlCd2Tnm7rs+CPM/aTVJudR4KRT0fHid+HcEpOmgr/e0PuH16Fc5kRE6xw3TQ7SfIZdTh6jM350\n",
       "JxdMH1SEg+4A0iP13WJ8Ix4rgVOzInj/DEAE9y8FgMLUBzhj2DbGoDjvEXQ2XJKpKpzVYiu2LOTT\n",
       "BQ3CeOhL/PjXixcZN92JJZQ6MMWUPaPkwr7dMTn1YL0gw7QX3LVJDdeUZAK1NdCPJLIsHLVd0pFz\n",
       "dhAFyaGNDQE5acBURE1SVW1d0UkdcFxR9htRsNdjXziSBTlhXGlJqwkuLZGsqMV6yS0l759eA3tI\n",
       "rEJQfCFWySJy9TZBBC7BaA+Al3unWMLJZhPCSiWma7L4/wf4L4PfVnOkp3lrJvqFd7vsCLpL9HY0\n",
       "KuFVv2YqwVuQ4CrKzV71uD5f/NvAgkdQ3GbDDbIXF5cQT2iX1DfQbwVHV/w9jWVG30HXrPMhBeJ0\n",
       "qYMA8D0H7IbF9aM1RysqPbledrPKRTg25FHv+LHj3BrA2FVJNpydlr8IfCPmHyCMfhfq3Td+ijT1\n",
       "xoEQGIAEl/YqNKbISZ0AAeowWlCEGwsjRYflW/gQXwv0aHRM0qcx1umvAdnfWIqiUFDV4ZV0D/El\n",
       "ZOvLiNGg9VV9rRlseBW5YadcbFq1u+9cPNkquef1cDrsGC5lHVbYlHi9uh3f53Df6H9tOAlGW73t\n",
       "SM0ps6N5nLMx1aesK6aRGVEAAAIhQZ8qRRE8K/8DFLBnk+tR/WADuCIvkKoAWNGJZEPzuzyP0SSC\n",
       "mp+Bnjk8iAwK/Qwd6jNdXsGYAgXEU3jaQwn50JlqX8FHLbDv//bAei8vTZ61sIBiCfBNpEtfthIC\n",
       "CtKo01wVXPAAK5VOuHbCogzFawtrsay503cxQcROYGBzQahxEe0/WN5mJiEUVWa1J5nZJlVvL8Hr\n",
       "orfrN51F08hjgaYi3/YT8G133oFYp1lmWfd7rzft9nqbSuZ4YSoZZHihJ0Jl4NKrVU3F5dVVJKl+\n",
       "K3d8fg4QmTyGHI0UBMbBPuzp/f0ymcphzccBv0nh4Ck/wgJwnZfXwq9LwQAx8h9qXuMqOyOa1ifU\n",
       "LSLh/vWol4AGhJC9jIQfT7OlZe6AtWM4nwIpQtM4tYcYaIPRJ4c6xmFwR2J9vynr1OtG5m7KIoiD\n",
       "EyhXsFJqoq2GgbfMfto1jEb8iXsJbq42sz3vpRIr8O3wgJRxzVGWj7iNiKiHQrlNDJWWE3B4Vrim\n",
       "uVdkbXnxjjHltBnJwMAdlGLG97O/fxVyTwTZHX/DTAk5FzxfKeibEqsvPX1F6sXlSMUqCRUrRzkS\n",
       "lydCQ27NiVkWuq4P1+b2mnNJZBDqXh+QzKjCk4Z4NS5gh5KOgTmHcnMERV1gYYfzNy+vK/Kte3tZ\n",
       "I603uAZwf2yfoFRGTfkVszdr7qWZoHhBjQpaI3itbz4IGW4jZiATTOetr5+/ju1DSIPrUSAAAAIQ\n",
       "AZ9LakK/AqAMmXCGkxoXZ+3o7gA/Ec6OaTYas1aiNTzklglDO8yOG2ldSuMTFIRFYjsY8ostogmi\n",
       "veISua8Qv4EN7T1GNIjzdYwX5+Hc/8lDhIT++KISMf+Hugjv3ZGtKkKQXbmdnHOpRmBQ73Ysu+8H\n",
       "9CGNYMktfkA2s9ivFR/gAhTyjCFvG9Fd9V7Dze6/k6e9xyGHOj6hw2CnnrJl1+kIVrEovuG/zu8U\n",
       "svUF3uwSqCAAxWZsrC/vX7PukA/3Ha73vPHZ6CcTP/iOKcg9B7ySKsrWLoXXCN+Ar8+IHm7Hm0Ia\n",
       "0+I4XSTW0y7ZrlLXHjaXOuP6LfFUWJRJ7B7m7UVW6tvsQJlAg+ftyj98HmS86KlzfXLJjjHLvH6k\n",
       "GYuaWyCE8S5zA/ZFKIi3CuF3eOMr33xFFvV5czj5PV/STUMZ90o12I1A7Cn/0qESWiONRVdNt8jY\n",
       "bqVl9oLNrOhR1qZKr0XcZQLhua+Uc6x50kizECPXhy+ZyizIMlK73HCLOBtAoyaMsaU71D8Vnl3h\n",
       "w7kiHNA2F/6VAnbJLqy4ibWgaNegRZT9q2eldFTnStcrea36wQI4O3H6HROBE65akFvLybaVnV//\n",
       "Zq/qVfa8SVEHrj2z5tUsHhNphHiVvVRCagWTcOF3b7cZTkNqpWKDQNpCyrQkktfXELRR+mgS6893\n",
       "BKlsQqnFN2TaTMrItuoOAAADb0GbTUmoQWiZTAhv//6nhA12RrsAiwmW287wLADUwj+F9MTA+0e2\n",
       "3bn60wMk+6uM7nDORB0zu9UNVig1RMPfyeXe6SHLm2AEWzLV15J6PvsWpR8WxaIRBUbxxu4laDMq\n",
       "wKi/WxoGtAzu17sQffSuFIWfLucWlz0IFT/PPTX1KZA9qmW+NONjF8Qxg4WfPNpwSusTYZBHpWju\n",
       "Ka9CfzvxR+5zWWpXAM2Hgnvrv0Z8IDCMMgOdlVkmcL6bqI5NmKySavnzf8Qmg3gUfSBCgWwJyPt9\n",
       "gBWOg3Lz6JTPRupvVsPMbcg9g5/eB5xDz2gQ8u639gJ3p2UVgM5jxCWEHUtTvBgem99Ph0nEF2Q0\n",
       "BTrnAWZiOOHdWzxP9uob1pcUhzto7HZ9vAHLXIp5HcLdVNVK95paCAdyghds1jwWqzulknQxEuzS\n",
       "CAg7shi0+LXD+FjXYLyR8NhvVt90umbVcc2Ro/KT/0J74FN629oRsMrgieZTCbJdbFvdzTWrbQHy\n",
       "EVemVeCjpvu8jrh3XT+XcwsGLmMWQMFJYaBXOYf2pP2zSfVd6UisbhB8KkQJI2dUdnXcoza2c+Z6\n",
       "v4++eSh75WTycUNe6AEvLyRP/b6dGYXsdgNAwpTYEGgCXyRCuHiduKolV2/i+sZaDdBPR3luLlIv\n",
       "f+/cePgOJwPES1fNhCGct2R82V69AneEBSjMORcfa8CPJf4IcJIn1SjcNuIQfa1smlsRCnE5ziM1\n",
       "3PtgX0GShHHPHGH/89eElrrrySWEtVnTXushv4FpKPFeTEIVqolK2Hk4stq+obKkgNbfyWNojnz4\n",
       "xdrtQyMjxTIhxr3A/9FRr3cGUc5K8moCjqQqLN/TQ2T8vO83bJZ3LmWTXtP/Xh+PUtUX9WgMFxY6\n",
       "FJhYmDcS+5+Ll0tbdUKnMHgEsh92SfLgkhqApTgFve2LrCGOFNuzOXXTNeghOJLlB90H/VTqLlxt\n",
       "/jn/AFNcQyFgvgGH4R6JORjEqyq9+zoId9o0mWJzpS7GTL82i133wc5WWltspUijLyaWWLnBe687\n",
       "0Egs7qZ4pzTox6zQtnM4Vu3zHWAVi3xOkXGA6j/0azrRHKMTFr60h0AjW7hOhbDQakfGp1KgH1fH\n",
       "Cz45mUT/I/+4N5zrbY8rKfD3UTaLOc3aR4j1XFjjr4nhXEHYQKfbTrSYGQAAAxBBm3BJ4QpSZTAh\n",
       "n/6eEAa2PS/1VthrgCIYDyRsl6PoZ1zmd0GbnLjNQox7z1I5zLVXfiq6I9ZzwgZ7jfQPZXTYdp4g\n",
       "/A3Cassa40qaxiw6NVG/BycHMLQH74PGM7DT5YsMkgbgWtxVDIj5Dc3PgbCUf1BYCY8Ia/oLG7Yh\n",
       "WeE6WKPwe66tpVuA2c5GdwQxhFdYqyhNjyw4PL2+KvcOEfjsLb0mRmIT/HzdYyFEHHYNTi2LSguK\n",
       "mSCr2t/LRRzvajCwoxEsyNAj/zv46HwRcFr2Y5hkLKZoRLfxSuHOHL5SuqdzBEu10qcEjGIj+Ev5\n",
       "pj53vgasqbhiNvlxQ91aHmngA2uWIfTq+Xlz0kkD4aIWU9WHWtSqi2C/i7hMFKaclyiQzjXesXmW\n",
       "W9f3GHB5FFjJR4c1k0P8b+zfE0irbJkS2TBIV5OgWwSlH5grX148pOl5L4gktqoW1SC/MpjKxdCF\n",
       "aUb/K7HU/2v43PSM4SJzyPsUPv6E3bYUMEHce/Hh4V/E8APiQ4jDXSX+oDxKLkWQ/+eVAw76p4zz\n",
       "rllm01AtzrxhS8IbO3BqhRH2xmPJ0n2Wb5eQOl7uinToRcVLzkWRue5RUg/laquPORpMLZ+VrNit\n",
       "d4wxLyAV+srn7zBAUCu3SzPpSivjNXh2kD1OG/Opc/zqLMa6sNqj0UsbKCRKkUITS6TGUKMJ0GLx\n",
       "MPd/oPHeZ/H1XG/xmUdB1hrhu+yIjKLcm2Sq4dlYFWO0e6TmAmrIDtrCK7orwI9zfquxAlKizU85\n",
       "a178nAt4cJLl2YYLm8qFm4mxgHYO07JfKapYP86HQu897uYJdPc9h0jti19sa0iOCPN/Afb2D8Ik\n",
       "ZMsXTANxO3Vwe7H05tqNEOgA/ecm3gtPFnFbuwEdjGgVcr97B+00Kp0u/Ge9/93ly3o5useObZqU\n",
       "NOzpoPlgdKrWBRk2oBX+rkbKhYdJA6/nlXVNtJ8g9jEN3DT7NAQpz+G6DoBtiSAS4jMVv1xkzAcQ\n",
       "2EoqFXrkdpqFHiWGwfG9NfMrgjwLsMnSbA4Z2dCtnNDHAAAB3UGfjkU0TCv/AxSvTZLS7t84TCQA\n",
       "jjV0qzqpgI6HVmtG0IPjyYPEcbSK0bBp90MIQy94kX3aydgLJ/gI4AqoFDQYS8M3Iq1kHRUQqASj\n",
       "NRqBt2C0AJ1D7qmVT2fDCVLXOfzWCI39M0phFFrdZQ9KGkYq0RuQO/hqfgGeGVhX6UU8mimXGopc\n",
       "gC2R1BMD+DZ5KxViPZxoi+PvCD4Ow36sJ+xM1pRoRhaDRW1EwFSxqXeea+pJQjjl9vZEb7C8IsxS\n",
       "dWlwIKL0fD73m5jgQ9IetoChc2/q23ymgjxcUaagJB7MyJhuXSW2nTEyI94J86LnaiA3T9dL33hp\n",
       "ed0A7+5O1iT412AugYZK6/B7K5sXy9OnwpFnDYEttT/suxcQE43tavKq6sifSqBYNfUE+2yzw/hM\n",
       "JlvfGbNZl5V7LTZYCWxczDZ3a4Vc9AuD/OBymhDSuJLq0/rDk8hyAtJXkOoXLuYk+ufP40vMr8wK\n",
       "wJGx+CMrK9NIZCYVhFE+bjLI+cfbsyg45M8kl0oLqzWrIHaQMpt+iRWWEhPV4C+lWmDeAbgCII7Y\n",
       "lEboy2zL7Tqnu7LC2gYjbEPyu2WuHnVHzs6D6A5IMZVxCPIn7Aw+dHq7o/JstPYPhcdqH7SK5Dwe\n",
       "wQAAAbABn69qQr8CkWC+HGI99x92ACIHdvNt6lsIHBRhg7nyJxTGDldRoM8EzCsNJs+59O+TgxZ+\n",
       "qw5uV5jhtYK7i4zQItNEVHNe895M1gNXZmDuLjB2oy7BJxzcDQz95OrL4XEu5xne8fqOA8Uw7/cY\n",
       "AGW7ZkWxQXku1I1g26HFdgAFu6MknLbepGRckbtn5b29Pwuxd5KCrUp9LjJnc2U8cnU5afCwB9R8\n",
       "mhrnJuKWUkh+2nERM5bvciujkiZyz8PPOi9Gulmg7PlgtFxSA1ehyqDe68enbICbVOe1MmhgPCpc\n",
       "T+RNjj4h54R4EcS881sYiJoe0NA0L5YA+xtwoW6KXlU0sWDeTKsU1xLV2BQOvEIHacm5fLSTbVUe\n",
       "DIVGykxRA2370yrG6y2F6GV+py/T1oPNwZT0J25/VU4HMzKhasSmEBtt2DwvG//yX3nDi4qiAuF+\n",
       "F5dCc1pNVY2by8Vtdw2f/qH2/KYg6n+yfmfqDup/TF4gYOS9DNAj47xzkkpOscFitk1DbB0NLv35\n",
       "J8FVxfARsP1+/lGovh0F1ME8ZjbNQMSE1jhcTDTDfIFD6fMraYAAAAOYQZuxSahBaJlMCGf//p4Q\n",
       "Br4/mkXABYfXgzQ2MGFyGwJ0h4KGdkJGog2YO6vrmmJsvF4vs1QNlxxagWpc2YSiS0GbOqEmjAiw\n",
       "J9SXDWPe8WdR0vt+NeXZ55yoOSmUDp53uV5gmSuDVPg4zlzx2pQ9qgI2sVunbnJkueItkJufDbu9\n",
       "PVD+r71DX2WreFM1m4l8BUywwS4eTpURYaLKICwZbq8gxkPfIpA7NuD5JII84C/sP8FQ2iykmLc/\n",
       "uxmo4SZLJ0xlV2/dClIzY4nck/n4Fvzu4R3hhJcjap5EE0VV4qhcJOFwRUFLvZ58Dk92pK+kM8X7\n",
       "uXXMjEEo4NGl0whGeorXEAGSAyT0wOyCJ+P4iB6Tq71/nU626vpeBSgYIGbjaHrxiOYH6aU8YMfA\n",
       "dYRB55kxVpVgNoYlJ7v+2+1HDtFp6mFVUz1hWq1TVfKtTp6pSTSXlFeGib7ifEsZv7+WoYzqxhOQ\n",
       "nKEYcOLvgX65fCa/jJptHjIH3n2/YqOZw4rUUjBFU5SBotfAPCOX1uPtYTK9o5ggoD4JI0M6oKgV\n",
       "zEG08kHlAnu1U8V98i7SsYsUEnSssC53iM/k7tzZHQWiSa8mwgEEmi5DZ/uf6CPMOrWZVCTBDmsN\n",
       "oquAiHz9s3J+koRm7IPLbt2OydTEP87EyvY44liynyy2lzAfVqLrMvO6px7otKtLmWGjezhHuMk1\n",
       "5PItiUfpOAxQ3w+o4BBNYFXfl0rLUkqn2WrvdHA1wqLrJqemFj7yXCsoQwFaakQEYreD0ZMSjBGW\n",
       "cpM0txynhK8eoVyiH4fO5rAotcCMr37wg6iby6iDAhBYMy77u/2grv75KdDdBPmZD3NgXBLxPCKP\n",
       "2eX2BjWEBLducCarV9fBOyGeE7Y6r7yTfp1zFUHoL53xa7soU2KeHusowLQf7QrcHsRMriorbOuA\n",
       "iuguz1Idp3O8M/3yVan9X2E+5clTHUv30jtbMJjdvaOmZ962EDug+JCurhxkbPWx1Z0/EK8LlY1Z\n",
       "hzl7lG5ZIoIWLaRiWZ11WEMWf+EFTGEpjHYwpuNIUWCWqdpPLSCXTF1JNxrvqpkPz0dnjSE+6NdU\n",
       "uFTO7n2NkshgM9s854BawJnsmSrIzvMrEiJmP3EJa5irNtNUYuaBD9YGZ+EbqWseMshgNG09vpTQ\n",
       "fM0oNfwRFS4b8+x16mnI11tRI9mI7jhY9idE3jhw4TxFA14Z2S6TtHO1GO4i/96eaugAAAPnQZvS\n",
       "SeEKUmUwIZ/+nhAGvj7CBqvPIMu5nj7xfeCg03532CFKto4AWClU+E2EXyaLIPTgYvqoG7MDY+ap\n",
       "nnbR2nNl4I4rBqGuYiaKr4GVTsKdw4dz0/jraglkIOtHbXHnul+H0eKNPf/4UU1AUlD5LTJT3/PU\n",
       "7vvhJvaZlTzPqTtHcS++1sffgciLGnZM3boS1y+Qrz8YsIiWDMSmEFRRv8R3H3OM8W2vXl9rfYVk\n",
       "Us8xy9Rkga5u7Tjs/P91fbalVF08i1VZCZLrwSWoIRkO5Fdg3TkdaRk8c1Hq0nDRzF9iYPrywk1j\n",
       "Ls8OnYNDsts9hMjhv1Q37cDKN98nipP1Nibpd+8mNA290T1dwWxowJqglbol+3wvgK5jS1qbuEco\n",
       "9zZmaSbjCfg8UqbJBOjwcj8Qsb+ZQS9O3HU3PS+XAydADYj+I9ggDlF1li3Ej3Jee6JumEglWb01\n",
       "SQBU8v3Y5y++rpYZyeUDgOhrqGVmDJiSHbhyhyHlNLF+Xu4u1EQsOaTEMCRWvMKbSJW1RuBgXKWt\n",
       "Nt6VmIjk2vh2cREWdlTOeoBAnzsjAJo1A9h+pz0o5JPQYvrKfPLPCK0YUppylhOUcVh/b4Bm0+jy\n",
       "6zw+wiHza6CujnXP3z4lbTGdZ8Ej5o6/T2Jov5/IYptvpEIlgS6PvbMVWwbtNPDeJqnXfEiquab9\n",
       "2ns27UmO1e3u7KIBRcjhSSOntMrYrukX00sA34FxNjze3l/wmQ11zLn43b0ZajhU5hyIniOZKTJp\n",
       "g31z8byshPnx/VMmsxr1sxJIHISotRCFRecXbWsmCujRPPuo5RzPkIopeUxSvyGGEWEh2utoJOCL\n",
       "FvYzyUI4YZCfKlAH5ApPdPn+Ql7IC68WNiZ7itsCEZC0bil/Wi7yyQEeP9v4C6y+05HqGbjp51tp\n",
       "fia0MO0zqh5G3YqqAc0hAvfMzqi+mMPO7Eol0/Cpl3h3nmEBqruwwmsLhkGHvTuMMRPyenI8QYhk\n",
       "YHoNjO43aVTfF+A4IRPpqC0f3YfbGh2eb2HPLAy8NiCouE8H+TEKSGkJRbdusVenuQSAuLbEU2a5\n",
       "7ZDHUp38cJelzDJc8zyyNlZ+OvsVT+9esqk2F0QrxgX7Q6AjThBYiE55dV/CN3HIm1tZUjK7Rfhy\n",
       "I41UE+rTlJbZS017JGgY2bKK/2Z0Te/VnXmVyTeynHpZnlMr8bzm7URdyx2OOdBWPLByw29U+2Jh\n",
       "A2ErEyPYX3glklBNPRBjHsOG+xciUVMyWaec40jNBGVwdINigqkGmZ72ZvV5RCpAfy8dkCOX/XoM\n",
       "AKYwwXZ2ByzqXIeWX4v3fiKfLx60f9mB865RAAAC5kGb80nhDomUwIZ//p4QBr6eAqoADoFOQxy1\n",
       "qaaYH1GUQQ4+Du+SBfDC+2Znn1YR0o9FTAhn6xDvN+4VPQgds4LwOVuStF7TsYLjT+v24QkCybmb\n",
       "JRDjxf8WOP+Zm7f+tkj5eakm/tK0yD6p6wUexpnPe0L7nwAmfE+TyZFPo2Kj21FsLeMY3nH0QfBj\n",
       "zod6UAoCbviCmw8Tm/T5DZBWKa+fvZXgvdFB4JwitC5TmwbwOY3FJ83OkGXDKL6NRhBzawxuuvzj\n",
       "nu3JRFZE4OC/+T0g7TDPI/gl/T+qO2yq3LcOrOG4VNidvGghCifLil6eTI+VikAouKXyE4Pl6BuQ\n",
       "PqEVOsOxQI9T+gRdhk6+7dqg2//rtaa0HdrO6h1nPfqMU387ZMVlCkwyTx9nCkWIzaGr4CxGZdq7\n",
       "qkyMpruAHiZzEsbUCR4KvziGweePdwplHDD1PwVYYCaVgx8t/6oAnDG5kwaPnC5RRlyVJqWTEmgP\n",
       "icllcAaJwGgKYzs0ETuJ95/4vXHbMnK/EcjHgOjcALyH50cYbAbJdYCRLii2GYBZXB7eXS/DpRH9\n",
       "JFMpTTB2+qNVJ6a97h3xgE/Sqd8yTDRsLq+3CbVUMjP0bZG4fgcwOz1zMvFbHtwoe+oOvDlxD38x\n",
       "zyXIQ4RK5Verkl04aGjOZzi1kaVNMgdAWHF52UhAXGfEpHPsamnaUbFZ4y+52ncg92mTc5LyxYvY\n",
       "NPpJfHU439XLqcpCflMoSY8sNsjjjXag52JCUe6mz9jlSdBkZI9GRz0ABy+o9mcg1mbwwQ1aCZwE\n",
       "seBmqk8JVj8c9NrsLMmZjDfD7UszFJdGtYKKk5/f6hH1MeEwlYk3nwvVTOWT64nDCvtXy/xpQmJa\n",
       "G8W4rcDY5MR7Vc65YmG+dFqTi1MAxqN5zdTffYpnR34ZtMDYvAHD3njIFFYO1HOKSJ2ySzYinOyh\n",
       "zwNbIqR6EftD6xeXINrerXlnluPxtRaraXAkfAovCeAAAALiQZoUSeEPJlMCG//+p4QBwy23SJzz\n",
       "8y9rqAupK1zGjbEhxRK8eN2Zjy/1/l7FJub+lvlPnfTGME4Cff7enHHYeGx7LtY9Fhpa3mRdMUPh\n",
       "Y9c3x7EFD/6aYlYu1Lvcrgbu0ocbUCRhCY9+wIfxIgTZPwya4gb/SP0YESD9vo/YNtr0m1wvymHp\n",
       "M8WAORM9LkwDiD6xW3fDlU0vYRWEO2XYE8232umniX2wCPBXK6f2GavR52nEivsFjxd5IvtaE+9r\n",
       "jrvRHxiPqvkAa6sfl1hg9vwj6BCubhkY4tATGDZ8S6bBj+nYp+8KsVpelSlrO4Z0K3hM6Cd6DG8R\n",
       "933GzPRt+kSHl8lEpta7SFO+iijIMjfuCzXoBqOD7hn7414J3WUorFlrZMONXg4Pxi/Fye1Aml4c\n",
       "+oUTdmEPp3sMNth8xoOfsIILtyFsqIMF9k6byxSZ8Bw0vjOXHLFlzKty+F+dkcIL2JW+QJKwh2i7\n",
       "FXW2KPt7c9Z2GlzvxwdoZWC5EJp4/PP+L7njkQPQM0fx3bt4aNckcAZXeXRZghfns93WvT0v4Z4F\n",
       "K7N7Y9azmjDxG7GdSmhpBbiczs1IHWJ0FR+AwPq8oOt7LszIHNa1tC6DfitblfPHtPdLbr1uo4l4\n",
       "4cD3k7Yl594yn+AqKz4PsbC1F2jWqQm5LZxYlv5ngNU+jqyfwdTTNq6BP/+ZY9+kx1ay8VJpOIqO\n",
       "K35Jvjq5nChqy90XtV76IYqaULahg3nBJKqKCmxK0oOVE0JsCKI7Mq7SGOGJHRqaPiJIDpBU0m31\n",
       "7RjRMbXmk3LB6Ui83noigXDB6t/uFe1B/Sp6HgqapSMHwQAQ6qOVCHGxF4xPSnvm/2DyPxwxoeLV\n",
       "bzJooLKkNs2vgIarINX9s2kOoF80ubrEYYMfuFEDg0y2DUWvo4iNwXjw5x1s5mFFpdMq/kLCzSjW\n",
       "3VJ1EC/y5C+HLugFlbbDYMGnvjKqe969H/RdvbNss6jAAAAC4EGaNUnhDyZTAhv//qeEAcKmb9cA\n",
       "VtAyj4Mfboq5LUbelvyj2cKDP2LN9EBb1Xs31UvT0eH87X9eLrnuaSyN//uYDt6Sn1+VpFs/ejp4\n",
       "LiBrouXKbEAynium7G+hoE4E4951VbpmdmlrOhbOPtNtpRwQTd++Kjz2AGD6PwlCMTk3RDytMjkK\n",
       "ZT/HVIVNL+YlB//r+JFII7hDKVFBv2PqPyRubQJGCMyCDtc6Nv8W21zKYYcGld5Qi+gqw3k3WlxI\n",
       "gdLY7M8RZY4gvgkNKqkYcfkr41JIOT+qVDEwEuW18EXMcUM4xSxMZazjP7yvayzX8RaTj5/8zp2v\n",
       "w8uYw3PN4Z4roEpWB5p6UhrvGBhHTE8DFme560m48CPGPE5STjQiqqvxeYT+JBtFeWUwJOdYVkZr\n",
       "gI3B3kfmp8pRIYwyVxZcGTJbSYe3Po+6Q8ReKN9F+jiOKyldm88vnHCI/jjFQATM7+oi2pIrhoJJ\n",
       "o7eH6B/j6QrgFyDy+gJngAtaSMbwIqeEU7AFmrBGiCAI/ONgn3u0JbPhulCDBID6kRlbquYXj1Oo\n",
       "ye30b65lYrsbQChi2tztQP/O3Gs9yIJDkbnDabIhS2yKrMUmn2y0OLKG20JgHBPARpupq70UCc0v\n",
       "9HgA9YHtwfPPpF0/idYnvnzHOlKX581YUdWuM93yZzIUwaWzWQNQDe8po+6aVs5owdv1208EqsLf\n",
       "WzAvvq0PytCANd/ic1aa5u4zZd6yPoBe/knFIGy4d98sLFY1sQcm+qYcwCVbTxf+t75DA1oDmNdn\n",
       "sRJYidnl4+W17B4vmEo9bNk6pEJB0CaIXBoEhj/YdwMW6EtZrTezv1xJ1Cr30LiVRMOBKtRLk/hW\n",
       "9BycmfJzZ+rrhKemETq5BHmcq6V5fzaKjT7LRsQayOKl32RnpoOwpPdIjyfNepMP/1y5MVn7MJ2e\n",
       "/mmpIfvOZtO+W98NcUkmAKZAb04aNAIELyuOC2cqNmEAAAMVQZpWSeEPJlMCHf/+qZYA5ET2VIAC\n",
       "uy0c5wVip4qC+iumzSfdtPVRwx16d0jgg0rurd3Ifa6gedd1Wl5CED+rJ1ghe5IM/POz7eBPI1Vp\n",
       "7RjTnEPMBJiYiQtlVC62FZ7FTw7PbmyGNUyKEzQ/78Y+U3ok2UNbWWYcXdT3rT6RdUWng49X4+eH\n",
       "OrLsfQWSj28SPA96ci3CUxlzfiWeBuUrwZrO9fALj7d3THZ/ZW8GVRVmFUy42puJc28ctYMeN5gx\n",
       "LwMvxGwv3bcW61qc0ZV7xRinqZzDcogqb/1GVhABnaKoY9zZFlih76p6FOAVVj2o1oap5ezjWZQc\n",
       "Xffj5eBu1Qq/Jluq+izYTLE5xQCL43z17r3U1XGfAM/320mbNkR83lAc6ypZs7D8u//u5ggjLdcE\n",
       "QrgEq7VAv+wUQMcJ3qSmL+c8uPiKTKHNKMwbE+QzO3jC1g9E7kbv85XSFviYKF2fXWJQdl1bTIq1\n",
       "l3a5kZ1ddIO6VinECWRsXXTE6dfVbvs+ujciVbIU7N8R/W7g6e2Bv9aMCM6ZHb3k4HO8qODbkgVA\n",
       "Wdbk7wHSimjEssPzEcOsOQlsnB9CS+YuxeTeEF6YV37UTBAg7au3JB1yNwk+4HwC2fuKxDtHJRWY\n",
       "7UmGfsIp9Lsi7rRnU9KSDvS7XQi9S3mLN6gpztWPCRXz7ltpMNMtMLQx0/w5h4b1k/yAEQ1rbpcT\n",
       "PKEXQojE3A7aYWqe3z9LRRDaXgIXSvru8+xNVeBWImgjHtZhvSixCMIK8WkDfIN8zj3zBtyVkhdQ\n",
       "ocp1/q3E8wHlZMkTnAaHYyTPyv94kyrcHiScYFtbkh1djS8P5jR2pynrblo22nsoRfVRhhGEkKvq\n",
       "HaqyeXRr2VetAy7l4rJi6c7/fcOK7aKjn+Q7p+x+YTsb2vFng4jj4ZI8rJft+wah3Pdc7LISjP6O\n",
       "rDdf4hwoWmEEat5Mj3FgkDh/yKvhTGeh7wMsmFNSlYBTCNIjSgICAFpVR7CCiEi6jJQZK/SLyVaR\n",
       "pw3qjHNm2KbAehuHeClMRk3j0Tb3f9MqQIrgAAADo0GaeUnhDyZTAh3//qmWAORDnsjoAnRSLNPM\n",
       "gPt2fJQ7BiJfk7nDZkVcTGL+UcaIhrflPKCRqf/7Nk8vW8PB4nnpWBxduGDnl1J+zrfyZeTDZZaL\n",
       "malL8Um5Fzs2wcGBLzksyl/1YkI/nXcqsW/jQEavY6Eg3Xmf8L47+xo1pKz/meCVulFv0t/sroOM\n",
       "DN5Y0bYV+P5UyLjWlu8l0zDL2Y2tC/vQgu9vHnhTAUefj1EDcHqb5w0RcYdCqwuwfFFoYj2NLKLv\n",
       "TYGMEFxOijABM036KsS6fx1FmfVKPkLCfWbbkBEJvlEWIPc/keJGUFMnbpC7t72ISYdPPORdaKxk\n",
       "VmJvTNAf3LTYBG0sFOcqa2hpfrQI7/EkJZ5TcMGFKTEN1WfLQe97rRvBB+fxGNyGNm7FrF7aJfG/\n",
       "idYLIKGofzpJDoB1R0ufhcP453g4CSsGvc5P2+1aITyCb+gXAy2K7Gw+qj0rw2qGfiCzMnVKEj9d\n",
       "arzTmoVe+m38G02et+EwHPL8R6d6vDb0EP+cEm0KWoUlh8b/0+Jrcvg1FsPaycClKNegT5ymYquf\n",
       "ksswPwL1iw88iIgq48jt2ltHA4paRcqJU3bzlkpcGPgiqFW7BjTdYeUJ7miK/soS+6lIOmLgIZTG\n",
       "GAJ9a4DeZwnqRz3LqM9hrIIqnHTuyk0jgKGJOwNc6Oix4GsrniWDJAwFdTzSapWZhP8gzBfo7GQT\n",
       "AmscwFA3SBq/AJ32z/29bip90J8ANm6c6Aal+w9lMXv6UMcKmzRHMZhbf2C61ZtEele8lis6A7n3\n",
       "0beSwXj+RGYqPu3pjYoTCMtL9r2W6+IVlNTww1G+pLJBRMD2eLOebq0A2Qpxri4LOtrk/BK3HTWD\n",
       "HRz9rOtmLDfJa/ZRyJN9u4BNLLxlmYilAIyqfABWpX8ezUn2WgdMz5TlzhyBaY3D2Sy7dLy1hI/z\n",
       "rzmzBt3wcqucJHbm2AdBIvReKd/LffAjw9H2qKs+meigTjZtL2G0x0VlkDz7HFb6zP16DeFaH3bj\n",
       "dLg/beuhI2xsYFPpXBFFbJauTptpt3psqDQyakiauJoDbkplQMVrqwoR4o5nCpk74DvCvxHcLhrU\n",
       "4r6AaM78N8VWRcZN7j01zn6WjKcR0JAD0GjKZxsIpcXkY2SvhkjuWMStpa38HFHPB1QrXV6UGg5T\n",
       "SguYvAHtniSG85Y7KjvfnZW7HeQQ3odFnNG0Me5dVK0NyX2sKS93f3x7Ih5fpo5fN7kAAAF3QZ6X\n",
       "RRE8K/8DFK7LVx/PD/hK3+QABOsaxeg+HRGAj7xbMBHEiXlb95K3plgsKYHfT9E4if9W3iTpyUgT\n",
       "sfZnZF/YVIFhwLTqrq6GbSqz3jDtW5TC1hhyUBo3mf5gPQcPQVUJzFPWQRbdpqdf7REvpjr6CIlh\n",
       "Osp2vBIQ8gpk0+xrmNUpRIfh1JaYyfHbOL8l1C32fW6MaFsuFK0MU5PhDtY9ETVqf0fXPldJqVE1\n",
       "2suVJZwMflq67i/vY+a5ad0TkIG/7gpxh4GCxlGs3jDyFejxtSCIlgsXo1XIn1eF1ki3X+0l78e1\n",
       "3N60fCHOtPLm6Sg1y17wwvPMxPHiv7AtGxMYSEfi6zborfErblYYCH4kjcsb8zpoo8tsf3DEeOqk\n",
       "triT/l6i+wcPdIEzsccQEIkjjsmm3jk2PjzX1Fi0xWeb4IJO0do7p6fxXUsoODBriDqDpA+E6+5o\n",
       "0Tu2GjSPe9kxHg/lOJpDdALjgquT9egJFiSuDcqBAAABfAGeuGpCvwGxdQWN3BrJPaBAjxIAPwK9\n",
       "XxQg2piC7chBGhOAcTfmCcDT4vDB7hlwU5L6/PQZTrh6UHn7fN8rAxO/y9SFOIHoj90nR2XaLx5H\n",
       "PEHOa4QIX+bwVaxsMpS+/wnZqba5xnjPhqXDTd4Y4/1oRvTTgVMpwUD5Vp6mYtXZuZeaVH3mK0Rl\n",
       "6Hd+SctK3P34t7jYNiWViVsl4dMqgVo6uGwr3ooK/WEYaG2japcL8ojg2Ns/XEwEwVwl0jnDk3xz\n",
       "bTcvmGtysTVvjpbI4aaPLd0VLKnugVof68j5fmHF5/UCYnVSV9d+SSWO6d6R2bSHxw06L2ggoZCH\n",
       "bEqHo2c/qpBoe9+/Ov0qB/SnEktqQX1y/eHXxnBAaDdDNVWzPE5gy7bmeufxkipD+UeECy2IID3z\n",
       "Fiah3YbhHkXsvHM8uEKeAZ4Q1kqfSz9hGlAuzzGtHcXLk/MsVSmFv8+VP5YHqxpqdxWavzUkW84G\n",
       "+MAJHHSUrqnNxU3U8umAAAADtkGavEmoQWiZTAhv//6nhAGxRf/OAV3L3S0d0ZXwNPAB+S2LjjOB\n",
       "2qjCT1kii8g/e/4efYsodEFBbGKIn+llm8Fs2HHQNeGFQ+kP9zR2+kql9QDvMs0ck4oyee+FurNj\n",
       "q2q+Efq+muTjDD4TKMmkL8klzFDHz0qZgK/5rzafCjYVGh/SQUB9P7yPfe8/EOKQwtpOUTC+r1+K\n",
       "5XBkdGFIY8YLARI0BBESynPZWa5fCbvvezUsAVEPfGk9okH/lWC3nxRiuIpsmHLLTmQXPoGQ18D0\n",
       "CXUTaABvVBqkr2GGk0UldQ33CsxhTdHvLYMStHG+y8omGFhgM4IGc/wHFhK6SJ/ztKe/eCi/xqAU\n",
       "6NHluPbptBmMBP8LBmWEoRFUxIxLTi0OAcrjtlAoDnJiJVKe2/4yBWlRIQ3i9pgdoixR/tSgyeXI\n",
       "mfouZnOqFAS/s2BoffUd3CKJjXhbHdVsnpL8RBr7v0zPkoq94WNHl7ZOtOfy3vLmq+3sc/HNHQap\n",
       "Np4lP8ezkW596tVWLhyNp5hIOnfpnLbqEHfZIf0edMVt1XG3bKK5jOGfRgd43Bhlc71l53FJnU7E\n",
       "z6q6t0t6mqM6xti63RAisc3H7Yl5WWZ6cRfo9QNr8S1Bd/tAyHCBL7dimCaBh8qD6/8DWmPK84e9\n",
       "I0tXqWDeWSB5wcWBq3d7dNb1VIFW7kKLj4BbMJ45NFP7W91PQ7PfbqHupOnaEvho+xFJrwKnAO6b\n",
       "2AMEjaj/DD65VYslk+60TK7nBr82W4VHf+s/T6g+T/2pMWLr7RhZjQ9CbtAEGuhjvOjem8bt6reY\n",
       "N3BKfbqVrYFbty379Stnn5qJPjE1tBIujzL6lIcwvc2rahyBvPS4tUDnD+96k8+szt5jn8HlaRMc\n",
       "uhB+wAOIQ1MIOxE7bgmndZHz85oBXUbDilJNZVYbq2j1uCOOKM17yfMla26/i+JSApJ1nNfng5Xp\n",
       "MGy8p9fA4yDSFGU2kY3DmReA3SpZjY5Lt+diGTt9qpU/dIzX+Y1/IQ4r4/hkUgiLeXi4ClVqqx65\n",
       "d/PsEbf8W0icXoKSsvSH0xFFVHaphVehpzc3Z00GSqfaDAC8lEp6N1cGpJvwReVWGjRE5gdmbjc1\n",
       "bxml961BPlaE9BlazXbKmDeVTtqZcQU2C8OL7BPehbvHfDANcu7rWJAClBPplZII9qt4PrulgB5s\n",
       "PO7147TEQONgcCYW/5T+JEjOs6Q37bRWVePf5ptoP3R6AviVYr8lKQ+Qgo458Bi5H6OypvQnOxHB\n",
       "AAABhEGe2kURLCv/Axa9SXHcl76ShLWb5uzXNQABNoXmkBe2KXgehw1CAHZ0AdIN7KHfDCmlOAl/\n",
       "L1OhvwcP2rP21ITl+P5yJeCut0CnHfXa5qmmqmsgO4vZvt8Nyb2JbVhDcSMAu3CQbShmOzNzA4G/\n",
       "QsXF88XnDN/zvGrsVi9KW2iLBV+vUvwi+HqfTi2zoLh9qVPgnCPc4j3K+MY5x52QOTw0AaOdKB6X\n",
       "XDzNh6QMsKOPNUITfnJqXByi77hHvSn2a9DtreUUd4jAh5WPrYiTB5aspWyGnAIk7HyGABCkitsl\n",
       "9bK1R9sQAuvNGwEYuA6TIb0QYVKStEHTp7tUkiO4tsXocBxINXuWC+EYA7/YdMNDsxediTSz+OCP\n",
       "lbBiSYKnrbcrETJSHnMAca+8a93K8U1H0wYQZtyw2HVVGoIZTHtcS4bC39iS87R/CiXxA97XBv3S\n",
       "HkKToFedKc2bPluo5Nu47ZLCWhIUZax7kyLAegXh8nr5IEoSUD6xcOUjGqFZ4xonpQgAAAHYAZ77\n",
       "akK/AUhVfGZb17H8dTJAB9LNGbbzwzUZEHmFPWcgeO8ndKMnCy8gl/aWvYXXnoaQT/XO4KrzmVSq\n",
       "mMZNYGHglPbO2JskJPb6R/NBfF64sPU/jpR4/5rqRBZoXCeMOux/BMvA94fPvDmaIiAizzQoMRsY\n",
       "vs0nk0TG2oPOrTw+hESEZG7Nejy6kGmnkR+cK50UiMMAjzIU32KGY73jH37cjfgWn4QUMkgBwo9V\n",
       "tuk1I5oYizJZsM/NtTJp3EhwPjIi4A6POCdqp6VCc7Q+cAZFqs81D4xNChUJT35BViTjUaoCWfFM\n",
       "7Ujme9IYw6namdKPcwNCS/ucjhnQQi5gm8H8vivGz4f4b21nZ13u2dzsKsXq0e6BDM4vKo1jKyWo\n",
       "4eCYYW4M6usZK/h8fi4rQtigsUyF1alhWmwa3w9ayVXvcsFnJQPd6IGbIwaEK5DhEMZQg2k4bAe3\n",
       "vmo2vxhMBSfOVO1RxH6uIW1OFjrd7Tr9rhekT0wBNAV1WR7R/UoL8PGoBCpav4qeckby5979pSVc\n",
       "ymiUwXnInNyqZX5nZkLhCEtnehILze+OXTTeHL25C+yGO6Z/iUqcjrxlTTmzqOpsir2ZdN+cnpkE\n",
       "bYeuEwkcRfd9M6WTQQAAA6pBmv9JqEFsmUwIb//+p4QBsUX/rGpZbelow0WeAEqJg1K7bI0hAxtF\n",
       "bO2ouBkIfNV/gvKzHxebuT7tjVzCq/1wGUs2GOYeKoprecYGMplgSAg0tpJZZabNdZE9EDbE8q5H\n",
       "v6szrYMSLq7A1te/cihBLt88lgWs9W4gNOJSAoGhboQt7D2gWUektBaXgTgYOTmi0OFZg+zJ+Ezg\n",
       "0vOLFIOnWIqCb/NUX7xjL9JanG9jSHaQFrjlt35MU458bOFxuGvvG4bDDpqqUM9IX2JXdXlKl87l\n",
       "Tvj6PVTErh62UcWPvvQZXtfH4CU2r+veRrsFBq18UYk7Q+unD2d+yRcdGjmsmKlnIbsM5yAZQqR3\n",
       "ltoRbRy2r9WnzqJJ2ac7ZKswMEJ6PFfdEiXVlwP5m602qqINqR0V3g+o0URbW8uYN01clUWsJUO4\n",
       "Zrf0Wyip4ucINXKpDVBagCoAgQTIaLXpx6WUuvtUthvdGzD0N9R/0MeLxn9Gu8fqj4Bq4t8gRvWP\n",
       "qpFHu8dv+ZVpJRTszdXsRCBYQZQWTmV5ldzBiandZ5PwPJ1/YGvL6f1auHW3wnRbGuEid1lzdwHj\n",
       "mb+4ZIac/gc1WW7nPEZ63euJxX0EC4iMwoPL+89fySjJQyLCud7iNSuoOrvR77RR32WG+7hO+inB\n",
       "Ib28fTueMn8Gz96B5qbHQs7nCurOTJfh/HsSov5rVZU1PxZYBcjIvSV0UvSkrAdMBrO8QKnd2myu\n",
       "L7cvN+TpkcZRSqLaA4tMKg8Q2pIwDoSyjDn985/FPNSVXUdFshsFQnwDkVaGh0BQbxaMU/UbyZiR\n",
       "kaJQXosaFcbAEAhtL9mcUHmjwssDsREPe01Reeeu5rPd02FbMxIzKKYE8PBEqS+TtSqX2zOX5+sF\n",
       "VciFrCE8xhM7+2DJDAOb0+E66sh0ACRHNkUTn4PdJoaqQYOCbKQCeJ9FJ0pgpbYEMy9bTPFbz//2\n",
       "P//6+t/9+F/HP0SLDjPLN2i1VBaMOe84JpFnDKr0l0a4oTL+QoFTxQuzhaXhteATp96Rse2U47zx\n",
       "RBG3RHeY5myEmhGwSaz85jMelgEWZuBlFDSkGAplT+VuI3kn1xnOyS3uFU820ZogC2My5Hit4s5X\n",
       "BHlmMrh37fPa+BvbJmzFd7jhzQu6jSum2NH9MXelm2XmOLf6dXU3mQVTgTfvnZt2ZARHWokX2r4l\n",
       "juqeXkczoTYxShRKQQw80a2f9VGkj6m/xL3qwsdS0chUAPNyWpHt7ImLNwAAAZBBnx1FFSwr/wMW\n",
       "vUGH6fhn57oRiSlBJQR9RQATaF5pAlWMhKS5NUmFc8XDU6Uv+O/xID8O2tL6NWJIV1SbD/Pr17M2\n",
       "24TdY5KwVIVCbStBNeX0N11cxwmT/BevYmyV0XP0pXt5AFXT/vLIC39TcVpenpvV9wwHsQfkXo8A\n",
       "VhuyRBHi4NAIKajt8Il+mBqydPvM6zGi1D5U2YImi0ixkJt1H2xzxNOm/5cwfWf0x7BWyYorAGw0\n",
       "EGreEN60jq/gvwsJQsSjltLOvGuyWahZ9fcd+Su81AYQCqMp7v7u8cAHYkVrlBU3OnO4TN6RpdRC\n",
       "GjqqAHvHRb6Sx6V9gC0Sybzv7AvXbaaX29wZummMtjON7k701cRrg6Z3qXwRq3JRO1ljl9JOSXDp\n",
       "awhmFJSkE5O/Jr8jusqDcY+NF8a+vMpGYJr7460ootDYvwl+iS+NSNaGM7XIgndWA8xyn+79AFCB\n",
       "Xn3CHdPqbmJRLWptn1Y7HnASu2Q7FRAAZ+RZiQVnHSxIo32/WNtmB9MjgXd2+/ZgAAABrgGfPmpC\n",
       "vwGng8mrbOqKRibQcN8VAAhcMVKpLoiNrv7GoolSU9pPrXkSf5OFLHU5Xqf6ELpCTxzotI8/M8Kg\n",
       "cN8DFcvMRe5aRbB5Z7hhZdoFrFCWi5fqUA4K9VZ6ORjWWWoSlDai58ENcYgEhH8YgznDCsTwvsuo\n",
       "8FagncRt0h+DUpaDmcCk6/d8f3+pfkwkvvMRtvjYo7FPbSHlzm7V/0+cUXq3IDCwuoCRWtxV27n/\n",
       "4PkSXpFkCUQYRbFiap36jVpEoKwE4ceNqrqqzvFSGwIizAMwVo4fDcaVkAAdZecQu0ezU80oHcyE\n",
       "JilmPk8StEkjOnVp+MwatCFsTfLCGH1wb++UQz/bVcCgSTLiNsOkLY8WXYl7BhMf1NJvAFE/aA6x\n",
       "SorNayR7UkdAQn5ZbTX4ySkAdidtw614BfKvz8T0qWs6LftJ0zWOGj1YnRVVFyvvB6yKYw/a8McV\n",
       "B69dniZ0a4iBJ3QviMYXOA7mpvjOHfYMULazad2SK6iPguB5QM4YEv7RuDmti/vFc+BuCGL7Xwbm\n",
       "tPQd/vB4LE8oR5GSyzsxuZpB4MUEcuW4d4AAAAOqQZsiSahBbJlMCG///qeEAbFF/+8x66AADhjt\n",
       "g/5995Zpgr5pA/km79Nhedq40T1ZHXNFGF48zOQYTm/TM5jbWzUXJxh+9Qn8nuhgEg0seZdS5kwJ\n",
       "jfzklXjWF0YG7+1c9i4+GXTlm+gbPpCqNjygVk/3XoBivVg1/dN6dr5iTJvtzwKVNB26iUNQdct9\n",
       "5JApuSBsCeMKedryIfxhg0ytH9uJ3s1MS2sdbj57l/naVhnKOEZLzwMFedMUk5fkgLdjX+Fwv+xu\n",
       "7owKjyxa0CP8+cxoqIHPGv8JNaOWMWqFkvomCGqd/0a5TYix8jAaEOhHAhpWzLFWCY1XBpnJTgsa\n",
       "pfwitnj457IgG8Wv/u0C8fmTmjBDyHRNW50JovORciaJwKV8cf4PSBA/gz/atpf9NmhuJIO7oXYQ\n",
       "oZW98ez0Y5TVjTVix0Lwbv/WgvbiUE5hYLJfapjX62Crqg1Zqivp0/nHxGu2jtYlqKCricAlxebv\n",
       "gM9Ks81ev6kv+MZ/zxpgB/BJ1veDFvM3QQY4PweNIpbHS4YI3pFxbAlqSsqTBOEVBjHDVVs02A0O\n",
       "3ZD8hfvyrqi6xbOTFMW13lBZQtrxs+/O1jsYmIEDFRIFCCF+8Krsg9Xtqbbf79E5Osc1hTLl+5Lz\n",
       "MaYq02tb5n0mFcj+bcLeJL4lDXuyDUi1II1LIOLRco7d2ziwsfgf8ZuMCTlaARqFkyge/K9EuNdo\n",
       "hs+WF1HHT4dDtjziIyzihCqtp8fhBkStbANwoGO5ms4f6QBk1zQqaiQqWeBVUwC4VjKftc46Vzyk\n",
       "AIn9c/7eCKXdSQhnbFwc8IoUraRiDlISyRRXiWDByfBAa51uHakZbuLMFIebsGD3Lt+GDRaRVZDB\n",
       "KE+WaGP9rj2d1v43ObRvFPFHDuTLzueCCoDTUC5v9LX7UieEyaGInNo1NTROji36fITTegZ3cCuk\n",
       "gjz/4e0ENZjD/RYFwpnBhRB4Jj/YCnCf/z3i0O6YMaVzJK8SJk/UAZZLBrNtWP8woI3WE1iP7QOw\n",
       "5alPI+ZUdUIktDCNiomye6E285Kn02klWnB4OJR2hYaH1MPYCCGOIp1b1FLV+0o8PB+OB9pc3w/I\n",
       "7pkYz8m8OoXC8vbwh828/GbGEWAjPqhCHtv3qJhKiP4DOyqzhvP3VpTTAJIFOs413JL5SdNYqKPB\n",
       "lsPbCGoheUAYE7ej5LwVbacUSdiFl8e6Zs93ivwDFvhax4k+R6le37MngplzrZH7nNjsJnmEbP0A\n",
       "AAGPQZ9ARRUsK/8DFr1EoWSk9gXWYWB8O1tdvnzoVQAmUKzbihWSElC43vF/8Mu13CVnWb2aS/36\n",
       "pxmYh8CCuqSraGZsZyeE90D2EPINbjdLohDd3jFD84WjBHgW3crwyVqxbLAW8Qs+gVZVHQPycIU5\n",
       "KHIyKQbH00Lxp7eTX5D5s+fjCbAvsvIfmVbc8KjlN4/YA8wrqAPeBUo23OHeoQA6SZe8fa9bxhJz\n",
       "MgRurTHAPqVmdfKRV+Q6L5sX/7EoeMH5JyK0u5u1RxfC5gvm1sWC+G/A1ulRhvWUdrvTqw7vzXbb\n",
       "vb76QBOkObO2a+U1jGxboTopvvR50zyJhwWe9cS4vfSdFBuqh0F/GKhd9WDvkvIbYaAGzCXx0DP0\n",
       "4suo7WgVOs5XnonNmdvQRWm5RAuquIjFEHmk60TcHYVp6bWftBX1wvCjbm/KPlFbaHke2UhmH0g8\n",
       "tPHFSC4kL4QcHKUFNVBARTFN+5t224+/SJDw/87CHtikGmTqODcFW6KvUeVhPphT9hCtycuEKGMx\n",
       "+W1AAAABqwGfYWpCvwGizwPaJH50IgBLDI/G/oRt9SdC+H+nRZKRVgzr+Is4513ZB+ahBcrC287u\n",
       "YwLLKX8sNAAQN4tLW2r23MrVfX+X7fYWawqGBDpdKa2N0fKlHUcKdJAgQO+pP4lBVrlFYLe48d73\n",
       "0LK+prPxYiHjS1dFG/BEDMTTijb0LT2V4nOh/hhCwwtAW1A+aL8gtHrynJaF5ZW+S8DsrHJDOYig\n",
       "bh2uddQ3w3xv/WYAACfanU1SRZRkq7gS+7ZUF5Zr5sxLo3iMSmRhxYDg7WzJWbLQdPHvDbnogbEg\n",
       "ARcfcNo4y7ujttJMPsy5wdDwvFosGqb6vKJTDGV+2Ck1Oi+UVkJMhPvoAWsfU5jCzk2P0edJK1Pa\n",
       "FnoCs9lDULpPkvWKnDR9/oGr1V7fmiEnuwk5qq4rZXIhrorYRxy72VtrPMDz5q0b0Rz/WprKSfoY\n",
       "H/3FGIxzgu6LQMQf7koXYZ3GB5xnwcp8hUtB93toNqjwSZVco0yobVRc3PaStlb2iJvkMK1NJdDx\n",
       "alLEd7w982LhEfd1uFb162yEz6oFTGvbGDJ6Rm/PnxBG0lcAAANtQZtlSahBbJlMCG///qeEAbKx\n",
       "H4ReL1zAS2MhT+iWLBCLXLkT4ziezvmiaJ/Nt+mmnQDqb3uOt98DEPZPg2P3rjVcJLYHCb4nw3vj\n",
       "tNJ5tZv05qZPb/0MWevp5Q/NU4vksx8RjspLBVFNvcVKAqY18VfrsEKekMb43g/N998CPcxfIPrY\n",
       "PTVKKu1sghVwQv7ft7nBfmEw50Dk3eNhy/VZmqW7oEqtKDgPa9qsvTqFjpJ4W0N6Zy+YEmydIQqW\n",
       "aGIkcN9UHSUcgxiY0PwQFcM70o+r11VlUboiPgL7eHPV7kdSoXuqZ6eP0igGm6/1SV2OcjJpJFZd\n",
       "3tAuZEK8rjT60+A0IQ1ki8wW0w8hGLF35svJrClK5BuPy8Xd25uJ9Hjob2OUJ06Hq/5KKlMVJmm6\n",
       "ThvYgdS+dBm3w8+X9uekXbJLu810HOaIJTrPaqiOPMev8kNja3Ey+zihAEumdqFTTDtMg0tc/f2N\n",
       "j0ihv7Sj+a5sNMRkfsfrxzrMIkEUnFNLU9LzwFBdLJkh+dAn6B1n5SuAjvqaL+0vY5LMWvykTa6R\n",
       "AsbNH6R8oZk3J9blgs0ZcuUvwtMKTT1d3Lg1NIoycy+o43Q9wbD/G+Oa8c/Cac+W4zdkPLPTSVPC\n",
       "rusV6aSuajU1pZwyjB/Sh7Qm/H4gLSmNTxIvI3kmW9bTGP+FqDsPlTLGiAfkNquV7Pp5+8S70DKV\n",
       "h+xlvkFSOVYAYpVm3nzFoI2H3ZuewNCgdD8d03TmUq71YRKI/Z/soCh/uHA5NoABPPZH8EoA47eN\n",
       "mdAwkYoL3B/9Q/5wgTfBQOFkhS81658qN6PeJHlSVfr9n6REixgTLWNC1uVk048nA6ei4Vbm+nGG\n",
       "dohYidCCEr56t+WWN+YispuxP1CkvgRG4UQHAMYWL+qiyc0P1qsshVpJ8mh5zn3/MQlP+1eUuf+e\n",
       "15eDAhoxbzXLH3KRdYH1L+IBzElmy/idfYfcb11H9k24tenqKYWGcyDK9E9M8xKZIxldC+pTnZu7\n",
       "uXaSqyPE0AYJt2VDWPx1A1Lcun+KoOIcByohl2frGpbYtFbodJOyl5ur1QOnbI4S2CF4AT89CJuk\n",
       "G7GMNXooABb//qzbgQBaMhFCdWhkAwIa22O0WMoNoc2doN0Ft0H76vqADBbgDFFaBsDPcKMxaZmc\n",
       "ahuIwAAAAZtBn4NFFSwr/wMWvSPhEIAG+JHe25UJZ/sjWmOaPawTpR70ZgU3GIh+m+t5GmuDtBNi\n",
       "Px7drb5F6tC4N+Q4Xx1TP5Tvm8qFEsjXPRuMhujbQ1jqUj3tNhc09yxlkZuvdVhfysBaQ3b6ko8w\n",
       "rGzR0Z8TCWklsyVLE1cYpTrt92apKdd+9GtZwGYKZx1tlop/Lf56hwtl3aptJMSfewdqnNqmnPVK\n",
       "wlAKpI/Y8CJzKfMo7ojzQBdTVMQrzHBaoupWNmLFtDqOk2OKaX2pa5ZqEm+DtvSrd/9V8RS8x1aH\n",
       "bD8vo7m49WYzk+gVrK85oyfST6UMu9kNPd5PxWVvmjKGS6QFEY0pXSKMpvwiExyFDI9JlMafh4Cd\n",
       "E+zHL9s7LfFojGO7ZNp5y+ebY6V5Ut6I626KdWSWqvepgfzvhz3bqowi6pn5uBY5cAebxo4xlbFK\n",
       "IHG2Ywtm5rFHMtQBMeDEorjJ/3pU2BgBi2rA/0/x6u0zoQ+1+o5D9wOKfYJMsiXakuZhsPiCXo/j\n",
       "uHA7cXpb9ygRg3tgan2uRLiGjjEAAAHAAZ+kakK/Ah5DSsipViFUAECRz8WMHkWdQtBGjzjrtFF7\n",
       "6sBU2Rpwsad9GqGiQkwM7uvzzbrwUXtJs9V46rHbAiS6LPyloGNeGi0uKcBmAAsAndK2PxSTJKtB\n",
       "FqNc14PxhWM2lvBsHvRjnBeflnLkM1md4L1OEWJkf0ndzwiqBvfVVLCaGUHfkshbX8FUS7roZ8MD\n",
       "q+mAFAatPHtbaPYa/Vhey6ZQNfSRONshD+JZzO8DJqksNwVRWsaTAepFcUJjzeNanSXXzaovWD1m\n",
       "J4Y371bl83PB9RmkJcVYW+G6+ZO0w5BrR1nmobB6GgoI7uUtm3mmY+5qSJXOYp32rQlgXR+Eecdl\n",
       "lTLGYpVyJ43ytDa0qjbti70SxbBVpmWAWCIAMix2cxGryHR6nZmYKD7D2AfCpc9kD4frezMLMde/\n",
       "zHJKctp1urWOPPLCGJb5lU80wpsS7FUqrXX/DmLiNe/GxVozZzyhu53yCNOF821vw/sSkQNkjr6J\n",
       "RBliXSPpnjUfHp7gN9FSGwRiVTU2FGp6c9l0OUw5KSIACX/WTIQk0SH3QDYF2xrAG7IhMsTCULJc\n",
       "ccrq3wtwKDBiSlv1dPAKQQAAA1BBm6hJqEFsmUwIb//+p4QBsrEfhF4vXMAoEZCn1exYIRbmLE+3\n",
       "e+80Te7mrJXX/S78Q/mYPhgTTBESdVD8cpg8UrOqwDW9N2I94gLtRZcnkcJRDgWuJyTafJKnWO3b\n",
       "1VAPvhto0lyKr59OQuhu+9karoS84lqlKeqoXQa3xDYGtH5MkpqPIKfDuS4QknXAaLATBmxAVivJ\n",
       "HOvWBStZr6CaN0eX5HJFd/b9uBvYTQaMBTN+mrojEvM9t5p7SxJd1MzNYTTcPLJVsZ/vZhC819eE\n",
       "+o4kBsxc8RSKTyZGKuRbkQjcC/8jqPYJMjJwAV0ILWBw0g246p6RWFmlIQ68jON3/3SC10lxDIAy\n",
       "WWcLtJn2UwUw9wjF/H3k/boWGaiE+TtX9hCFq/moLeU2FlZdNTJwS2aF0mKK8EAQDd6CJfYUql5M\n",
       "dWXIygkdhY00Bi21WeJH2cbU51gtMj/x430nBAR+DztbHeEH5NDPIxwgzffnRgIP6Pk3GblbGtE/\n",
       "upLSmKx4gLSZdiNYu2dwulO89GJb/sIQfSfVjKCFovniFwHk3zkppvp2ARhnnrS+4aEoJjUIZWVL\n",
       "o1oYLrDc2ArR8XIiezBlMIIQK5/ugkqGLfkM9TN0rFISwZWE5PDaLX+vWjzkE+lRS79caj/wckm1\n",
       "BolJ82PhVwikBuABkPvh0N3BxbeMcBYBhg1+FKsG+5Me0lWMpEwjtT8BPt3yYarBdh9OJtVy9lUt\n",
       "Oq9n+Pl7SA7fr8YlYOAZEeAO1gRCxqCjAUx7DUwGxFwAKV816y3DT4yWvteXMNml66Srn5Xp0SvT\n",
       "GUXOXiwUIlUg16/O368d+osCj7LppOYZzj73G4+Vff+RWv/txwhcSg7KGDpHVoSLcOxHCcRBndLm\n",
       "0GzO0kv7Sntp6R1FnjBKD98KSqjrR5W3ITH9bQdpgB9OAvIzNNd9EBavXYiyDt0HOR+gDu7uGVdL\n",
       "WHLHU15JbvblNa21bVC6eTMYsD9n5w7hknxVMr0LiXmcD/YAmmsp/+FJZ7SxDn5BEiQTw7dYQFQP\n",
       "tmVI2XNypwWhnBUfPNhMj3un1vyIld3QZBoMlz8DF7IyGZGBo8xYU/UKPVBHhwOJVoPCsD/oMpzp\n",
       "255BQomjkFMe0dkhIQAAAbVBn8ZFFSwr/wMWvSPhEIATUkd2TNqEsyINDIx0JR5OtCusn6vokULT\n",
       "NO+SXi9QoMmE3mubzHs/o/I+Quv1jRvN5OPK0m5Yx8hQpiQfvr/MKAQNckMXhcGNDq5Msn+QWl/J\n",
       "bLZthaEfihrU+88zQNs3XU2mnQHDF/1KiVuF9WU0Qxi7fXzKp/Wao8KlT3ksE7W6aphkBH5auWFT\n",
       "RfawbkxlDW7zBLi7O6cw/XqFwE/oAxGwfE/8y5oDtShLM3CJZqSEkbEISGQMFrifvz6ZWSrxH2zH\n",
       "L+h6sasUtSuYSFVx3emJHeCrsY5Dnzbb8c9ndnJB7XfHc+qvcQM07iBpndvy+zgD3bf3qvNMF1jP\n",
       "B0g4Q8ETe0+A7VxrOUtCp8k3A1IOtQJFCLpjERTeNzi0hBmbq+Plpodp02uB3/bCE90xdufddd9E\n",
       "ElNCj4YI2VuD+2EXgpAOC+IQRnJaeUqv0CPCWEEDT/Bh+V6XDyXSr1J6CHaIJqhMneHwRFy+9A2y\n",
       "ilFWa7by9dKP+jO7GXMvkssAb7zlik6fzVng49QoUZk4G2Nr0P50eFUElkPXoAVvdOhONTCpIQAA\n",
       "AbgBn+dqQr8CH2GqgDhfchVABAkc/G/wRVyRWyst0SL2IkYHMXvoll0mrvP+nQlGyK31NTmiKXcH\n",
       "TVoggwn88KoB8gkqpSJtJafizIPveU8MvAdLWk9UAGQlHGl/sfxEvCnZM/bxfi6ncrXcEx2fcU7G\n",
       "NYTWAKkVli2WbtZYA82xjmgqopGgo4JSZjbTCWtMZcmCZYq+LUg9eZE1Dfe06RvqZ4rjezpti4F0\n",
       "aLUB+eBPylkWfW4L5w+6uqV8rEEOsBmoZg/t+1ZDvPv/5dLzc/deHMMZRtL93nQWvFGTNKEmS2kN\n",
       "6cEeWBjaEB7WwXG3F/VW6cazk9t25lqBB1WDkZ1L68+gmmmgI0764pzpFUeYovYGp+rQU7U1tqOw\n",
       "ENLKr53xyTtVGWC+huDxY9L1cgifaF0eQyiF19phzUupUMJr4m6w7W3pWoirpbpGhSp2SJb6dfXx\n",
       "4nP0DYemaTi4yB9Pd7tF529vmzSZTj6Ett3NxBhGzQ3f6XjN3plKDSk2OxkLwdbiKIj4YzUO1LDX\n",
       "as4myKJqCeDikXBWvaVMl50EVMYi6vs07YANj975uWI2HEfFZnXkCoaXYAAAA5dBm+tJqEFsmUwI\n",
       "Z//+nhAWQedD+BggXND8J6EeCnP6d8nJlQbxd/aPQXdLDx2ioraUpup3AZ1bMckRIo/VS/TGeclk\n",
       "yP/AgrCCsyLIE3lV+IwKVcbFMvjNApXjYQ1dEKLJpZYfZpwex4ZhI8QANlDAj7KRKR1PibkI3B1U\n",
       "Zyzi8h+bXVcxIDlkesR9lQXRurTCM6HiM7VCDjMPeODny9yD+PZn7xTjOhDFtggAOSMhFKIpCOMb\n",
       "EWko/IcipV9LDhrj968l/xWGBBxScQ6SSh920PrEm32xrQMA+22x4yDQBfKnqFFu8eOBVTLZ0rTM\n",
       "LjZcRdq5pPsk3hmb0bM8B+kCWSMkzX8EJWpyD9Tjmnm3Z0vxx99zenEUin/CtIA0PK6XAz90xNoy\n",
       "PURKirlh3LBozy5610PfZqU+92lyPUdjFnEMBkLcmLETYUjMaoi8UW5+S2LSneDnjrydocmZGUGN\n",
       "WS328USwF2adXr79RdeQmHHU8Izv37VCBCRGBiNPsYJyE6JDL65Zkx2NxW+XPVnbisj5kY22doRZ\n",
       "XOmCZPVe2X+XbaWv1c/5TNufdQDzvIEYO2uqLOmoiWt5AS9rlfOxdrtzRF37uuA1bDqlEJys41Az\n",
       "T4TsMuacHTB9CQ+9HrkU+Vi1O22/rae3t6dNh+IfZocGplpNLYrp4t/3vOSJzBrfLiGdg8XBI4zB\n",
       "sMpY3yX6kXso5E2emIn9Y2EvsCG/E0JjKJ1LxToQD5gL4fiJ+479w9a7G/BgQ/hqnDsRH+HFhMA8\n",
       "7TH8lpL5yTFGgk10QHhbxpyO/CXIYGuQkWWR264tNr0mz/QXDZTVZ50ik2JChg37ZFDYbc7Zmx85\n",
       "ozjshce9TyWYp6o+q5AgS//uEUU0Xx87NfqgSrCQeitY2Y6Ho2MOF+Ftg1ryiEgLNgDUBVcAQCcG\n",
       "SOp4REhn7KnJUQLToE9/QBCp4A5H//gUg4U1JvNiFGwlf11Jmwul+Gb0/1GNTUWGSdubZ5nxyS5t\n",
       "tn1qdbSWsf7AN3P4JHDZz8kQS6sLJTZRfGpR5eOpgPpYwtg7R06SB7gDISdT4ZWQ4KfdA/0rmA2m\n",
       "jjNsbac5Ma9No9y/M9+cGVxtgrLsbCxrBpYKh+Lxyl3r8Blv2Cg6G28WEwauMDvo67Je8bmihl/g\n",
       "LeCu95e9GIE8ehS8qN4pbgwpUc/Af5neGvVEUD8qf1ypZToAlMxKIK47TN6bi9gQinejqKnYAAAB\n",
       "k0GeCUUVLCv/Axa9klZqMMlwBpmADajFqncaiUWsOlzKRn6ICcvVVoLRQ0w7MVWc6MoA95ndxfHc\n",
       "cDCNLayDPlaNQ2boVJgfKDfJ06rUy7+fizXz5OH6sLAFn5VXId5HSvYjnPSsCGw8HaUfjoVDRoMR\n",
       "eH2db3KoC+YbStcmjBh/zLZsM2j63fN23y6PEpluzPzT48Fl0jMkr4cuSHG1s5v+/X5XqFkUOrKb\n",
       "PENOth8cwPFGIL1RDW6UPqiMhLe3TavQYIgjQupL4fdnaEAWWegA5dAjjZ5yAQhGglXu3kwfrAJz\n",
       "UDCjayODTG8JoSLGLVWSYmkLJyloSwCNk9ZmbbetELqi/htGErt+u3XNWsjp4KCr8Jn4UO/XvvHH\n",
       "7EaFYQmcyGlX9SnXaqT4UFmVCx0FviJU4stc5i6ShNdumebl76agAPsquoO9/kIe5erThcmHuG1Q\n",
       "b7SB1ihbW8TBKmLcx8VYroMF5LDbQxu1DDwWf/yeLZ7onaKYryL6pTGWKonXgHlymSM+YVeCnrjs\n",
       "JyZrBR0AAAGwAZ4qakK/ATriv7wBACTGR+N/X8xSBKHaG5wonU4tgdOVHCeOFvzUiX7Xf7Vv5Blv\n",
       "wC1hhOViy8sMFWFkNthSwkQr9M0TAS8BU7I1tp2GnSspYQsU0zcdj++/l+8x5KhtINiFQE0cZITh\n",
       "IBx0OZwtkdIH3j/FstvIYcqR1/S6z6Pe/RZ6h7Iuuh71XWb5RObmskfmAFaJhHXyq43oNlxP+x5E\n",
       "hheWV1SemhhR7gi3k86xWG2J/2UnfS52bgoxV0fI4uCayg4zI0Nmljc8I1KtZkCEnN5sEwAz2gb6\n",
       "LZ8wTxYlR8mdYL3bu+6iPgygE5seaxLgm66wMx29T16hzVsd88BihC9d94LUoDynsUR0j8TzuoSF\n",
       "TGp5ebsyD3Sxx4UChbwQ/tiO5T7v3++L9uXETvSUu4ks1V4WCOi5AoGPnPsO951t4bIjPx8siqO9\n",
       "wChpAJADl1mG/VSumDv/LWXpvHoejtoG+vAdjbDCSKxHPTA6g0yNV9c4gbQSEU/XlICt3N680SXe\n",
       "D9rQJBBYZGk9ixzRWjqUpIJrO6Ptg+0Qn8JI4cyNKQefb5xU5ueJ/xSAAAADr0GaLEmoQWyZTAhn\n",
       "//6eEBYyLIAmvrUhJUJ6AgJtfCLNFl0nHwrdIbRlX+oH/7jWT912/EvTID8DKuyCIJ7em+ZpWEMT\n",
       "VkZJ49iQtBqW2dOdONWeM72Vlf+A4JEBNFBf4jfb5Lf+59/bjqptpGC+FhTzpBNiBo68NGf2kBIN\n",
       "lsBMWuwhQ6y5m21dblWN61HnRczD6HIGDyadejciy3XsIQPb3h9OgucIRoJNxAfnQaBoVv+oxora\n",
       "PARW1OUjgrrxOZiw7ZxJYMJ82SdMHTUfhQ9HWwWFuyi+6nCeIHdnfwYrS6obZrFVjfuGMlL430iO\n",
       "p+AaSjSeNeaHeuBVr34w2kPBWjC1ipEQfEhFksss6nYd2ci6Ub9SIizGGYOQG3l37hULaDfaOdW1\n",
       "zXNo7sOh8L2gxBF3wevy/NYPrYZ+qmkKzH0Uq/9BBPfyRplcKaQWhxAK4ZotplrBkykLPE8XysJC\n",
       "R3XRIyd7pQ6oBI/dPg4PXiroMJHQJBdG4auv3uizII/GsdCUznaCdo/KzS8Eeb33aA0P1o8k5b/U\n",
       "zUkaJ/vN2jiLql2WDhnM9Hy+/2tCLok+O0B1QwwaewE73Z8Qz185Rd+lZYzkKXLPZWFpuINdFl5R\n",
       "YgNWGBqp1RPSefgB6I6mMTcf2mS76NJ46paaN1ToJCgpTGkSVODhuiL21t2ETcn6grEblxRKWlBS\n",
       "B/fdNjFphbMtjWDbUALqfl3v1GrlqwLoj8jAPFVLlbOoOvqrnAseNNl2xgeCkE0lzZOnG1aX/BsH\n",
       "SwhcCTm8Ccy0r8fd9QLeKbgJfUEoD9pAi0RC+q1vYbWwQooHvRJpCs91oQoxodf4jWbTuj8OZVme\n",
       "OrS9m2Z7jSIVpkLLK0B0FN8105N6+gMpzoiyiyisFoJGlyiUbcCoNmzFSEiTsWmlbARVtkQ8dg4x\n",
       "8fUXKHXz6iRU7BqHn88Eh/l75s1AYQ8a37PCIHs2nSZSTy0Jd948bqVqT6KddWBcSjjQaL3h4d/Z\n",
       "i2ZtryJ5zDgnhch75BWisCTXKfEt5tiHLEXmBW30ugLPsWNQuRLqglEQkCR3rgRola+KV297sdLD\n",
       "bvtTouofiXMRPoCRVF5MUJlroXzxVYZKHdbI9+2+ADxhX+0UenOJpMrHsUKFTN4R7HtY0spsEj7Y\n",
       "/ED89H9qz01PcYY/qj0Zs7FFEr9mwIBX8vsGgPUFQGxjf9rdIm35Xwndcl52MxfbkKd8yLMeptpN\n",
       "otR4GcUQVNZfpjRQeTY9ddsa0zQAAAPCQZpNSeEKUmUwIZ/+nhAWMiyAJndv50aXSTp+HyBYfIsu\n",
       "k0x4zVWEu+Zy1g9DSuflMzBmZMeV4wgzmB65XWzQhnpZfjDdqtZ1dpNO8Efv6OqrK/VNy+i4ycMF\n",
       "JQBQMzqzVNuoqjCj4JZudG834h5iEQG/AJDe5+M4nwxdWpEwyGFusaP88FUaDEiGJddI50gQwHV6\n",
       "8LFi8CpqaKJoXtn0dS51DIEBD/lPDYTAQhfTkdMGNcRgy2OSdNm62d1YQsbgPv3aMyeTBEmgoSEZ\n",
       "2YjaUfbmwxQv7wkgxZaIJUrCtLZuza96B7jyRF6z8I4SscRreXy8IZCvNL2Wn19vaF32X4UBUqYy\n",
       "/dZ9VmgOYrt8PlV4G0TYydSOc5HHzO6jgXjXoc8IbhFPfvW7IAvG5W9gdmMJbV2fCJtur2rZ9VEE\n",
       "0h7fTRBqT4PvaF6aXGUffMw1Ial3oI7OCa9kGrs2648a9yyhd2NhPm5z3QeHu2ynNNtFXkolbQSS\n",
       "sbIVU1vgfu7abV0ofUZ1uF7H68o1eBf77V8c2jaYWDpZkffiXPYlOHk7aOMjOA+2KCzxrJDYQsUp\n",
       "YwpWsZvqWXoXVi3HHol8hBMeScjTNfiO2Mha/UayWVfDiqopgBUVZjKJMITvINeeUxVJRgNG8hg2\n",
       "I4+I5ajBA9/fDI4dzmOF9fFfAF93RuUyPEr/+yyi6eiMvE7YP+bSe9caNV0nbZAg+C+760Bd0PMO\n",
       "L0C4KrnIxtl02/pOxhNlfgwNR9buXjDfNm3JfBju25ewaVfrceJXxnscR/IuUYcN/UWSOGM6cPL8\n",
       "vfAYi6VJ0em9bFWClvB1jwaWFYv9hZhbtV9N8+dVdLHRXbIv4+whmLhn5zuOucq/tWI1DGVTXP5s\n",
       "bdKs5XnFJQypxbiWjuRqqqf0hwsQqn3LdHYMJCzmgMozF+338HueE7tbhtbMJFGgYPDKEjU5MBUc\n",
       "w/adljuZpyfBoWKvzGX6C5nveMVUDz31X4d7lamtnBn1meQicwGDuhqVPnM8PUDjw3kVxUrbh45q\n",
       "Bfc5z/9aWRYmIJK30R9XaWFfDR6SQSMY83km8gSRmzAWZ6SfGhQPPnGicFSmcecBRqESULYVuHyN\n",
       "MeTfjfl+UBEavxOUql9a2d9KP3kS4y6cm36dpAZOqsyD19PwVoHk+2ICqs1p+FRT8m+FcpdeWy/r\n",
       "bCpN0JNH9tOtFYKUb7iIIuJKd4Vq7ALjsSypghTtuAJs40QN2THVPv8g8J2EmyuhMZ2RFK1Wmr5W\n",
       "gz+VyWKSGiQUiudLCT3poH0AAAKwQZpuSeEOiZTAhn/+nhAWPfdACfkJut7n0k6fh8gWHyLLos0P\n",
       "Gaqw8rl9Onuzd8E1y7asi5DWoNnOZCTx7Lihywb/mcAJXWdUh6+EQHbTGO/lCwRW1j97Heaa7L6A\n",
       "Hur40M64dDTexgd8PQbTAc2j7eRlj/hEZakqJjHRRsiPq9b8cFcDwfr4F9/Fbz5dPqlxwZhAwF4m\n",
       "pb7LImc3oLMT8wN7gpgFB469r9NhWG+THMlAwvMs9fFx3Ti/XNCLxO7DkaQj7/g2BtcEmrIu1OAK\n",
       "PDelj2QeqHbqavmr5ZUyTvT798MN0pM8P3c6i8e0V0V7UPWyQmuBOHeLeUtOX/zBsO/zhbM6rBAT\n",
       "wvDtW8rChkHOuaC8zp2dQ9bBLwzAzdDHSLhZjBCUSjWtN/XpJSoX/Qgo1Gek5NZMP4OmKSyXEk+3\n",
       "66K2z3sB8A/FFGuEH0M46ud9gPJqBivdanb65IMTO6qEdC84tT0xbYF3gHHh0YiCPpepUXNF7RBF\n",
       "b/ZmWwPUMEPP4USXAq8rVKrhp9d/71GKOWKgXvrrLRH8M0rNT5QQtXBHMKx96afIpPn4828Y+4mY\n",
       "5fhbiWBJk4GrPOBwy3RU0qvm66o+uGgG3yPg6Och8vBVbOyvulA1nW3Y9vQTlgmhAZngHCI/eKdg\n",
       "l7FY2ssgzjCuYUGOMVnIqqdJDlrGBD/fjq2Uhms502we58K4snamwaoDCXs4Tv/9O7gG4SZQQTMK\n",
       "sd378VOMAV1BRVL2JvVrtZ5r5bIrlUMcfjR0A26q7JRRgBwdu5iQJTVM3cZHKH/lHbSfJWfA5OCL\n",
       "vu5O5DPywhpQDfFzqwrGtrybBc6oo/ZBniL77zGBZ73ufcVE9vErhYbu+9hqv0thZGMS0T+FBihf\n",
       "HXyYGXmO5asaQ6XESsxdIwForF/RyhC0LQAAAwpBmo9J4Q8mUwIZ//6eEBZCEeACfkJut7n0k6fh\n",
       "8gWHyLLos0PGaqyWZ+097gSD2Av/uFhDCiTR1YjmE5OC8PTOQSSzrNg87vXk8tO2/KKQQ0PSRgQg\n",
       "gMTWLwu3y+OSAYuzJvhiclu+PwT86ng2/3QSV1gTSCbZGNH2K7nDyWaWK+YBwOG7qSflcrP83uMe\n",
       "iLcRcSwsYNc9+v+5pwFc2eAJ7Z0oX3U3VAwyuR2KgsHl8JQeGYVQ7GS8dbZV+eQUGVXpz8Wm3zCt\n",
       "AZpM9Fvc8zy/zGe3WRFhVFPuLTB0S3XEBTr8DWBqZb4kMADsiKINMaqfs6J4moCndT/2tpkB4pjd\n",
       "z2TjSEC7z+qgwOsGeOAE1nwVD1N2axO7nU6AbFL4POGjvCXNovcC1gvqkJdD55wdYVGUCEZQQw0U\n",
       "0KkgUhxjxbdUCIJZA6yqi3Mmv/C0kbqvKMtelKwMYG+UlRfzdjpZLLvFSq6s3QA9hE+Rz4X4h5yS\n",
       "Uz2hWZ3XHKmmwlwS17Eqq4KnecfDIokdVpbMEj6p76nC5+TzuYdn7YYcRNd/912oiz0RGH0URGsJ\n",
       "sufh6/I9vxZ9iakALRLlZm7hSOvTblfSSARi7UDTgJN//gd2DNyfejZh/AaeX/LVAySf/WjJvIZc\n",
       "JwZQkvq140Ls3+fiBKcB805bb5paHx382y4n96ccabcIJ85RAYeACYNu07Zq9VfivVJRUFryKLW/\n",
       "pG0S4ObQ5M4+HH1wu0R5YjwsoQaEFNcHDo/f9vDJhq2gNRG3sZMs5Lf+Uvregf/wnMxjeqv1Z+Lh\n",
       "Q8ZtGlx8a03HRFhGjt+V4EwupizpIdvG7h80OmPSjSHtrYnTNMxYi3Q+SOJz2nvXJWny7vhgxqtD\n",
       "MWrzVDVyrAi/wGI8YIcler/DJFzsUSD4q5QrKKme67Sdw15HK5prQZXbV/EGqg3ebiuxplbsWXme\n",
       "IgM0IRfZcmAIEg7slsR4NnzrsykN4W5YLhR0DrqglXa4ixtr32pJj5f2HOafikiITlGChhrr40ko\n",
       "7J2UGFySAsGrAAAC5kGasEnhDyZTAhn//p4QFjIsgCaFyOw1FJpUc+oj26E3UZu9YUlJ2ttb1PBQ\n",
       "H13DcQXbIslYaPYBy5cI2CF4nWnOwj5+FzakfuUb8WCydJOBbbgphjz5KnaAt3V88Fw8u2Xh79VE\n",
       "xGMLc8xKeTbQSrKQxomuMVf6X8A/RK2/o1s8nULHtEHHul5cIgyritdCGfotgx10KUpPOb4J4kVj\n",
       "jPtH3yCjNkiRulpdK+/axNcSDtmbrgGUKEcHEFOUdbBjg7n3pB/5/51KxsX2weJ6VrT8Jr5qZ+Bf\n",
       "3zkAxGPurbskO/6ye6Lmx3kdNtWwsLDVf3RS+0Tcptw3zZLv5z1HnmVBVTQiLPxTZ9eaJsDxdemX\n",
       "I6Jvy9JduO1LNnaGvScTGP7kNpTzhzDbFiDFI+QgW5PdsdefnLm7VLBWh+Q9SMdL6DIMAsZgRXTu\n",
       "TMyf9FQPS1pUExN9IxcaFNpepviebFn8+oj0MeTnuANkpAcV8Ey4NwMyY/ctUXEPCcqGoKrxuo2a\n",
       "Ou+EVxPV2/bLC0Sst9oBiJsjqV2J1AwtFPKABkuPhOj/LiI8kuzp9aiXQbshUhVXPtz00qHUNbUs\n",
       "gdpCZcB7OiqcSFx9KuZweT3PMQGcZRkttBQq+cScUdpiVixWiPQs5iyEJljtqvRtSPFqSYztShQN\n",
       "G6mQcZEaAXyf1lgvHwLIgoZbH1LIhm2QTvoegh8tqoM5ru+iJQ0XGO2lovaq5fgmW/D3wGUv/eY7\n",
       "6E95yX17qNj24Cowmh3f/iL0lu6mKxcQwZpO5IOuMOyYHJzqFbakAbQPgmeCqyLeMq7FMRgBCd0q\n",
       "HkG/Dce8rsuv++rV5+8EsThTOYyoc+0exiAUBcnqpjypzDLjw0NJbRwhuDOD739cgJ4H6+dRh788\n",
       "U5hVty/0NoQs2359LMOnOtevRJtQCY3ygBT8PUJlzfDdnvQ+q3+YVaag3VrsLxu/omJRIl0Kgq04\n",
       "DudW20JWjPlLcfcfSsIAAAKMQZrRSeEPJlMCGf/+nhAWd5coAT+lSejUbRzRUqLAaTGMvu5g/hT1\n",
       "suQec7H78DUznD7qpFTDesUfcoU2nrhnByqRCLcv4NmBUvMQ2IFmsvykKFDbSF88lN3fgD/KMFbZ\n",
       "N7RKrRmUmjnotqVV5Q6jsAoRAB01mxLFxiMZpw4RxIgIiVDqq+DCPy0rX9t1zFBrTnVIeKH4VTbb\n",
       "KsPHyrvUdd2u5iItlUBUO6BWzlJQ8RbXTiig1Dq5JPDGkTGy24QtqK9m8lrQPT/yii7f0MqG9LWZ\n",
       "MBTSbW0RsXwerQXUl+oswr8hD9CR/NezTdr+eaehdoP/l2mX7rxw9jN1hexV9niimBb25Ira9sNW\n",
       "UxSfwX2l7uicAEf1UFhoS6/bkEYx2r3uuW2uhs7EasE1O6l9KqguNsh1VmFuxJohziibMI0icW1V\n",
       "s39z7U326vKykMipnVUQk38zECPX6tqknwAa6UJIAHPstyGe8fsDv55HivCmL6jxv+1VPXG+/s83\n",
       "nn6W05DwM5AMZPIiOVlcW75LwarvEnPVVs+iwNQ5EWb76H0yXo/NYRInoHJj9qgJE0M3gykclKo7\n",
       "87BDiZvL7bEsg7N4ES0aEIIu+V+08N9Ebjqy+Aq6oTsSB3K+pBrk0gH0o2peO5Vs7BbiVeXUqLfs\n",
       "93Thq/ZdOU6FB9UWP313XXoaOIjuoXr6rshH/JH0Bb8DulZp79+PKsO/4BW9KKUEYxBj1tN8uHcn\n",
       "0g26qCsl0xuWkjIBscJtKtony2I5wRYrd9AoRU0DFEFQUrWLnAEs96VUxOoo8Hb90/tfd2Mpow6B\n",
       "u2A5fBnV8YG97le+C7VuwMxUPdYt/bBc20Qa2hRcwdqfR/+R3NV3nNcvYAAAAtVBmvJJ4Q8mUwIZ\n",
       "//6eEBYyLIAmlH1I/vqnNbmB1ikrtRnwZtrYlFi6JA2jXdvShp1aavnHdwlKBU8r43/N47xLc+Up\n",
       "Yww8HD7AS3jJLslbvP51sZsxFxvLgktJpFekcseCpmSkGVxpzUF+wuYqniYuXOr48Jhd63CqALC4\n",
       "mRF2n3Ob355MwXnvwnAykGJlVdxiBOMwAYg17CjQXAusreXwnlj+D4isHXIAc3hbiWJUJrWGG0uV\n",
       "ZcnXRZpLBpPwrQfBzY+zSpUBkDtR70YSxRGndquLpJAEFd4b5Uway8WAnv9E4lnp6B8r5JIfiPFr\n",
       "iFPWEm/BTK4r+pnXc3/NUDxbl5CT0Vj3SEcONH2IGfBP5EqWPEc3hGqtyx+VkF3c4wUGxm7QGkHD\n",
       "oSu9O+6HwOrP6eOEkG3sSkPfynIukIIeN58lig/2Bnu4oWsxcY+GL4unG1juYKcNTbhnC1dG0mLW\n",
       "/TXDEOpiQ8SEvND2Jjmae4c6ImhbXr2Q7fF2ac9X+X5LPmmlf9C67ZXDOn/3/l76QtG5ofe2k+cL\n",
       "zkXNxXvM+mEhr0w9Ko6JHhUbg9sfQarLahbo078/2VgDQXnWjvlR4fgQ9PuuJhf1/LY/atfBTZtf\n",
       "0sVtMp+G1U59RQRmMFgvSkUdmr2gc5RV89GFS7bIHEhPzK2duO0rPVhyWJVj1liR6wgb6Mvb2ex0\n",
       "wJerwfVe9uvkkCSLhJyAlfwivgrdeCX3Qb6mld1CsuaJIBbnVUhwKl3L1Dx1JmT1rXRvMpulGTZZ\n",
       "uvK2hMblXqPN1Wm5xAJM0UX9hqkAMfAOUCLNqVOsKFycRCQQUJLTi+p1zGKIFzwrg07wU+rhBAcu\n",
       "Geklj/kLllwVh1xXHm/yghwYmDamXO6GOt3Woz0eCBCh6+/YAHSCLYQ64b7KrwFrQ+oI+KQe0xD4\n",
       "7PI66I7XEkfxDV95b6sfkJ8Sx2GJa94pZ1/OoZ5mQQAAAr5BmxNJ4Q8mUwIZ//6eEBYyLIAmlASN\n",
       "Xd591DiNM3hVnTcxSP6ixe8hsKWJPMMMZh8ht5L4y8aOYRj+69JsgUhbKt7YAODK6c+Jo73JQoen\n",
       "e8GvnsDR+n71ghyJsSQmh5QxavjTmFhuVANHM7zv0OZ1ZJSku5/uHAbkFqHDSeNtJ4yVO+Wwlgqe\n",
       "3/oVrq3Ibfl0MjVa4vZwgei1UYqQOrT3/nT+k7Fa7vOQ9wEjRx2qhrF95ufDDBirU6Zkd4sT0796\n",
       "Mc8Usq0a+SWwlnC2X8gs+Zrfz8VvAH5BbKV4T6hnSknK3i8lzStQn9HRuR+T932M4atNSB9UxjuN\n",
       "/s+a2/VVHdgMfyilE+8w7hZA73Y20IIKg1ax3Rj37pIYpXiappfSY0wOGZyxgZBdmKhb+YkbMSsz\n",
       "Xyk+rlHsIn4rwEyU26MGTwCHx/hsoI0TyIVmbU+5XN//7rOSU2x+t7ujqUtwNsT4G2L1+y1jrCjF\n",
       "/uBePifYmccLne8TdgZDDBuXU0q0cHsdcymHR+7YNMGE6VaR6gteW9Xa46eXtIYa0m73+OOPgkOl\n",
       "pe6BZf0s8HYXJW+9TkgdUd0jumwSHsFFynolwPunWJQLnY6ESO0Q/utSgcnWkgnflCRscvo2vjmo\n",
       "w43ViS5d33p01DDieFaanQqxUFGh3CaKXcRZj7lhi9emDtq2SVLpLFKm65IDDLQ+7fUFB8JpGBqq\n",
       "98NKdMygAcJTo0vmTA6nOlAYtPHhDljJMalBz8htcr0wrKyUuLUJFf9Mbi5NjFKzvY9RWhVrsMLC\n",
       "FrM/Ro5ORJY1gz/NE8FAv4C3mdu5LopACH7Dzhm2dJlJZr0mWU205PmESQBBw/Z9LqRIomj8Kg+U\n",
       "zS4nNGWTiQpZul1GIuARBBPtzRhzcetwmwNseh9U+EmGBcsUXodpta995Dj2QQZf6QVaApIAAALs\n",
       "QZs0SeEPJlMCGf/+nhAWMq1wCD0qY+TjdoMestaxQvkGGRFi95DCO4kU35ufS58w2TBor3v0xJ8H\n",
       "tLIjjdipzfpXI4X/ZRIa6j76PvAsgjz8jo5y2a5DAt5XUnvat/mithl08MDk18CNY9ySiWzcM5Q4\n",
       "TkBkHkrmYML/lKQDCUhPH+uuAW61sQgo20/Y6liBhU3i4x7oxcAiISQdpdu2V1TgXNVcDN4DnA/W\n",
       "83rEiEZiXzN+w18TrTN4tZsUy/HofR0KS7/mRJEIGBaTgA7flL3Tg22UIBE/Ft1kCxXBS91GwJhL\n",
       "LNH9r7i7LVIFmAnn8cyN64N3yx2chHo8ss2gSqYhXJkBDwTU0dhw1/mnD8oZiEI8QOUdqkbT/zpL\n",
       "/lBOIEeUXxFmzvcQnrB9Zkn8BKR2kn3iu/Vo2WJut7uw1XnrTROgh/Q4JDtNEVm3jlwM0U7PRUwq\n",
       "V4bPaQu9q2bRIEu/c1h1eGEUP2bAPknbD6pcFi2PiS9JqF9zw3e39+gN4XAEPLJ10DyzJZXMWh1h\n",
       "ku0w/dxoP6mO627sjvBpYOe3z3wpYan/JPIS1nu70fEVvTPmgmbHscuXV9pyELKNk9BSYH3TXcS+\n",
       "Rq8+3sQGQjqdKA9AjMBt5EBB2kxNPyqj4Cv+DBc7+mhuTIW/Hosobs35yz8iiGKx4yA53H4o2JSu\n",
       "X7QcfUZp5XnOGg1tjrNgQYnbZNLfiX2Db8KbSbBewOKk/7PEhuJj/hczQKjHXi4c6bQ72yMyxJJ+\n",
       "bPmRDm4Zl0HCZa85ZslxDhwDWTc4WO0NzTjvvZl4d6Yi48ceLAOkKl4RTqKfs5KD3fUfu0RsxU4S\n",
       "3asg1mWOZXvoROUJDCNGavfLb1SU/gaSwNmD0nNJCSeZrQ+EUgtxBmWPJAmtz74b2EVYFQegYgqx\n",
       "07Zsir4w42cbvX+uwCz7mfYvmMEWeWw7bMeiQPWNkMKlDyGaoZjsl5juS4jESvEPmz6T9QQ9WGnE\n",
       "6wb35EF9gAAAAnxBm1VJ4Q8mUwIZ//6eEAX+GQXzz6UPB5jw7dGtOzllQvCqBG6fzN/jYU+N8uO8\n",
       "UyKROMzlj4MbfpitdQVxGQl0WVNW63UxVRp+jw/zBTX/JMI/IJ7qvMBVMtg739a4PDBRm2UzlCfe\n",
       "r7Eg2xJnXuuNhs5956ejOZhp14IwR0mZYn99eFbCtQf9msrRNOvkZ5ypC1+5Rk0UwhTyQWQKKyou\n",
       "+JkNHJ0/lSeCdmxjv/6OFycLrrLq9Dtl0sCQvRD6M/YHpExM9lWrJhjZ5sbaMLxzdje1AaN1MElR\n",
       "Uk3CHHVjpAirslX1M/sczpizFrAzjAWvm1TUUToSPjQVvh7zebXk18/RVUbwPyE3OX6HsqDU2m1f\n",
       "+PfJGwUcNFNmQO9LN7e8jXTsuKOShhfiIKV7yVmlx6XjERZHoCYvyfjLe+Vs2oe9CT3eQPkzTUwB\n",
       "Cb7bmupiWvyYb5U+JHlnBF1TTo9aopFPX6E7s1NBrIlZv/I+WKb2g0XkrRmp92WeLWaP22l8Wabg\n",
       "uSPgf3e3NhklkewOtF3Q9rVVw7AS629vdHxh4MhqsA2TftFiJiOXL5IFu8Yzpi6Bzw+GFPaIiGOx\n",
       "w226SQmmZgeX9obSU6bGN/dnjFNgQsCTwiNGAbqLvsmhlYbMyvGJ38n+PvQ53Y33bcU4xIwknTsG\n",
       "0bQZgaJi4/YPcWfpXWCZ9GoRCETeSKuf9IQMBxKCeFF+m3j7yvvN5t40+9ZZIxZKTk4PTWrhFEi0\n",
       "NzpNY9X9IEv3a5hPyESmelXdzVYT1QRrXCtxg4snVHuOvaVq12lW+njiGoqFDbBeeGWVEMshC5PZ\n",
       "Axy/9ZFx5vCpPYaylBzcQfqyHFEAAAK6QZt2SeEPJlMCGf/+nhAF/hkIIBEV8sLE1M7sDQAryDDz\n",
       "NylpK/z3UYBfEzBwuFtjeWmtNRYpyqRGwFKsOVnLwJTkfko0XYpyxtIxS7wvbb0SVkH+HHDioQzd\n",
       "N8GUjz8ub2s39ThG8+7kmGeW7TzRxm6FUfkAdy+0BhsswZhBuF8zeCvkYG1r0K4Zaz5nJqLLtRGl\n",
       "MoNMSFNdTeEMfqsEeWIDWQdNzyPb+V4f39eBQqPiq+jPISuMymYC1IW4rIGDTmfWbmyF3gZz5bKn\n",
       "jO9cq4oI3o01R24PSDmTaEjFFyCuT1y4nyhx/mHklOq8v0zeuOTSKe51dmvy2XGqbNSFVL7YpKlk\n",
       "yOwVPSksE2tlBcQC5WpsRHzc9fNfx2+ICQlDLgsLfFT2JLmXiB6wjB5ya2xzPLUaRlI4N1rWcnj6\n",
       "vGw5ATYXyFuHpttA9QmYr4MrI6WMXzER75tFjVq8QrTmWM/8QH1E+tQ3QIgNC/KYYQUs9nVSzAm9\n",
       "MiavqL/iRojRcZMDUAsw/XuYM5g+tOf6ksqkeqSqDp5ccRKGfNVTIsTfKuX9y2iVkzhLEot4vNpN\n",
       "g7lWGZZeHp6jMpPvu45W+mYI7XsXy58kkidC9BdM4FKdhLKzdjX7dGxmaFZ+O1jCZ6NNTIfkYQwN\n",
       "FKsO/TL8HSJqxqrGB/M9y5SXii7XHcezy0WvdxesijFUvv0qtwZa78eMcnrYri4V+fwX7J61Hlqm\n",
       "6MXUyNe2AC5j/y33Nh/LI/oaGMsMgWq8s+3BLJF4Ru47g8aH6KNvyBU8Ay0AITMUQslNeboPrqHG\n",
       "WMomMxN+xFn+ykTbXmyVDn9B1xhMjOTexG1VEksEe8pZCsKxhK0wRn2hy7l1iqRsUXWBxq3kzX+5\n",
       "FlbJA8l7AKPxS8nlxrlGx9rR5S7w16ANKii4zSVm8rJ/QFKF9dkAAAKRQZuXSeEPJlMCGf/+nhAF\n",
       "/J1DS23G/4NCMfLoAV5BlAC0qNCGYy5GPv2O+JuAOqd81EhkmydmvwDBr4mnunXYvZFUWaVTfwSL\n",
       "4g3oWpc+i0kn62NgD60e1q4wEHODzUS7+YXQXEyE3wSxc3PHFf3Visp4ZUbQKWQKTAf8mlUPFGP4\n",
       "SfjifUvmoSrjmO0FJW8olvusuUEtr7rMumn1q9r1dbTT2OgV+XPImmoFbymAbWQo5K7nQcbQNtOL\n",
       "Gwi030+50FZIMD/5Nx9DCEgCDt1NuHbF/Uq/1PcNU3uUEr+DB0fR91+f2353cyDVm+J+mbs/8Cq6\n",
       "zN2WSKWVry5OVJJ2qWh57bDmTrg7XVo3k75PQ6t8mh+R9IviCns2QXKwz5KKOGTK/497CJI6jj5x\n",
       "vSgQRg4FGIg3SH5k12edriUauXKeDs3NdcT2a3jMwSNhmUN+tRstIQtYb7OAv6fpKplOXNob9Zsn\n",
       "rzTg/D97FVe59Ct9Gpgg8bRuipmQ61eAH6IPJhmQlf7vE2wWKwxRXbV9fRL7iNAnuupOuz9uj+LH\n",
       "B4FnrAsYQ1JpDF76Ar4OWdhAj0lkDYt/I1mMdau1IMNypLf5VKW5ROeexGiwbrsGXLpMJ3bVOUen\n",
       "LRXGHMtVz9/FcUzCxJV5hqUXIrR0rlh8FOVupKXY45byoVJ0YZq7rXsDqxxKvkc6/JK8Gb5lynLz\n",
       "l3lWl6PH/zAKZFC8/RSQxjRHy21jFOOjHa/DXLMx87NrCuEBplPEr/UqjP7Wk0Xvq9Wq9QssI9kA\n",
       "HhmetV1FK6MV6eb4l+d2aKEixLqVbs+4Q/dVPqhUQpltGVkq0nOK2ryxVeiRtGbt5tCV06leoxFV\n",
       "5TCEAuzkHtxYD3fi+amVAAACqEGbuEnhDyZTAhn//p4QBfydOu+PR6Y736GAAOL0WZRg/e5A9xBP\n",
       "mqjhJ2HfHmuOKEsw4gbNRUB+XU9Lz7/5I8yD3mCBYmZmRiVwwlNgVtofAW+2n1rUdvpRgSV5fb2q\n",
       "d89YOBoupd9U77zhlYsCeim1QAub78xbOCtwxEm6kG8ia5YgZFIKNTK17XLMRyngzEZnZd1OiANB\n",
       "9byJQrlQ3wjLNEezBOPcLr9mkZEmrSBKHQAGU6eg6J2TKisi+oZM40OTTPXfHzqEDr9z4pd6i1X0\n",
       "4vl8HbVHTNwU/ihMGwuhHUbrFNqznl7Yhsefxgn6pKl9LnVcPKlHhFvpBqbe2NkLWPhxU1zTdpc9\n",
       "3MSc6H0vufgojw3X8t+Quu2smMoti93MV04CMy5PMmAybq8v+Db5DxhL8FJN2udpM7h2lBJ0Xat6\n",
       "cUxV1sxy0DjIieMxitXxUN1FWd3CEjsEVXxEX8adb7DXBHbRvfAYazn/jaVKYT0C5yNtRE+ehyNe\n",
       "fUi7wZbD3oxF7QKzLWEApcWYtEob6fKh48XOuwzyjma8OU2Dc/3nJ5HGktnztd6UwxUGVyo0XkrW\n",
       "wwM+Nq804nh1lD5bzq6u9qKOZ6CfDPaF6ESH7CYMyhWU0hpqZH9ey7fvjWqHAWxG1YiMVuGT2oPj\n",
       "dP4Fc+MgQ8dvWzd1BB+mNssSCGVKNAlNDRyVmUVFP8RHA1DlBq8vpWKhLinlkqx4xY7jQ+SQ1+m8\n",
       "YPV8NPp2KZUnvM+ywozpUrNbCNpFFFoEcZDDF36+NB8t/RA9/cg2z3tm0UJyynoSe5Tu1Q1Rivgf\n",
       "dDlGq6NIKaPKzsFlOr3PuFn38aaBAm5uLGWCy34Goqvw+pwlPNC6vr2LpREVGOh/VEHqLM9GwzAR\n",
       "vfqjZto8apnfFGk6lRKPAAACgEGb2UnhDyZTAhv//qeEAY4eKU3pVdAXlvz4CDYgARK7ajsEl4h9\n",
       "KrKfSQxo6uTqWtFMWYSb0uR4BtoniyYWpug7zI4LLMJ54FBh3BX2xDY74wS2OAvFTtE4c4jyynfx\n",
       "ZOhdSh5BjM9hn4FzKHJ8sV7ll8nq5+erDMA4cb8+cweU201AjEd2KHiKYCzMQtqxJEMrcPGpaNy+\n",
       "Qk6z+pUeQyv9nORNFWLuIx3xq6Il/5ZEI6gImUgovfRyH/f6hsJ8VvqYp1O53zTfupxF8N5nuRxu\n",
       "i3dx/6toMEjwiSRr9CFzQsvOj6RUNCaFaMZAcbgKhT5peGq12CbzHIe8mOYcb7Fkxr5kR8l+46rJ\n",
       "iMG9F5GKttHfqYqwQ43gdd0qE3CwYIWMM+OwEoDXb+n5bD4TP4C0f5L98JnVN4SV7xGUXQAYQ+AQ\n",
       "TcuTHv6s0rq9wPo754sgB/pi9aBc9rLBRTOm1dESSCp7PQlCY2+3XFcDTnyNxIy/WxPnQCUyXrIC\n",
       "TOdUZIx3B6Dft6buaeZ0liZJm7hzQelkj9NdyYGOEu1p808NOl5Ie2lF2mkSUJsS7nDbyS3smKVQ\n",
       "oqFmeo/NpXIMr4V8USZE7dZ6SLxifICDBl+b5RikI2gIYFanVwqT1w/PD606W5iKWv8QsoUWuJQV\n",
       "cbvKWjof1dIb5By88L8zwfXrbfaPfKMHPai7DRqwV5j1RSprRRRqRxJ+z44X0WeYVpXEEpLCj+Gg\n",
       "XRpdwSzaXKYbr/zE5YuLhDb6F5OeIQ48btksa0xYibC6PhSgG7xID7PQiWgUV/WQEbxR2yXCbYNh\n",
       "+iRbJbngj/WtexSB31c7YM1ZEAm+6ZSAw7cvS3ULgTgAAALeQZv8SeEPJlMCGf/+nhAGC3VUIYoz\n",
       "TANlQptLKSy3tUY/cYIkoeXKwdGDZwTA9p9R3puz8biV0mgkKNcKpn18v9hOz0VEk7kRAhqsrxSY\n",
       "RCfpPTiCPCQIIRqCUNy+7XWUgs1BuTaf2YGLvVUoFYQFupsqK2caP2xgBxjsHVcmtbP525y+rP8W\n",
       "+eCwoyfeuBSmQxy1LpSSV0azqCcg2mdrlO42dhsN6oyqGg/JOLuMBI044CB0G63pL5ClKTLzTDEE\n",
       "4O5B4fEK5OJZKoTSyLD6LqiXB7sFX2KvbJOHbiFVcpPAZwuF4gH2YzZzbl9viLX/E/8OGdabyaGW\n",
       "iZ1Z6DZeAYxhNy+Aunacl+Qv8BXxIC+mVWcW0wFOLOeB7W4Wnp4eIXwPLyHnz495Z7k4jQFYT/jp\n",
       "E96Hmhd1bYQ566xoaO2k5lEBSbZT24KW7eyYAjLvWICX0i/H7gF91NzDInxstvB1XDzQjmHt38wp\n",
       "zQXmXYnOju2R+ZGUlJHwcPo7LKjL4x03iyPCmnT6zuZqVpmCF2QMyc4WChi+kz6f3gRKzO08zANo\n",
       "/UR5v4MWfIPxfeJti6gw98JVTmcUB1o44AqyAYpGNwnseiqUwi6mQkAOID6BSMJMA6HUPQUVGx53\n",
       "+czkcKGf9k0FfyvLGHMRqYHl+wsaEd2eXgPEnIT9eHgvRE+uKijR5ZeMgur1hz/6w1sfYAw6KDLj\n",
       "pMMFJp4ubUw1i0exp1sopghi4bVP1VoAwTa7UjSNXOALVIJqxGOFek3LKlznOfFJdl3oLpaP5yKT\n",
       "DVMf1t5hYzS5Of9XLuVSIAskfqXJpLMnbhHoM9dRM+x0v/GGfLDKYYCxXgvWi9eTvYIk/Eo1Rr8h\n",
       "EcVg6CFPOISA8wA89xt27iVVR3D9Z8S1RFFu2L3X3pxh02cboLvVzxcYrcEFsqONq2wnkz1v25yX\n",
       "9TWedqgpmtoxm2X8lNmrFD9Yu9qosnG9VkapHnEAAAF2QZ4aRRE8K/8DFK8BmK40mM0CrdaYASuv\n",
       "2F/6xUSdYd87k6Hlvu8UKqUctzuuRRV612bbE4fNrowNLHHxAmouGV/7cEyqwbXBwiCPWq3HvYQD\n",
       "+o4Edn63NoKWq8g7BZqMDMisIKQ3kZkqn89AUITSU72vItdTDJg7BQ+zYBiGK23MqrcOm30nA7Er\n",
       "te5DfjAd8wrc0gAPjhzLgGImz71VzxJqc4XT35fEEVEm7hFLte9stZVMTMr5GMkVjJf2fQpy3wPj\n",
       "HtFQ4Wdf2Kq2yPzzq0XuUqGZ80fsZ/OHwYXWxg9bvC/iy3vW953FPVRacyOx4R8Go7wvOI6jCLM/\n",
       "GfmVJkeQrViRL3sx+yHYsfpKqkncWldhMkDaxr6eJL5cH2BT95bL9RE8gfHmAtAFS+5H2wc2amvZ\n",
       "CY2qDATkqTzOjMHM7vK11P0tmtBcEII6xBk7RAEq3VirPM1rXieFUpjeLp2Pb3WyYE/AnC9fTZod\n",
       "iwGyOCmTx18AAAG7AZ47akK/ATNZI+cqU09NTinu4ATPe+LcTFEiSZIutxMvNJzaju5ZK0lakEbI\n",
       "XCPOWC5ABATfBRcpe6wluY4Sai9vXDaXsHvmDQPyK3HMBp7K+Zb4ajmD+gUAsuhYf9JkIIq4+DVX\n",
       "m0Y9S8dSbbEmYsxn8RPCvOPF+PfaJDIYtVA+SczUjdszxgMRebxe64vMwBPg74AL2Sfv+q5dGXOL\n",
       "yMvclBCZusdj2GsJAkhl24yA/UZMB9xKbfLFdNm+W/lCu/Y//3ALCoYSg+IaC2+gtfnRDIm4PUIb\n",
       "4zCxljdYuYmRVYWjjpcPgc4F5IrC1OBCPZkzqoYrggMVOABIjzFeBHXNxl7U44UjyYIV0cqKmIg7\n",
       "loZl+Npmlgwzus1KyrLJkUUUahDOTrGnio19Ge8TDL/Xh+5s7Lw9MoACmNzdNLjZlBOnKW7oMlXb\n",
       "ZkU/zp+pD7xUmYChakXVysNGieEJCLNygAcw5oASuihj8Ue2Cntf8cX0GjqcJkZo1YnWV5DTiCEA\n",
       "/2b+ioBPn+l6neWjxb3ArvNAoAa0InVz/4JKOjn7RZ1MggszFG8lTLnzZaVFOH06jxNUj8IvxIEA\n",
       "AAK0QZo9SahBaJlMCGf//p4QBgvPYcykuAFso40DktsfH15+6X/NjupXUy99v/fcbm+/OmgU0wRG\n",
       "TSsl2kUxY+uDjwKKtfFVxHf/Rv3GPof8tPPPuWs5ecTU3HGVTzgi95AvUSmV9PKMf5UjrTVQD2Zj\n",
       "59sHjQnN7YtweSxfBW2SOHeonsKhDpQnZL7rGja9OnhqwYJ/WvZQ/LCvyU/tEopbknGhEQuMpcra\n",
       "i72jyuR93fu1JJVDKTEnu+mWWBe5wN1jOyGZr/SYyKCN8q4jI3W/s2jLo18peubQGOI2cHs/E6nb\n",
       "0/2IgAcsdiM7gpr04ZgSX5EgnoXUJwLV4jmLFTJVRMe0d5ETqUecKyJY/hb0aoUrcf1wvyeLlpRa\n",
       "l6UP3zioanhBtGXs8CaHuDqGVMIu1wPHsXL1CCya4oK79WrTHtOoXF5gG8Zils+Hun3kR/YOrNDo\n",
       "+s/sLmc7YtG1UIUfm4ynr2AdHMUDOyE+J4g2VpCrwsp/rhkVnbOASy61NlOhDDf7/bMK6NfFICr3\n",
       "TC979b6osrvjvsrRUOBIQ6fthZmw3B+STz0Gw7VQNdX7j/CsNgWJXdw3ca1CVShMK61SrpA7kVab\n",
       "meOErADuyuy21rx6exImbUTDUnXMgf31eUON4Re5nCth4MsFvQRS/VJl/hIsQ8rCv4MTc8tq8Cjb\n",
       "+/pZW5nMdewIrSKIKyPnm94dZYniG8zVefu9h2kVgJm/Uut+aCTx7yZSZXsOI8Dl3jcL0Jian3+2\n",
       "hhwIiLPIbsLxErJWb2A6FUXmmDOnvbUKkS/OQaftuYh8hRCmY/zsfGywqzLDhTm5MkF0SidFbT/h\n",
       "aKF1Lvy5rSTHBfkCdzxaHZdMUBb2rs0nZNuCLXlMpFs1XIELj867w+8D4bICgfm42ecwKbf1fGPK\n",
       "ShdKtBBGIq8R8dMAAAPfQZpeSeEKUmUwIZ/+nhAFxc8ybc+Fm0AFrrs8KVSZfiobWn3/LyVrRH9K\n",
       "2lsJEok4fhgHaXW0zwHKAAHGl0Aiz2/yc9Yn8AdnmeqcZooTvNBdAIA8BRUYxqmhUuWlKQ38p665\n",
       "sPg8mEBeswdyklVRyFR6pDbwlhtvXAsmpi9csTVQEn7iTDoFPxWU5qJMRfqB7DAfAmrPuPZbB0yg\n",
       "7U+VQUFJSAsadDUsRM3p48MsCHcdis0ZKj4JhEXKwogy5YoZHX2RzpCOODOXt07YSSHwcVtaYxE9\n",
       "QamKzT2603nW7yHqEJG0bZ9pR6Czhx9ze44hVpv4fu+WfqNVH119FsOdZTOrTHfKw9qp/pkL3MrP\n",
       "pXJWv2VsoiQdcM/toHUscpg3CjKlZ8kuBXlNK7GItBXYk1EAkrH4f2Gvt0aItrfnoF4Pi4O2UDrm\n",
       "KTojiMnhCZRGaSxPyU9PTROcHp/mrd7aLLyAl/hsWPHRDGJE1NXI8cXsr68f4KO0fsrP4hofLbVx\n",
       "7A6JA2SlgJzJd4Do+N9STSWs7np7QNYf9h/R3tEjdeuPB4CgjwmyWUm5fyOYs+YuE3u4HLEjjS2M\n",
       "MSDEZ0tcg4iDbTBB3uVcGcEhnCWZC1UI8Jo4N51KxxtMslA4zIcmClpBG3KjtqgvI1923n+VQgDm\n",
       "DNNDmF9mj3bTc+mZUC0UnsjHgXnpzw4p3VL8Ap3yLkLidBP33cddFFgufDBAoqN61K1s7UAHUcI9\n",
       "srH4+nhm1PPlE3+6+NnkyeqHsYnsSZvvDWeBPVr78l1JXaGIJF58c1zd+WbZ/o12WBk4BN67xGJw\n",
       "oiZJDHxMIYWswVVM/fd5fOSPkbZpeDzmPqOgey9n5iCfqKeGghgiaIEBMoQNFliRquYDZkgd8d6C\n",
       "LGpsaEYum9/opqxQezJ3aRwFwl/5Ritt890Go2RoU78c4u3nPcCnXjrAeVhH94e1YXnNFxB5vH+F\n",
       "ee+lTcZA/YKtJ2YcTBvnMn7CRCkanEtkBo7FWt7fQ7jWJuJ19JQx42vzOswjqTRcB/XMCTyK8H+h\n",
       "dN+nDmFvWlwy6ZdbdsYLjmk6EUBpMAIIy8/vg3JMNvgys9GYuZl/BX1Ka/6jjZL/nKv6LoNNs5HP\n",
       "Nv816WO0KPEAdrB8iwpWJkZkarbzFvZvUL2Huyb/mH5ifC1jvIrSWecSZT21wzMCGZz0+r1SyLKW\n",
       "u4GJRgHfjdg97/ryaXdNe+RqLUSgDjW/pWATUpYaEsWLLdqwxWjISbWgWVmVxh3PIJtaPbtEQ3uz\n",
       "u82wP2kX+5LCXxd+LSk09zVCVuuxZM818ktpdzTiDLmaQQXpUAAAAqxBmn9J4Q6JlMCG//6nhAF/\n",
       "RAFX7QALpMpK3x/9QjV5me/bVMUfFoJHP+QU8qiz+UkfP1DP5gWGjGKe/IL5XjmXmD4J33d6ePyM\n",
       "cioux/4OAEWYyW5kqIpI1aZ7AHQL+1ZaPOePnAo68OJcDGMYwUye7vcTooJ5JTXijeESKLZmLfq2\n",
       "AVnhJI+AiFsdzAM6m2YQUL8EzrjhPXY+P8uVHr3r78LqbVoMv7pSgSgAiaUqwD8bVYrebMQS0o1j\n",
       "u6LnQ5r/RLrvIV1xRE2q4zHMqXn8QpFdH3YB9hp1Rge/ZMEur1yrnh32aodLkBYQoz26qJXHBfAi\n",
       "nUEL0uy+gg+dljiYzp30RyicDV+ciUYirVaQ2GOB8y3bPVfGDxrMwW6V4EE9TtKpooO3XofRp2oR\n",
       "/HfPr6QsCFZ4lQ+J4FwrgBq8uOBKOWeENhSWbTk6EXBPFb10CsXHo35s+n0mWMh7ggn3aFg0t9+9\n",
       "zzJ7abQXDOqHMb98vLJ0AUgS1W/0nXCKSBuecXyOpQclxq2+yhywkvJwLLfc98l2bZDzHvzxC7WF\n",
       "1wGeIrLY2zpsLZ9aDpWGf28an7DnqBKJzLogOkpx5RcDFYHxN1NHmaOi8fWPN3uqZLRM2J7Pb4LW\n",
       "m6S8Pu0b3lCBu0rTCAgXTJrd94eAkluNiHHG8lgM23muvrf9Y0NTHKrse0UXlOwSqv7c/5aK1Fy4\n",
       "CGxU4StFE93TdGwusQaaUI9XmJZ2I78FYRKjKnZ2ty638L57VSIWTrdSd4Tvy4EoDf6dl9lJkkGI\n",
       "T+pnHZGO8gw6z0fuuShiCVmZCIoJEFUptJCWsVVzG34hVN/Bn4VPTCGxgWtNyOFCFkUZA9g0guED\n",
       "xOlxaJF+YOBf4b+XYLEPsvCF03ko/+VoDLuTFZovmWFUnw8dzwCeHZAAAAK4QZqASeEPJlMCG//+\n",
       "p4QBf5YGqjxcAJZP9239GwAZ6S1FALMfAdB5QZOU6Gv9wdzDkouFpU8zqIWpUoxZMvfG3rZIVHWO\n",
       "VNvc5CZvyxoFR3bOrMGyM+CwO/YzOHgPFohe9WT1xx/hGUItqu4fFukrWSOBKweaJr3OoVGARWHg\n",
       "tKzpNqrqg5It3NOidl9tbbJXtIr1ZLnwrBuvhezEo59tpw6Hc/AbCN54hvXpMu2trWAz4mLBQEsc\n",
       "JX7BGYbOFDOqVmqk3aWKKbXYnoBmn65SNmYlnbjKmFX73gGLGE0LPI3rQewb5ev/f74TYpMtS7iK\n",
       "3WmRGV9qs+/GpZt2xfSDwAaQ6x3fPOAxWN+eRWfncZ9TcrVd60b1yJ3AbY4kIKDRsJD7bPrpklC4\n",
       "wdQ+3U1rbxvL5Vho4B/bRc/3oNwiD2oFkPQVYlLT/QtCDHcgm9ZB81lC2NxS/YMy7ZqTLocJSkX4\n",
       "994XOdy8ihKl8G6wWEBMKpGX0eG2NNz7La/H0hngrun51707257Hx4jpD6TWoF12CCJE8AhqiOrQ\n",
       "InV2u9j9+zcId9BtIt9BXcXek/wiEUACZ0nPhWqAILj96DWsE72fA+ffyQInaOoylLi8VOvBwnzH\n",
       "dXeNVcGnMCBFX05yDo9HJjwXFzMtHb05X7puSd/1aPgI0VJHvYeczRQEmfl2AU62ntqE5JW7WRMt\n",
       "u2rCj7g3R66UTVpTaWBNinLDOm4sMTGrclEEKyvLq0dFy9Ih/eOdD1FmLIbJgrhIZBRdV0vMymJ6\n",
       "fFQSkZipkE/AtM7806/mtZDkyhdCGKk4BQ/jNXJtCi18mxeMwW91kmYjs9Ck4AnhsusvlCZ97wxe\n",
       "/53NOvfnpFgeZOieW23wc6aKl+EsyEACUw0aI6L0MENa2h9jPkGnvBY82RzzyctaOj+3KVV0Vb+B\n",
       "AAADUkGao0nhDyZTAhv//qeEAX87PhI6vBakALYAR1ilPeswCoa0vDqGclBx80F3fkJvmQZ5X9kH\n",
       "2Ru2pwyxG+k5KZSvv5jJssWD61ciE7+9FDccZHAQ47hZcny/aNgiKykfd1V2KmGYAuxO09/jmiBv\n",
       "epuUfBx8V+0y3Vd4kH9Nx3IOErf8qxW/2DYjuSu/buGuyDfgRk4WrgPdAwWw+AvqEumt48VPaEws\n",
       "WctUncBH6aPBblE5nS/xwIwcQFrgijkx6L9W1mPEJui96XBiG/YGJmCDFd1rGQQ/2e4nbHEymBfU\n",
       "m0lLBj4RdYHwsNF0jPDsomI2p1IqHxnMXIcCJYnc3XjEZCEaiuhydQgAYFQMUUg04X9AJ3g5RQ7p\n",
       "3NO/8VhIr0vUIEAZZHW/l8zws7An5CYJnrK4EfZKI4ZGl4JaxI7pFxp6BU39NkjRRTkVhEOnFrkz\n",
       "RxYJfGpP+ZN/xQFFHBWqU5CxtYRSMxUJURTkKAE/5RzIU0diWJxlM6ykgl8bbFhg08+TDXeco7Bf\n",
       "tFF8370kTBLUwJwLkjLdEnSErMLtzGDxi4zgt2QuM9kx+x+VAaCQG2rT/30nmRGDtOhWJEOzPL4G\n",
       "mHrIdKKhJmj1ibM3XrJ2M9GgUfVDu2tdmvRfCI7FQMJy3teYCV1zOYho2dyY1bREMxUnVrHVAxT8\n",
       "efinNmV9BFt0vYattHVAROONnaHUg3tGq7xD8bfX/qMcHoqgiwaSVLNCg+bbU62kTVZGrz825aEs\n",
       "kFt8guR9BIYu6/J6ZVBmwVsRvTPBdHux1chz/BgXdA3kX/f1nQZ1l/mYGmWbpyIJDbfJw/uNWIBw\n",
       "Rz2hwcyn2IXg5DKGv5GGsRxwoH4WwgYG6dzMnJSF3skXLQLKiFGXFTeJCKmLEN4F9RSGcHSZllRG\n",
       "chCQQgzcX1r6BKjfE4LEnMPpqqitD0fMLVJmHvgV+kDx8d+k48I82goefigigMX2/ZDhB/33Ytf9\n",
       "w3bKfZCKUfhBLkhKMXVzPpLCgmSRRQBYpW+T2g16tAUs8nAjNvz6AH0ljCoI976Zsy6tj9sVAOqd\n",
       "IHOomFJTRm/GKMscNbX4MjM6ZdZ+sicEIylkIP9pplZN5d8kUoFvxxxjH3wbVOy8IRolVwoaIggA\n",
       "AAF1QZ7BRRE8K/8DFK8AmJWN+I09gAsov49x9+sFyfvPM5+2Lm4tIbOXXhssRy46du01+/14YgAE\n",
       "7Y73KTUYkcJAPgdgoX+/5WDDLXBXV9aCpqk98K1S+BsQ78CbfYfrqUrJ744cIse/5WsffbMTeL7i\n",
       "8iOOZdpi+eX7oo9vqOzhHK6F2AybC56w8PUSHo4D2nTyt2pfW9u4LW0h9Oza1C8RHCLntE7xxL56\n",
       "Jr1OPxQm0JeZjBd5taq4UIQTw1dnMfOmvbD2zprbHtsQbYGGMbaLbpKMpsVyLP353aF2MmrLVWHj\n",
       "GMTke5e62BTCQqXvkb5/WOyyEx3z848WB1UtSUKMLwCHdoQ8lPYA1/4efJ1MusgEqa38uudKoAa0\n",
       "vw8i7zYR2W+8l2B//9C4j0X2TsEsuwNtit/Pw7IOtTWE2YIWGEfktUA07Bk+8i+hAUlw8FCuwBdG\n",
       "2Y4ssMotMN3Rb8Mx3kBto5jvqUC1FAeSAOanu274zW5EaQAAAZkBnuJqQr8BLs8j7CIcpoAE2hiA\n",
       "3m1IlNiin9xOqR9wojmTVVlLIhmGGat8YrTSczkyZ5lv8eTKsU5ptGFd6x3y7kv0Gmff/Z5nwTiI\n",
       "zspCmVqg3XlY+sUgpVc0CH5tZCbEZqq1FOEUu32xPfhocmK/Fb1wSaPS/NtQSCmv9ruIg09IaVM3\n",
       "s6iX0Np1NgjzWBW9dpm02IC464TDb9o63+DyIfOZsSB/miWbRl9CWgJCRlwqSaJuRamiwxWwJabY\n",
       "ZCW+21PIxcunJCI9Hnokda8zysdnhOgj7EKnphTdJYgYOAap4THlvPOD3j9KGsFeIZAdyjuDEDER\n",
       "qMPgxLVpFulvTEk5hnXVw0hKCfRpFQnruozNHVMVGaQQ3+4Iwwk6FezCEuLxvychSVIrCCgHq+WI\n",
       "4E0jEvmMbrOOa9VVihr1KFANN5Y9sUR0N3EiEJA6Ii8xGdL4j0XFTemhdA/AOfrUj4qJOV5tbcg1\n",
       "ZA8yY/OZcoAqpa14PUjVaFYPIBISlZjVQjlVemdJlw5wz+mMgxnJbvpziyI2qnyUAAADO0Ga5kmo\n",
       "QWiZTAhv//6nhAiwGagaip5qWmRWdiYAbctjg6WCBQ/bLj9jJPi3vegazLdKf9qLIqoidrrlGnYO\n",
       "7OVOft5kK4t6hWEXVAcZvZUb92UllfozCDcIb7McmE21BQzBq7ej+C2go0Sbvlb1GlizTAGIifX/\n",
       "pASyCsDNbtOErj3iOkDytgxZwOkyrQr1wwOb6oxrz558KgziuH9mS0xXN9ADlUqrp5VpJaDOeLf4\n",
       "UBmRthkjRrQo3l4PI52n6ZFSXZkuX/4Lh6oH5HBeCw5DW8ITE6+wTERpZUllYuFxTXpte+zbzdGm\n",
       "EJvIcEdseJlcJtpXuePZu38KNGX7YRkkptJfGfOiOd9PV0tqtKXvj7lL50kpR8myZ5ztLRa2ePjb\n",
       "ZDqfGt4Nfe/iJxbHzaupr3bQ/ErlIS6SDRiH6IX0uQ6/OcmrcbkRZaU5mSkLe0p1Z2iFd3mkYlSi\n",
       "OL0YgbyTAV7dn+ODOnN4Y+8+ySWZ53ylOwiJLbUMYzSaiHTEaSS1rAMs8qBqxsqs20q0wZkwTvxj\n",
       "IuSMDruCn/TOH1GfwEai8QW/bcJseD9apX3cT044/TbczKmyI+dkOwMKEmonvpmdr/3sbxvYW+I5\n",
       "Pr4ytZt0AkPvopMJok6R/NEuGnSLx20cU97lDL1mOjQxlQP6NyD0AENUQrFMo269jKZkZB0mYCDf\n",
       "G6Jla/CiyOzca3rpPHUssnSru0ktf4iBQUFQ7A90avOsXLc1ySU80IVbXDUL9zIKA1Hsxp4CyUJM\n",
       "TlhSXqFSPc6/AI8xT7ElZbE8haDT3MzG1wJ/CRXtBi5zzyFqVIor7FnmvRSXrLhU1aI2fvO/Nv1f\n",
       "DzFaHDsFFC3S6cRdKdTAgRTcWIFwc1lsRaT4WJOgrMpiShsFIFIXFpUrCsWGPApBA0et5zcEcQgu\n",
       "WQWws9qsPmfGTptiPC9Y6fsRlec6vVIURUVQm4BccHzYLgvmnE8qEQ+AQPZXvr+TxcupuuQo1Zs3\n",
       "cvPvqPedZAN9q91GLt6fU2tjM6WvwtIJN7XHwF2q25UNzcgzUfZ/WiORFA+Rzi/+vXjRsyjmhvst\n",
       "2NzswXXDT/cGC4CDRSVcyvyxZqrEpuLtAAABe0GfBEURLCv/Axa9LI7GRuEsklufkwAslmnd/5vI\n",
       "FrVse0Wjsz8tpWWXqLmiY/JibQwsIucvH5v5NgK1lf0LjigooRY1neZhWXuTPQ+YkSdZZ2JlbBVO\n",
       "ukSS9iK2wOL4ETCPjBg4JLxDm80H/ygMZKQDw2WGME793SmZsVESgGuha3H/GT/a1YNsukNC19b1\n",
       "SMuR2qrA+iWHDBAW8L9BmmuZw/unJv9paUVcMIDgZu2g1KTz1E2jIE9vpunIpOJCWrs1d159rwv8\n",
       "T8RVv/Db4I7C7El0NXqObNV+JsB+8OlB8/8uyRG5n+ZywZjVZR0EFy7CmZzDc7xKFYKGgPo9PwpK\n",
       "aFsNBhZD0Tv4PB/v6Pc6DR431RnofWDZvYtjjQ/wW49CdlWi3pYYBS5wtBLhapCz4JjTocR3Po7h\n",
       "Y7m1zqqwOQmZEs8CsjLnip6RzvPs65KWCjvOX1mC/g7SVGr979kqgc1JsZOhTo59UXeilLlYJmnW\n",
       "UjetUgqSk2MAAAGFAZ8lakK/AS7PI944GgATaGLZx5WsaiFDo2fuGOzo2PB7+3p1iV0RZUIv3+7/\n",
       "/ns3gGyum9TX29+Se6fc9Unx90jdH0OdpbYEp269JnFTf0AGQNX2SXER2sNjvBu18BjKlYeE9Nz4\n",
       "jmwkVPCgLAJvMAKuQgPt96dgHhyocQIUzH6jqdg9Dz7QLqUjSu1Md36k1OkEc0r3mbaTHO30D4Oi\n",
       "7DSPhQ6+/kAMOhM3EJXCMIGHKFi+lxUnZQloNlfQBHXocailMtTpzguV73asRMFeljsXOzovuN/z\n",
       "f7fxNKiR1KhpOxtHvkZHhnm8wBC4ggFPLgCJnxI42iGAIYTmDrBnNS7jWO+/kT5QUdHInUNsiLob\n",
       "fDWiBiHNp4dB5AtsYRGIH/DWjgiDIqVaHd6qSqPUTHtpXP664/FjTd/yUdP3x2/TRj/NwCrsxDt0\n",
       "CnDPWqjjqBSBAWf0ALF3BRYd7vRNWT3IXrDOLYM/BKqP9glDbIvyKf3pghR3dVDlpEx9mIsn1+fe\n",
       "P4EAAAMcQZsnSahBbJlMCG///qeEAYCE6XT9hdQIAWktj+v+aYUbQjUX4tNjVMDDBIxzeV+EXi9r\n",
       "jM8khYfexJvY3+g2yNT9JuckalhcnL1TYYIfWqvFEdn30aJ9R0sQDgCb4ezyDzN79wd8uB5iOzK3\n",
       "jVXZVH96Tcw/2xF83O7v6F6pML3YGO1PNQAU5JvwD/HnRy8SFpv//HyIDtNR1bhAxIaMhZYE6kgN\n",
       "AulfXQIXr0xGNwTCctT6INdkzmq80LT73VyYnFuR7MD2nC30mzZDrwhvL87mql3dVmB5Eq4P3SeC\n",
       "fVF0zARU0t7HsiiD07bi+wdobiooDQUDd2M4deWakjLqxXVE1uNKKn1OevrrmX8RtF6D4pD2dq+4\n",
       "OnomasJe77zEQVQk0vOAD5amqk++gZduhC2TPjq8ELM+SYyOtmTo7WU7Stqi4LsabRWTvZ/dMzZp\n",
       "TuwnXirFykJrirrsMlmumV47Gk0ikqwOCmr1Pb1oMhVz2RgTHP2M/iCh9FKKkl4Jiiieq2UQjVSe\n",
       "e9qWoLoOy4dQFGELMbcNyFXJW2AbO8rJWB+sfxTy3cbHShn3tyj9Peefv2UUr9B9APWq7nXvfWwT\n",
       "Mtbez9ma1l686C8//zi4BdEnGbq8kxIcgde1OJEpzR6crOAtABi5VPdqq8ZqP4xXiKSCZStOIVL+\n",
       "UUjHQtFyCjrBeaYQzePy6nn9iodH+Y5vMBV4RjGMa4pxHd3Ar1WQ+C5gWQnLyY9/5aH3vH0jIqDJ\n",
       "NfPMEvMIkLKZjN5wXsKgnll+ZA9QyfUABT9esZi8lQ4DOZmxn89KyU/rb96hUNXGzrXHb/UaI5sJ\n",
       "0iW/2Z8W1JD7LSEu/SP28GEyBOsC/tToUlClzAjHlU+47YqP4bH+pbDz/cKb1sOAsnTqctVrcrml\n",
       "FnqQviXE9YkDboFCS4g3/iZDNemipe7NMyH46aZwFUP8wwJ1Xgoveir5Cce6UHkwtP0SfOQAKREb\n",
       "vB/qw6mx8J0KgulNYZ/tFFl1uewMX2W/qaw4I7J/tz7GMnzRBMHyXGtiq0USxrGHndmwgtbYVGzt\n",
       "2Cca+QAAA0xBm0pJ4QpSZTAhv/6nhAIFbk/ADj3JdreHwW700/M/WOsIx4uRgC+azxJIwpBrDDnj\n",
       "XznFykqg+FoHoIUsjo9Gwsgg3ntAva58Kz3zQIM7cj7ROvRXGJoLvkZJ0MVYcwO35E40v55uMarn\n",
       "NFgOj4047/BRwqx3UPqY4/WEBHeeSn7ugUBJtHu1i0lXAsQrM2bCX2FBr/TXix+PmwlLYNcIBBeV\n",
       "f//HnwMmbWsn8qgnbqPlSiurADprCUzy98gZam0ZvlSUafU9CRZxzg9nuUm/ZiY5ewmzDUPXXRbb\n",
       "ntX6qUb3A5wJmrZgJkq5KaHQJdNNjUnyPMVoEkKUgnvEnDNdDu2fn6XTH38naSs/pomwL6pp9MFm\n",
       "PX0cE2A1A8tqtoOwdHmGJCsZcrGXi0FJh0pjIhcc/h2+84pHzrGmEiYeXMS/b3Camk/DDYyxcQ5E\n",
       "l2bQsB8iB9N/JU4yFIaQLDq5rk2nYd4TmdFupJFfrD/s2K5WFAHgReihy91GN5ynlLsNrGx5ZONv\n",
       "xxGJ/3GWT/5GC/tMdqhtfYwo6raHWjqmvOGHduTENKq3uKKNFq6FbxfsOHGvidISQQdDZHKh1GxS\n",
       "SYL7q7mq+M/442zTGb0ZJTMYJGXp9yFadbURXvsNmj4J7OPHetHEElJPadwtnceOUkkLYfzuGatu\n",
       "A6SNDB3iyzaquGwy5RWedt3f8nj5mfjzRxbGpR+PVR8fDYtKCenklIayQJZkC/4wtW+IwEfnn61x\n",
       "wDDAHQdqWfKp9kkZhoH9yoo3J6nRXjGwZ9kJSyQbMcF5OvFBfKrJhx86jcKy1AXI7fVuvNII+iNM\n",
       "0OHBIKY4RLFnoa9QNWDvvsiV6gbD02VkZb79vBVlmm1zujq46p2UAAALz5fijyplqE92w4pOYT2v\n",
       "+Di/T5kDvoIEee91tIZ2I/6ZhXgHNJwsKR1NBprtQh2NiGnvBKP9P/62RcfOYIz5QkWdbooPwGzX\n",
       "DlhUwhk9kUIKKpJClCVtBKO7UJPH8p+Qg+054aJ1dy/SLNT2gYkXssu/gjszDhlVNDvUwfmNJye5\n",
       "h5fE9XhExt531SGoqadqw0mPn4Yf6COc2IHikHVxwrsvM0TgRa7UY7l+mNnzQCjMQR0bb2WzAAAB\n",
       "/0GfaEU0TCv/AxY3eSV2vACavN/+cmOPlHKRyrJDiESqV7eNru9YEMDLqoPQNjVtOmOXBCXnLr6D\n",
       "QLbOVdOwv0wm4PA73mTjQGzGvaHPoYQ2Ia04tNsSkx4EpE9fgJ0TjjukEaJDDYZIzeLlO29tjVRD\n",
       "tPTYtsWTvlqbfJod2zG8QmeoLS9UGku/uBLGLItz+AsAcUgS1kmpS97W5fimCL+jqdiCvuVqdzPX\n",
       "/CJazZA0bfAVBdKz7Zf2UbSKOytP686FdAUwtv2NawEzBU7O2Vg3cJteWoVr4J4Bm7Qz31RCBUVi\n",
       "cQo4qXv05ah2LUSttvDVGSk2aH1ndPTmiFjm8YF3FMpHGvl1hNdKFm9BCwRugKNT99jEQ+etm2xs\n",
       "JfYedjzaKRzePt/2VkJwi8ALU5r0GYh8iUOgxxsWoDYxXfw41dWOd6j3taR9KMxYs3OtAI/rPEs5\n",
       "jBMy8agzY0RPGAFAxPsr2BcqbJzx9JlH5n+am2JKdmnmQNmTbi1GMo6FHLHyxUc4gSiP8Sv+flIW\n",
       "/k4CUgeeWV0OvnQiUjmukCAYGMAedua6erAS6goiinyMOfw9Bfmapu6kymlH0tiwtZwR4XxTpSfy\n",
       "L1mLy1qAmmJZgL4XQ18wz/PG/AMXo6tq/ViRv0x95UkCE2YPgOu8va7ms6Rnhd5gg51nqfDxzIAA\n",
       "AAG3AZ+JakK/A55n2nvl8q6ghmOj6ACFwxbOd+2/UlXmDUHx50zbQIYdyetgGwAwaDpJlIS3kfVJ\n",
       "/LpisM0yb/HNEfUpw8i7LcDytRwiQtWz6zui8QiWaWZFxzXLJhFndw/ZypbUOkWS/AL+ao+XQzA8\n",
       "amEhWewJ79KvrQFLMJV58EyQJ3dn0XvrqEIJ+4QmR2b84P1nmuw2qceMNI6Bm+wRcGVBeaD/2fU+\n",
       "LZD/Vw6fh5L9obVRbxervnwYoxkBGwg3bEUIaofE2dJF5bMFhlP/nUgV02qdLQZn0PUCCYw1RA8r\n",
       "awVnraRBoSC+GO0Omu2DtAY9Ki4vUSfKS+RzpYphEKcqnTSZ7EcqlmR7FXvF2O8Bp9G340sO6RxL\n",
       "DRIbM5NkXL9e6a07lU+mQyYowRCOuzeMGCE311gc1AnJQskBeKKviHovzVA2pwa0Ujq8zzQP8+cU\n",
       "4n3rYj1XgiGCddpKizgroMNXuP0L+r5FdxZxQsP10IotaA52M3RSJY846nYaOa9evz5ZjW4hMP5V\n",
       "yF9KKlWi9J70zuYyQKqW4QhRJVkzmRqimnv28guL0cEFXk6cviSUZpJTgQAAA3pBm41JqEFomUwI\n",
       "b//+p4QCCcuP4AceSIXwZ2GPanFVXpEBKRBfsaPIJBqO7mv8LmpXX6eGlDYtQJxvFbNUCFVx0x9H\n",
       "bbkU1DUTGtGqFr9spXf6129caeDJO1AQ1cKPaoMTRNPcfih3rrnEBPAFYmMtfJmxMUNzLIrmipAo\n",
       "9kwGZdaPuGn9/Cz9rddwQSOmqcwm30B5p9cVGwKkf8z/GCcHikaZzCvVNyJbf5RkAN6wpreGMUEz\n",
       "iFvXBfTBq+sdCfaeDmDwA3kBfAHyE56cismG89UBItkM9zMYa7I5VKjGhK+fTMIcHG6WDT4ki9q2\n",
       "OiZF5mjp4TJWqiMmV4dzZE0i4iZueevv5vsN3hmPGs4p1p7ClU95Br24mhzXwJrugyGlq0bXQNu5\n",
       "huGsF5eHMOk2zSJ21mN0fjPbBel1QkQ6PZ894tw9/4h/0ZRp4bGN8sIlaGlFQDQeamJuvGvvpAJ5\n",
       "IfroO1F10cHwn+WK/3hEPugXCjCrJDxuMSplPbspF4WeNYMN3vYGVNXuLE3zvyg03REQk2GfV3T2\n",
       "z7H8pKCqXgiFtK+jYXmkBmCS1cSoTTI2EpGpvSwCnKE2kL5atXcqIewWKkiUWKYALWkGngHzsBNa\n",
       "K7oR+q24/5FyCNGgKAsfToz5x71BGspZq4YnA/h9EjltGgblglUPEmvCka+ZeA3EdriqU/qMdy+F\n",
       "bRtFHjA7p8snbsT7ptbDN7HSKilcMpqMtGwT1KYDldV6d30/kaR69kN/JBGcRfRt4lFcXLn3vVf/\n",
       "SV1AZ9ZPx6HDbTA6hkyOqIgZs6PT2YHsy11KTDy4X3J2gPsMUevacEegpgCd0Rt6MOkYgmpovNHN\n",
       "g2AzJKojo3KzppI+l6ehfWlmugJCuQ0MQLaYJvTO3227DMkV6z6RoCxikW0pWycPAP7k9bmeDsve\n",
       "yKRlcdyvItIO5K/gwnF/I/z4pgfF8skqB3lfDWQBlTbpXohufwnNpkaSjoJenY4EHAu4ADSc/zTE\n",
       "6OxpKB0SyBDzXpS9nwt4UXs4kwfoGNZ2cPYBXi06wVGtWRmKbncrFODs4ts47Awi/dXzY1pxry6R\n",
       "Fymxp1GxjzePw8mq+/hycmS3phm5pRRSC8sZuHefVahsIsvfOtyPVgp0AMl9S+FOkuMEtSAprgKl\n",
       "E2497Qde7HP63Lkqrx7nigQ+J5O4l6wO0gAAAaBBn6tFESwr/wMUrxGcgDNYIfafJ1o3oAJ27L1z\n",
       "8h930M5SRRo0jyCR0TcnRFG1PQ8BJpbvAbnlP39s8x/aZhQJBsumOufWsXEF6nWbBogDtTOfeB8y\n",
       "OX3iTXo9A25VlnJz47ZYDobWxYJrNbnk7V9+YquZ9YTypwFGWT3MgQUYkP43tk3mqW99EVGY0jZQ\n",
       "EWQhJAocPkOBvb9gnCWz9BCjYKMhfv2gCS7BMhOoAEA3VsLywN3z/Nf+OMb8SvjIGdEjY/9MIXqn\n",
       "nbcA4IbUg4oDSuHZG6i8o8AR5e+uLLWDYFPiP0gJAlte2WiqnmplHy+xPemrXOP7ssnu1GeHgM2a\n",
       "JXlQBdAdIfTL6h80IZJoKUXY0wLGrMIL/LlDfauP8euK6NhEpX6KpEGqAc1LmiKG3Uxsg7MbFbPw\n",
       "LNKYa5k5b7mkL+cX59GbqHpi/mz9fXkmjkMk+sdFu2pnybqXs608WBHBbuofV3r7jH+XsBye6uy4\n",
       "uCAaB4alLTyH4CbJN1Imsm/qFZviJzEowo4+HYywAnRgnEAu6v8XzSslHX/7kAAAAa4Bn8xqQr8B\n",
       "a8ur5bpOqL96AAnaU1cjjFUGj6WApc1y1H3GIkjiYOohCJEJO0XfS84wiCJoQk+RsI2uSyqqUoJJ\n",
       "QmAm4b3xEVu6BBQtqrgnbYJPPCVxUOyewJ074pHU7n7by6gJkn1PohRI1peV1zScHsf60qPuJFrF\n",
       "NjCTJalXx+xp2jNGE26Z3UZzzyxFKglmw+tpIJJuPZ2YBRz7goYHathgfHaFCSaVNeP0SlDw1eRQ\n",
       "xr42rvOlVFmTMEV7rUfmSxJPxXBJxshU/WC9GpLREMZx9QDC8tqCBGpylbvoIx0Fl00gIvSfQV3w\n",
       "rlQMF3mR3n1u+bLdbMIaVS3zTNlkCktOiiIIBgDd1Dn37X1MG1wS8+/oXFrNHl3sDsTDofzeaUTJ\n",
       "DZA8hxlSPg6saL95sf17+d0lI++PNfIa44VxHv8mE+zASMyICwdnbuxcTnl8yJZmmfJOJUiFLim4\n",
       "scXUsq49eHksNcvEA/zKbrBl1PsQMLlQ6lsSHmfNKRybLWudAKgLPnC2jNXDK3GAUOW1D3z77ri6\n",
       "opuiCYj/jO6QUMI8xNSwGaPHz2ou3BmxAAADPkGb0EmoQWyZTAhn//6eEAer5v31e+MAVvVVXz1p\n",
       "9vumBkgOxVEEBL2jecYeDxjvEhJhW07eGT42fzVNB1n5gwqCFjJFzWRLV1EpmLoHisFwplegz9Lj\n",
       "k8I8B4oDPumixM62IUCcPnGi6nZEW9GXeNIp0OXJUpXc9zoyzCsA4PWRTImQZtaUj/HJ0wQNcfhJ\n",
       "s7HAzgozXrjuKvwGwCYavfSBYsht390JnC3RzPs5fD9+fXpYu6co3NIKvERRO8CPcJzhOuZ9GGsp\n",
       "cEik3EFQ1YeslemtI2D3QL5XW8Q8IypCsbKUKld3Cn8Mkrar/zUhMfmKK/tszEkKowj831s7y3v0\n",
       "7KvlA+JZf9jK7Pn8wLOpxkD5H5WWfJDo2yPu7oX1j8YQ6MbxzdmzHXLTvA2qPAzixjeRzD8t0GAf\n",
       "Okia1liAa+Kd+CTB6IS1gZ69USyYMrJYTybse0DbjCp7imtiPxhUAsIpTGAuOZ0Z8IV+E1Dtx5Zm\n",
       "PA/c0PgCWvbKPqd7LzpJu9jFQfL/EMT580QjI+m2iNKIHx3XbEbnhkIF5LEd9Pr93bIsvvOGRyLT\n",
       "g7WPYYS1pCruyV+FFOQxUgnz51L38VoXKaw9UTOKqyyKG3oc4+f0YR8ymgGnfjOM4SMeZx4h5zYj\n",
       "EBEvrdQ0KdqMHcJqupZK8sVt9aAwehqnORImQXq23Hbya6lkJpjzhnTdDsEtX082uk0KgbN308kZ\n",
       "u7AhWinmQTvRmfExX/ihkvDsvSRLxDXyNdwBZ+g969I5lISZJzvpKZN7LZntwmQdlkscvyefucM6\n",
       "OdLYJlCKAlnKR8KFMzfuApSf2QrAKYhQhO1LoqfqfjjjpjOD73/9G8CcZnDxAMNdSUXCplMUzV0a\n",
       "2p6em+Otj9HVdDII2EftrcB3Ukm7Chw/d9Q/5qyxeLj7jsnGszqaa6d1Qjj31iL9acd7LH8rU2GO\n",
       "Qjfo7kBOpXhlTEAvYDb1jPtk6XItYtMw02aQkZv75rH3GhjmB20QuILE8P7D4t09scFDr+jU3OAC\n",
       "kDZ07mHGw6xPjPz3/n7SAHHt5FwWljfG0RU76a8ycxuKHn6iI+4Evq5nyBjvaCs04z3GfLhq4SCk\n",
       "MSJxAAABlEGf7kUVLCv/Axa97yGmKUCZTRpTRTYy0Av+8MYwowRa1NGimFh/NqAQiqZhpPYAcWPY\n",
       "Sb6mnae+POBD8giLOKKkVQCy1ylZnwEYzfSIpT5HQR8PXsFbwlib0QAgVFwFK38HUAB7k8PMG5pB\n",
       "iw2hdHC+WDA4VzfvQfT59pMTHs+tNtIc8SyWffE+lEkuZd+BrO+JejKI1cRb4u+FFHtR+E2R59Xe\n",
       "T40pRjbMAHiix/XTGgNq5Zov7DokvDHlUVUARrGpeNHDJYhZYodeTJX6EHr6LCsQ4enC3BbQ01mz\n",
       "N/5ryFfNurbvtOMicYNszLiv5yB23cKmO7l0umyY+Dsc+OIdho9O8jr7mvJrj5rEGdjb3ew9cr/T\n",
       "hKuuP7UiY1Lz6rrzQTpUtqo+dgJ2H2Nr9Wur2MXEr2UoVCNxDaDFwj63IToE6ETHLXET5VJxVGIr\n",
       "3kbe5QvXbTTABzcfFzF27OTgxE5hQsYDbcFTyWvOmRiTlkQryy620/ekWpnv6l2D2PPFSDi/6zO+\n",
       "Tb3fSOgEbaZG5OppAAABvQGeD2pCvwFplcETWAEKcYR5HUSIHQrmJupLED0EYAjhoOK+336sUVgA\n",
       "sJX5vYAitEs2vx5w0HTP0DF4iGica1nlEm7di3VJpms9rut1U+aNoKb6+7VgUyISgptKvQ7kxu4x\n",
       "HnSK0hvpuCUFU99LkrUJJaHdOsdY/YNBvt+aRknMpB+vrfXAkngDRtkmaNz+DDGaaJcCNLuJNM0j\n",
       "WkFHOgA/9jyyP2fy2qXYkwTNltwySJs9ROjP3gNuNJ5SKXEfspNDh6THZqoF14VQsiDN8aiC3Gri\n",
       "Lmdi7wCvfuK5E1s9oPGgE4OzUGTEwWUtOExqRS/Dt6mrYlYaqaY4uTgX2pgavv2UW20wuDBsJaOF\n",
       "OhLg9tiz9Y42NpAUcNwnefWrrHyq1ds5IIHyUvYVmoJizLJE6hoVRXMOmAcUsNOk4iCwq/7BqxP7\n",
       "7iK0oh56aYmm9wcdkdoUddZE+Sgn6neUvOXIzV0B6dVrMApwfqE2RSlE1eN+S1QnjCWHXXgoG+cy\n",
       "tfpAnkUcEsn9M0JO1JCl2MqoKb9ZFbIKsdaz4B6DiEcrYt/HZiHECRFVu/87PeqjfWmjnoHYTFvI\n",
       "yvwCv9AAAAM2QZoRSahBbJlMCGf//p4QB7YGWKACw+TAocPMyty5gDqfDuS58doYoinyn/ZxOE3k\n",
       "WgA6dIJqT8bUwM0wI09j6PWTt9rAW5XzLjw4evvqdpI1KEhj3tjiFoZVYMRk/+EwzMiMvBmu5ilf\n",
       "a+BO19aXkQDQIKxCSjmWwQReIbO2HPiZmMUqFyTHQuCt5TTb34qZId+ISfIGkg6jYW5BLD/O01Pk\n",
       "8X4mi1XGjKlXK/Sfbu8YH2OO3GPAW3exiFoiKkyE+l91bC/K0YQ7a5xGEEAVPWVaFT0Upx9UkoPR\n",
       "/+OB4IZwNRCbh+fuC1ODkCHRzRq55F1Ac1Ip2pOt9zFS8nqBoDEp8AwDsHWicQsTygetA+vHyAAU\n",
       "LaNWzMv4FR1HE4NdL6o35FRE/oErinlvjx9e7kvaFxzZl9CAxIVkn4lnaSViaRN7+tRDxmPdd4qa\n",
       "4HAeEmnfgu3RfzwEStg2fKX/Kqh7qrZf4cuWSvKiK3g+256Zo1SEYhGSJqoqkdaubm3ot5RYHpHv\n",
       "CMnIKUKTlaBqUqv74UISf8AcLKb9Kw1XhB1XDlEWF25x0xyo2lEfhih/Urhj/N88xqxwMB8/sx/G\n",
       "je3f8dzK65Wa8A0osoEuygJ7MEn/KXRblJcyJAJaWPiB5/GgU43WGt9SwVVHAJMF79aH2L97HcxT\n",
       "mYxnw+/a1mAjfQ/BP+dS/fLVdYNE2sMxSdTKMoY04fvql4qY1iE2bUVWo5ok/0xGxoWL34BvusWn\n",
       "4Q8v6vAQcNO2bJdPBEsdviO/MPzdhAS3j8jwgFHhRX8H+EBKFB9k3b0WsAIDtapwT/SNpxzjHBsA\n",
       "s0xS2uS3316W1K6p8gNOXxUa18n6NKetbzg5clh2GtUYCvYBcbAzJviWt4tyS8Hra/oots5DC80h\n",
       "576mT4eSv+4FCnYpgwrsKWggTySn7ouEAb7F+R9U8Fa7+E3SoerC/QVE5yNGD6hT3L95UXmSFZ0G\n",
       "VlAUbpShTOQxgMMBmg5yhQWJoIcPTVDsk93H44bvCTNVm2tcNJY1csoIC8Jouu1KxC00pGwemrQN\n",
       "EZsR6prl+MldPOtO4r75TJCXhZjelISBgNd/pRLU4bUeAAAD/kGaMknhClJlMCG//qeEAgaVWzIA\n",
       "iU/7oq/eYCqirefEIpOdEGzJmUAiHSGfNciM1OQf/4AuMMES2pHaN7SGsC1SEe2TVCOc+ju6Ia3M\n",
       "Z0ITWcHSLNOcPVIsb5aRFiU/jeKt7vOobz4IhhpIuoP3nGDN6QrNI+Y875gHdrh/Mj1Ru2J3o/ha\n",
       "o3WHaZ79hvUZeQfEdkahab74Np1OxdKioY0RkPeroFkdbkwBPxDLdbp6P4LV3vwXR1ufY3nKw345\n",
       "cmocV1f3/iM/Z2APQDowyXKCP97TaRzsnZMySAo4iIRfbd1IbGOuk7SYTC69YkKYTSG+XtT0+itC\n",
       "pTLFCV0QvJT4yIyjuUmo0nW0lXIovwI1OB7/vky6KOYpwhAcf799gPOAwC9/rvQMqhuwB2mwDIyU\n",
       "HkARWBFEo628Xzr++YlKWDilHBZ7aYrXI59p7+wmsVTIXSrlG44/A3OVfV8dPsaPl6oDa8V/LL/U\n",
       "D/KP+CKqeeO7iIVYifrkr05Tq7R29ntqTrYxX9/i3mgldDE/gCYiuWjAARlqTGd29rNowLyh82Of\n",
       "jA6jHPeuULH5Y9n6QeLsM3SRp6AI0nR0UpMflP1z2kX1xmtaXb/VgTJI7bx+lsy9tcOBXVXf6hw7\n",
       "gjZzn2eE4I2HIFiPU2Ngru1CLaMrJIr/JJx1i5F5OJB2QCXvcGkklcy3V63VI3dFtAGeAagnaq4+\n",
       "6Id1qKTH+BmY8QKiHcbsPxDYV7R+Hd13IQMC/2SnOcLlj8zt4AKZui/H21ZHn9ZJ7lRhgYlRk8oH\n",
       "oQaeywaaPxvxiiE8JOQSQWOHhnPi9ExTqY4dWQK0rVPZz/2gYYUFlWAnhG4HAaMl5mLu1Yd6E28p\n",
       "MU0Sy51UhZEyI8diYIOlmIz64U4kcFfO/NFUfiwEYeqEnt25CiLTIwD3FW8eXL89XyiIEAr2v4i+\n",
       "gU9VFOiVhjTD8aLKSSYMnKcg/wO638oJtx7vS7YB7Nnqpj8HWKFHoOgOdVf3XORAdpLGsjkJnUT/\n",
       "k6DuVXwc1rmJUvLoXq7tbjO48lkJ4pqfGrVorQPfAr/qe0DNn6Cmh6zaI1q+8Ej7fLy9lnSiTByM\n",
       "zqn/A8AIDw72sbdmNTa9JyUjA+y2IQs0/5HYpfP3P+de3tdvTImRJRH6E6UjOonlWVcbbnP61Mpr\n",
       "BCeoRtRVkxZ9GvQRnM9s837wRljB+qI9xUQfe5H+Fmi/FMxXbJoIPWXRXyVSCtEO5H904rQ4euvY\n",
       "M3r4ykZKKMSy+eKfTXbfw1gP3P+PqeE7pNz353mQwSfY7N7HYmDaMRFVpvGftLNHex0Lk1Ludq+I\n",
       "5XjveHyB/mN65XVpVuqaOsEdeKHIkZNBCSuHc8DI5FAxAAAC/0GaU0nhDomUwIb//qeEAgOXV78t\n",
       "wBEmBGAQ759nKz5lMnB0H1hXrCRJlqg8ug7t+eOjZA0+lAz9qdwiMafElGT/D/d+v9xUc4lQnICH\n",
       "BPqx3+fLLAX7i5uodP/f7eA3K0AOWD16ySyaAXbIYmoETqNmGviM++xlE7Pu7t0cLo9rLr+P72nh\n",
       "5BBJczR4hbvUdAQUH959h1KFzsQO5zyWLddTxJYi6cvrU/AeyamiyJ0cSgal7QUMJUCOi5AXLWGW\n",
       "wu+huW9SIWEc2TdhrvR5WBludY/ZJ/LrNSsrp5Ss8CqXuwNomN8yNoaXZfenyglTfdjuE/nj06vS\n",
       "zzKDK2qQPa25AuA8T0BGAvpvCWSIqg7pRVfLUO3f6AOUFIthYVDMMedHoSCfCtKX1sATNP0PF/1B\n",
       "wskkCBlLsQ7+8Wk0zVBVTed8UP9HsdmCDxQJJSn9KquFahdTdxyIABxZLzxjSuiGQoyRH+qqlNuD\n",
       "jVr+Rxzm35BlKU68Ot4Geh0d1ywEOMZRziNVJs2hklitebT8fy+Sncei97JUQ9AAwgSQt38NUtIM\n",
       "ENckxSm9rQovjmdr2tos43oq8cZ/lJsS8slMF1Fj0Z6oXN6+FVgMzd3hd26gC+tV6GpgdT81cRN/\n",
       "wgZcbAgOBRq2wqoJtFCe4XLT0+tkkMq2XHqUZIrWwHU3MdERH6dX1A3v9tVXVgSkkCiFKRbS4UG2\n",
       "GpB+ESIt5g/zL4JYMcXia11I9eo//IyliCfqt3eT2eD3iqYu5WmhEgD1t7PRdxeSqR6EhWpI0pH8\n",
       "fCx6MA8xcomxEdAh1H2zUC8IoIKGWGr9aeirSBqGtmS+t+Q5HcYdkidm6+s1cJ10Z3Xy1UjMYDC3\n",
       "dTk5pOhRasmpVXrSWLI3IKrkXaBtmHE+mJ+LZTFfvDN4WqiEbtpfX7e0yue1yiFJ6eITiPJl9dDX\n",
       "qoskARZTZV4DBJ6RqXQTaNkgJAesgZmTVnwDU/mcHocvOqUfvRuiq8ytD+sXIilY4y1yXt73jrd+\n",
       "++PtC2cwAAADO0GadknhDyZTAhv//qeEAgOf3zV7oAFhtrHxm7EW2W++ioL1EDueFzhBrW0r7iwc\n",
       "XkWMIwQRHbcx1vRhpGUIV2gidBJtLfI/zwV3Pcu3cVNLVVN1Pvm23874beCDD+gJGFbTWyudy+FR\n",
       "rY+xTECgBFo45MYtG+EkJxksyWf6JpW4wQOTqqr8ET/e6eVKSlUcVQuoBTK2R8qEWEvCAh14f8B+\n",
       "2gNIwlAeqhkLseqy0peJ2fBupsGRulZaZFh+PCMB7gc8cD+amZRr6rc2jD8UNq/Ligx+BrzthJRj\n",
       "Uj6zGeAa95FJLMNx9xqXOB0x7l5LFrLu4+/uKUuExLLWeTWgdMK0yFYnEHYAo1jBAaXn9wvQ3fzZ\n",
       "Lt8hCMdtc+e3aw67ZQfpWCHd5rSSk7tNgRGXDMw0n/BHKRkgNzplOeMyhHuH+SLxf9VP76tBMt6u\n",
       "HFOle/6WKs9EbUFimBAj8c11lzVCGuWLBlp/pkN5BgkEL96NUlq8wOtPVbN8iTVVMH1Ar5qyamLW\n",
       "Z4r5saiK3En3sQcyhSnOpIYTIKG9IXmmNZP9Zqm0v08hKJNbuXXzEVjacZQbCkxRGQOJGhfUERp8\n",
       "YzkeA7Igzo5A9KUk09QwKBmvG76AlaKvwo0jCs2OLmaM/0LmR0OClleWb3jiyFHV8q+XgyNadpWm\n",
       "Qkkq6d6Rd3222IuXpvEhK3Y0XK2XM9M2Zqrbvaxq8DHbu5wvUt1LCqF46HK+1oXvP0H0jioZHKPI\n",
       "TW5zjB5bwK/4GNEjqR0MdYZ9eA/vwQL298rHAbRxT3UZ+Pbmgl444C9PEp4N9wDC7iH2ImbOeiMp\n",
       "nU1H8QlfzfpBSbcIaxznjwmpTm8/Ohu1Ufcvr+axndpNdvNcKiaXBLu410GZuFE1AUfe/7SswR0L\n",
       "MNGtGvAnMMkKzvgIa03OwuP4j3hj7VNNnWFuPFi9j2s+AlqtnfWzeHv0HuHZ6Mx2yfe8CI/0tUfu\n",
       "ex1vs4NGtipAoLzw965prL+MJ4mhBiEJtHveaWWVf1isQ8rNYXNwsZwfLJbivYth0m2EKhyh+DUh\n",
       "ZWeT0gilGEauVWS8aYaYt4CGIamyDSMobAe31psapp8d5YNFtJjYAAABnUGelEURPCv/AxSvEZx+\n",
       "HSXn1gq7HAPmGSqz+2b8KufVCZv1+QvqKAGZ5P2T4HAbLowqQIzLQGpsDzU3sVLFBQCipM4OCwAc\n",
       "bznkBjn8NbYi2p/1T1xnlo0urMUoQbe6peW8wNquRyUs22Z2LYur4VotTjx7OPXUIag/Hu7/4g++\n",
       "F+Kri5Or6pXI3PkK3r3U3G6Q89SOmbB+Qjv1YtG+YoUcR2lvRLkNev390K1Uu+6WCrf3eD3oYexB\n",
       "2P417nGktLaCeUmwiZCc/CxAmzPHPqT6WOLhXnu3YdqQClVR93wQonljA7f8DhRTTuMgvcRBk8gV\n",
       "Q0wIEOb0iv8zitDS0EUFngiwaoN7WZLqgp8MEXhBhlEOtbdAAFOBa0ZGts5XZArOyEF/fMFRImhf\n",
       "u4MCfVB1tsV4kZWWygzZvn6qO+zVzu/kNVEPsJZJWLxtI4B8y2+JYhhz6BARAZxa9VkCenPxANms\n",
       "09F/22q1eaM0B44Ax3RUFxoDXYYhYUAqYqTyCssLLcwoN7GMXRxlAxmHq2wyXly5zWpcCllHItzZ\n",
       "AAABYgGetWpCvwFry6twHsZL2Woj0O0tQ7cakVMGh4PM527MgbcN+azjP5ORuzKxeUNGL0C3slY0\n",
       "pZ1XGXDR8ORov5GFiXoWboASy03eq17i7dDiGMtDvse9Hr1kaEhCDsuvAcIzMeopEN+5XlQtxxMe\n",
       "TE1/wU+RNQp2zRbIbzFz18Eq2GYlZ9bdNw61St5RTfP47VCCIeVRq8uNUCyp/ZokF5h/M44P9ctP\n",
       "qA3Lzis+ffvVubIJfCDP+530uMn+squw1SY3BmQH49tvHAvh46ADPRgFhSauxMjrQNXpKGRu+igQ\n",
       "G8SAZQHsIv5NIJeZd5ey1oHxECxA9P74qUFS9qGMXWlUKR3mw5wxndJ0SZsh89NjKwSXovlgdgBK\n",
       "Om2OtwY78KmWotn2E7ZOinweOWnkz3xG6Ky4QT6NClG2lcbjGOWOtTjzwiOOGb72vN+tc1UkQ008\n",
       "PnB2Hr1kJMr8vklpFnVkQAAAAzpBmrlJqEFomUwIb//+p4QCBpVbMgCJrkIBn67o/l2675XQ/sBS\n",
       "PRtYM2A3b5PyM7dQesirgpwM4qndklkgjNrsLUJ2aVscs3eG9vm+OR2/8S8FDsVQvDW/tVYbp7/p\n",
       "z78JHtiuyKo3TXUW6qQlzQJ4gSwbejBT0Acv0xlUBdXD9bzh4Purqmrsx4dvrzVO9nnHZaEQnRaF\n",
       "fxlyecF8ZA4IzKtEaFyiMT4qngJLRdEtsbM6Qa+o1cKUAN27Y6NM5YxDOJDuikEyphCmE567OUV1\n",
       "b/VGHANmbaKsSeev9samMbWG0iFI4pRewZuci1dxtEZAMC06Z2mbFQRVrWJFCXIq4/5aQDRc2o6V\n",
       "27b0FyFnpcDtHALAGIOBEiyo2LDfHsq4ev8IESVYLnhdqmv2v3JfbdUFRBpbGNpsuf4A7G9Ujdbw\n",
       "+GWsFgPG1KjBb6hoawJ7IFp0bpWji4NF5XnvGCjjKYN3qsBaW295A5VveBxz4cZN7gB1WPiUKFhe\n",
       "hRhF8jKkpjaTtdKZ0tKTGCQhx9sZZ7LAUfO30ToszPGT/1FXHMl2P0TFWEH746iwSuRPYdInK3EN\n",
       "Cy1aTN0qemPKsEEYC1tMjltQ7TWGX8h0fwwMdVU5xIlR/yr68BDXCi9ioxDjJvPTrwG+Mcfhn6Hn\n",
       "09uVW4Avu6We8y9Oyx3riyS/qZO5s3Fu5fh+I4wtx/tZpzPImfhZlQ3IMSCQgSx5BV1GztkbtiuS\n",
       "fHHK0UuJdMqKrdrtqJq6lkDC/lYT8FGtvBxaa82j6GmuG/eCj1/Bhh7og8FEkYBQzkUcQSvFZivG\n",
       "pXxSGq/iuCLLvP9AjRki0oq7UIxHz/hCoSNU4lgUTlFrdERFQUo0+j1dxZAHbCOPn8qjeXCaXmiL\n",
       "C26W2X04oec51jXo6HpYyCTcwYqFVjoIXoekLrGUSc+iw2xTW81MzftFGSdnePiwVqdIIEyNre+C\n",
       "KDQmc6V3uZIBofB7ACocy3IhFa8AMJEJO41YszyXWIuCny00c4axDbEb04wTyJXvZpDEqq0MN/6E\n",
       "rkwzfgCUHYmvc6Sen86ZPVrkG4Qopb8nW6zFMODgytpeFpD8cFWWo2COMjRIHUOBAAABb0Ge10UR\n",
       "LCv/Axa9LFcVeTbEVl9pH8Ve8zAwnTnJYcS2ldnW9KkoMLsB7GVGpa+UcGjx8t4W/zueABONbGcQ\n",
       "jvWSOXndD789tK97Epb2QsAaMetgxycetl7WzZUIwFu3/EqSSl5oAtDCDxaRkSOyll7oKNUSYliX\n",
       "Wo9Sq+RgGIUCARLUdmyuSt+WyWcXuCYz3t4eRm54x6o82rTDirNfUVXLeZIo+LE+VMt2XqFZdj/n\n",
       "rFONt6pSrXqZqG8tit+ptnrfhQk+kGRnXYvHZwPi/EwTEmdDmcmmcFUjCBc8HHO17RLO0BUiv3SQ\n",
       "fW3YaU5gLdItrBAizH3z6KetAC3vnGzgEK0mVko8Ipdt8nypWLxcWVlRIbUmyJSPlYUtEzmtt0nj\n",
       "uSU3/uexl9zsOUEiktLGWmNPk2I4onSJMVMsWWjhalektu78dz3Ri/TUPa+StaTah/d8yowYfK3t\n",
       "58wAm87MwUiko9bD6iLXxEIGl4EAAAGgAZ74akK/AWNVhUwtdQkEcCA2qyBYATOE+8GMTLGZ3yyM\n",
       "8abvissu0QTtuPh6Cn+EY8Hl58CdxcTHd5oiCuut+DOie9nyaTehh0dW7tz3gOG0PT2BubftoDUA\n",
       "DuHp/EhW2defLyfmJ+MN4vjIF5lMppfHrZPDsc5d35PFkO3oIg2L7BKhka8RBVlexdGjm6HGpo1q\n",
       "K5fjwqZ3Xb+ppjASYZd/5+WKjgBX5uzuHV6DHsJcl0aqdWFWqYYNVlkRyswoTJ+DSLSYHoaaB14i\n",
       "9K/Gz8LO6KAUm6aim0y7kMyEuG+nSPGWHU7tOjk7EzXJE4+tPAoBGo8iFf0ojbbCtix8FTLgA1uL\n",
       "gLB01irg7ydk7+7Mda3AH0cHYhvTjKXX3xq82OLywjsUhpl+MX5TKAMwETMpPH/TNCn9/hfS2zxY\n",
       "DQqzWDwCZY3c5r4wF2VRlsgTCG6J2PIelrHwbdwve9W1Mhh2Llp1fNDAWcTrVbau7SExWbm0lKPf\n",
       "X/r0SsavTRwZVI3HqjwSyiTemQiHM1swMZSA97m8T4OPQu/oY1pni5gAAALFQZr8SahBbJlMCGf/\n",
       "/p4QB1lyyzKDLJWR8AzLnoAP4CM1AwANoHhAfw/xfxpHBnwpXc4X8lzUfexGiX+X8C/qgklngv8w\n",
       "rxUwgPlFYnkthOLrCZBY3sSMfSO2xi0Gs8l9SzDfLWcPaY/rMSM+nyG6zGVN78V+VMAYHqTCxqqU\n",
       "XmC7IzuB/7YFBOFGLauNinn/2ysIceKhUi3vwtkep9qzkOs6xxruUw8z/A98/Jso01p6Q3Ux8Xk6\n",
       "sQVv62HJbWopwn7wsbIN4zNS7fxi2+3bxuYvOI3rgeSoJOtKUz7pZhMD9VcgyoKBHfytP10IKOLb\n",
       "Mokqanz7Z2igAv0y70/rbwO4VsVFZJiqu2bhjlaRLKthff7nzbLantMRjmOSBkwLrpQedzPF6Hp2\n",
       "GTCobdi+TUQh5/0s9xL5kBssP35F/KXmmAvB46pHn8dCD/klgPlCE49J5ePRI4Z7FMUTPo2hRTXu\n",
       "6aUBWRfJV5aAASfZgbovBZlmS+eSYbsw4QCPdpLu+kDzPkGChVQPM3NbcDN2ZGPT3NfdWOg5mS7x\n",
       "z4Sj61hTcMV5rXa4Yh2h8zm6EzHTRxx57WYf4Th0t4Tdpy3UN7vtepRwgIFPjeRgLhqz0yAtobG+\n",
       "URo/V5IH4l42zBQAJS4/RU039C3oZDGLKUUVfU2PF5fiRw2GHNNoM0hIpJCWcilAY/PC0wP8lEc6\n",
       "v9lMDqIpyfZ2JDC/300eQ7qWzAdz+AFvZnRFHLlq6YRAWGFsAGF+Fg/qR5JX+EfW3RJ2rwHcwCMv\n",
       "SvHTsNCqPKQevH+QjZn7BZLF+kaAXesTdcd5aguRdMD/9+WHu7Yy6ii5KbhsocotTSWMlY0ncSR5\n",
       "Ukd+dgKu1kVf9nHxzKje6yoc21U7UixYVXHTtmx1fa6CZ+SM/KGJWu6RbtPbG3vN/NMXGVNTm93M\n",
       "+ZwhAvLd4eAapnr2YQAAAZ5BnxpFFSwr/wMWvSmsbQXPMRPMMuO0FVVBb94AGhR5nDS8EWjvp87b\n",
       "/8O7KQ8zhICjTxnNebVVf2JAJrJw7As/uxmJHj2pc49Sx/98cII2O2BX3y8Nu94s93XZdBZ8DObJ\n",
       "YgWmKRZHmK9WD8DjUqMw6FWHrOxVf3RMtcSlnjgdy4srYH+nT+PLjX4aw4Ti8aZd0Aehzx7AAHzg\n",
       "ta7BKsDDSK9ke9RKqFEZusukDQuOreDMcv/rq2LmFwi690RoNu2L1HMlnttFUqsYWHeUw4XMSHpY\n",
       "nanli2A1tqUUUZbBG7F6tPAuzRrYX2gmZ1ZROC8s+K8UHwLVqAXvz1Z1AnWGcyooW8rlBBiWWgrA\n",
       "h1XCeQSWtpl73oWaVAdwHRCOoJIQzpnR6Yu88wy4+CqK3qo2psGqyA+Oi7NXXXnLVpCjqkHY07Wz\n",
       "MBrD/Kf/7BKM0T25fadI4KSMq2suwb/lg27sRYqE84pRIFpxkgnKT1vzGBNbJJd9a+F0j82CYSZd\n",
       "ZT52mHsbvPoZGQSlt6vZubnbzuetDP78o9P0EQanQeAAAAGXAZ87akK/AWNUYj1c9CJ4Erm+M4FJ\n",
       "qpAA0KRUvr5Wiph8pAWy8rje5dwHuZ7xXKvvq6S3hqqFFEA7NEqbQYLiv7qNowmGdXDyqrykdMUM\n",
       "bRll1xCktC2WPLhIkQ9NawsWgEvxFEv2xCI7+qzVY5JiPRR81UdtPoyP+vwd7oR6Eq2jWbUUNEEU\n",
       "QxIlqjaawfiu+Fc+R3rBvcTnGstTnv736i+vjrYgVS+hffOCgW/1UsWWuntaouwSnU6yMCRIqYEc\n",
       "mz/Q0nkk/VALHm/4USwYiJq+ZfpIugUinZ+12M1soUC2sY7eqAFVkXpvKiYnR+mCh+MAIMmTcc5k\n",
       "VQ5PtscNjfUtNVeg0Kojy4ASX33WsKDbWbZ1eJS2LXEvbU8fSv4rtjCqRStmlw3CAZFGWa4FVbK2\n",
       "ana/Fz/SKtYmKUbacE39dUYu/RY+5N5StmRH8cnLx0SWKafIDAUlwtXcLap3Xpo2UxkAFcwT8JLG\n",
       "fVkwbx3mls8xy3M2mS5wcAwF8oWyBgeV3jcFZs9849ZAvqHvkaJ5SLWsOSEAAALrQZs9SahBbJlM\n",
       "CGf//p4QB1cLV0b71sLCEAAJ1linX1QmCJ8NZR/te3ONKN7CnEl7gcpkUfOYRYaVsXDuIpXBiEyR\n",
       "ZJPVvPTcdhJTvlaVqPFQPM6Hg0GiXEV7xkZwyXM94/rToadfdH13bA/N+WH/b7ulj22ssLpOB30G\n",
       "L643ilp7OFdpiAp4cPluP+v76msoufH4cvFG3QNaW3PzeB6bSaiELmJAcfGV21I1lxs42p8P/SoU\n",
       "zTyo5hJmjSdP6lbG2W6k8TxRMHkMti7WPZxMTCF4vkfG0hrGDadGwM2shxvdBVMyBmbkIbNo4tt8\n",
       "LyLGLPSU2CNalbS96Qwg/x0xICdEjtB+VSp+eLjbCiW6xDMuiVG/JGPb5o3SFdxk4YwaxRmBYB1J\n",
       "skhkXTK/Vc81OsJ7mqD8tjhDYLUwZIWZZEYfBpQoyFOWBAN56dF1h6LKyy+u6Gz6U8jcbj05Bxqo\n",
       "3oNCMxan66ZDztCio5LZo7/959O+fbJ5cTaIdvaZ66yg2PYsbYNI2T1FlfonL3LJKY5i0vZiAGX1\n",
       "zRa8X2ULmqpfVLGGkNG9gUd2oej49th6W6QXhHJqAwcIBROPgyvUT2zfWGPh7YhrrvLQAf9A7hDM\n",
       "Vr4fhvrIeYTthkv7t4GbZoIx+FkUwaRhqtxM+X2oWWp1oQBwAp72NECOLb2SK/Ga6PosYdVYJx/N\n",
       "uhxsqT1yEYCZjUXQ/4GWLm8WFrm1Oi2A7WDi+zqcZCpB2lboAV2tk/AjUD5tHAT+gD9D5+CX7POH\n",
       "PZlBnNwT49L1GZAqKG2iL9+78fAKebcpNlHUUFivhI13gpE1Do0ylYSqMYTKdArw/KRziwTp3XqF\n",
       "CsApZsAKbaXSlG8FBSCncCdlyAUeXdyODfUgUDOlhXa+Qm+QR/uQhCv7heUfDBFo//k18BvHepOB\n",
       "k0eOoJWJPiEpvcrq9O4oPgtnFBhDbBO1OU9DJf/vR3lIrbvABc2fva/MSN2QWDhtH1BCZUyBAAAC\n",
       "4kGbXknhClJlMCGf/p4QB1ln2NlSyUbIllXUABK5/W4yZxXF9Cu3S2+K2uMF8nW/i6zQdxoZZ1CS\n",
       "CItUGeElPOT66hc4P2oIfTUua7WxT2MxVlYn8equGmZWoBKx+f7c3eWpu2yY+Cu1CFdpuVjRMx0k\n",
       "QPh9AOkiKSX1st5sGa/yWH9QPdrPHJI8Ck0YVs0WX+rIcqozdcq/WRnTTcGX/sXr5CT0umsGU6Ov\n",
       "3qzHUQCfGxe+9iWC9nWMkHbheEVUxoaLYnZC9tmGRqODtcXlia59hTKm80jvSPk2A9wEKgrLj7Qk\n",
       "ZBLuUJi9TE/uCJpx4gPIKR9+NFfYOuRzJZXeDhF+od8IOZFRfy29yarvppr3fhw+vbDRrRf/LjqD\n",
       "Qa0DoHcwesNcaxs3d2lrBMksSi4NZ8QgZWcXPh6FDGYWRHQbYJF6DtCdibbOIqvRJls6uPNjjBAT\n",
       "atxD7MJ2PUxWBYWB1TbVIwyoFtOnazud1U6OMeki3st2h7cXpt5RhIUGe2qp1EXPG5sn07BsrUgn\n",
       "Ryk2LzvGWnI6aGhZ7VdxmBvkTJNWYdjLjcsVm6oXjfWIebSKuzr1xgycSQzmJdaMopTxQ/a9grCl\n",
       "uHU/fitJ2zf35ZC73px7FiU1bC+R6AEBzQl/PhKKNHlV5T4qa/ogi3o+oq3Jt1BQv1NZjrTUSw2N\n",
       "fQBxfjzKlEvBIS/QE4CdwYoO7w5zk7A7ULfbZXXE9bfSQcF+YQaq5CVymYH6VG/fV/Rka3foMzuC\n",
       "f4OnwmHUpRMG91tDO+HvZX/RrJMQoLtqNJww4GGU/uS5I42E5hbNLe8t5MWwC/WRLQkRNySTd80v\n",
       "PLxwTJGgd9825x4xAw1K91jNzm4VnNRUzUKK/evuGs54Are2kmB6r4KrNgWZtX9EurhCvtPJRzOe\n",
       "sGZR1ob3s+0i7KVaUL+rzUjDsnv4qrjGJjZK91l73qX+OuewZVKuBCEGskJrDNhp3OEUe/vDiAAA\n",
       "AfJBm39J4Q6JlMCGf/6eEAyXFjPkgkw68Vq1jANUN9ICauMQd0jFBrg8HOjrOUH14q3cKVVmI2WN\n",
       "o+NzPTBhj3PseIcSI2PVNMvuLY1fLjccr1iIhikKh0ipFEop7qAXkucPqNGqnllCztuU+hO9vjM/\n",
       "+KAghOm5lEhrA5NmS5kwZZjG3EeRPxgPkE4b8tt8wgWGYGVVe/5MsIK1VZtoL8mNckENwHnlqfEq\n",
       "PU6dk6IPnDOmp9WCMUo8rrpftGODlkKEFoBjV6Fe4jsGXiGUXm83TFTLsDmBtadY3ZVKnOHd3p8N\n",
       "D8LBG1dAc5on43ucjOU70z+EsgS9C93XV6NIwGABUK+qyBvVQ6EU2OefrMMlzxVyg/Zq7r8sBe3h\n",
       "RwOSWMC8sS1bKO3JdqBq0gaeDaDOxdKlMGANgIfOhkOyS/t/x5tC6+N4Vv5L2ec8K1iiYdf5+PJo\n",
       "bMP6RVI985++xbUUXaVyJPd5gfALR7W/c76vJj3+L+d168ICQDzwf7LTPyUqIG3/qD022kEaigIQ\n",
       "baoK+U9/suR8IqAllWk26S8sZ0woab8/+YfjsFY6XNN0IY5VnL4DqpNlpouX5XljInbyODyhxLhH\n",
       "HrSS+7WcE052Wao/flpv+kdfnD4mTSG7Gee55Z3M9QyVQUk+UVBk/eoztIAAAAIsQZuASeEPJlMC\n",
       "Gf/+nhAHYkKgxQiJ5PUdiYpAAnE07kksZ4h4K0UK+wgS378EJcsZwPzhb0VpgU4NOToVJSdK6k4Y\n",
       "MPoNYV/VjZzBUL7FqgPgdFqJ5T7JXP2tcHi5CcXLJ5pxMiOki26VXZmqJpe2ZWR7SV7GjcQKUJJ6\n",
       "11uUH5UlXP7Z0NGyWIJ2obZ00Ipv01UvwibNweKqLbP82S5WG1JQIM3Y/mqNIXloFilizvGdsrpB\n",
       "7L4PBCzjiAaEY3yxzr9kChv/fGjivgmMYlXc+JM0Fm/69iB26s8eaYjRX4MPh1GA9owU+V5UCF/O\n",
       "Oo8Ka7/EJNzlgVmdEu7d1l86gUZum5ip00CLkl5UM5qAh8huokNRWmDg76Rch5rUsRxAQH7Qaa9E\n",
       "9TXZUflfH0uAujcNxgrz9dfx3RxQ+j5lUCkwDK0eSYCk0DT9X9qK37kT8HrJw/Pf7G4RgxIufSOT\n",
       "mxIsJxScal3NQPxRHiDChNesUqQMdLMyJJW6nr3Dyq+mLA6XR4MDjcJpX0XQACASLOf0J2o+K5QM\n",
       "uCKoCAWyp2f2v3skeLW4szrqGbq+2LdQeDR9FVxVVDCK2EkEOIGXrlWZXUBSMRREvtgpiTy5bLrk\n",
       "GRNUt8m/B/H/fW1tIP4O79sPCVUuwjhhFG5VZL7xdkoeUuMFPeIOIhrhAkyALJIvJaIO4Mp0cOpU\n",
       "scoeULAJDAwdSn2f8id9O8KcX3fzgqKV5pUyDPdNaR7PgQAAAgxBm6FJ4Q8mUwIZ//6eEAyXFjPk\n",
       "lmFMkvB9vTD5oAH4IOr/TZWrNaek4o5B1Z3aAy0Og0tOPUkhGUi1rIBQn5wV9AqUKC1zfkMRK7NM\n",
       "cBAK1oYJt/fi6jrsEzIgeaB0rqKDxRDtTlxKD5VLMATtSbLyTnYTTwitkBuGUkd+NZRA4oUaEAXe\n",
       "V9S2nRymqWwTfZtv+yPc1JscaAqtGmXYNe4d9ZQyxLtkMDaZCSsXle3B8FsQE670CoVupk/h1Q7r\n",
       "h68+q6jiwL9SrBj3fCLxeZFiIyOiYp+cvDsDvB1YzxSgmx/KCcKWPVqXuXddCH0n0U9gyQuJgqAj\n",
       "6TFnpLaQV5A7BR+7lK2GvhR0Vzmm55y5Ykxed5s131fWCGp12v1MZGq5ZXbuleGKjWxOFNE+TP5Q\n",
       "sXhI6T34vIze6+iB8Us3NEn5YEGeAQ49ZY8MRFgkjDFdQCxKHM0S06nVv2aL/lrJV+gcU3n/Y4Nh\n",
       "FsPe7YMNWTfW1zXmPD9gKv4+pNCk1H9ZNUCSoPD+icSFJcVEE7lwv0C3EwE3bfqeRkch/RC0l8rS\n",
       "kBZDkffLHeZMZy+LJ8Lu+j7PB/fCddakAxFGXLhea+j3DMJjRYNPZ7Z6grqonHSmR9pNC5Maq4Ja\n",
       "ZXeon/smsd0B0pZlrhbc9ZaTJxmDw3vFRJ1D2ocRRYCpARGrDGdAM2vBFL0K+8FNwAAAAa1Bm8NJ\n",
       "4Q8mUwURPCv//jhAHAhpXHURpvG32gBB4WMFzhuV0+AiDNf29ubiUjMuDP3oSyUM9VxOo+M4eOmq\n",
       "bGk+lOuMTP/zzuvTY5ug5tR92AWyHzFgt7kXJNP4OFqzpon4wjUDfFf4M9Bwzhqrt+kn4r7k97/Q\n",
       "sTCMa2w3Z5kNgyjSB8c6TL/vV3bIIKo6odJ04DkO/cyIOa/NnD56ISpUqHkplfnDPpiCZ9/fdGbN\n",
       "Q5Swbe5o0UwugdDxE03g9BiD/yz4MEqYO6cBORMID9p7x8zhQGzx57GR+Sg2/WRH/Dv0xrDP/15y\n",
       "qWewf3i9aoI9B5u6NRKnchQeEwks3ZElb1MxNhj32CpIqkZe99L/+jSobdfkJOsURGlOyTZihogK\n",
       "CmlwmQVirit0NP6M9zNXdizS9BHaX/Pplauc/0ojMRaAjD3jw5zBLWZXC71HOVr4kTAlavrAt9Yb\n",
       "nnqHkfeeOomcSZb3wfttx9lPbGmn1MsZMRB4cgcylgzwNJrF6cZfuRPvglvCZx/P0ODdRLg+BMLy\n",
       "jeH+qu0eGLxeMki1kC2ZH8+lHE3TTQA2YT0AAAHCAZ/iakK/AxSvDO5BDMI6KR7zoAIXDFvpCLa+\n",
       "OU/7Jyrxw3Tvghombw7g6VGJe9TK1BTD30j8fVjwREwl/Q3Vh+6Vf3Qtl3Zl6s0q1xaU1S/y5MEj\n",
       "v5cvxXB59f2VRQJ6J3OUyFmA0tMKbeQVDFt3gyWJhw2tINrspR3dEe3yAweGiRGks2ZF16UmriSz\n",
       "HTIlzk0+tf/YzJG7HQ2BdogidB3zgx885peosrEsvqtt9YsKjFBqCYCiOaC01cTJmapVhcVif48B\n",
       "er5uwwk1ocqTf/X0hPtS+6jTCWbicgFvRLEjR88h6gzEGV6BdzQSUXz2WhYmzemR9GTbnuH04y7E\n",
       "vsXD1ivQZ9f8zi1Pfjgiw2xm6Vwj8rMNRoY7GTmIfCQJ3YPmh4AvYr8STkQVsrPiQN2nnLdWlCTH\n",
       "z97kI2Nr25DkMDeZZQXy8GsG/fsopzWKd6BfSEiKRQRpf9gmEN31Yi2Q55mFOALBmUYTl44A/Wz/\n",
       "EKvU94chJrYkenDhV0T6Zbc5o+We6uX2AJ70+0J2K43FDM9Kktq4F3qyIsrA57i+z8xWZz5Db1c8\n",
       "A8yyFJtiYiqvenimHZ8uJUOfAaEc1wJIAAAGXm1vb3YAAABsbXZoZAAAAAAAAAAAAAAAAAAAA+gA\n",
       "AA+gAAEAAAEAAAAAAAAAAAAAAAABAAAAAAAAAAAAAAAAAAAAAQAAAAAAAAAAAAAAAAAAQAAAAAAA\n",
       "AAAAAAAAAAAAAAAAAAAAAAAAAAAAAAAAAAIAAAWIdHJhawAAAFx0a2hkAAAAAwAAAAAAAAAAAAAA\n",
       "AQAAAAAAAA+gAAAAAAAAAAAAAAAAAAAAAAABAAAAAAAAAAAAAAAAAAAAAQAAAAAAAAAAAAAAAAAA\n",
       "QAAAAAGwAAABIAAAAAAAJGVkdHMAAAAcZWxzdAAAAAAAAAABAAAPoAAABAAAAQAAAAAFAG1kaWEA\n",
       "AAAgbWRoZAAAAAAAAAAAAAAAAAAAMgAAAMgAVcQAAAAAAC1oZGxyAAAAAAAAAAB2aWRlAAAAAAAA\n",
       "AAAAAAAAVmlkZW9IYW5kbGVyAAAABKttaW5mAAAAFHZtaGQAAAABAAAAAAAAAAAAAAAkZGluZgAA\n",
       "ABxkcmVmAAAAAAAAAAEAAAAMdXJsIAAAAAEAAARrc3RibAAAALNzdHNkAAAAAAAAAAEAAACjYXZj\n",
       "MQAAAAAAAAABAAAAAAAAAAAAAAAAAAAAAAGwASAASAAAAEgAAAAAAAAAAQAAAAAAAAAAAAAAAAAA\n",
       "AAAAAAAAAAAAAAAAAAAAAAAAABj//wAAADFhdmNDAWQAFf/hABhnZAAVrNlBsJaEAAADAAQAAAMA\n",
       "yDxYtlgBAAZo6+PLIsAAAAAcdXVpZGtoQPJfJE/FujmlG88DI/MAAAAAAAAAGHN0dHMAAAAAAAAA\n",
       "AQAAAGQAAAIAAAAAFHN0c3MAAAAAAAAAAQAAAAEAAAGwY3R0cwAAAAAAAAA0AAAAAQAABAAAAAAB\n",
       "AAAIAAAAAAIAAAIAAAAAAQAABAAAAAABAAAIAAAAAAIAAAIAAAAAAgAABAAAAAABAAAIAAAAAAIA\n",
       "AAIAAAAAAQAABAAAAAABAAAIAAAAAAIAAAIAAAAABgAABAAAAAABAAAIAAAAAAIAAAIAAAAAAQAA\n",
       "CAAAAAACAAACAAAAAAEAAAgAAAAAAgAAAgAAAAABAAAIAAAAAAIAAAIAAAAAAQAACAAAAAACAAAC\n",
       "AAAAAAEAAAgAAAAAAgAAAgAAAAABAAAIAAAAAAIAAAIAAAAADgAABAAAAAABAAAIAAAAAAIAAAIA\n",
       "AAAABAAABAAAAAABAAAIAAAAAAIAAAIAAAAAAQAACAAAAAACAAACAAAAAAEAAAQAAAAAAQAACAAA\n",
       "AAACAAACAAAAAAEAAAgAAAAAAgAAAgAAAAABAAAIAAAAAAIAAAIAAAAAAwAABAAAAAABAAAIAAAA\n",
       "AAIAAAIAAAAAAQAACAAAAAACAAACAAAAAAEAAAgAAAAAAgAAAgAAAAAFAAAEAAAAAAEAAAYAAAAA\n",
       "AQAAAgAAAAAcc3RzYwAAAAAAAAABAAAAAQAAAGQAAAABAAABpHN0c3oAAAAAAAAAAAAAAGQAACcL\n",
       "AAAGDQAAAooAAAHUAAAEcQAAA/kAAAI7AAAB7wAAA6MAAAQrAAADTgAAAiUAAAIUAAADcwAAAxQA\n",
       "AAHhAAABtAAAA5wAAAPrAAAC6gAAAuYAAALkAAADGQAAA6cAAAF7AAABgAAAA7oAAAGIAAAB3AAA\n",
       "A64AAAGUAAABsgAAA64AAAGTAAABrwAAA3EAAAGfAAABxAAAA1QAAAG5AAABvAAAA5sAAAGXAAAB\n",
       "tAAAA7MAAAPGAAACtAAAAw4AAALqAAACkAAAAtkAAALCAAAC8AAAAoAAAAK+AAAClQAAAqwAAAKE\n",
       "AAAC4gAAAXoAAAG/AAACuAAAA+MAAAKwAAACvAAAA1YAAAF5AAABnQAAAz8AAAF/AAABiQAAAyAA\n",
       "AANQAAACAwAAAbsAAAN+AAABpAAAAbIAAANCAAABmAAAAcEAAAM6AAAEAgAAAwMAAAM/AAABoQAA\n",
       "AWYAAAM+AAABcwAAAaQAAALJAAABogAAAZsAAALvAAAC5gAAAfYAAAIwAAACEAAAAbEAAAHGAAAA\n",
       "FHN0Y28AAAAAAAAAAQAAACwAAABidWR0YQAAAFptZXRhAAAAAAAAACFoZGxyAAAAAAAAAABtZGly\n",
       "YXBwbAAAAAAAAAAAAAAAAC1pbHN0AAAAJal0b28AAAAdZGF0YQAAAAEAAAAATGF2ZjU3LjQxLjEw\n",
       "MA==\n",
       "\">\n",
       "  Your browser does not support the video tag.\n",
       "</video>"
      ],
      "text/plain": [
       "<matplotlib.animation.FuncAnimation at 0x7f340bbb8630>"
      ]
     },
     "execution_count": 171,
     "metadata": {},
     "output_type": "execute_result"
    }
   ],
   "source": [
    "fig, ax = plt.subplots()\n",
    "plt.grid()\n",
    "plt.title('onda viajera')\n",
    "plt.xlabel('x');\n",
    "plt.close();\n",
    "ax.set_xlim(( 0, 2))\n",
    "ax.set_ylim((-1.1, 1.1))\n",
    "\n",
    "line1, = ax.plot([], [], '-')\n",
    "#line2, = ax.plot([], [], '.', markerSize=20)\n",
    "\n",
    "lam  = 0.8\n",
    "freq = 1/4\n",
    "\n",
    "def animate(i):\n",
    "    t = i/25\n",
    "    line1.set_data(x,wave(lam,freq,x,t))\n",
    "    #line2.set_data(1,f(lam,freq,1,t))\n",
    "    return ()\n",
    "\n",
    "animation.FuncAnimation(fig, animate, frames=100, interval=1000/25, blit=True)"
   ]
  },
  {
   "cell_type": "markdown",
   "metadata": {},
   "source": [
    "### data frames"
   ]
  },
  {
   "cell_type": "markdown",
   "metadata": {},
   "source": [
    "El módulo `pandas` proporciona el tipo \"dataframe\", muy utilizado en análisis de datos. Permite leer conjuntos de datos almacenados en archivos que pueden estar incluso en una máquina remota."
   ]
  },
  {
   "cell_type": "code",
   "execution_count": 172,
   "metadata": {},
   "outputs": [
    {
     "data": {
      "text/html": [
       "<div>\n",
       "<style scoped>\n",
       "    .dataframe tbody tr th:only-of-type {\n",
       "        vertical-align: middle;\n",
       "    }\n",
       "\n",
       "    .dataframe tbody tr th {\n",
       "        vertical-align: top;\n",
       "    }\n",
       "\n",
       "    .dataframe thead th {\n",
       "        text-align: right;\n",
       "    }\n",
       "</style>\n",
       "<table border=\"1\" class=\"dataframe\">\n",
       "  <thead>\n",
       "    <tr style=\"text-align: right;\">\n",
       "      <th></th>\n",
       "      <th>V(km/s)</th>\n",
       "      <th>Redshift</th>\n",
       "      <th>Magnitud</th>\n",
       "    </tr>\n",
       "  </thead>\n",
       "  <tbody>\n",
       "    <tr>\n",
       "      <th>0</th>\n",
       "      <td>18287</td>\n",
       "      <td>0.060998</td>\n",
       "      <td>17.62</td>\n",
       "    </tr>\n",
       "    <tr>\n",
       "      <th>1</th>\n",
       "      <td>5691</td>\n",
       "      <td>0.018983</td>\n",
       "      <td>15.00</td>\n",
       "    </tr>\n",
       "    <tr>\n",
       "      <th>2</th>\n",
       "      <td>26382</td>\n",
       "      <td>0.088000</td>\n",
       "      <td>18.59</td>\n",
       "    </tr>\n",
       "    <tr>\n",
       "      <th>3</th>\n",
       "      <td>5996</td>\n",
       "      <td>0.020000</td>\n",
       "      <td>15.54</td>\n",
       "    </tr>\n",
       "    <tr>\n",
       "      <th>4</th>\n",
       "      <td>19202</td>\n",
       "      <td>0.064051</td>\n",
       "      <td>15.30</td>\n",
       "    </tr>\n",
       "    <tr>\n",
       "      <th>5</th>\n",
       "      <td>23684</td>\n",
       "      <td>0.079000</td>\n",
       "      <td>16.56</td>\n",
       "    </tr>\n",
       "    <tr>\n",
       "      <th>6</th>\n",
       "      <td>11702</td>\n",
       "      <td>0.039034</td>\n",
       "      <td>17.14</td>\n",
       "    </tr>\n",
       "    <tr>\n",
       "      <th>7</th>\n",
       "      <td>17284</td>\n",
       "      <td>0.057653</td>\n",
       "      <td>13.50</td>\n",
       "    </tr>\n",
       "    <tr>\n",
       "      <th>8</th>\n",
       "      <td>13491</td>\n",
       "      <td>0.045000</td>\n",
       "      <td>17.80</td>\n",
       "    </tr>\n",
       "    <tr>\n",
       "      <th>9</th>\n",
       "      <td>10566</td>\n",
       "      <td>0.035244</td>\n",
       "      <td>15.25</td>\n",
       "    </tr>\n",
       "    <tr>\n",
       "      <th>10</th>\n",
       "      <td>14718</td>\n",
       "      <td>0.049094</td>\n",
       "      <td>15.60</td>\n",
       "    </tr>\n",
       "    <tr>\n",
       "      <th>11</th>\n",
       "      <td>13491</td>\n",
       "      <td>0.045000</td>\n",
       "      <td>14.52</td>\n",
       "    </tr>\n",
       "    <tr>\n",
       "      <th>12</th>\n",
       "      <td>16325</td>\n",
       "      <td>0.054453</td>\n",
       "      <td>15.30</td>\n",
       "    </tr>\n",
       "    <tr>\n",
       "      <th>13</th>\n",
       "      <td>20686</td>\n",
       "      <td>0.069000</td>\n",
       "      <td>16.80</td>\n",
       "    </tr>\n",
       "    <tr>\n",
       "      <th>14</th>\n",
       "      <td>1808</td>\n",
       "      <td>0.006031</td>\n",
       "      <td>11.16</td>\n",
       "    </tr>\n",
       "    <tr>\n",
       "      <th>15</th>\n",
       "      <td>7603</td>\n",
       "      <td>0.025361</td>\n",
       "      <td>15.18</td>\n",
       "    </tr>\n",
       "    <tr>\n",
       "      <th>16</th>\n",
       "      <td>1018</td>\n",
       "      <td>0.003395</td>\n",
       "      <td>12.24</td>\n",
       "    </tr>\n",
       "    <tr>\n",
       "      <th>17</th>\n",
       "      <td>321</td>\n",
       "      <td>0.001071</td>\n",
       "      <td>13.00</td>\n",
       "    </tr>\n",
       "    <tr>\n",
       "      <th>18</th>\n",
       "      <td>3106</td>\n",
       "      <td>0.010360</td>\n",
       "      <td>12.49</td>\n",
       "    </tr>\n",
       "    <tr>\n",
       "      <th>19</th>\n",
       "      <td>9426</td>\n",
       "      <td>0.031442</td>\n",
       "      <td>14.53</td>\n",
       "    </tr>\n",
       "    <tr>\n",
       "      <th>20</th>\n",
       "      <td>7464</td>\n",
       "      <td>0.024897</td>\n",
       "      <td>15.21</td>\n",
       "    </tr>\n",
       "    <tr>\n",
       "      <th>21</th>\n",
       "      <td>15143</td>\n",
       "      <td>0.050512</td>\n",
       "      <td>17.40</td>\n",
       "    </tr>\n",
       "    <tr>\n",
       "      <th>22</th>\n",
       "      <td>407</td>\n",
       "      <td>0.001358</td>\n",
       "      <td>10.87</td>\n",
       "    </tr>\n",
       "    <tr>\n",
       "      <th>23</th>\n",
       "      <td>7257</td>\n",
       "      <td>0.024207</td>\n",
       "      <td>14.60</td>\n",
       "    </tr>\n",
       "    <tr>\n",
       "      <th>24</th>\n",
       "      <td>9193</td>\n",
       "      <td>0.030664</td>\n",
       "      <td>15.10</td>\n",
       "    </tr>\n",
       "    <tr>\n",
       "      <th>25</th>\n",
       "      <td>12137</td>\n",
       "      <td>0.040485</td>\n",
       "      <td>14.75</td>\n",
       "    </tr>\n",
       "    <tr>\n",
       "      <th>26</th>\n",
       "      <td>4264</td>\n",
       "      <td>0.014224</td>\n",
       "      <td>14.98</td>\n",
       "    </tr>\n",
       "    <tr>\n",
       "      <th>27</th>\n",
       "      <td>4381</td>\n",
       "      <td>0.014615</td>\n",
       "      <td>14.15</td>\n",
       "    </tr>\n",
       "    <tr>\n",
       "      <th>28</th>\n",
       "      <td>22484</td>\n",
       "      <td>0.075000</td>\n",
       "      <td>17.43</td>\n",
       "    </tr>\n",
       "    <tr>\n",
       "      <th>29</th>\n",
       "      <td>15162</td>\n",
       "      <td>0.050575</td>\n",
       "      <td>16.50</td>\n",
       "    </tr>\n",
       "    <tr>\n",
       "      <th>30</th>\n",
       "      <td>30000</td>\n",
       "      <td>0.101000</td>\n",
       "      <td>18.90</td>\n",
       "    </tr>\n",
       "    <tr>\n",
       "      <th>31</th>\n",
       "      <td>12981</td>\n",
       "      <td>0.043300</td>\n",
       "      <td>15.23</td>\n",
       "    </tr>\n",
       "    <tr>\n",
       "      <th>32</th>\n",
       "      <td>8803</td>\n",
       "      <td>0.029364</td>\n",
       "      <td>14.90</td>\n",
       "    </tr>\n",
       "  </tbody>\n",
       "</table>\n",
       "</div>"
      ],
      "text/plain": [
       "    V(km/s)  Redshift  Magnitud\n",
       "0     18287  0.060998     17.62\n",
       "1      5691  0.018983     15.00\n",
       "2     26382  0.088000     18.59\n",
       "3      5996  0.020000     15.54\n",
       "4     19202  0.064051     15.30\n",
       "5     23684  0.079000     16.56\n",
       "6     11702  0.039034     17.14\n",
       "7     17284  0.057653     13.50\n",
       "8     13491  0.045000     17.80\n",
       "9     10566  0.035244     15.25\n",
       "10    14718  0.049094     15.60\n",
       "11    13491  0.045000     14.52\n",
       "12    16325  0.054453     15.30\n",
       "13    20686  0.069000     16.80\n",
       "14     1808  0.006031     11.16\n",
       "15     7603  0.025361     15.18\n",
       "16     1018  0.003395     12.24\n",
       "17      321  0.001071     13.00\n",
       "18     3106  0.010360     12.49\n",
       "19     9426  0.031442     14.53\n",
       "20     7464  0.024897     15.21\n",
       "21    15143  0.050512     17.40\n",
       "22      407  0.001358     10.87\n",
       "23     7257  0.024207     14.60\n",
       "24     9193  0.030664     15.10\n",
       "25    12137  0.040485     14.75\n",
       "26     4264  0.014224     14.98\n",
       "27     4381  0.014615     14.15\n",
       "28    22484  0.075000     17.43\n",
       "29    15162  0.050575     16.50\n",
       "30    30000  0.101000     18.90\n",
       "31    12981  0.043300     15.23\n",
       "32     8803  0.029364     14.90"
      ]
     },
     "execution_count": 172,
     "metadata": {},
     "output_type": "execute_result"
    }
   ],
   "source": [
    "import pandas as pd\n",
    "\n",
    "df = pd.read_table('https://robot.inf.um.es/material/data/ConstanteHubbleDatos-1.txt', sep='\\s+', comment='#')\n",
    "df"
   ]
  },
  {
   "cell_type": "markdown",
   "metadata": {},
   "source": [
    "Puede convertirse en un array normal:"
   ]
  },
  {
   "cell_type": "code",
   "execution_count": 173,
   "metadata": {},
   "outputs": [
    {
     "data": {
      "text/plain": [
       "array([[1.8287e+04, 6.0998e-02, 1.7620e+01],\n",
       "       [5.6910e+03, 1.8983e-02, 1.5000e+01],\n",
       "       [2.6382e+04, 8.8000e-02, 1.8590e+01],\n",
       "       [5.9960e+03, 2.0000e-02, 1.5540e+01],\n",
       "       [1.9202e+04, 6.4051e-02, 1.5300e+01],\n",
       "       [2.3684e+04, 7.9000e-02, 1.6560e+01],\n",
       "       [1.1702e+04, 3.9034e-02, 1.7140e+01],\n",
       "       [1.7284e+04, 5.7653e-02, 1.3500e+01],\n",
       "       [1.3491e+04, 4.5000e-02, 1.7800e+01],\n",
       "       [1.0566e+04, 3.5244e-02, 1.5250e+01],\n",
       "       [1.4718e+04, 4.9094e-02, 1.5600e+01],\n",
       "       [1.3491e+04, 4.5000e-02, 1.4520e+01],\n",
       "       [1.6325e+04, 5.4453e-02, 1.5300e+01],\n",
       "       [2.0686e+04, 6.9000e-02, 1.6800e+01],\n",
       "       [1.8080e+03, 6.0310e-03, 1.1160e+01],\n",
       "       [7.6030e+03, 2.5361e-02, 1.5180e+01],\n",
       "       [1.0180e+03, 3.3950e-03, 1.2240e+01],\n",
       "       [3.2100e+02, 1.0710e-03, 1.3000e+01],\n",
       "       [3.1060e+03, 1.0360e-02, 1.2490e+01],\n",
       "       [9.4260e+03, 3.1442e-02, 1.4530e+01],\n",
       "       [7.4640e+03, 2.4897e-02, 1.5210e+01],\n",
       "       [1.5143e+04, 5.0512e-02, 1.7400e+01],\n",
       "       [4.0700e+02, 1.3580e-03, 1.0870e+01],\n",
       "       [7.2570e+03, 2.4207e-02, 1.4600e+01],\n",
       "       [9.1930e+03, 3.0664e-02, 1.5100e+01],\n",
       "       [1.2137e+04, 4.0485e-02, 1.4750e+01],\n",
       "       [4.2640e+03, 1.4224e-02, 1.4980e+01],\n",
       "       [4.3810e+03, 1.4615e-02, 1.4150e+01],\n",
       "       [2.2484e+04, 7.5000e-02, 1.7430e+01],\n",
       "       [1.5162e+04, 5.0575e-02, 1.6500e+01],\n",
       "       [3.0000e+04, 1.0100e-01, 1.8900e+01],\n",
       "       [1.2981e+04, 4.3300e-02, 1.5230e+01],\n",
       "       [8.8030e+03, 2.9364e-02, 1.4900e+01]])"
      ]
     },
     "execution_count": 173,
     "metadata": {},
     "output_type": "execute_result"
    }
   ],
   "source": [
    "A = np.array(df)\n",
    "A"
   ]
  },
  {
   "cell_type": "code",
   "execution_count": 174,
   "metadata": {},
   "outputs": [
    {
     "data": {
      "image/png": "[encoded data removed]",
      "text/plain": [
       "<matplotlib.figure.Figure at 0x7f3438c537f0>"
      ]
     },
     "metadata": {},
     "output_type": "display_data"
    }
   ],
   "source": [
    "x = A[:,0]\n",
    "y = A[:,2]\n",
    "\n",
    "# x,_,y = A.T\n",
    "\n",
    "plt.plot(x,y,'.');"
   ]
  },
  {
   "cell_type": "markdown",
   "metadata": {},
   "source": [
    "## cálculo científico"
   ]
  },
  {
   "cell_type": "markdown",
   "metadata": {},
   "source": [
    "### números pseudoaleatorios y estadística elemental"
   ]
  },
  {
   "cell_type": "markdown",
   "metadata": {},
   "source": [
    "`numpy` permite generar arrays de números pseudoaleatorios con diferentes tipos de distribuciones (uniforme, normal, etc.).\n",
    "\n",
    "Tiene también funciones de estadística descriptiva para calcular características de conjuntos de datos tales como la media, mediana, desviación típica, máximo y mínimo, etc."
   ]
  },
  {
   "cell_type": "markdown",
   "metadata": {},
   "source": [
    "Como ejemplo, podemos estudiar la distribución de puntuaciones al lanzar 3 dados."
   ]
  },
  {
   "cell_type": "code",
   "execution_count": 175,
   "metadata": {},
   "outputs": [
    {
     "data": {
      "text/plain": [
       "array([[5, 3, 3],\n",
       "       [3, 2, 6],\n",
       "       [3, 6, 3],\n",
       "       [4, 5, 6],\n",
       "       [2, 1, 3],\n",
       "       [5, 6, 2],\n",
       "       [2, 6, 2],\n",
       "       [3, 4, 1],\n",
       "       [3, 3, 2],\n",
       "       [5, 3, 2]])"
      ]
     },
     "execution_count": 175,
     "metadata": {},
     "output_type": "execute_result"
    }
   ],
   "source": [
    "dados = np.random.randint(1,6+1,(100,3))\n",
    "dados[:10]"
   ]
  },
  {
   "cell_type": "code",
   "execution_count": 176,
   "metadata": {},
   "outputs": [
    {
     "data": {
      "text/plain": [
       "array([11, 11, 12, 15,  6, 13, 10,  8,  8, 10, 10, 17,  7, 10, 12,  9, 11,\n",
       "       14, 10, 11, 15, 10,  6,  9,  9, 11,  9, 11, 15, 12,  5,  9, 11, 10,\n",
       "       10,  7,  8, 11,  9,  9,  8, 11,  8,  9, 12, 10, 10,  7, 14,  7,  5,\n",
       "        7, 14, 12,  7, 12,  7,  8, 13, 15, 17, 12, 10, 12, 13, 12,  9,  8,\n",
       "       13, 10,  9, 12, 16, 14, 16,  7,  8,  8, 13, 16, 12, 13, 13,  8,  9,\n",
       "        9, 10, 15,  9,  8, 15, 11,  8, 12, 10,  3,  7,  6, 10, 13])"
      ]
     },
     "execution_count": 176,
     "metadata": {},
     "output_type": "execute_result"
    }
   ],
   "source": [
    "s = np.sum(dados,axis=1)\n",
    "s"
   ]
  },
  {
   "cell_type": "code",
   "execution_count": 177,
   "metadata": {},
   "outputs": [
    {
     "data": {
      "image/png": "[encoded data removed]",
      "text/plain": [
       "<matplotlib.figure.Figure at 0x7f340ba72860>"
      ]
     },
     "metadata": {},
     "output_type": "display_data"
    }
   ],
   "source": [
    "plt.hist(s,bins=np.arange(2,19)+0.5);"
   ]
  },
  {
   "cell_type": "code",
   "execution_count": 178,
   "metadata": {},
   "outputs": [
    {
     "data": {
      "text/plain": [
       "10.43"
      ]
     },
     "execution_count": 178,
     "metadata": {},
     "output_type": "execute_result"
    }
   ],
   "source": [
    "s.mean()"
   ]
  },
  {
   "cell_type": "code",
   "execution_count": 179,
   "metadata": {},
   "outputs": [
    {
     "data": {
      "text/plain": [
       "2.8644545728637416"
      ]
     },
     "execution_count": 179,
     "metadata": {},
     "output_type": "execute_result"
    }
   ],
   "source": [
    "s.std()"
   ]
  },
  {
   "cell_type": "markdown",
   "metadata": {},
   "source": [
    "### implementación eficiente"
   ]
  },
  {
   "cell_type": "markdown",
   "metadata": {},
   "source": [
    "Las operaciones de `numpy` están \"optimizadas\" (escritas internamente en código C eficiente)."
   ]
  },
  {
   "cell_type": "code",
   "execution_count": 180,
   "metadata": {},
   "outputs": [],
   "source": [
    "x = np.random.rand(10**8)"
   ]
  },
  {
   "cell_type": "code",
   "execution_count": 181,
   "metadata": {},
   "outputs": [
    {
     "data": {
      "text/plain": [
       "array([0.98545712, 0.76934582, 0.89515805, ..., 0.99684131, 0.91799724,\n",
       "       0.0971656 ])"
      ]
     },
     "execution_count": 181,
     "metadata": {},
     "output_type": "execute_result"
    }
   ],
   "source": [
    "x"
   ]
  },
  {
   "cell_type": "code",
   "execution_count": 182,
   "metadata": {},
   "outputs": [
    {
     "name": "stdout",
     "output_type": "stream",
     "text": [
      "CPU times: user 88 ms, sys: 0 ns, total: 88 ms\n",
      "Wall time: 88.3 ms\n"
     ]
    },
    {
     "data": {
      "text/plain": [
       "0.5000571511372741"
      ]
     },
     "execution_count": 182,
     "metadata": {},
     "output_type": "execute_result"
    }
   ],
   "source": [
    "%%time\n",
    "\n",
    "np.mean(x)"
   ]
  },
  {
   "cell_type": "code",
   "execution_count": 183,
   "metadata": {},
   "outputs": [
    {
     "name": "stdout",
     "output_type": "stream",
     "text": [
      "86.8 ms ± 741 µs per loop (mean ± std. dev. of 7 runs, 10 loops each)\n"
     ]
    }
   ],
   "source": [
    "%%timeit\n",
    "\n",
    "np.mean(x)"
   ]
  },
  {
   "cell_type": "code",
   "execution_count": 184,
   "metadata": {},
   "outputs": [
    {
     "name": "stdout",
     "output_type": "stream",
     "text": [
      "61.5 ms ± 202 µs per loop (mean ± std. dev. of 7 runs, 10 loops each)\n"
     ]
    }
   ],
   "source": [
    "%%timeit\n",
    "\n",
    "x @ x"
   ]
  },
  {
   "cell_type": "markdown",
   "metadata": {},
   "source": [
    "Si la misma operación se realiza \"manualmente\" con instrucciones normales de Python requiere mucho más tiempo:"
   ]
  },
  {
   "cell_type": "code",
   "execution_count": 185,
   "metadata": {},
   "outputs": [
    {
     "name": "stdout",
     "output_type": "stream",
     "text": [
      "0.5000571511372518\n",
      "CPU times: user 29.2 s, sys: 12 ms, total: 29.2 s\n",
      "Wall time: 29.1 s\n"
     ]
    }
   ],
   "source": [
    "%%time\n",
    "\n",
    "s = 0\n",
    "for e in x:\n",
    "    s += e\n",
    "print(s/len(x))"
   ]
  },
  {
   "cell_type": "markdown",
   "metadata": {},
   "source": [
    "Por tanto, si usamos los módulos apropiados los programas en Python no tienen por qué ser más lentos que los de otros lenguajes de programación. Python es \"glue code\", un pegamento para combinar bibliotecas de funciones, escritas en cualquier lenguaje, que resuelven eficientemente problemas específicos."
   ]
  },
  {
   "cell_type": "markdown",
   "metadata": {},
   "source": [
    "### álgebra lineal"
   ]
  },
  {
   "cell_type": "markdown",
   "metadata": {},
   "source": [
    "El submódulo `linalg` ofrece las operaciones usuales de álgebra lineal."
   ]
  },
  {
   "cell_type": "code",
   "execution_count": 186,
   "metadata": {},
   "outputs": [],
   "source": [
    "import scipy.linalg as la"
   ]
  },
  {
   "cell_type": "markdown",
   "metadata": {},
   "source": [
    "Por ejemplo, podemos calcular fácilmente el módulo de un vector:"
   ]
  },
  {
   "cell_type": "code",
   "execution_count": 187,
   "metadata": {},
   "outputs": [
    {
     "data": {
      "text/plain": [
       "7.416198487095663"
      ]
     },
     "execution_count": 187,
     "metadata": {},
     "output_type": "execute_result"
    }
   ],
   "source": [
    "la.norm([1,2,3,4,5])"
   ]
  },
  {
   "cell_type": "markdown",
   "metadata": {},
   "source": [
    "o el determinante de una matriz:"
   ]
  },
  {
   "cell_type": "code",
   "execution_count": 188,
   "metadata": {},
   "outputs": [
    {
     "data": {
      "text/plain": [
       "-2.0"
      ]
     },
     "execution_count": 188,
     "metadata": {},
     "output_type": "execute_result"
    }
   ],
   "source": [
    "la.det([[1,2],\n",
    "        [3,4]])"
   ]
  },
  {
   "cell_type": "markdown",
   "metadata": {},
   "source": [
    "Observa que muchas de las funciones que trabajan con arrays admiten también otros contenedores como listas o tuplas, que son transformadas automáticamente en arrays."
   ]
  },
  {
   "cell_type": "markdown",
   "metadata": {},
   "source": [
    "Un problema muy importante es la resolución de sistemas de ecuaciones lineales. Si tenemos que resolver un sistema como"
   ]
  },
  {
   "cell_type": "markdown",
   "metadata": {},
   "source": [
    "$$\n",
    "\\begin{align*}\n",
    "x + 2y &= 3\\\\\n",
    "3x+4y  &= 5\n",
    "\\end{align*}\n",
    "$$"
   ]
  },
  {
   "cell_type": "markdown",
   "metadata": {},
   "source": [
    "Lo expresamos en forma matricial $AX=B$ y podemos resolverlo con la inversa de $A$, o directamente con `solve`."
   ]
  },
  {
   "cell_type": "code",
   "execution_count": 189,
   "metadata": {},
   "outputs": [],
   "source": [
    "m = np.array([[1,2],\n",
    "              [3,4]])"
   ]
  },
  {
   "cell_type": "code",
   "execution_count": 190,
   "metadata": {},
   "outputs": [
    {
     "data": {
      "text/plain": [
       "array([[1, 2],\n",
       "       [3, 4]])"
      ]
     },
     "execution_count": 190,
     "metadata": {},
     "output_type": "execute_result"
    }
   ],
   "source": [
    "m"
   ]
  },
  {
   "cell_type": "code",
   "execution_count": 191,
   "metadata": {},
   "outputs": [
    {
     "data": {
      "text/plain": [
       "array([[-2. ,  1. ],\n",
       "       [ 1.5, -0.5]])"
      ]
     },
     "execution_count": 191,
     "metadata": {},
     "output_type": "execute_result"
    }
   ],
   "source": [
    "la.inv(m)"
   ]
  },
  {
   "cell_type": "code",
   "execution_count": 192,
   "metadata": {},
   "outputs": [
    {
     "data": {
      "text/plain": [
       "array([-1.,  2.])"
      ]
     },
     "execution_count": 192,
     "metadata": {},
     "output_type": "execute_result"
    }
   ],
   "source": [
    "la.inv(m) @ np.array([3,5])"
   ]
  },
  {
   "cell_type": "markdown",
   "metadata": {},
   "source": [
    "Es mejor (más eficiente y numéricamente estable) usar la función `solve`:"
   ]
  },
  {
   "cell_type": "code",
   "execution_count": 193,
   "metadata": {},
   "outputs": [
    {
     "data": {
      "text/plain": [
       "array([-1.,  2.])"
      ]
     },
     "execution_count": 193,
     "metadata": {},
     "output_type": "execute_result"
    }
   ],
   "source": [
    "la.solve(m,[3,5])"
   ]
  },
  {
   "cell_type": "markdown",
   "metadata": {},
   "source": [
    "La solución se debería mostrar como una columna, pero en Python los arrays de una dimensión se imprimen como una fila porque no siempre representan vectores matemáticos. Si lo preferimos podemos usar matrices de una sola columna."
   ]
  },
  {
   "cell_type": "code",
   "execution_count": 194,
   "metadata": {},
   "outputs": [
    {
     "data": {
      "text/plain": [
       "array([[-1.],\n",
       "       [ 2.]])"
      ]
     },
     "execution_count": 194,
     "metadata": {},
     "output_type": "execute_result"
    }
   ],
   "source": [
    "x = la.solve(m,[[3],\n",
    "                [5]])\n",
    "\n",
    "x"
   ]
  },
  {
   "cell_type": "code",
   "execution_count": 195,
   "metadata": {},
   "outputs": [
    {
     "data": {
      "text/plain": [
       "array([[3.],\n",
       "       [5.]])"
      ]
     },
     "execution_count": 195,
     "metadata": {},
     "output_type": "execute_result"
    }
   ],
   "source": [
    "m @ x"
   ]
  },
  {
   "cell_type": "markdown",
   "metadata": {},
   "source": [
    "Si el lado derecho de la ecuación matricial $A X = B$ es una matriz, la solución $X$ también lo será."
   ]
  },
  {
   "cell_type": "markdown",
   "metadata": {},
   "source": [
    "### computación matricial"
   ]
  },
  {
   "cell_type": "markdown",
   "metadata": {},
   "source": [
    "Python proporciona una [amplia colección](https://docs.scipy.org/doc/scipy/reference/linalg.html) de funciones de álgebra lineal numérica."
   ]
  },
  {
   "cell_type": "code",
   "execution_count": 196,
   "metadata": {},
   "outputs": [
    {
     "data": {
      "text/plain": [
       "(array([-0.23606798,  4.23606798]), array([[-0.85065081,  0.52573111],\n",
       "        [ 0.52573111,  0.85065081]]))"
      ]
     },
     "execution_count": 196,
     "metadata": {},
     "output_type": "execute_result"
    }
   ],
   "source": [
    "la.eigh([[1,2],\n",
    "         [2,3]])"
   ]
  },
  {
   "cell_type": "markdown",
   "metadata": {},
   "source": [
    "### mínimos cuadrados"
   ]
  },
  {
   "cell_type": "markdown",
   "metadata": {},
   "source": [
    "Como ejemplo de uso de las herramientas de álgebra lineal realizaremos el ajuste de un modelo polinomial a unas observaciones ficticias. Encontraremos la solución de mínimo error cuadrático a un sistema de ecuaciones sobredeterminado.\n",
    "\n",
    "En primer lugar generamos unos datos de prueba artificiales que simulan observaciones contaminadas con ruido de una función no lineal."
   ]
  },
  {
   "cell_type": "code",
   "execution_count": 197,
   "metadata": {
    "scrolled": true
   },
   "outputs": [
    {
     "data": {
      "image/png": "[encoded data removed]",
      "text/plain": [
       "<matplotlib.figure.Figure at 0x7f3413887160>"
      ]
     },
     "metadata": {},
     "output_type": "display_data"
    }
   ],
   "source": [
    "import matplotlib.pyplot as plt\n",
    "%matplotlib inline\n",
    "\n",
    "x = np.linspace(0,2,30)\n",
    "\n",
    "y = np.sin(x) + 0.05*np.random.randn(x.size)\n",
    "\n",
    "plt.plot(x,y,'.');"
   ]
  },
  {
   "cell_type": "markdown",
   "metadata": {},
   "source": [
    "Vamos a ajustar un modelo del tipo $y = ax^2 + bx + c$. Los coeficientes desconocidos $a$, $b$ y $c$ se pueden obtener resolviendo un sistema de ecuaciones lineales."
   ]
  },
  {
   "cell_type": "markdown",
   "metadata": {},
   "source": [
    "La matriz de coeficientes tiene potencias de $x$ hasta el grado que nos interesa."
   ]
  },
  {
   "cell_type": "code",
   "execution_count": 198,
   "metadata": {},
   "outputs": [
    {
     "data": {
      "text/plain": [
       "array([[0.        , 0.        , 1.        ],\n",
       "       [0.00475624, 0.06896552, 1.        ],\n",
       "       [0.01902497, 0.13793103, 1.        ],\n",
       "       [0.04280618, 0.20689655, 1.        ],\n",
       "       [0.07609988, 0.27586207, 1.        ],\n",
       "       [0.11890606, 0.34482759, 1.        ],\n",
       "       [0.17122473, 0.4137931 , 1.        ],\n",
       "       [0.23305589, 0.48275862, 1.        ],\n",
       "       [0.30439952, 0.55172414, 1.        ],\n",
       "       [0.38525565, 0.62068966, 1.        ],\n",
       "       [0.47562426, 0.68965517, 1.        ],\n",
       "       [0.57550535, 0.75862069, 1.        ],\n",
       "       [0.68489893, 0.82758621, 1.        ],\n",
       "       [0.80380499, 0.89655172, 1.        ],\n",
       "       [0.93222354, 0.96551724, 1.        ],\n",
       "       [1.07015458, 1.03448276, 1.        ],\n",
       "       [1.2175981 , 1.10344828, 1.        ],\n",
       "       [1.3745541 , 1.17241379, 1.        ],\n",
       "       [1.54102259, 1.24137931, 1.        ],\n",
       "       [1.71700357, 1.31034483, 1.        ],\n",
       "       [1.90249703, 1.37931034, 1.        ],\n",
       "       [2.09750297, 1.44827586, 1.        ],\n",
       "       [2.3020214 , 1.51724138, 1.        ],\n",
       "       [2.51605232, 1.5862069 , 1.        ],\n",
       "       [2.73959572, 1.65517241, 1.        ],\n",
       "       [2.97265161, 1.72413793, 1.        ],\n",
       "       [3.21521998, 1.79310345, 1.        ],\n",
       "       [3.46730083, 1.86206897, 1.        ],\n",
       "       [3.72889417, 1.93103448, 1.        ],\n",
       "       [4.        , 2.        , 1.        ]])"
      ]
     },
     "execution_count": 198,
     "metadata": {},
     "output_type": "execute_result"
    }
   ],
   "source": [
    "A = np.vstack([x**2, x, np.ones(x.size)]).T\n",
    "\n",
    "A"
   ]
  },
  {
   "cell_type": "markdown",
   "metadata": {},
   "source": [
    "El lado derecho del sistema es directamente el vector con los valores de $y$, la variable independiente del modelo."
   ]
  },
  {
   "cell_type": "code",
   "execution_count": 199,
   "metadata": {},
   "outputs": [
    {
     "data": {
      "text/plain": [
       "array([-0.03752051,  0.03269844,  0.15393717,  0.232999  ,  0.24648556,\n",
       "        0.31061177,  0.39119775,  0.40540727,  0.51922944,  0.59678345,\n",
       "        0.64238537,  0.69319441,  0.67420081,  0.82066404,  0.81793398,\n",
       "        0.83714339,  0.94898355,  0.96896918,  0.97055846,  1.00053331,\n",
       "        0.97931375,  1.02085556,  0.91095985,  0.90903059,  0.99090395,\n",
       "        0.97729992,  0.87898498,  0.98701068,  0.96368972,  0.88381366])"
      ]
     },
     "execution_count": 199,
     "metadata": {},
     "output_type": "execute_result"
    }
   ],
   "source": [
    "B = np.array(y)\n",
    "\n",
    "B"
   ]
  },
  {
   "cell_type": "markdown",
   "metadata": {},
   "source": [
    "El sistema que hay que resolver está sobredeterminado: tiene solo tres incógnitas y tantas ecuaciones como observaciones de la función.\n",
    "\n",
    "$$A \\begin{bmatrix}a\\\\b\\\\c\\end{bmatrix}= B$$\n",
    "\n",
    "La solución de [mínimo error cuadrático](https://en.wikipedia.org/wiki/Least_squares) para los coeficientes del modelo se obtiene de manera directa:"
   ]
  },
  {
   "cell_type": "code",
   "execution_count": 200,
   "metadata": {},
   "outputs": [
    {
     "data": {
      "text/plain": [
       "array([-0.41752543,  1.31882806, -0.06158726])"
      ]
     },
     "execution_count": 200,
     "metadata": {},
     "output_type": "execute_result"
    }
   ],
   "source": [
    "sol = la.lstsq(A,B)[0]\n",
    "\n",
    "sol"
   ]
  },
  {
   "cell_type": "code",
   "execution_count": 201,
   "metadata": {},
   "outputs": [
    {
     "data": {
      "image/png": "[encoded data removed]",
      "text/plain": [
       "<matplotlib.figure.Figure at 0x7f33c74254a8>"
      ]
     },
     "metadata": {},
     "output_type": "display_data"
    }
   ],
   "source": [
    "ye = A @ sol\n",
    "\n",
    "plt.plot(x,y,'.',x,ye,'r');"
   ]
  },
  {
   "cell_type": "markdown",
   "metadata": {},
   "source": [
    "Se puede experimentar con polinomios de mayor o menor grado."
   ]
  },
  {
   "cell_type": "markdown",
   "metadata": {},
   "source": [
    "### solución numérica de ecuaciones no lineales"
   ]
  },
  {
   "cell_type": "markdown",
   "metadata": {},
   "source": [
    "Resuelve \n",
    "\n",
    "$$x^4=16$$"
   ]
  },
  {
   "cell_type": "code",
   "execution_count": 202,
   "metadata": {},
   "outputs": [
    {
     "data": {
      "text/plain": [
       "array([-2.00000000e+00+0.j,  1.11022302e-16+2.j,  1.11022302e-16-2.j,\n",
       "        2.00000000e+00+0.j])"
      ]
     },
     "execution_count": 202,
     "metadata": {},
     "output_type": "execute_result"
    }
   ],
   "source": [
    "import scipy as sci\n",
    "\n",
    "sci.roots([1,0,0,0,-16])"
   ]
  },
  {
   "cell_type": "markdown",
   "metadata": {},
   "source": [
    "Resuelve\n",
    "\n",
    "$$sin(x)+cos(2x)=0$$"
   ]
  },
  {
   "cell_type": "code",
   "execution_count": 203,
   "metadata": {},
   "outputs": [
    {
     "data": {
      "text/plain": [
       "array([-0.52359878])"
      ]
     },
     "execution_count": 203,
     "metadata": {},
     "output_type": "execute_result"
    }
   ],
   "source": [
    "import scipy.optimize as opt\n",
    "\n",
    "opt.fsolve(lambda x: sci.sin(x) + sci.cos(2*x), 0)"
   ]
  },
  {
   "cell_type": "markdown",
   "metadata": {},
   "source": [
    "Resuelve\n",
    "\n",
    "$$\n",
    "\\begin{align*}\n",
    "x^2 - 3y &= 10\\\\\n",
    "sin(x)+y &= 5\n",
    "\\end{align*}\n",
    "$$"
   ]
  },
  {
   "cell_type": "code",
   "execution_count": 204,
   "metadata": {
    "scrolled": true
   },
   "outputs": [
    {
     "data": {
      "text/plain": [
       "array([5.2511881 , 5.85832548])"
      ]
     },
     "execution_count": 204,
     "metadata": {},
     "output_type": "execute_result"
    }
   ],
   "source": [
    "def fun(z):\n",
    "    x,y = z\n",
    "    return [ x**2 - 3*y - 10\n",
    "           , sci.sin(x) + y - 5]\n",
    "\n",
    "opt.fsolve(fun,[0.1,-0.1])"
   ]
  },
  {
   "cell_type": "markdown",
   "metadata": {},
   "source": [
    "### minimización"
   ]
  },
  {
   "cell_type": "markdown",
   "metadata": {},
   "source": [
    "Encuentra $(x,y)$ que minimiza $(x-1)^2 + (y-2)^2-x+3y$"
   ]
  },
  {
   "cell_type": "code",
   "execution_count": 205,
   "metadata": {},
   "outputs": [
    {
     "data": {
      "text/plain": [
       "      fun: 2.500000000000014\n",
       " hess_inv: array([[ 0.57758622, -0.18103452],\n",
       "       [-0.18103452,  0.92241375]])\n",
       "      jac: array([ 0.00000000e+00, -2.38418579e-07])\n",
       "  message: 'Optimization terminated successfully.'\n",
       "     nfev: 12\n",
       "      nit: 2\n",
       "     njev: 3\n",
       "   status: 0\n",
       "  success: True\n",
       "        x: array([1.49999999, 0.49999988])"
      ]
     },
     "execution_count": 205,
     "metadata": {},
     "output_type": "execute_result"
    }
   ],
   "source": [
    "def fun(z):\n",
    "    x,y = z\n",
    "    return (x-1)**2 + (y-2)**2 - x + 3*y\n",
    "\n",
    "opt.minimize(fun,[0.1,-0.1])"
   ]
  },
  {
   "cell_type": "markdown",
   "metadata": {},
   "source": [
    "### derivación numérica"
   ]
  },
  {
   "cell_type": "markdown",
   "metadata": {},
   "source": [
    "Calcula una aproximación numérica para $f'(2)$ cuando $f(x) = \\sin(2x)*\\exp(\\cos(x))$"
   ]
  },
  {
   "cell_type": "code",
   "execution_count": 206,
   "metadata": {},
   "outputs": [
    {
     "data": {
      "text/plain": [
       "-0.40836700757052036"
      ]
     },
     "execution_count": 206,
     "metadata": {},
     "output_type": "execute_result"
    }
   ],
   "source": [
    "from scipy.misc import derivative\n",
    "\n",
    "derivative(lambda x: sci.sin(2*x)*sci.exp(sci.cos(x)),2,1E-6)"
   ]
  },
  {
   "cell_type": "code",
   "execution_count": 207,
   "metadata": {},
   "outputs": [
    {
     "data": {
      "text/plain": [
       "-0.40836700756782335"
      ]
     },
     "execution_count": 207,
     "metadata": {},
     "output_type": "execute_result"
    }
   ],
   "source": [
    "(lambda x: (-np.sin(x)*np.sin(2*x) + 2*np.cos(2*x))*np.exp(np.cos(x)))(2)"
   ]
  },
  {
   "cell_type": "markdown",
   "metadata": {},
   "source": [
    "### integración numérica"
   ]
  },
  {
   "cell_type": "markdown",
   "metadata": {},
   "source": [
    "Calcula una aproximación numérica a la integral definida\n",
    "\n",
    "$$\\int_0^1 \\frac{4}{1+x^2}dx$$"
   ]
  },
  {
   "cell_type": "code",
   "execution_count": 208,
   "metadata": {},
   "outputs": [
    {
     "data": {
      "text/plain": [
       "(3.1415926535897936, 3.4878684980086326e-14)"
      ]
     },
     "execution_count": 208,
     "metadata": {},
     "output_type": "execute_result"
    }
   ],
   "source": [
    "from scipy.integrate import quad\n",
    "\n",
    "quad(lambda x: 4/(1+x**2),0,1)"
   ]
  },
  {
   "cell_type": "markdown",
   "metadata": {},
   "source": [
    "### ecuaciones diferenciales"
   ]
  },
  {
   "cell_type": "markdown",
   "metadata": {},
   "source": [
    "Resuelve\n",
    "\n",
    "$$\\ddot{x}+0.95x+0.1\\dot{x}=0$$\n",
    "\n",
    "para $x(0)=10$, $\\dot{x}(0)=0, t\\in[0,20]$"
   ]
  },
  {
   "cell_type": "code",
   "execution_count": 209,
   "metadata": {},
   "outputs": [
    {
     "data": {
      "image/png": "[encoded data removed]",
      "text/plain": [
       "<matplotlib.figure.Figure at 0x7f33c20e0400>"
      ]
     },
     "metadata": {},
     "output_type": "display_data"
    }
   ],
   "source": [
    "from scipy.integrate import odeint\n",
    "\n",
    "def xdot(z,t):\n",
    "    x,v = z\n",
    "    return [v,-0.95*x-0.1*v]\n",
    "\n",
    "t = np.linspace(0,20,1000)\n",
    "r = odeint(xdot,[10,0],t)\n",
    "# plt.plot(r);\n",
    "plt.plot(t,r[:,0],t,r[:,1]);"
   ]
  },
  {
   "cell_type": "code",
   "execution_count": 210,
   "metadata": {},
   "outputs": [
    {
     "data": {
      "image/png": "[encoded data removed]",
      "text/plain": [
       "<matplotlib.figure.Figure at 0x7f33c346d5c0>"
      ]
     },
     "metadata": {},
     "output_type": "display_data"
    }
   ],
   "source": [
    "plt.plot(r[:,0],r[:,1]);"
   ]
  },
  {
   "cell_type": "markdown",
   "metadata": {},
   "source": [
    "### cálculo simbólico"
   ]
  },
  {
   "cell_type": "markdown",
   "metadata": {},
   "source": [
    "[sympy](http://www.sympy.org/en/index.html)"
   ]
  },
  {
   "cell_type": "code",
   "execution_count": 211,
   "metadata": {},
   "outputs": [],
   "source": [
    "import sympy\n",
    "\n",
    "x = sympy.Symbol('x')"
   ]
  },
  {
   "cell_type": "code",
   "execution_count": 212,
   "metadata": {},
   "outputs": [
    {
     "data": {
      "text/plain": [
       "6*x**2*cos(2*x**3)"
      ]
     },
     "execution_count": 212,
     "metadata": {},
     "output_type": "execute_result"
    }
   ],
   "source": [
    "sympy.diff( sympy.sin(2*x**3) , x)"
   ]
  },
  {
   "cell_type": "code",
   "execution_count": 213,
   "metadata": {},
   "outputs": [
    {
     "data": {
      "text/plain": [
       "log(x + 1)"
      ]
     },
     "execution_count": 213,
     "metadata": {},
     "output_type": "execute_result"
    }
   ],
   "source": [
    "sympy.integrate(1/(1+x))"
   ]
  },
  {
   "cell_type": "markdown",
   "metadata": {},
   "source": [
    "## varios"
   ]
  },
  {
   "cell_type": "markdown",
   "metadata": {},
   "source": [
    "### vídeos"
   ]
  },
  {
   "cell_type": "code",
   "execution_count": 214,
   "metadata": {},
   "outputs": [],
   "source": [
    "from IPython.display import YouTubeVideo"
   ]
  },
  {
   "cell_type": "code",
   "execution_count": 215,
   "metadata": {},
   "outputs": [
    {
     "data": {
      "image/jpeg": "[encoded data removed]",
      "text/html": [
       "\n",
       "        <iframe\n",
       "            width=\"400\"\n",
       "            height=\"300\"\n",
       "            src=\"https://www.youtube.com/embed/p7bzE1E5PMY\"\n",
       "            frameborder=\"0\"\n",
       "            allowfullscreen\n",
       "        ></iframe>\n",
       "        "
      ],
      "text/plain": [
       "<IPython.lib.display.YouTubeVideo at 0x7f33c1bc8550>"
      ]
     },
     "execution_count": 215,
     "metadata": {},
     "output_type": "execute_result"
    }
   ],
   "source": [
    "YouTubeVideo('p7bzE1E5PMY')"
   ]
  },
  {
   "cell_type": "markdown",
   "metadata": {},
   "source": [
    "### xkcd"
   ]
  },
  {
   "cell_type": "code",
   "execution_count": 216,
   "metadata": {},
   "outputs": [
    {
     "data": {
      "image/png": "[encoded data removed]",
      "text/plain": [
       "<matplotlib.figure.Figure at 0x7f33c1c5da20>"
      ]
     },
     "metadata": {},
     "output_type": "display_data"
    }
   ],
   "source": [
    "plt.xkcd()\n",
    "plt.plot(np.sin(np.linspace(0, 10)))\n",
    "plt.title('Whoo Hoo!!!');"
   ]
  },
  {
   "cell_type": "markdown",
   "metadata": {},
   "source": [
    "### estilo del notebook"
   ]
  },
  {
   "cell_type": "code",
   "execution_count": null,
   "metadata": {},
   "outputs": [],
   "source": [
    "# podemos \"tunearlo\"\n",
    "#from IPython.display import HTML\n",
    "#HTML(open('../css/nb1.css').read())"
   ]
  }
 ],
 "metadata": {
  "hide_input": false,
  "kernelspec": {
   "display_name": "Python 3",
   "language": "python",
   "name": "python3"
  },
  "language_info": {
   "codemirror_mode": {
    "name": "ipython",
    "version": 3
   },
   "file_extension": ".py",
   "mimetype": "text/x-python",
   "name": "python",
   "nbconvert_exporter": "python",
   "pygments_lexer": "ipython3",
   "version": "3.6.3"
  },
  "varInspector": {
   "cols": {
    "lenName": 16,
    "lenType": 16,
    "lenVar": 40
   },
   "kernels_config": {
    "python": {
     "delete_cmd_postfix": "",
     "delete_cmd_prefix": "del ",
     "library": "var_list.py",
     "varRefreshCmd": "print(var_dic_list())"
    },
    "r": {
     "delete_cmd_postfix": ") ",
     "delete_cmd_prefix": "rm(",
     "library": "var_list.r",
     "varRefreshCmd": "cat(var_dic_list()) "
    }
   },
   "types_to_exclude": [
    "module",
    "function",
    "builtin_function_or_method",
    "instance",
    "_Feature"
   ],
   "window_display": false
  }
 },
 "nbformat": 4,
 "nbformat_minor": 1
}
