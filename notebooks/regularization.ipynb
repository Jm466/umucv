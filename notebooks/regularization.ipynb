{
 "cells": [
  {
   "cell_type": "markdown",
   "metadata": {},
   "source": [
    "# Regularización\n",
    "\n",
    "Experimentos de control de capacidad."
   ]
  },
  {
   "cell_type": "code",
   "execution_count": 1,
   "metadata": {},
   "outputs": [],
   "source": [
    "%matplotlib inline\n",
    "\n",
    "import matplotlib.pyplot as plt\n",
    "import numpy             as np\n",
    "import numpy             as np\n",
    "import numpy.linalg      as la"
   ]
  },
  {
   "cell_type": "markdown",
   "metadata": {},
   "source": [
    "Usaremos MNIST, seleccionando dos categorías"
   ]
  },
  {
   "cell_type": "code",
   "execution_count": 2,
   "metadata": {},
   "outputs": [
    {
     "name": "stdout",
     "output_type": "stream",
     "text": [
      "['yl', 'yt', 'xl', 'xt']\n",
      "(60000, 784) (60000, 10) (60000,)\n",
      "(10000, 784) (10000, 10) (10000,)\n"
     ]
    }
   ],
   "source": [
    "# wget http://robot.inf.um.es/material/mnist.npz\n",
    "mnist = np.load(\"../data/mnist.npz\")\n",
    "\n",
    "print(mnist.keys())\n",
    "\n",
    "xl,yl,xt,yt = [mnist[d] for d in ['xl', 'yl', 'xt', 'yt']]\n",
    "\n",
    "cl = np.argmax(yl,axis=1)\n",
    "ct = np.argmax(yt,axis=1)\n",
    "\n",
    "print(xl.shape, yl.shape, cl.shape)\n",
    "print(xt.shape, yt.shape, ct.shape)"
   ]
  },
  {
   "cell_type": "markdown",
   "metadata": {},
   "source": [
    "Seleccionamos dos clases y ponemos la salidad deseada de la máquina a valores +1 y -1"
   ]
  },
  {
   "cell_type": "code",
   "execution_count": 8,
   "metadata": {},
   "outputs": [],
   "source": [
    "n = 100\n",
    "ca = 4\n",
    "cb = 9\n",
    "\n",
    "# seleccionamos las posiciones de las clases que nos interesan\n",
    "sel_l = (cl == ca) | (cl==cb)\n",
    "sel_t = (ct == ca) | (ct==cb)\n",
    "\n",
    "# extraemos esas posiciones\n",
    "# x e y seleccionadas para aprendizaje\n",
    "# usaré solo los n primeros para aprender\n",
    "xsl = xl[sel_l][:n]\n",
    "ysl = cl[sel_l].astype(int)[:n]\n",
    "\n",
    "# y ponemos correctamente los valores deseados, positivo o negativo\n",
    "ysl[ysl==ca] =  1\n",
    "ysl[ysl==cb] = -1\n",
    "\n",
    "# y lo mismo para el x e y seleccionadas para test (evaluación independiente)\n",
    "xst = xt[sel_t]\n",
    "yst = ct[sel_t].astype(int)\n",
    "\n",
    "yst[yst==ca] =  1\n",
    "yst[yst==cb] = -1"
   ]
  },
  {
   "cell_type": "code",
   "execution_count": 9,
   "metadata": {},
   "outputs": [
    {
     "data": {
      "text/plain": [
       "11791"
      ]
     },
     "execution_count": 9,
     "metadata": {},
     "output_type": "execute_result"
    }
   ],
   "source": [
    "np.sum(sel_l)"
   ]
  },
  {
   "cell_type": "code",
   "execution_count": 10,
   "metadata": {},
   "outputs": [],
   "source": [
    "def shdig(v):\n",
    "    x = np.reshape(v,[28,28])\n",
    "    plt.imshow(1-x, 'gray', vmin=0, vmax=1, interpolation=\"nearest\");"
   ]
  },
  {
   "cell_type": "code",
   "execution_count": 43,
   "metadata": {},
   "outputs": [
    {
     "data": {
      "image/png": "[encoded data removed]",
      "text/plain": [
       "<matplotlib.figure.Figure at 0x7fbbe2397940>"
      ]
     },
     "metadata": {},
     "output_type": "display_data"
    }
   ],
   "source": [
    "k1,k2 = 55, 56\n",
    "plt.figure(figsize=(12,4))\n",
    "plt.subplot(1,2,1)\n",
    "shdig(xsl[k1])\n",
    "plt.title(ysl[k1])\n",
    "plt.subplot(1,2,2)\n",
    "shdig(xsl[k2])\n",
    "plt.title(ysl[k2]);"
   ]
  },
  {
   "cell_type": "code",
   "execution_count": 16,
   "metadata": {},
   "outputs": [
    {
     "data": {
      "text/plain": [
       "(100, 784)"
      ]
     },
     "execution_count": 16,
     "metadata": {},
     "output_type": "execute_result"
    }
   ],
   "source": [
    "xsl.shape"
   ]
  },
  {
   "cell_type": "code",
   "execution_count": 17,
   "metadata": {},
   "outputs": [
    {
     "data": {
      "text/plain": [
       "array([ 1,  1, -1, ...,  1, -1,  1])"
      ]
     },
     "execution_count": 17,
     "metadata": {},
     "output_type": "execute_result"
    }
   ],
   "source": [
    "yst"
   ]
  },
  {
   "cell_type": "markdown",
   "metadata": {},
   "source": [
    "conveniente para añadir el término independiente (offset) a una máquina lineal"
   ]
  },
  {
   "cell_type": "code",
   "execution_count": 18,
   "metadata": {},
   "outputs": [],
   "source": [
    "def homog(x):\n",
    "    r,c = x.shape\n",
    "    return np.hstack([x, np.ones([r,1])])"
   ]
  },
  {
   "cell_type": "markdown",
   "metadata": {},
   "source": [
    "solución de mínimos cuadrados para un sistema lineal"
   ]
  },
  {
   "cell_type": "markdown",
   "metadata": {},
   "source": [
    "Deseo encontrar $W$ tal que `xsl @ w = ysel`\n",
    "\n",
    "O sea, resolver $X w= y$\n",
    "\n",
    "Usarmos `lstsq` del módulo de álgebra lineal `numpy.linalg`, que obtiene la solución de mínimo error cuadrático de un sistema (ver el notebook de [sistemas de ecuaciones](sistecs.ipynb))."
   ]
  },
  {
   "cell_type": "markdown",
   "metadata": {},
   "source": [
    "`lstsq` no es lo ideal para mostrar este efecto en el caso no regularizado, porque para sistemas subdeterminados obtiene la solución de mínima norma, y por tanto, también regulariza."
   ]
  },
  {
   "cell_type": "code",
   "execution_count": 23,
   "metadata": {},
   "outputs": [
    {
     "name": "stderr",
     "output_type": "stream",
     "text": [
      "/home/brutus/apps/miniconda/lib/python3.6/site-packages/ipykernel_launcher.py:1: FutureWarning: `rcond` parameter will change to the default of machine precision times ``max(M, N)`` where M and N are the input matrix dimensions.\n",
      "To use the future default and silence this warning we advise to pass `rcond=None`, to keep using the old, explicitly pass `rcond=-1`.\n",
      "  \"\"\"Entry point for launching an IPython kernel.\n"
     ]
    }
   ],
   "source": [
    "W,_,_,_ = la.lstsq(homog(xsl),ysl)"
   ]
  },
  {
   "cell_type": "code",
   "execution_count": 24,
   "metadata": {},
   "outputs": [],
   "source": [
    "#W"
   ]
  },
  {
   "cell_type": "code",
   "execution_count": 25,
   "metadata": {},
   "outputs": [],
   "source": [
    "#homog(xsl) @ W"
   ]
  },
  {
   "cell_type": "code",
   "execution_count": 26,
   "metadata": {},
   "outputs": [],
   "source": [
    "#np.sign(homog(xsl) @ W) == np.sign(ysl)"
   ]
  },
  {
   "cell_type": "markdown",
   "metadata": {},
   "source": [
    "contamos los aciertos"
   ]
  },
  {
   "cell_type": "code",
   "execution_count": 27,
   "metadata": {
    "scrolled": false
   },
   "outputs": [
    {
     "data": {
      "text/plain": [
       "(100, 100)"
      ]
     },
     "execution_count": 27,
     "metadata": {},
     "output_type": "execute_result"
    }
   ],
   "source": [
    "np.sum(np.sign(homog(xsl) @ W) == np.sign(ysl)), len(ysl)"
   ]
  },
  {
   "cell_type": "markdown",
   "metadata": {},
   "source": [
    "Tiene buena pinta, acierta todos los ejemplos de entrenamiento."
   ]
  },
  {
   "cell_type": "code",
   "execution_count": 34,
   "metadata": {
    "scrolled": false
   },
   "outputs": [
    {
     "data": {
      "text/plain": [
       "array([ True,  True,  True, ...,  True,  True,  True])"
      ]
     },
     "execution_count": 34,
     "metadata": {},
     "output_type": "execute_result"
    }
   ],
   "source": [
    "np.sign(homog(xst) @ W) == np.sign(yst)"
   ]
  },
  {
   "cell_type": "code",
   "execution_count": 35,
   "metadata": {
    "scrolled": false
   },
   "outputs": [
    {
     "data": {
      "text/plain": [
       "(1740, 1991)"
      ]
     },
     "execution_count": 35,
     "metadata": {},
     "output_type": "execute_result"
    }
   ],
   "source": [
    "np.sum(np.sign(homog(xst) @ W) == np.sign(yst)), len(yst)"
   ]
  },
  {
   "cell_type": "code",
   "execution_count": 44,
   "metadata": {},
   "outputs": [
    {
     "data": {
      "image/png": "[encoded data removed]",
      "text/plain": [
       "<matplotlib.figure.Figure at 0x7fbbe6537128>"
      ]
     },
     "metadata": {},
     "output_type": "display_data"
    }
   ],
   "source": [
    "k1,k2 = 55, 56\n",
    "plt.figure(figsize=(12,4))\n",
    "plt.subplot(1,2,1)\n",
    "shdig(xsl[k1])\n",
    "plt.title((homog(xsl) @ W)[k1])\n",
    "plt.subplot(1,2,2)\n",
    "shdig(xsl[k2])\n",
    "plt.title((homog(xsl) @ W)[k2]);"
   ]
  },
  {
   "cell_type": "markdown",
   "metadata": {},
   "source": [
    "Obtiene exactamente los valores deseados $\\pm 1$, ya que tiene más grados de libertad (coeficientes ajustables) que restricciones (ecuaciones, número de ejemplos de entrenamiento). Esto inspira poca confianza en el comportamiento con ejemplos desconocidos:"
   ]
  },
  {
   "cell_type": "code",
   "execution_count": 46,
   "metadata": {},
   "outputs": [
    {
     "data": {
      "image/png": "[encoded data removed]",
      "text/plain": [
       "<matplotlib.figure.Figure at 0x7fbbe63ab0f0>"
      ]
     },
     "metadata": {},
     "output_type": "display_data"
    }
   ],
   "source": [
    "k1,k2 = 70, 55\n",
    "plt.figure(figsize=(12,4))\n",
    "plt.subplot(1,2,1)\n",
    "shdig(xst[k1])\n",
    "plt.title((homog(xst) @ W)[k1])\n",
    "plt.subplot(1,2,2)\n",
    "shdig(xst[k2])\n",
    "plt.title((homog(xst) @ W)[k2]);"
   ]
  },
  {
   "cell_type": "markdown",
   "metadata": {},
   "source": [
    "Vamos a construir una solución regularizada, que penaliza con un peso $\\lambda$ el tamaño de los coeficientes, para que se reduzca la interpolación de detalles irrelevantes."
   ]
  },
  {
   "cell_type": "markdown",
   "metadata": {},
   "source": [
    "La solución regularizada es muy parecida a la de mínimos cuadrados, pero hay que \"inflar\" la covarianza $X^TX$ con $\\lambda$. En lugar de \n",
    "\n",
    "$w = (X^T X) ^{-1} X^T y$\n",
    "\n",
    "(esto es lo que hace internamente lstsq, es la \"pseudoinversa\" de X, por y)\n",
    "\n",
    "hacemos\n",
    "\n",
    "$w = (X^T X + \\lambda I) ^{-1} X^T y$"
   ]
  },
  {
   "cell_type": "code",
   "execution_count": 47,
   "metadata": {},
   "outputs": [],
   "source": [
    "lam = 2E2\n",
    "\n",
    "D = np.diag(lam*np.ones([784+1]))\n",
    "D[-1,-1] = 0\n",
    "# el coeficiente  b no se regulariza,\n",
    "# porque la posición del hiperplano puede ser cualquiera, no hay que \n",
    "# promover que se acerque al origen"
   ]
  },
  {
   "cell_type": "code",
   "execution_count": 281,
   "metadata": {
    "collapsed": true
   },
   "outputs": [],
   "source": [
    "#D"
   ]
  },
  {
   "cell_type": "code",
   "execution_count": 48,
   "metadata": {},
   "outputs": [],
   "source": [
    "xh = homog(xsl)\n",
    "Wr = la.solve(xh.T @ xh + D, xh.T @ ysl)"
   ]
  },
  {
   "cell_type": "code",
   "execution_count": 49,
   "metadata": {},
   "outputs": [
    {
     "data": {
      "text/plain": [
       "(98, 100)"
      ]
     },
     "execution_count": 49,
     "metadata": {},
     "output_type": "execute_result"
    }
   ],
   "source": [
    "np.sum(np.sign(homog(xsl) @ Wr) == np.sign(ysl)), len(ysl)"
   ]
  },
  {
   "cell_type": "code",
   "execution_count": 50,
   "metadata": {},
   "outputs": [
    {
     "data": {
      "text/plain": [
       "(1846, 1991)"
      ]
     },
     "execution_count": 50,
     "metadata": {},
     "output_type": "execute_result"
    }
   ],
   "source": [
    "np.sum(np.sign(homog(xst) @ Wr) == np.sign(yst)), len(yst)"
   ]
  },
  {
   "cell_type": "markdown",
   "metadata": {},
   "source": [
    "**Ejercicio**: crea una curva comparando $E_L$ con $E_T$ para valores crecientes de $\\lambda$."
   ]
  },
  {
   "cell_type": "code",
   "execution_count": 77,
   "metadata": {},
   "outputs": [],
   "source": [
    "Lam = [0.01, 0.1, 1, 5, 10, 50, 100, 200, 500, 1000, 2000, 3000, 5000]\n",
    "\n",
    "def regu():\n",
    "    xh = homog(xsl)\n",
    "    L = []\n",
    "    T = []\n",
    "    for l in Lam:\n",
    "        lam = 2E2\n",
    "        D = np.diag(l*np.ones([784+1]))\n",
    "        D[-1,-1] = 0\n",
    "        Wr = la.solve(xh.T @ xh + D, xh.T @ ysl)\n",
    "        EL = np.sum(np.sign(homog(xsl) @ Wr) == np.sign(ysl)), len(ysl)\n",
    "        ET = np.sum(np.sign(homog(xst) @ Wr) == np.sign(yst)), len(yst)\n",
    "        L.append(EL[0]/EL[1])\n",
    "        T.append(ET[0]/ET[1])\n",
    "    return 1-np.array(L), 1-np.array(T)"
   ]
  },
  {
   "cell_type": "code",
   "execution_count": 93,
   "metadata": {},
   "outputs": [
    {
     "data": {
      "image/png": "[encoded data removed]",
      "text/plain": [
       "<matplotlib.figure.Figure at 0x7fbbdeb81f28>"
      ]
     },
     "metadata": {},
     "output_type": "display_data"
    }
   ],
   "source": [
    "plt.figure(figsize=(8,6))\n",
    "l,t = regu()\n",
    "plt.plot(100*l,'o-',label='training',color='red')\n",
    "plt.plot(100*t,'o-',label='test',color='green')\n",
    "plt.xticks(np.arange(12), Lam, rotation=45)\n",
    "plt.legend()\n",
    "plt.xlabel('$\\lambda$'); plt.ylabel('error %')\n",
    "plt.title('Regularization');"
   ]
  },
  {
   "cell_type": "markdown",
   "metadata": {},
   "source": [
    "Esta gráfica ilustra el principio teórico fundamental de *machine learning*: la **generalización** está relacionada con la **capacidad** de la máquina. "
   ]
  }
 ],
 "metadata": {
  "anaconda-cloud": {},
  "hide_input": false,
  "kernelspec": {
   "display_name": "Python 3",
   "language": "python",
   "name": "python3"
  },
  "language_info": {
   "codemirror_mode": {
    "name": "ipython",
    "version": 3
   },
   "file_extension": ".py",
   "mimetype": "text/x-python",
   "name": "python",
   "nbconvert_exporter": "python",
   "pygments_lexer": "ipython3",
   "version": "3.6.3"
  },
  "varInspector": {
   "cols": {
    "lenName": 16,
    "lenType": 16,
    "lenVar": 40
   },
   "kernels_config": {
    "python": {
     "delete_cmd_postfix": "",
     "delete_cmd_prefix": "del ",
     "library": "var_list.py",
     "varRefreshCmd": "print(var_dic_list())"
    },
    "r": {
     "delete_cmd_postfix": ") ",
     "delete_cmd_prefix": "rm(",
     "library": "var_list.r",
     "varRefreshCmd": "cat(var_dic_list()) "
    }
   },
   "types_to_exclude": [
    "module",
    "function",
    "builtin_function_or_method",
    "instance",
    "_Feature"
   ],
   "window_display": false
  }
 },
 "nbformat": 4,
 "nbformat_minor": 1
}
